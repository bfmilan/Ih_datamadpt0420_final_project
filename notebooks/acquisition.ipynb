{
 "cells": [
  {
   "cell_type": "markdown",
   "metadata": {},
   "source": [
    "### Data Acquisition"
   ]
  },
  {
   "cell_type": "markdown",
   "metadata": {},
   "source": [
    "This notebook includes all actions to get the data from Twitter.<br>\n",
    "**Data**: Tweets that include '@BiciMad' (text and profile name)"
   ]
  },
  {
   "cell_type": "markdown",
   "metadata": {},
   "source": [
    "## 1. Set up Tweepy"
   ]
  },
  {
   "cell_type": "markdown",
   "metadata": {},
   "source": [
    "#### 1.1 My Appi "
   ]
  },
  {
   "cell_type": "code",
   "execution_count": 1,
   "metadata": {},
   "outputs": [
    {
     "data": {
      "text/plain": [
       "<tweepy.api.API at 0x112210d30>"
      ]
     },
     "execution_count": 1,
     "metadata": {},
     "output_type": "execute_result"
    }
   ],
   "source": [
    "import tweepy\n",
    "\n",
    "\n",
    "auth = tweepy.OAuthHandler(CONSUMER_KEY, CONSUMER_SECRET)\n",
    "auth.set_access_token(ACCESS_TOKEN, ACCESS_SECRET)\n",
    "\n",
    "api = tweepy.API(auth, wait_on_rate_limit=True)\n",
    "api"
   ]
  },
  {
   "cell_type": "markdown",
   "metadata": {},
   "source": [
    "#### Appi 2"
   ]
  },
  {
   "cell_type": "markdown",
   "metadata": {},
   "source": []
  },
  {
   "cell_type": "markdown",
   "metadata": {},
   "source": [
    "#### Appi 3"
   ]
  },
  {
   "cell_type": "markdown",
   "metadata": {},
   "source": []
  },
  {
   "cell_type": "markdown",
   "metadata": {},
   "source": [
    "## 2. Query data\n",
    "<hr>"
   ]
  },
  {
   "cell_type": "markdown",
   "metadata": {},
   "source": [
    "### 2.1 Get Tweets"
   ]
  },
  {
   "cell_type": "code",
   "execution_count": 2,
   "metadata": {},
   "outputs": [],
   "source": [
    "import datetime"
   ]
  },
  {
   "cell_type": "code",
   "execution_count": 3,
   "metadata": {},
   "outputs": [],
   "source": [
    "import pandas as pd\n",
    "search_term = 'BiciMAD'\n",
    "\n",
    "# Creation of query method using parameters\n",
    "# tweets = tweepy.Cursor(api.user_timeline,id=username).items(count)\n",
    "tweets = tweepy.Cursor(api.search, \n",
    "                   q=search_term,\n",
    "                   lang=\"es\", tweet_mode=\"extended\", since=datetime.datetime.today().strftime('%Y-%m-%d')).items()\n",
    " \n",
    "tweets_list = [[tweet.created_at, tweet.id, tweet.full_text, tweet.user.name, tweet.user.id, tweet.user.screen_name] for tweet in tweets]\n",
    "\n",
    "# Creation of dataframe from tweets list\n",
    "# Add or remove columns as you remove tweet information\n",
    "tweets_df = pd.DataFrame(tweets_list)"
   ]
  },
  {
   "cell_type": "code",
   "execution_count": 4,
   "metadata": {},
   "outputs": [
    {
     "data": {
      "text/html": [
       "<div>\n",
       "<style scoped>\n",
       "    .dataframe tbody tr th:only-of-type {\n",
       "        vertical-align: middle;\n",
       "    }\n",
       "\n",
       "    .dataframe tbody tr th {\n",
       "        vertical-align: top;\n",
       "    }\n",
       "\n",
       "    .dataframe thead th {\n",
       "        text-align: right;\n",
       "    }\n",
       "</style>\n",
       "<table border=\"1\" class=\"dataframe\">\n",
       "  <thead>\n",
       "    <tr style=\"text-align: right;\">\n",
       "      <th></th>\n",
       "      <th>0</th>\n",
       "      <th>1</th>\n",
       "      <th>2</th>\n",
       "      <th>3</th>\n",
       "      <th>4</th>\n",
       "      <th>5</th>\n",
       "    </tr>\n",
       "  </thead>\n",
       "  <tbody>\n",
       "    <tr>\n",
       "      <th>0</th>\n",
       "      <td>2020-10-23 16:28:20</td>\n",
       "      <td>1319677044989493248</td>\n",
       "      <td>@mpjc2 @begonavillacis @BiciMAD @emt @EliteTax...</td>\n",
       "      <td>Jesús García Diaz</td>\n",
       "      <td>955910563820986368</td>\n",
       "      <td>JessGarcaDiaz3</td>\n",
       "    </tr>\n",
       "    <tr>\n",
       "      <th>1</th>\n",
       "      <td>2020-10-23 16:27:02</td>\n",
       "      <td>1319676716349050880</td>\n",
       "      <td>­­📰 El distrito de Latina tiene ya servicio de...</td>\n",
       "      <td>Madrid Actual</td>\n",
       "      <td>50969179</td>\n",
       "      <td>madridactual</td>\n",
       "    </tr>\n",
       "    <tr>\n",
       "      <th>2</th>\n",
       "      <td>2020-10-23 16:19:55</td>\n",
       "      <td>1319674925884592130</td>\n",
       "      <td>RT @diego_rebollo: @begonavillacis @BiciMAD As...</td>\n",
       "      <td>alpedhuez</td>\n",
       "      <td>823491982219689984</td>\n",
       "      <td>alpedhu37343368</td>\n",
       "    </tr>\n",
       "    <tr>\n",
       "      <th>3</th>\n",
       "      <td>2020-10-23 16:19:45</td>\n",
       "      <td>1319674884700672000</td>\n",
       "      <td>RT @CANAL33: El alcalde de Madrid @AlmeidaPP_ ...</td>\n",
       "      <td>Juanchiiii 😅🚇🖥️😍 👬</td>\n",
       "      <td>811543987375013888</td>\n",
       "      <td>deleganada</td>\n",
       "    </tr>\n",
       "    <tr>\n",
       "      <th>4</th>\n",
       "      <td>2020-10-23 16:14:38</td>\n",
       "      <td>1319673595929464832</td>\n",
       "      <td>@begonavillacis @Bogeymaann @BiciMAD Que no se...</td>\n",
       "      <td>paco anaya</td>\n",
       "      <td>215467698</td>\n",
       "      <td>acinrag_</td>\n",
       "    </tr>\n",
       "    <tr>\n",
       "      <th>...</th>\n",
       "      <td>...</td>\n",
       "      <td>...</td>\n",
       "      <td>...</td>\n",
       "      <td>...</td>\n",
       "      <td>...</td>\n",
       "      <td>...</td>\n",
       "    </tr>\n",
       "    <tr>\n",
       "      <th>432</th>\n",
       "      <td>2020-10-23 02:26:26</td>\n",
       "      <td>1319465173086818305</td>\n",
       "      <td>RT @Rita_Maestre: La foto que resume lo que ha...</td>\n",
       "      <td>Dani Aparicio</td>\n",
       "      <td>126324648</td>\n",
       "      <td>dani_apa69</td>\n",
       "    </tr>\n",
       "    <tr>\n",
       "      <th>433</th>\n",
       "      <td>2020-10-23 01:03:15</td>\n",
       "      <td>1319444240099934208</td>\n",
       "      <td>RT @Esther_Gomez_M: Para conocer la difícil si...</td>\n",
       "      <td>Rober</td>\n",
       "      <td>2870657137</td>\n",
       "      <td>zalorpass</td>\n",
       "    </tr>\n",
       "    <tr>\n",
       "      <th>434</th>\n",
       "      <td>2020-10-23 00:13:54</td>\n",
       "      <td>1319431821067694082</td>\n",
       "      <td>RT @Esther_Gomez_M: Prometió @AlmeidaPP_ 50 nu...</td>\n",
       "      <td>Kike</td>\n",
       "      <td>412800059</td>\n",
       "      <td>KikeM_</td>\n",
       "    </tr>\n",
       "    <tr>\n",
       "      <th>435</th>\n",
       "      <td>2020-10-23 00:11:28</td>\n",
       "      <td>1319431206086332419</td>\n",
       "      <td>RT @edugaresp: El servicio de alquiler de bici...</td>\n",
       "      <td>antonio 🏳️‍🌈antonio MAD</td>\n",
       "      <td>978551226</td>\n",
       "      <td>antonio44860896</td>\n",
       "    </tr>\n",
       "    <tr>\n",
       "      <th>436</th>\n",
       "      <td>2020-10-23 00:02:23</td>\n",
       "      <td>1319428924116434944</td>\n",
       "      <td>RT @Esther_Gomez_M: Parece que @EMTmadrid pref...</td>\n",
       "      <td>Ana Moradillo Alonso</td>\n",
       "      <td>769851005680910336</td>\n",
       "      <td>MoradilloAna</td>\n",
       "    </tr>\n",
       "  </tbody>\n",
       "</table>\n",
       "<p>437 rows × 6 columns</p>\n",
       "</div>"
      ],
      "text/plain": [
       "                      0                    1  \\\n",
       "0   2020-10-23 16:28:20  1319677044989493248   \n",
       "1   2020-10-23 16:27:02  1319676716349050880   \n",
       "2   2020-10-23 16:19:55  1319674925884592130   \n",
       "3   2020-10-23 16:19:45  1319674884700672000   \n",
       "4   2020-10-23 16:14:38  1319673595929464832   \n",
       "..                  ...                  ...   \n",
       "432 2020-10-23 02:26:26  1319465173086818305   \n",
       "433 2020-10-23 01:03:15  1319444240099934208   \n",
       "434 2020-10-23 00:13:54  1319431821067694082   \n",
       "435 2020-10-23 00:11:28  1319431206086332419   \n",
       "436 2020-10-23 00:02:23  1319428924116434944   \n",
       "\n",
       "                                                     2  \\\n",
       "0    @mpjc2 @begonavillacis @BiciMAD @emt @EliteTax...   \n",
       "1    ­­📰 El distrito de Latina tiene ya servicio de...   \n",
       "2    RT @diego_rebollo: @begonavillacis @BiciMAD As...   \n",
       "3    RT @CANAL33: El alcalde de Madrid @AlmeidaPP_ ...   \n",
       "4    @begonavillacis @Bogeymaann @BiciMAD Que no se...   \n",
       "..                                                 ...   \n",
       "432  RT @Rita_Maestre: La foto que resume lo que ha...   \n",
       "433  RT @Esther_Gomez_M: Para conocer la difícil si...   \n",
       "434  RT @Esther_Gomez_M: Prometió @AlmeidaPP_ 50 nu...   \n",
       "435  RT @edugaresp: El servicio de alquiler de bici...   \n",
       "436  RT @Esther_Gomez_M: Parece que @EMTmadrid pref...   \n",
       "\n",
       "                           3                   4                5  \n",
       "0          Jesús García Diaz  955910563820986368   JessGarcaDiaz3  \n",
       "1              Madrid Actual            50969179     madridactual  \n",
       "2                  alpedhuez  823491982219689984  alpedhu37343368  \n",
       "3         Juanchiiii 😅🚇🖥️😍 👬  811543987375013888       deleganada  \n",
       "4                 paco anaya           215467698         acinrag_  \n",
       "..                       ...                 ...              ...  \n",
       "432            Dani Aparicio           126324648       dani_apa69  \n",
       "433                    Rober          2870657137        zalorpass  \n",
       "434                     Kike           412800059           KikeM_  \n",
       "435  antonio 🏳️‍🌈antonio MAD           978551226  antonio44860896  \n",
       "436     Ana Moradillo Alonso  769851005680910336     MoradilloAna  \n",
       "\n",
       "[437 rows x 6 columns]"
      ]
     },
     "execution_count": 4,
     "metadata": {},
     "output_type": "execute_result"
    }
   ],
   "source": [
    "tweets_df"
   ]
  },
  {
   "cell_type": "code",
   "execution_count": 5,
   "metadata": {},
   "outputs": [],
   "source": [
    "df_tweets = tweets_df.copy()"
   ]
  },
  {
   "cell_type": "markdown",
   "metadata": {},
   "source": [
    "### 2.2 Clean data\n",
    "<hr>"
   ]
  },
  {
   "cell_type": "markdown",
   "metadata": {},
   "source": [
    "- **Select columns** \n",
    "<br> \n",
    "    Select columns and rename\n",
    "<br>\n",
    "- **Drop duplicates** \n",
    "<br>\n",
    "    Drop duplicate tweets based on 'text' Column"
   ]
  },
  {
   "cell_type": "code",
   "execution_count": 8,
   "metadata": {},
   "outputs": [],
   "source": [
    "# Rename columns\n",
    "df_tweets.set_axis(['date','id', 'text', 'user_name','user_id', 'user_screen_name'], axis=1, inplace=True)"
   ]
  },
  {
   "cell_type": "code",
   "execution_count": 9,
   "metadata": {},
   "outputs": [],
   "source": [
    "# Drop duplicates before sav\n",
    "# Read alrady existing data \n",
    "df_old = pd.read_csv('../data/raw/rawdata.csv')\n",
    "df_old = df_old.drop(columns =['Unnamed: 0'])\n",
    "df_old = df_old.astype(str)"
   ]
  },
  {
   "cell_type": "code",
   "execution_count": 10,
   "metadata": {},
   "outputs": [],
   "source": [
    "df_str = df_tweets.astype(str)"
   ]
  },
  {
   "cell_type": "code",
   "execution_count": 11,
   "metadata": {},
   "outputs": [],
   "source": [
    "df = pd.merge(df_old, df_str, how ='outer')"
   ]
  },
  {
   "cell_type": "code",
   "execution_count": 12,
   "metadata": {},
   "outputs": [],
   "source": [
    "df = df[df.date != 'date']"
   ]
  },
  {
   "cell_type": "code",
   "execution_count": 13,
   "metadata": {},
   "outputs": [],
   "source": [
    "df.drop_duplicates(subset=['id'],keep='last', inplace= True)"
   ]
  },
  {
   "cell_type": "code",
   "execution_count": 14,
   "metadata": {},
   "outputs": [
    {
     "data": {
      "text/html": [
       "<div>\n",
       "<style scoped>\n",
       "    .dataframe tbody tr th:only-of-type {\n",
       "        vertical-align: middle;\n",
       "    }\n",
       "\n",
       "    .dataframe tbody tr th {\n",
       "        vertical-align: top;\n",
       "    }\n",
       "\n",
       "    .dataframe thead th {\n",
       "        text-align: right;\n",
       "    }\n",
       "</style>\n",
       "<table border=\"1\" class=\"dataframe\">\n",
       "  <thead>\n",
       "    <tr style=\"text-align: right;\">\n",
       "      <th></th>\n",
       "      <th>index</th>\n",
       "      <th>date</th>\n",
       "      <th>id</th>\n",
       "      <th>text</th>\n",
       "      <th>user_name</th>\n",
       "      <th>user_id</th>\n",
       "      <th>user_screen_name</th>\n",
       "    </tr>\n",
       "  </thead>\n",
       "  <tbody>\n",
       "    <tr>\n",
       "      <th>0</th>\n",
       "      <td>0</td>\n",
       "      <td>2020-10-10 11:07:26</td>\n",
       "      <td>1314885243531399169</td>\n",
       "      <td>@PlataformaEMT @FRAVM @BiciMAD @AlmeidaPP_ @bc...</td>\n",
       "      <td>VICENTE RODRIGUEZ MU</td>\n",
       "      <td>NaN</td>\n",
       "      <td>NaN</td>\n",
       "    </tr>\n",
       "    <tr>\n",
       "      <th>1</th>\n",
       "      <td>1</td>\n",
       "      <td>2020-10-10 10:38:11</td>\n",
       "      <td>1314877884067188736</td>\n",
       "      <td>@PlataformaEMT @MADRID @AlmeidaPP_ @bcarabante...</td>\n",
       "      <td>Stielike</td>\n",
       "      <td>NaN</td>\n",
       "      <td>NaN</td>\n",
       "    </tr>\n",
       "    <tr>\n",
       "      <th>2</th>\n",
       "      <td>2</td>\n",
       "      <td>2020-10-10 10:35:49</td>\n",
       "      <td>1314877290489184261</td>\n",
       "      <td>@mcascallares Ha podido tratarse de un fallo p...</td>\n",
       "      <td>BiciMAD</td>\n",
       "      <td>NaN</td>\n",
       "      <td>NaN</td>\n",
       "    </tr>\n",
       "    <tr>\n",
       "      <th>3</th>\n",
       "      <td>3</td>\n",
       "      <td>2020-10-10 10:35:14</td>\n",
       "      <td>1314877141658542083</td>\n",
       "      <td>@AnxoOroisPhoto Te pedimos disculpas, ha podid...</td>\n",
       "      <td>BiciMAD</td>\n",
       "      <td>NaN</td>\n",
       "      <td>NaN</td>\n",
       "    </tr>\n",
       "    <tr>\n",
       "      <th>4</th>\n",
       "      <td>4</td>\n",
       "      <td>2020-10-10 10:13:18</td>\n",
       "      <td>1314871622487212033</td>\n",
       "      <td>Hola @BiciMAD la app no funciona, llevo 1 hora...</td>\n",
       "      <td>AnxoOroisPhotography</td>\n",
       "      <td>NaN</td>\n",
       "      <td>NaN</td>\n",
       "    </tr>\n",
       "    <tr>\n",
       "      <th>...</th>\n",
       "      <td>...</td>\n",
       "      <td>...</td>\n",
       "      <td>...</td>\n",
       "      <td>...</td>\n",
       "      <td>...</td>\n",
       "      <td>...</td>\n",
       "      <td>...</td>\n",
       "    </tr>\n",
       "    <tr>\n",
       "      <th>9151</th>\n",
       "      <td>9151</td>\n",
       "      <td>2020-10-23 15:10:21</td>\n",
       "      <td>1319657417941057537</td>\n",
       "      <td>@begonavillacis @BiciMAD Cuantas inaguraciones...</td>\n",
       "      <td>Cristal45</td>\n",
       "      <td>1263212011028131840</td>\n",
       "      <td>Cristal454</td>\n",
       "    </tr>\n",
       "    <tr>\n",
       "      <th>9152</th>\n",
       "      <td>9152</td>\n",
       "      <td>2020-10-23 15:09:24</td>\n",
       "      <td>1319657181889912832</td>\n",
       "      <td>RT @AMovilidadMad: ¿Te mueves en bicicleta 🚲 p...</td>\n",
       "      <td>NANO</td>\n",
       "      <td>821767980</td>\n",
       "      <td>nanoveros</td>\n",
       "    </tr>\n",
       "    <tr>\n",
       "      <th>9153</th>\n",
       "      <td>9153</td>\n",
       "      <td>2020-10-23 15:06:11</td>\n",
       "      <td>1319656370736668673</td>\n",
       "      <td>RT @CsMadridCiudad: 🚲 Desde @MADRID, seguimos ...</td>\n",
       "      <td>Ciudadanos Utrera</td>\n",
       "      <td>4202843157</td>\n",
       "      <td>Cs_Utrera</td>\n",
       "    </tr>\n",
       "    <tr>\n",
       "      <th>9154</th>\n",
       "      <td>9154</td>\n",
       "      <td>2020-10-23 15:03:03</td>\n",
       "      <td>1319655584053026816</td>\n",
       "      <td>El distrito de Latina tiene ya servicio de Bic...</td>\n",
       "      <td>Antonio Arroyo Quero</td>\n",
       "      <td>275204843</td>\n",
       "      <td>Antonio__AQ</td>\n",
       "    </tr>\n",
       "    <tr>\n",
       "      <th>9155</th>\n",
       "      <td>9155</td>\n",
       "      <td>2020-10-23 15:02:42</td>\n",
       "      <td>1319655495217647616</td>\n",
       "      <td>RT @PlataformaEMT: Estación 98 de @BiciMAD 1 d...</td>\n",
       "      <td>Mathías Vila🔻</td>\n",
       "      <td>1084765767827111936</td>\n",
       "      <td>mathias_vila</td>\n",
       "    </tr>\n",
       "  </tbody>\n",
       "</table>\n",
       "<p>9156 rows × 7 columns</p>\n",
       "</div>"
      ],
      "text/plain": [
       "      index                 date                   id  \\\n",
       "0         0  2020-10-10 11:07:26  1314885243531399169   \n",
       "1         1  2020-10-10 10:38:11  1314877884067188736   \n",
       "2         2  2020-10-10 10:35:49  1314877290489184261   \n",
       "3         3  2020-10-10 10:35:14  1314877141658542083   \n",
       "4         4  2020-10-10 10:13:18  1314871622487212033   \n",
       "...     ...                  ...                  ...   \n",
       "9151   9151  2020-10-23 15:10:21  1319657417941057537   \n",
       "9152   9152  2020-10-23 15:09:24  1319657181889912832   \n",
       "9153   9153  2020-10-23 15:06:11  1319656370736668673   \n",
       "9154   9154  2020-10-23 15:03:03  1319655584053026816   \n",
       "9155   9155  2020-10-23 15:02:42  1319655495217647616   \n",
       "\n",
       "                                                   text             user_name  \\\n",
       "0     @PlataformaEMT @FRAVM @BiciMAD @AlmeidaPP_ @bc...  VICENTE RODRIGUEZ MU   \n",
       "1     @PlataformaEMT @MADRID @AlmeidaPP_ @bcarabante...              Stielike   \n",
       "2     @mcascallares Ha podido tratarse de un fallo p...               BiciMAD   \n",
       "3     @AnxoOroisPhoto Te pedimos disculpas, ha podid...               BiciMAD   \n",
       "4     Hola @BiciMAD la app no funciona, llevo 1 hora...  AnxoOroisPhotography   \n",
       "...                                                 ...                   ...   \n",
       "9151  @begonavillacis @BiciMAD Cuantas inaguraciones...             Cristal45   \n",
       "9152  RT @AMovilidadMad: ¿Te mueves en bicicleta 🚲 p...                  NANO   \n",
       "9153  RT @CsMadridCiudad: 🚲 Desde @MADRID, seguimos ...     Ciudadanos Utrera   \n",
       "9154  El distrito de Latina tiene ya servicio de Bic...  Antonio Arroyo Quero   \n",
       "9155  RT @PlataformaEMT: Estación 98 de @BiciMAD 1 d...         Mathías Vila🔻   \n",
       "\n",
       "                  user_id user_screen_name  \n",
       "0                     NaN              NaN  \n",
       "1                     NaN              NaN  \n",
       "2                     NaN              NaN  \n",
       "3                     NaN              NaN  \n",
       "4                     NaN              NaN  \n",
       "...                   ...              ...  \n",
       "9151  1263212011028131840       Cristal454  \n",
       "9152            821767980        nanoveros  \n",
       "9153           4202843157        Cs_Utrera  \n",
       "9154            275204843      Antonio__AQ  \n",
       "9155  1084765767827111936     mathias_vila  \n",
       "\n",
       "[9156 rows x 7 columns]"
      ]
     },
     "execution_count": 14,
     "metadata": {},
     "output_type": "execute_result"
    }
   ],
   "source": [
    "df.reset_index()"
   ]
  },
  {
   "cell_type": "code",
   "execution_count": 15,
   "metadata": {},
   "outputs": [
    {
     "data": {
      "text/html": [
       "<div>\n",
       "<style scoped>\n",
       "    .dataframe tbody tr th:only-of-type {\n",
       "        vertical-align: middle;\n",
       "    }\n",
       "\n",
       "    .dataframe tbody tr th {\n",
       "        vertical-align: top;\n",
       "    }\n",
       "\n",
       "    .dataframe thead th {\n",
       "        text-align: right;\n",
       "    }\n",
       "</style>\n",
       "<table border=\"1\" class=\"dataframe\">\n",
       "  <thead>\n",
       "    <tr style=\"text-align: right;\">\n",
       "      <th></th>\n",
       "      <th>date</th>\n",
       "      <th>id</th>\n",
       "      <th>text</th>\n",
       "      <th>user_name</th>\n",
       "      <th>user_id</th>\n",
       "      <th>user_screen_name</th>\n",
       "    </tr>\n",
       "  </thead>\n",
       "  <tbody>\n",
       "    <tr>\n",
       "      <th>9109</th>\n",
       "      <td>2020-10-23 16:28:20</td>\n",
       "      <td>1319677044989493248</td>\n",
       "      <td>@mpjc2 @begonavillacis @BiciMAD @emt @EliteTax...</td>\n",
       "      <td>Jesús García Diaz</td>\n",
       "      <td>955910563820986368</td>\n",
       "      <td>JessGarcaDiaz3</td>\n",
       "    </tr>\n",
       "    <tr>\n",
       "      <th>9110</th>\n",
       "      <td>2020-10-23 16:27:02</td>\n",
       "      <td>1319676716349050880</td>\n",
       "      <td>­­📰 El distrito de Latina tiene ya servicio de...</td>\n",
       "      <td>Madrid Actual</td>\n",
       "      <td>50969179</td>\n",
       "      <td>madridactual</td>\n",
       "    </tr>\n",
       "    <tr>\n",
       "      <th>9111</th>\n",
       "      <td>2020-10-23 16:19:55</td>\n",
       "      <td>1319674925884592130</td>\n",
       "      <td>RT @diego_rebollo: @begonavillacis @BiciMAD As...</td>\n",
       "      <td>alpedhuez</td>\n",
       "      <td>823491982219689984</td>\n",
       "      <td>alpedhu37343368</td>\n",
       "    </tr>\n",
       "    <tr>\n",
       "      <th>9112</th>\n",
       "      <td>2020-10-23 16:19:45</td>\n",
       "      <td>1319674884700672000</td>\n",
       "      <td>RT @CANAL33: El alcalde de Madrid @AlmeidaPP_ ...</td>\n",
       "      <td>Juanchiiii 😅🚇🖥️😍 👬</td>\n",
       "      <td>811543987375013888</td>\n",
       "      <td>deleganada</td>\n",
       "    </tr>\n",
       "    <tr>\n",
       "      <th>9113</th>\n",
       "      <td>2020-10-23 16:14:38</td>\n",
       "      <td>1319673595929464832</td>\n",
       "      <td>@begonavillacis @Bogeymaann @BiciMAD Que no se...</td>\n",
       "      <td>paco anaya</td>\n",
       "      <td>215467698</td>\n",
       "      <td>acinrag_</td>\n",
       "    </tr>\n",
       "    <tr>\n",
       "      <th>9114</th>\n",
       "      <td>2020-10-23 16:06:46</td>\n",
       "      <td>1319671615530143745</td>\n",
       "      <td>RT @PlataformaEMT: Estación 98 de @BiciMAD 1 d...</td>\n",
       "      <td>Pilukipilarapilarin 🎗</td>\n",
       "      <td>906408624574124032</td>\n",
       "      <td>Pilukipilarapi1</td>\n",
       "    </tr>\n",
       "    <tr>\n",
       "      <th>9115</th>\n",
       "      <td>2020-10-23 16:05:41</td>\n",
       "      <td>1319671343340789765</td>\n",
       "      <td>RT @PlataformaEMT: Estación 98 de @BiciMAD 1 d...</td>\n",
       "      <td>Loli</td>\n",
       "      <td>2149535325</td>\n",
       "      <td>thebestloli</td>\n",
       "    </tr>\n",
       "    <tr>\n",
       "      <th>9116</th>\n",
       "      <td>2020-10-23 16:05:14</td>\n",
       "      <td>1319671229243162624</td>\n",
       "      <td>RT @PlataformaEMT: Nosotr@s como trabajador@s ...</td>\n",
       "      <td>Loli</td>\n",
       "      <td>2149535325</td>\n",
       "      <td>thebestloli</td>\n",
       "    </tr>\n",
       "    <tr>\n",
       "      <th>9117</th>\n",
       "      <td>2020-10-23 16:01:50</td>\n",
       "      <td>1319670376339832833</td>\n",
       "      <td>@CarajoPS @Afectadosbicim1 @busero_enmascar @b...</td>\n",
       "      <td>Rafael Cacho</td>\n",
       "      <td>3183939634</td>\n",
       "      <td>rafaelcach</td>\n",
       "    </tr>\n",
       "    <tr>\n",
       "      <th>9118</th>\n",
       "      <td>2020-10-23 15:59:40</td>\n",
       "      <td>1319669832158162954</td>\n",
       "      <td>@Afectadosbicim1 @CarajoPS @busero_enmascar @b...</td>\n",
       "      <td>Rafael Cacho</td>\n",
       "      <td>3183939634</td>\n",
       "      <td>rafaelcach</td>\n",
       "    </tr>\n",
       "  </tbody>\n",
       "</table>\n",
       "</div>"
      ],
      "text/plain": [
       "                     date                   id  \\\n",
       "9109  2020-10-23 16:28:20  1319677044989493248   \n",
       "9110  2020-10-23 16:27:02  1319676716349050880   \n",
       "9111  2020-10-23 16:19:55  1319674925884592130   \n",
       "9112  2020-10-23 16:19:45  1319674884700672000   \n",
       "9113  2020-10-23 16:14:38  1319673595929464832   \n",
       "9114  2020-10-23 16:06:46  1319671615530143745   \n",
       "9115  2020-10-23 16:05:41  1319671343340789765   \n",
       "9116  2020-10-23 16:05:14  1319671229243162624   \n",
       "9117  2020-10-23 16:01:50  1319670376339832833   \n",
       "9118  2020-10-23 15:59:40  1319669832158162954   \n",
       "\n",
       "                                                   text  \\\n",
       "9109  @mpjc2 @begonavillacis @BiciMAD @emt @EliteTax...   \n",
       "9110  ­­📰 El distrito de Latina tiene ya servicio de...   \n",
       "9111  RT @diego_rebollo: @begonavillacis @BiciMAD As...   \n",
       "9112  RT @CANAL33: El alcalde de Madrid @AlmeidaPP_ ...   \n",
       "9113  @begonavillacis @Bogeymaann @BiciMAD Que no se...   \n",
       "9114  RT @PlataformaEMT: Estación 98 de @BiciMAD 1 d...   \n",
       "9115  RT @PlataformaEMT: Estación 98 de @BiciMAD 1 d...   \n",
       "9116  RT @PlataformaEMT: Nosotr@s como trabajador@s ...   \n",
       "9117  @CarajoPS @Afectadosbicim1 @busero_enmascar @b...   \n",
       "9118  @Afectadosbicim1 @CarajoPS @busero_enmascar @b...   \n",
       "\n",
       "                  user_name             user_id user_screen_name  \n",
       "9109      Jesús García Diaz  955910563820986368   JessGarcaDiaz3  \n",
       "9110          Madrid Actual            50969179     madridactual  \n",
       "9111              alpedhuez  823491982219689984  alpedhu37343368  \n",
       "9112     Juanchiiii 😅🚇🖥️😍 👬  811543987375013888       deleganada  \n",
       "9113             paco anaya           215467698         acinrag_  \n",
       "9114  Pilukipilarapilarin 🎗  906408624574124032  Pilukipilarapi1  \n",
       "9115                   Loli          2149535325      thebestloli  \n",
       "9116                   Loli          2149535325      thebestloli  \n",
       "9117           Rafael Cacho          3183939634       rafaelcach  \n",
       "9118           Rafael Cacho          3183939634       rafaelcach  "
      ]
     },
     "execution_count": 15,
     "metadata": {},
     "output_type": "execute_result"
    }
   ],
   "source": [
    "# check new Tweets are in df\n",
    "df.sort_values('date', ascending = False).head(10)"
   ]
  },
  {
   "cell_type": "markdown",
   "metadata": {},
   "source": [
    "### 2.3 Save to csv"
   ]
  },
  {
   "cell_type": "markdown",
   "metadata": {},
   "source": [
    "- **Check Dataframe shape** \n",
    "<br>\n",
    "        Check df shape\n",
    "<br>\n",
    "        Check new tweets (i.e. difference between old and updated df)\n",
    "- **Save to existing 'rawdata.csv'** \n",
    "<br> \n",
    "        Save only aditional tweets (i.e. df updated) \n",
    "<br>"
   ]
  },
  {
   "cell_type": "code",
   "execution_count": 16,
   "metadata": {},
   "outputs": [
    {
     "data": {
      "text/plain": [
       "(9156, 6)"
      ]
     },
     "execution_count": 16,
     "metadata": {},
     "output_type": "execute_result"
    }
   ],
   "source": [
    "# Updated df shape (rows cols)\n",
    "df.shape"
   ]
  },
  {
   "cell_type": "code",
   "execution_count": 17,
   "metadata": {},
   "outputs": [
    {
     "data": {
      "text/plain": [
       "47"
      ]
     },
     "execution_count": 17,
     "metadata": {},
     "output_type": "execute_result"
    }
   ],
   "source": [
    "# New tweets \n",
    "df.shape[0] - df_old.shape[0]"
   ]
  },
  {
   "cell_type": "code",
   "execution_count": 18,
   "metadata": {},
   "outputs": [],
   "source": [
    "# save to csv - add a dataframe to an existing csv file\n",
    "df.to_csv('../data/raw/rawdata.csv', header=True)"
   ]
  },
  {
   "cell_type": "code",
   "execution_count": null,
   "metadata": {},
   "outputs": [],
   "source": []
  }
 ],
 "metadata": {
  "kernelspec": {
   "display_name": "Python [conda env:ironhack]",
   "language": "python",
   "name": "conda-env-ironhack-py"
  },
  "language_info": {
   "codemirror_mode": {
    "name": "ipython",
    "version": 3
   },
   "file_extension": ".py",
   "mimetype": "text/x-python",
   "name": "python",
   "nbconvert_exporter": "python",
   "pygments_lexer": "ipython3",
   "version": "3.7.3"
  }
 },
 "nbformat": 4,
 "nbformat_minor": 4
}
