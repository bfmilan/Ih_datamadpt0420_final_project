{
 "cells": [
  {
   "cell_type": "markdown",
   "metadata": {},
   "source": [
    "### Data Acquisition"
   ]
  },
  {
   "cell_type": "markdown",
   "metadata": {},
   "source": [
    "This notebook includes all actions to get the data from Twitter.<br>\n",
    "**Data**: Tweets that include '@BiciMad' (text and profile name)"
   ]
  },
  {
   "cell_type": "markdown",
   "metadata": {},
   "source": [
    "## 1. Set up Tweepy"
   ]
  },
  {
   "cell_type": "markdown",
   "metadata": {},
   "source": [
    "#### 1.1 My Appi "
   ]
  },
  {
   "cell_type": "code",
   "execution_count": 1,
   "metadata": {},
   "outputs": [
    {
     "data": {
      "text/plain": [
       "<tweepy.api.API at 0x10cfcbeb8>"
      ]
     },
     "execution_count": 1,
     "metadata": {},
     "output_type": "execute_result"
    }
   ],
   "source": []
  },
  {
   "cell_type": "markdown",
   "metadata": {},
   "source": [
    "#### Appi 2"
   ]
  },
  {
   "cell_type": "markdown",
   "metadata": {},
   "source": []
  },
  {
   "cell_type": "markdown",
   "metadata": {},
   "source": [
    "#### Appi 3"
   ]
  },
  {
   "cell_type": "markdown",
   "metadata": {},
   "source": []
  },
  {
   "cell_type": "markdown",
   "metadata": {},
   "source": [
    "## 2. Query data\n",
    "<hr>"
   ]
  },
  {
   "cell_type": "markdown",
   "metadata": {},
   "source": [
    "### 2.1 Get Tweets"
   ]
  },
  {
   "cell_type": "markdown",
   "metadata": {},
   "source": [
    "import pandas as pd\n",
    "\n",
    "search_term = 'BiciMAD'\n",
    "\n",
    "try:     \n",
    " # Creation of query method using parameters\n",
    "    # tweets = tweepy.Cursor(api.user_timeline,id=username).items(count)\n",
    "    tweets = tweepy.Cursor(api.search,\n",
    "                   q=search_term,\n",
    "                   lang=\"es\").items(1000)\n",
    " \n",
    "    tweets_list = [[tweet.created_at, tweet.id, tweet.text, tweet.user.name] for tweet in tweets]\n",
    " \n",
    " # Creation of dataframe from tweets list\n",
    " # Add or remove columns as you remove tweet information\n",
    "    tweets_df = pd.DataFrame(tweets_list)\n",
    "except BaseException as e:\n",
    "    print('failed on_status,',str(e))\n",
    "    time.sleep(3)"
   ]
  },
  {
   "cell_type": "code",
   "execution_count": 2,
   "metadata": {},
   "outputs": [],
   "source": [
    "import pandas as pd\n",
    "search_term = 'BiciMAD'\n",
    "   \n",
    "# Creation of query method using parameters\n",
    "# tweets = tweepy.Cursor(api.user_timeline,id=username).items(count)\n",
    "tweets = tweepy.Cursor(api.search,\n",
    "                   q=search_term,\n",
    "                   lang=\"es\").items(1000)\n",
    " \n",
    "tweets_list = [[tweet.created_at, tweet.id, tweet.text, tweet.user.name] for tweet in tweets]\n",
    "\n",
    "# Creation of dataframe from tweets list\n",
    "# Add or remove columns as you remove tweet information\n",
    "tweets_df = pd.DataFrame(tweets_list)"
   ]
  },
  {
   "cell_type": "code",
   "execution_count": 3,
   "metadata": {},
   "outputs": [],
   "source": [
    "df_tweets = tweets_df.copy()"
   ]
  },
  {
   "cell_type": "markdown",
   "metadata": {},
   "source": [
    "### 2.2 Clean data\n",
    "<hr>"
   ]
  },
  {
   "cell_type": "markdown",
   "metadata": {},
   "source": [
    "- **Select columns** \n",
    "<br> \n",
    "    Select columns and rename\n",
    "<br>\n",
    "- **Drop duplicates** \n",
    "<br>\n",
    "    Drop duplicate tweets based on 'text' Column"
   ]
  },
  {
   "cell_type": "code",
   "execution_count": 4,
   "metadata": {},
   "outputs": [],
   "source": [
    "# Rename columns\n",
    "df_tweets.set_axis(['date','id', 'text', 'user_name'], axis=1, inplace=True)"
   ]
  },
  {
   "cell_type": "code",
   "execution_count": 5,
   "metadata": {},
   "outputs": [],
   "source": [
    "# Drop duplicates before sav\n",
    "# Read alrady existing data \n",
    "df_old = pd.read_csv('../data/raw/rawdata.csv')\n",
    "df_old = df_old.drop(columns =['Unnamed: 0'])\n",
    "df_old = df_old.astype(str)"
   ]
  },
  {
   "cell_type": "code",
   "execution_count": 6,
   "metadata": {},
   "outputs": [],
   "source": [
    "df_str = df_tweets.astype(str)"
   ]
  },
  {
   "cell_type": "code",
   "execution_count": 7,
   "metadata": {},
   "outputs": [],
   "source": [
    "df = pd.merge(df_old, df_str, how ='outer')"
   ]
  },
  {
   "cell_type": "code",
   "execution_count": 8,
   "metadata": {},
   "outputs": [],
   "source": [
    "df = df[df.date != 'date']"
   ]
  },
  {
   "cell_type": "code",
   "execution_count": 9,
   "metadata": {},
   "outputs": [],
   "source": [
    "df.drop_duplicates(subset=['id'],keep='last', inplace= True)"
   ]
  },
  {
   "cell_type": "code",
   "execution_count": 10,
   "metadata": {},
   "outputs": [
    {
     "data": {
      "text/html": [
       "<div>\n",
       "<style scoped>\n",
       "    .dataframe tbody tr th:only-of-type {\n",
       "        vertical-align: middle;\n",
       "    }\n",
       "\n",
       "    .dataframe tbody tr th {\n",
       "        vertical-align: top;\n",
       "    }\n",
       "\n",
       "    .dataframe thead th {\n",
       "        text-align: right;\n",
       "    }\n",
       "</style>\n",
       "<table border=\"1\" class=\"dataframe\">\n",
       "  <thead>\n",
       "    <tr style=\"text-align: right;\">\n",
       "      <th></th>\n",
       "      <th>index</th>\n",
       "      <th>date</th>\n",
       "      <th>id</th>\n",
       "      <th>text</th>\n",
       "      <th>user_name</th>\n",
       "    </tr>\n",
       "  </thead>\n",
       "  <tbody>\n",
       "    <tr>\n",
       "      <th>0</th>\n",
       "      <td>0</td>\n",
       "      <td>2020-10-10 11:07:26</td>\n",
       "      <td>1314885243531399169</td>\n",
       "      <td>@PlataformaEMT @FRAVM @BiciMAD @AlmeidaPP_ @bc...</td>\n",
       "      <td>VICENTE RODRIGUEZ MU</td>\n",
       "    </tr>\n",
       "    <tr>\n",
       "      <th>1</th>\n",
       "      <td>1</td>\n",
       "      <td>2020-10-10 10:38:11</td>\n",
       "      <td>1314877884067188736</td>\n",
       "      <td>@PlataformaEMT @MADRID @AlmeidaPP_ @bcarabante...</td>\n",
       "      <td>Stielike</td>\n",
       "    </tr>\n",
       "    <tr>\n",
       "      <th>2</th>\n",
       "      <td>2</td>\n",
       "      <td>2020-10-10 10:35:49</td>\n",
       "      <td>1314877290489184261</td>\n",
       "      <td>@mcascallares Ha podido tratarse de un fallo p...</td>\n",
       "      <td>BiciMAD</td>\n",
       "    </tr>\n",
       "    <tr>\n",
       "      <th>3</th>\n",
       "      <td>3</td>\n",
       "      <td>2020-10-10 10:35:14</td>\n",
       "      <td>1314877141658542083</td>\n",
       "      <td>@AnxoOroisPhoto Te pedimos disculpas, ha podid...</td>\n",
       "      <td>BiciMAD</td>\n",
       "    </tr>\n",
       "    <tr>\n",
       "      <th>4</th>\n",
       "      <td>4</td>\n",
       "      <td>2020-10-10 10:13:18</td>\n",
       "      <td>1314871622487212033</td>\n",
       "      <td>Hola @BiciMAD la app no funciona, llevo 1 hora...</td>\n",
       "      <td>AnxoOroisPhotography</td>\n",
       "    </tr>\n",
       "    <tr>\n",
       "      <th>...</th>\n",
       "      <td>...</td>\n",
       "      <td>...</td>\n",
       "      <td>...</td>\n",
       "      <td>...</td>\n",
       "      <td>...</td>\n",
       "    </tr>\n",
       "    <tr>\n",
       "      <th>8714</th>\n",
       "      <td>8714</td>\n",
       "      <td>2020-10-22 12:15:58</td>\n",
       "      <td>1319251147262222339</td>\n",
       "      <td>RT @PlataformaEMT: Estación 98 de @BiciMAD 1 d...</td>\n",
       "      <td>Carlos ☠ Enjuto</td>\n",
       "    </tr>\n",
       "    <tr>\n",
       "      <th>8715</th>\n",
       "      <td>8715</td>\n",
       "      <td>2020-10-22 12:15:34</td>\n",
       "      <td>1319251047932624896</td>\n",
       "      <td>RT @Enamoradoporri3: #salvemosBicimad tanta in...</td>\n",
       "      <td>ErBoteRojo</td>\n",
       "    </tr>\n",
       "    <tr>\n",
       "      <th>8716</th>\n",
       "      <td>8716</td>\n",
       "      <td>2020-10-22 12:14:33</td>\n",
       "      <td>1319250791547494402</td>\n",
       "      <td>BiciMad es el único servicio público de transp...</td>\n",
       "      <td>Sofía Pérez Mendoza</td>\n",
       "    </tr>\n",
       "    <tr>\n",
       "      <th>8717</th>\n",
       "      <td>8717</td>\n",
       "      <td>2020-10-22 12:14:30</td>\n",
       "      <td>1319250777702105089</td>\n",
       "      <td>RT @rojobote: @PlataformaEMT @BiciMAD @Almeida...</td>\n",
       "      <td>Julio</td>\n",
       "    </tr>\n",
       "    <tr>\n",
       "      <th>8718</th>\n",
       "      <td>8718</td>\n",
       "      <td>2020-10-22 12:10:32</td>\n",
       "      <td>1319249779440967680</td>\n",
       "      <td>RT @BicimadL: 27 octubre a las 11h en Cibeles ...</td>\n",
       "      <td>La Chica del 17</td>\n",
       "    </tr>\n",
       "  </tbody>\n",
       "</table>\n",
       "<p>8719 rows × 5 columns</p>\n",
       "</div>"
      ],
      "text/plain": [
       "      index                 date                   id  \\\n",
       "0         0  2020-10-10 11:07:26  1314885243531399169   \n",
       "1         1  2020-10-10 10:38:11  1314877884067188736   \n",
       "2         2  2020-10-10 10:35:49  1314877290489184261   \n",
       "3         3  2020-10-10 10:35:14  1314877141658542083   \n",
       "4         4  2020-10-10 10:13:18  1314871622487212033   \n",
       "...     ...                  ...                  ...   \n",
       "8714   8714  2020-10-22 12:15:58  1319251147262222339   \n",
       "8715   8715  2020-10-22 12:15:34  1319251047932624896   \n",
       "8716   8716  2020-10-22 12:14:33  1319250791547494402   \n",
       "8717   8717  2020-10-22 12:14:30  1319250777702105089   \n",
       "8718   8718  2020-10-22 12:10:32  1319249779440967680   \n",
       "\n",
       "                                                   text             user_name  \n",
       "0     @PlataformaEMT @FRAVM @BiciMAD @AlmeidaPP_ @bc...  VICENTE RODRIGUEZ MU  \n",
       "1     @PlataformaEMT @MADRID @AlmeidaPP_ @bcarabante...              Stielike  \n",
       "2     @mcascallares Ha podido tratarse de un fallo p...               BiciMAD  \n",
       "3     @AnxoOroisPhoto Te pedimos disculpas, ha podid...               BiciMAD  \n",
       "4     Hola @BiciMAD la app no funciona, llevo 1 hora...  AnxoOroisPhotography  \n",
       "...                                                 ...                   ...  \n",
       "8714  RT @PlataformaEMT: Estación 98 de @BiciMAD 1 d...       Carlos ☠ Enjuto  \n",
       "8715  RT @Enamoradoporri3: #salvemosBicimad tanta in...            ErBoteRojo  \n",
       "8716  BiciMad es el único servicio público de transp...   Sofía Pérez Mendoza  \n",
       "8717  RT @rojobote: @PlataformaEMT @BiciMAD @Almeida...                 Julio  \n",
       "8718  RT @BicimadL: 27 octubre a las 11h en Cibeles ...       La Chica del 17  \n",
       "\n",
       "[8719 rows x 5 columns]"
      ]
     },
     "execution_count": 10,
     "metadata": {},
     "output_type": "execute_result"
    }
   ],
   "source": [
    "df.reset_index()"
   ]
  },
  {
   "cell_type": "code",
   "execution_count": 11,
   "metadata": {},
   "outputs": [
    {
     "data": {
      "text/html": [
       "<div>\n",
       "<style scoped>\n",
       "    .dataframe tbody tr th:only-of-type {\n",
       "        vertical-align: middle;\n",
       "    }\n",
       "\n",
       "    .dataframe tbody tr th {\n",
       "        vertical-align: top;\n",
       "    }\n",
       "\n",
       "    .dataframe thead th {\n",
       "        text-align: right;\n",
       "    }\n",
       "</style>\n",
       "<table border=\"1\" class=\"dataframe\">\n",
       "  <thead>\n",
       "    <tr style=\"text-align: right;\">\n",
       "      <th></th>\n",
       "      <th>date</th>\n",
       "      <th>id</th>\n",
       "      <th>text</th>\n",
       "      <th>user_name</th>\n",
       "    </tr>\n",
       "  </thead>\n",
       "  <tbody>\n",
       "    <tr>\n",
       "      <th>8525</th>\n",
       "      <td>2020-10-22 16:42:33</td>\n",
       "      <td>1319318232495423488</td>\n",
       "      <td>RT @rmajadas: Mi idea para la app de la @EMTma...</td>\n",
       "      <td>Mélusine</td>\n",
       "    </tr>\n",
       "    <tr>\n",
       "      <th>8526</th>\n",
       "      <td>2020-10-22 16:42:05</td>\n",
       "      <td>1319318118716657665</td>\n",
       "      <td>RT @PlataformaEMT: Estación 98 de @BiciMAD 1 d...</td>\n",
       "      <td>Vítor Manuel</td>\n",
       "    </tr>\n",
       "    <tr>\n",
       "      <th>8527</th>\n",
       "      <td>2020-10-22 16:41:47</td>\n",
       "      <td>1319318041033732096</td>\n",
       "      <td>RT @rmajadas: Mi idea para la app de la @EMTma...</td>\n",
       "      <td>ruben</td>\n",
       "    </tr>\n",
       "    <tr>\n",
       "      <th>8528</th>\n",
       "      <td>2020-10-22 16:41:11</td>\n",
       "      <td>1319317889955041280</td>\n",
       "      <td>RT @edugaresp: El servicio de alquiler de bici...</td>\n",
       "      <td>Terronidus 🔻✊🏻</td>\n",
       "    </tr>\n",
       "    <tr>\n",
       "      <th>8529</th>\n",
       "      <td>2020-10-22 16:41:06</td>\n",
       "      <td>1319317871122579457</td>\n",
       "      <td>RT @PlataformaEMT: Esta es la situación actual...</td>\n",
       "      <td>Community Monguer</td>\n",
       "    </tr>\n",
       "    <tr>\n",
       "      <th>8530</th>\n",
       "      <td>2020-10-22 16:39:10</td>\n",
       "      <td>1319317381450268677</td>\n",
       "      <td>RT @PlataformaEMT: ATENT@S A LOS PRÓXIMOS DIAS...</td>\n",
       "      <td>Vítor Manuel</td>\n",
       "    </tr>\n",
       "    <tr>\n",
       "      <th>8531</th>\n",
       "      <td>2020-10-22 16:39:05</td>\n",
       "      <td>1319317360394801153</td>\n",
       "      <td>RT @PlataformaEMT: Esta es la situación actual...</td>\n",
       "      <td>Vítor Manuel</td>\n",
       "    </tr>\n",
       "    <tr>\n",
       "      <th>8532</th>\n",
       "      <td>2020-10-22 16:38:47</td>\n",
       "      <td>1319317285790748672</td>\n",
       "      <td>RT @edugaresp: El servicio de alquiler de bici...</td>\n",
       "      <td>Jorinjas</td>\n",
       "    </tr>\n",
       "    <tr>\n",
       "      <th>8533</th>\n",
       "      <td>2020-10-22 16:38:36</td>\n",
       "      <td>1319317238776778754</td>\n",
       "      <td>RT @PlataformaEMT: Esta es la situación actual...</td>\n",
       "      <td>Willy van der Beeck</td>\n",
       "    </tr>\n",
       "    <tr>\n",
       "      <th>8534</th>\n",
       "      <td>2020-10-22 16:38:30</td>\n",
       "      <td>1319317213896114176</td>\n",
       "      <td>RT @rmajadas: Mi idea para la app de la @EMTma...</td>\n",
       "      <td>Etbaal🔻</td>\n",
       "    </tr>\n",
       "  </tbody>\n",
       "</table>\n",
       "</div>"
      ],
      "text/plain": [
       "                     date                   id  \\\n",
       "8525  2020-10-22 16:42:33  1319318232495423488   \n",
       "8526  2020-10-22 16:42:05  1319318118716657665   \n",
       "8527  2020-10-22 16:41:47  1319318041033732096   \n",
       "8528  2020-10-22 16:41:11  1319317889955041280   \n",
       "8529  2020-10-22 16:41:06  1319317871122579457   \n",
       "8530  2020-10-22 16:39:10  1319317381450268677   \n",
       "8531  2020-10-22 16:39:05  1319317360394801153   \n",
       "8532  2020-10-22 16:38:47  1319317285790748672   \n",
       "8533  2020-10-22 16:38:36  1319317238776778754   \n",
       "8534  2020-10-22 16:38:30  1319317213896114176   \n",
       "\n",
       "                                                   text            user_name  \n",
       "8525  RT @rmajadas: Mi idea para la app de la @EMTma...             Mélusine  \n",
       "8526  RT @PlataformaEMT: Estación 98 de @BiciMAD 1 d...         Vítor Manuel  \n",
       "8527  RT @rmajadas: Mi idea para la app de la @EMTma...                ruben  \n",
       "8528  RT @edugaresp: El servicio de alquiler de bici...       Terronidus 🔻✊🏻  \n",
       "8529  RT @PlataformaEMT: Esta es la situación actual...    Community Monguer  \n",
       "8530  RT @PlataformaEMT: ATENT@S A LOS PRÓXIMOS DIAS...         Vítor Manuel  \n",
       "8531  RT @PlataformaEMT: Esta es la situación actual...         Vítor Manuel  \n",
       "8532  RT @edugaresp: El servicio de alquiler de bici...             Jorinjas  \n",
       "8533  RT @PlataformaEMT: Esta es la situación actual...  Willy van der Beeck  \n",
       "8534  RT @rmajadas: Mi idea para la app de la @EMTma...              Etbaal🔻  "
      ]
     },
     "execution_count": 11,
     "metadata": {},
     "output_type": "execute_result"
    }
   ],
   "source": [
    "# check new Tweets are in df\n",
    "df.sort_values('date', ascending = False).head(10)"
   ]
  },
  {
   "cell_type": "markdown",
   "metadata": {},
   "source": [
    "### 2.3 Save to csv"
   ]
  },
  {
   "cell_type": "markdown",
   "metadata": {},
   "source": [
    "- **Check Dataframe shape** \n",
    "<br>\n",
    "        Check df shape\n",
    "<br>\n",
    "        Check new tweets (i.e. difference between old and updated df)\n",
    "- **Save to existing 'rawdata.csv'** \n",
    "<br> \n",
    "        Save only aditional tweets (i.e. df updated) \n",
    "<br>"
   ]
  },
  {
   "cell_type": "code",
   "execution_count": 12,
   "metadata": {},
   "outputs": [
    {
     "data": {
      "text/plain": [
       "(8719, 4)"
      ]
     },
     "execution_count": 12,
     "metadata": {},
     "output_type": "execute_result"
    }
   ],
   "source": [
    "# Updated df shape (rows cols)\n",
    "df.shape"
   ]
  },
  {
   "cell_type": "code",
   "execution_count": 13,
   "metadata": {},
   "outputs": [
    {
     "data": {
      "text/plain": [
       "194"
      ]
     },
     "execution_count": 13,
     "metadata": {},
     "output_type": "execute_result"
    }
   ],
   "source": [
    "# New tweets \n",
    "df.shape[0] - df_old.shape[0]"
   ]
  },
  {
   "cell_type": "code",
   "execution_count": 14,
   "metadata": {},
   "outputs": [],
   "source": [
    "# save to csv - add a dataframe to an existing csv file\n",
    "df.to_csv('../data/raw/rawdata.csv', header=True)"
   ]
  },
  {
   "cell_type": "code",
   "execution_count": null,
   "metadata": {},
   "outputs": [],
   "source": []
  }
 ],
 "metadata": {
  "kernelspec": {
   "display_name": "Python [conda env:ironhack]",
   "language": "python",
   "name": "conda-env-ironhack-py"
  },
  "language_info": {
   "codemirror_mode": {
    "name": "ipython",
    "version": 3
   },
   "file_extension": ".py",
   "mimetype": "text/x-python",
   "name": "python",
   "nbconvert_exporter": "python",
   "pygments_lexer": "ipython3",
   "version": "3.7.3"
  }
 },
 "nbformat": 4,
 "nbformat_minor": 4
}
