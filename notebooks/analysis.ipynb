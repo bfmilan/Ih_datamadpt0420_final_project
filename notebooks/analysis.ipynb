{
 "cells": [
  {
   "cell_type": "markdown",
   "metadata": {},
   "source": [
    "# Data Analysis"
   ]
  },
  {
   "cell_type": "markdown",
   "metadata": {},
   "source": [
    "This notebook includes all actions to describe the data (i.e. key statistics, etc).<br>\n",
    "**Data**: CSV saved in '../data/raw/rawdata.csv. This file contains all updated tweets (old and new) as per 'acquisition module'"
   ]
  },
  {
   "cell_type": "markdown",
   "metadata": {},
   "source": [
    "**Key actions** \n",
    "<br> <hr>\n",
    "- Identify and remove duplicate records\n",
    "- Identify and remove Tweets done by user = BiciMAD \n",
    "- Examine data for potential issues\n",
    "- Identify and fill in missing values\n",
    "- *Remove low variance columns (potentially not needed)*\n",
    "- Identify potential outliers *(potentially not needed)*\n",
    "- Correct incorrect data types *(potentially only text variable)*\n",
    "- Remove special characters and clean categorical variables *(potentially only text variable)*\n",
    "<br>"
   ]
  },
  {
   "cell_type": "markdown",
   "metadata": {},
   "source": [
    "## 1. Read & clean data"
   ]
  },
  {
   "cell_type": "markdown",
   "metadata": {},
   "source": [
    "#### 1.1 Read data\n",
    "<hr>"
   ]
  },
  {
   "cell_type": "code",
   "execution_count": 44,
   "metadata": {},
   "outputs": [],
   "source": [
    "# all modules\n",
    "import pandas as pd\n",
    "# if packaches need upload \n",
    "# pip install --upgrade pip"
   ]
  },
  {
   "cell_type": "code",
   "execution_count": 45,
   "metadata": {},
   "outputs": [],
   "source": [
    "# load dataset\n",
    "data = pd.read_csv('../data/raw/rawdata.csv')"
   ]
  },
  {
   "cell_type": "code",
   "execution_count": 46,
   "metadata": {},
   "outputs": [],
   "source": [
    "# select required columns\n",
    "data = data.drop(columns =['Unnamed: 0'])"
   ]
  },
  {
   "cell_type": "code",
   "execution_count": 47,
   "metadata": {},
   "outputs": [
    {
     "data": {
      "text/plain": [
       "(8525, 4)"
      ]
     },
     "execution_count": 47,
     "metadata": {},
     "output_type": "execute_result"
    }
   ],
   "source": [
    "data.shape"
   ]
  },
  {
   "cell_type": "code",
   "execution_count": 48,
   "metadata": {},
   "outputs": [],
   "source": [
    "# data.dtypes"
   ]
  },
  {
   "cell_type": "code",
   "execution_count": 49,
   "metadata": {},
   "outputs": [],
   "source": [
    "# data.head(5)"
   ]
  },
  {
   "cell_type": "markdown",
   "metadata": {},
   "source": [
    "#### 1.2 Clean data\n",
    "<hr>"
   ]
  },
  {
   "cell_type": "code",
   "execution_count": 50,
   "metadata": {},
   "outputs": [],
   "source": [
    "# change date type from 'object' to 'date'\n",
    "data['date'] = pd.to_datetime(data['date'])"
   ]
  },
  {
   "cell_type": "code",
   "execution_count": 51,
   "metadata": {},
   "outputs": [],
   "source": [
    "# data.dtypes"
   ]
  },
  {
   "cell_type": "code",
   "execution_count": 52,
   "metadata": {},
   "outputs": [
    {
     "data": {
      "text/plain": [
       "date         0\n",
       "id           0\n",
       "text         0\n",
       "user_name    0\n",
       "dtype: int64"
      ]
     },
     "execution_count": 52,
     "metadata": {},
     "output_type": "execute_result"
    }
   ],
   "source": [
    "data.isnull().sum()"
   ]
  },
  {
   "cell_type": "code",
   "execution_count": 53,
   "metadata": {},
   "outputs": [
    {
     "data": {
      "text/plain": [
       "0"
      ]
     },
     "execution_count": 53,
     "metadata": {},
     "output_type": "execute_result"
    }
   ],
   "source": [
    "# count duplicates 'id' to be sure\n",
    "len(data['id'])-len(data['id'].drop_duplicates())"
   ]
  },
  {
   "cell_type": "code",
   "execution_count": 54,
   "metadata": {},
   "outputs": [
    {
     "data": {
      "text/plain": [
       "date         0\n",
       "id           0\n",
       "text         0\n",
       "user_name    0\n",
       "dtype: int64"
      ]
     },
     "execution_count": 54,
     "metadata": {},
     "output_type": "execute_result"
    }
   ],
   "source": [
    "data.isnull().sum()"
   ]
  },
  {
   "cell_type": "code",
   "execution_count": 55,
   "metadata": {},
   "outputs": [],
   "source": [
    "# data['id'].describe()"
   ]
  },
  {
   "cell_type": "code",
   "execution_count": 56,
   "metadata": {},
   "outputs": [],
   "source": [
    "# drop duplicates\n",
    "data.drop_duplicates(subset=['id'],keep='last', inplace= True)"
   ]
  },
  {
   "cell_type": "code",
   "execution_count": 57,
   "metadata": {},
   "outputs": [
    {
     "data": {
      "text/plain": [
       "(8525, 4)"
      ]
     },
     "execution_count": 57,
     "metadata": {},
     "output_type": "execute_result"
    }
   ],
   "source": [
    "data.shape"
   ]
  },
  {
   "cell_type": "markdown",
   "metadata": {},
   "source": [
    "#### 1.3 Take out BiciMad Tweets\n",
    "<hr>"
   ]
  },
  {
   "cell_type": "code",
   "execution_count": 58,
   "metadata": {},
   "outputs": [],
   "source": [
    "# data analysis => sorting\n",
    "data = data.sort_values('user_name', ascending=False)"
   ]
  },
  {
   "cell_type": "code",
   "execution_count": 59,
   "metadata": {},
   "outputs": [
    {
     "data": {
      "text/plain": [
       "BiciMAD                174\n",
       "ErBoteRojo             144\n",
       "BICIMAD EN LUCHA       141\n",
       "Jesús García Diaz      127\n",
       "Plataforma Sindical    116\n",
       "                      ... \n",
       "Nancy                    1\n",
       "Oscar Guzman             1\n",
       "Efectivamente y no       1\n",
       "Iván S. 🔻🌹☭              1\n",
       "Manuel Mos               1\n",
       "Name: user_name, Length: 3520, dtype: int64"
      ]
     },
     "execution_count": 59,
     "metadata": {},
     "output_type": "execute_result"
    }
   ],
   "source": [
    "data['user_name'].value_counts()"
   ]
  },
  {
   "cell_type": "code",
   "execution_count": 60,
   "metadata": {},
   "outputs": [],
   "source": [
    "data = data[data.user_name != 'BiciMAD']"
   ]
  },
  {
   "cell_type": "code",
   "execution_count": 61,
   "metadata": {},
   "outputs": [
    {
     "data": {
      "text/plain": [
       "Index(['date', 'id', 'text', 'user_name'], dtype='object')"
      ]
     },
     "execution_count": 61,
     "metadata": {},
     "output_type": "execute_result"
    }
   ],
   "source": [
    "data.columns"
   ]
  },
  {
   "cell_type": "markdown",
   "metadata": {},
   "source": [
    "## 2. Explore data"
   ]
  },
  {
   "cell_type": "markdown",
   "metadata": {},
   "source": [
    "#### 2.1 Sort values by 'date' and reset index\n",
    "<hr>"
   ]
  },
  {
   "cell_type": "code",
   "execution_count": 62,
   "metadata": {},
   "outputs": [],
   "source": [
    "data = data.sort_values(by ='date', ascending=True)"
   ]
  },
  {
   "cell_type": "code",
   "execution_count": 63,
   "metadata": {},
   "outputs": [],
   "source": [
    "data = data.reset_index()"
   ]
  },
  {
   "cell_type": "code",
   "execution_count": 64,
   "metadata": {},
   "outputs": [],
   "source": [
    "data = data.drop(columns =['index'])"
   ]
  },
  {
   "cell_type": "code",
   "execution_count": 65,
   "metadata": {},
   "outputs": [
    {
     "data": {
      "text/html": [
       "<div>\n",
       "<style scoped>\n",
       "    .dataframe tbody tr th:only-of-type {\n",
       "        vertical-align: middle;\n",
       "    }\n",
       "\n",
       "    .dataframe tbody tr th {\n",
       "        vertical-align: top;\n",
       "    }\n",
       "\n",
       "    .dataframe thead th {\n",
       "        text-align: right;\n",
       "    }\n",
       "</style>\n",
       "<table border=\"1\" class=\"dataframe\">\n",
       "  <thead>\n",
       "    <tr style=\"text-align: right;\">\n",
       "      <th></th>\n",
       "      <th>date</th>\n",
       "      <th>id</th>\n",
       "      <th>text</th>\n",
       "      <th>user_name</th>\n",
       "    </tr>\n",
       "  </thead>\n",
       "  <tbody>\n",
       "    <tr>\n",
       "      <th>8331</th>\n",
       "      <td>2020-10-22 11:28:42</td>\n",
       "      <td>1319239253012918273</td>\n",
       "      <td>RT @PlataformaEMT: Estación 98 de @BiciMAD 1 d...</td>\n",
       "      <td>andresamtb</td>\n",
       "    </tr>\n",
       "    <tr>\n",
       "      <th>8332</th>\n",
       "      <td>2020-10-22 11:33:28</td>\n",
       "      <td>1319240450746863617</td>\n",
       "      <td>RT @PlataformaEMT: Estación 98 de @BiciMAD 1 d...</td>\n",
       "      <td>jam</td>\n",
       "    </tr>\n",
       "    <tr>\n",
       "      <th>8333</th>\n",
       "      <td>2020-10-22 11:34:45</td>\n",
       "      <td>1319240774878461954</td>\n",
       "      <td>El cementerio de BiciMad https://t.co/g88Q2Eua...</td>\n",
       "      <td>The Neo Worker</td>\n",
       "    </tr>\n",
       "    <tr>\n",
       "      <th>8334</th>\n",
       "      <td>2020-10-22 11:35:51</td>\n",
       "      <td>1319241050494541824</td>\n",
       "      <td>RT @PlataformaEMT: Estación 98 de @BiciMAD 1 d...</td>\n",
       "      <td>Busero 20 🔻</td>\n",
       "    </tr>\n",
       "    <tr>\n",
       "      <th>8335</th>\n",
       "      <td>2020-10-22 11:38:26</td>\n",
       "      <td>1319241699462467584</td>\n",
       "      <td>RT @PlataformaEMT: Estación 98 de @BiciMAD 1 d...</td>\n",
       "      <td>j_medina</td>\n",
       "    </tr>\n",
       "    <tr>\n",
       "      <th>8336</th>\n",
       "      <td>2020-10-22 11:39:23</td>\n",
       "      <td>1319241941918298118</td>\n",
       "      <td>@PlataformaEMT @BiciMAD @AlmeidaPP_ @bcarabant...</td>\n",
       "      <td>ErBoteRojo</td>\n",
       "    </tr>\n",
       "    <tr>\n",
       "      <th>8337</th>\n",
       "      <td>2020-10-22 11:40:01</td>\n",
       "      <td>1319242100807000065</td>\n",
       "      <td>RT @PlataformaEMT: Estación 98 de @BiciMAD 1 d...</td>\n",
       "      <td>ErBoteRojo</td>\n",
       "    </tr>\n",
       "    <tr>\n",
       "      <th>8338</th>\n",
       "      <td>2020-10-22 11:40:59</td>\n",
       "      <td>1319242342797352960</td>\n",
       "      <td>RT @PlataformaEMT: Estación 98 de @BiciMAD 1 d...</td>\n",
       "      <td>Julio</td>\n",
       "    </tr>\n",
       "    <tr>\n",
       "      <th>8339</th>\n",
       "      <td>2020-10-22 11:44:45</td>\n",
       "      <td>1319243290705842178</td>\n",
       "      <td>RT @villalba1200: @PlataformaEMT @BiciMAD @bca...</td>\n",
       "      <td>Juan talavera</td>\n",
       "    </tr>\n",
       "    <tr>\n",
       "      <th>8340</th>\n",
       "      <td>2020-10-22 11:45:44</td>\n",
       "      <td>1319243537565814786</td>\n",
       "      <td>RT @Rita_Maestre: En el Centro de Operaciones ...</td>\n",
       "      <td>Alberto Martin Guio</td>\n",
       "    </tr>\n",
       "    <tr>\n",
       "      <th>8341</th>\n",
       "      <td>2020-10-22 11:46:17</td>\n",
       "      <td>1319243675667468289</td>\n",
       "      <td>RT @PlataformaEMT: Estación 98 de @BiciMAD 1 d...</td>\n",
       "      <td>Wolvie</td>\n",
       "    </tr>\n",
       "    <tr>\n",
       "      <th>8342</th>\n",
       "      <td>2020-10-22 11:49:18</td>\n",
       "      <td>1319244434257694721</td>\n",
       "      <td>RT @PlataformaEMT: Estación 98 de @BiciMAD 1 d...</td>\n",
       "      <td>Vampi48</td>\n",
       "    </tr>\n",
       "    <tr>\n",
       "      <th>8343</th>\n",
       "      <td>2020-10-22 11:51:04</td>\n",
       "      <td>1319244881303379969</td>\n",
       "      <td>RT @TheNeoWorker: El cementerio de BiciMad htt...</td>\n",
       "      <td>BICIMAD EN LUCHA</td>\n",
       "    </tr>\n",
       "    <tr>\n",
       "      <th>8344</th>\n",
       "      <td>2020-10-22 11:51:21</td>\n",
       "      <td>1319244951633326082</td>\n",
       "      <td>RT @Stielike_4: @MADRID @EMTmadrid @BiciMAD @b...</td>\n",
       "      <td>BICIMAD EN LUCHA</td>\n",
       "    </tr>\n",
       "    <tr>\n",
       "      <th>8345</th>\n",
       "      <td>2020-10-22 11:56:16</td>\n",
       "      <td>1319246187690643457</td>\n",
       "      <td>La gestión que está haciendo \\n@bcarabante de ...</td>\n",
       "      <td>Carajo</td>\n",
       "    </tr>\n",
       "    <tr>\n",
       "      <th>8346</th>\n",
       "      <td>2020-10-22 11:59:00</td>\n",
       "      <td>1319246876642840577</td>\n",
       "      <td>RT @dvlnosmz: Mientras Madrid sigue colapsada,...</td>\n",
       "      <td>🏳️‍🌈🇪🇸 (🛴DEJA EL COCHE EN CASA🚲)</td>\n",
       "    </tr>\n",
       "    <tr>\n",
       "      <th>8347</th>\n",
       "      <td>2020-10-22 11:59:48</td>\n",
       "      <td>1319247077705175040</td>\n",
       "      <td>RT @Rita_Maestre: En el Centro de Operaciones ...</td>\n",
       "      <td>🏳️‍🌈🇪🇸 (🛴DEJA EL COCHE EN CASA🚲)</td>\n",
       "    </tr>\n",
       "    <tr>\n",
       "      <th>8348</th>\n",
       "      <td>2020-10-22 12:00:15</td>\n",
       "      <td>1319247190204780544</td>\n",
       "      <td>RT @PlataformaEMT: Estación 98 de @BiciMAD 1 d...</td>\n",
       "      <td>Stielike</td>\n",
       "    </tr>\n",
       "    <tr>\n",
       "      <th>8349</th>\n",
       "      <td>2020-10-22 12:03:41</td>\n",
       "      <td>1319248055162621958</td>\n",
       "      <td>RT @cso191: #RT @MasmadridS: RT @MasMadrid__: ...</td>\n",
       "      <td>🏳️‍🌈🇪🇸 (🛴DEJA EL COCHE EN CASA🚲)</td>\n",
       "    </tr>\n",
       "    <tr>\n",
       "      <th>8350</th>\n",
       "      <td>2020-10-22 12:06:06</td>\n",
       "      <td>1319248662959181824</td>\n",
       "      <td>@bcarabante @ElydValle @ondamadrid @BiciMAD ¿A...</td>\n",
       "      <td>Stielike</td>\n",
       "    </tr>\n",
       "  </tbody>\n",
       "</table>\n",
       "</div>"
      ],
      "text/plain": [
       "                    date                   id  \\\n",
       "8331 2020-10-22 11:28:42  1319239253012918273   \n",
       "8332 2020-10-22 11:33:28  1319240450746863617   \n",
       "8333 2020-10-22 11:34:45  1319240774878461954   \n",
       "8334 2020-10-22 11:35:51  1319241050494541824   \n",
       "8335 2020-10-22 11:38:26  1319241699462467584   \n",
       "8336 2020-10-22 11:39:23  1319241941918298118   \n",
       "8337 2020-10-22 11:40:01  1319242100807000065   \n",
       "8338 2020-10-22 11:40:59  1319242342797352960   \n",
       "8339 2020-10-22 11:44:45  1319243290705842178   \n",
       "8340 2020-10-22 11:45:44  1319243537565814786   \n",
       "8341 2020-10-22 11:46:17  1319243675667468289   \n",
       "8342 2020-10-22 11:49:18  1319244434257694721   \n",
       "8343 2020-10-22 11:51:04  1319244881303379969   \n",
       "8344 2020-10-22 11:51:21  1319244951633326082   \n",
       "8345 2020-10-22 11:56:16  1319246187690643457   \n",
       "8346 2020-10-22 11:59:00  1319246876642840577   \n",
       "8347 2020-10-22 11:59:48  1319247077705175040   \n",
       "8348 2020-10-22 12:00:15  1319247190204780544   \n",
       "8349 2020-10-22 12:03:41  1319248055162621958   \n",
       "8350 2020-10-22 12:06:06  1319248662959181824   \n",
       "\n",
       "                                                   text  \\\n",
       "8331  RT @PlataformaEMT: Estación 98 de @BiciMAD 1 d...   \n",
       "8332  RT @PlataformaEMT: Estación 98 de @BiciMAD 1 d...   \n",
       "8333  El cementerio de BiciMad https://t.co/g88Q2Eua...   \n",
       "8334  RT @PlataformaEMT: Estación 98 de @BiciMAD 1 d...   \n",
       "8335  RT @PlataformaEMT: Estación 98 de @BiciMAD 1 d...   \n",
       "8336  @PlataformaEMT @BiciMAD @AlmeidaPP_ @bcarabant...   \n",
       "8337  RT @PlataformaEMT: Estación 98 de @BiciMAD 1 d...   \n",
       "8338  RT @PlataformaEMT: Estación 98 de @BiciMAD 1 d...   \n",
       "8339  RT @villalba1200: @PlataformaEMT @BiciMAD @bca...   \n",
       "8340  RT @Rita_Maestre: En el Centro de Operaciones ...   \n",
       "8341  RT @PlataformaEMT: Estación 98 de @BiciMAD 1 d...   \n",
       "8342  RT @PlataformaEMT: Estación 98 de @BiciMAD 1 d...   \n",
       "8343  RT @TheNeoWorker: El cementerio de BiciMad htt...   \n",
       "8344  RT @Stielike_4: @MADRID @EMTmadrid @BiciMAD @b...   \n",
       "8345  La gestión que está haciendo \\n@bcarabante de ...   \n",
       "8346  RT @dvlnosmz: Mientras Madrid sigue colapsada,...   \n",
       "8347  RT @Rita_Maestre: En el Centro de Operaciones ...   \n",
       "8348  RT @PlataformaEMT: Estación 98 de @BiciMAD 1 d...   \n",
       "8349  RT @cso191: #RT @MasmadridS: RT @MasMadrid__: ...   \n",
       "8350  @bcarabante @ElydValle @ondamadrid @BiciMAD ¿A...   \n",
       "\n",
       "                             user_name  \n",
       "8331                        andresamtb  \n",
       "8332                               jam  \n",
       "8333                    The Neo Worker  \n",
       "8334                       Busero 20 🔻  \n",
       "8335                          j_medina  \n",
       "8336                        ErBoteRojo  \n",
       "8337                        ErBoteRojo  \n",
       "8338                             Julio  \n",
       "8339                     Juan talavera  \n",
       "8340               Alberto Martin Guio  \n",
       "8341                            Wolvie  \n",
       "8342                           Vampi48  \n",
       "8343                  BICIMAD EN LUCHA  \n",
       "8344                  BICIMAD EN LUCHA  \n",
       "8345                            Carajo  \n",
       "8346  🏳️‍🌈🇪🇸 (🛴DEJA EL COCHE EN CASA🚲)  \n",
       "8347  🏳️‍🌈🇪🇸 (🛴DEJA EL COCHE EN CASA🚲)  \n",
       "8348                          Stielike  \n",
       "8349  🏳️‍🌈🇪🇸 (🛴DEJA EL COCHE EN CASA🚲)  \n",
       "8350                          Stielike  "
      ]
     },
     "execution_count": 65,
     "metadata": {},
     "output_type": "execute_result"
    }
   ],
   "source": [
    "data.tail(20)"
   ]
  },
  {
   "cell_type": "markdown",
   "metadata": {},
   "source": [
    "#### 2.2 Check most recent tweets from users\n",
    "<hr>"
   ]
  },
  {
   "cell_type": "code",
   "execution_count": 66,
   "metadata": {},
   "outputs": [],
   "source": [
    "# data.loc[data['user_name'] == 'Blanca Fernandez']"
   ]
  },
  {
   "cell_type": "code",
   "execution_count": 67,
   "metadata": {},
   "outputs": [],
   "source": [
    "# Sacar subsets\n",
    "# data_subset = data[data['user_name'].isin(['Blanca Fenrandez', 'BICIMAD EN LUCHA'])]"
   ]
  },
  {
   "cell_type": "code",
   "execution_count": 68,
   "metadata": {},
   "outputs": [],
   "source": [
    "# data_subset"
   ]
  },
  {
   "cell_type": "code",
   "execution_count": 69,
   "metadata": {},
   "outputs": [
    {
     "data": {
      "text/plain": [
       "Timestamp('2020-09-29 06:34:23')"
      ]
     },
     "execution_count": 69,
     "metadata": {},
     "output_type": "execute_result"
    }
   ],
   "source": [
    "# First tweet available date\n",
    "data['date'].min()"
   ]
  },
  {
   "cell_type": "code",
   "execution_count": 70,
   "metadata": {},
   "outputs": [
    {
     "data": {
      "text/plain": [
       "Timestamp('2020-10-22 12:06:06')"
      ]
     },
     "execution_count": 70,
     "metadata": {},
     "output_type": "execute_result"
    }
   ],
   "source": [
    "# Most recent tweet date\n",
    "data['date'].max()"
   ]
  },
  {
   "cell_type": "code",
   "execution_count": 71,
   "metadata": {},
   "outputs": [],
   "source": [
    "# saving data\n",
    "# data.to_csv('../data/processed/data.csv', index=False)"
   ]
  },
  {
   "cell_type": "markdown",
   "metadata": {},
   "source": [
    "## 3. Sentiment analysis"
   ]
  },
  {
   "cell_type": "markdown",
   "metadata": {},
   "source": [
    "#### 3.1 Prepare text\n",
    "<hr>"
   ]
  },
  {
   "cell_type": "code",
   "execution_count": 72,
   "metadata": {},
   "outputs": [],
   "source": [
    "import re"
   ]
  },
  {
   "cell_type": "markdown",
   "metadata": {},
   "source": [
    "##### Ver que hacer con las 'ñ'\n",
    "<hr>"
   ]
  },
  {
   "cell_type": "markdown",
   "metadata": {},
   "source": [
    "'''\n",
    "from unicodedata import normalize\n",
    "s = \"Pingüino: Málãgà ês uñ̺ã cíudãd fantástica y èn Logroño me pica el... moñǫ̝̘̦̞̟̩̐̏̋͌́ͬ̚͡õ̪͓͍̦̓ơ̤̺̬̯͂̌͐͐͟o͎͈̳̠̼̫͂̊\"\n",
    "NFD y eliminar diacríticos\n",
    "s = re.sub(\n",
    "        r\"([^n\\u0300-\\u036f]|n(?!\\u0303(?![\\u0300-\\u036f])))[\\u0300-\\u036f]+\", r\"\\1\", \n",
    "        normalize( \"NFD\", s), 0, re.I\n",
    "    )\n",
    "NFC\n",
    "s = normalize( 'NFC', s)\n",
    "print( s )\n",
    "'''"
   ]
  },
  {
   "cell_type": "markdown",
   "metadata": {},
   "source": [
    "def clean_tweet(tweet):\n",
    "    data['tweets_clean'] = re.sub(\n",
    "        r\"([^n\\u0300-\\u036f]|n(?!\\u0303(?![\\u0300-\\u036f])))[\\u0300-\\u036f]+\", r\"\\1\", \n",
    "        normalize( \"NFD\", data['tweets_clean']), 0, re.I\n",
    "    )\n",
    "    data['tweets_clean'] = normalize('NFC', data['tweets_clean'].text)\n",
    "    data['tweets_clean'] = ' '.join(re.sub(\"(@[A-Za-z0-9]+)|([^0-9A-Za-z \\t])|(\\w+:\\/\\/\\S+)\", \" \", tweet).split())\n",
    "    #return \" \".join(re.sub(\"([^0-9A-Za-z \\t])|(\\w+:\\/\\/\\S+)\", \"\", tweet).split())"
   ]
  },
  {
   "cell_type": "code",
   "execution_count": 73,
   "metadata": {},
   "outputs": [],
   "source": [
    "def clean_tweet(tweet):\n",
    "    return ' '.join(re.sub(\"(@[A-Za-z0-9]+)|([^0-9A-Za-z \\t])|(\\w+:\\/\\/\\S+)\", \" \", tweet).split())\n",
    "    #return \" \".join(re.sub(\"([^0-9A-Za-z \\t])|(\\w+:\\/\\/\\S+)\", \"\", tweet).split())"
   ]
  },
  {
   "cell_type": "code",
   "execution_count": 74,
   "metadata": {},
   "outputs": [],
   "source": [
    "# Updated the tweets_clean \n",
    "data['tweets_clean'] = data['text'].apply(clean_tweet) "
   ]
  },
  {
   "cell_type": "code",
   "execution_count": 75,
   "metadata": {},
   "outputs": [
    {
     "data": {
      "text/html": [
       "<div>\n",
       "<style scoped>\n",
       "    .dataframe tbody tr th:only-of-type {\n",
       "        vertical-align: middle;\n",
       "    }\n",
       "\n",
       "    .dataframe tbody tr th {\n",
       "        vertical-align: top;\n",
       "    }\n",
       "\n",
       "    .dataframe thead th {\n",
       "        text-align: right;\n",
       "    }\n",
       "</style>\n",
       "<table border=\"1\" class=\"dataframe\">\n",
       "  <thead>\n",
       "    <tr style=\"text-align: right;\">\n",
       "      <th></th>\n",
       "      <th>date</th>\n",
       "      <th>id</th>\n",
       "      <th>text</th>\n",
       "      <th>user_name</th>\n",
       "      <th>tweets_clean</th>\n",
       "    </tr>\n",
       "  </thead>\n",
       "  <tbody>\n",
       "    <tr>\n",
       "      <th>0</th>\n",
       "      <td>2020-09-29 06:34:23</td>\n",
       "      <td>1310830261450539009</td>\n",
       "      <td>RT @carnecrudaradio: Quiero felicitar al alcal...</td>\n",
       "      <td>alex vega</td>\n",
       "      <td>RT Quiero felicitar al alcalde por su exitosa ...</td>\n",
       "    </tr>\n",
       "    <tr>\n",
       "      <th>1</th>\n",
       "      <td>2020-09-29 07:01:33</td>\n",
       "      <td>1310837099189473280</td>\n",
       "      <td>Señores de @BiciMAD @MADRID las bicis están mu...</td>\n",
       "      <td>Neuroneater</td>\n",
       "      <td>Se ores de las bicis est n muy descuidadas lo ...</td>\n",
       "    </tr>\n",
       "    <tr>\n",
       "      <th>2</th>\n",
       "      <td>2020-09-29 07:43:50</td>\n",
       "      <td>1310847740386201600</td>\n",
       "      <td>@JMDLatina Espero de este distrito no solo que...</td>\n",
       "      <td>Andrés Pina</td>\n",
       "      <td>Espero de este distrito no solo que proteja el...</td>\n",
       "    </tr>\n",
       "    <tr>\n",
       "      <th>3</th>\n",
       "      <td>2020-09-29 07:53:20</td>\n",
       "      <td>1310850131344920576</td>\n",
       "      <td>RT @_AguilarM: @PlataformaEMT @BiciMAD @bcarab...</td>\n",
       "      <td>ElMaNDaLoRiaNo</td>\n",
       "      <td>RT AguilarM O la fecha de la ltima OPE para Av...</td>\n",
       "    </tr>\n",
       "    <tr>\n",
       "      <th>4</th>\n",
       "      <td>2020-09-29 08:05:56</td>\n",
       "      <td>1310853301810888704</td>\n",
       "      <td>La misma vergüenza de TODOS los días. Una esta...</td>\n",
       "      <td>Diego Azul</td>\n",
       "      <td>La misma verg enza de TODOS los d as Una estac...</td>\n",
       "    </tr>\n",
       "    <tr>\n",
       "      <th>...</th>\n",
       "      <td>...</td>\n",
       "      <td>...</td>\n",
       "      <td>...</td>\n",
       "      <td>...</td>\n",
       "      <td>...</td>\n",
       "    </tr>\n",
       "    <tr>\n",
       "      <th>8346</th>\n",
       "      <td>2020-10-22 11:59:00</td>\n",
       "      <td>1319246876642840577</td>\n",
       "      <td>RT @dvlnosmz: Mientras Madrid sigue colapsada,...</td>\n",
       "      <td>🏳️‍🌈🇪🇸 (🛴DEJA EL COCHE EN CASA🚲)</td>\n",
       "      <td>RT Mientras Madrid sigue colapsada sin rastrea...</td>\n",
       "    </tr>\n",
       "    <tr>\n",
       "      <th>8347</th>\n",
       "      <td>2020-10-22 11:59:48</td>\n",
       "      <td>1319247077705175040</td>\n",
       "      <td>RT @Rita_Maestre: En el Centro de Operaciones ...</td>\n",
       "      <td>🏳️‍🌈🇪🇸 (🛴DEJA EL COCHE EN CASA🚲)</td>\n",
       "      <td>RT Maestre En el Centro de Operaciones de EMT ...</td>\n",
       "    </tr>\n",
       "    <tr>\n",
       "      <th>8348</th>\n",
       "      <td>2020-10-22 12:00:15</td>\n",
       "      <td>1319247190204780544</td>\n",
       "      <td>RT @PlataformaEMT: Estación 98 de @BiciMAD 1 d...</td>\n",
       "      <td>Stielike</td>\n",
       "      <td>RT Estaci n 98 de 1 d a despu s Qu nos encontr...</td>\n",
       "    </tr>\n",
       "    <tr>\n",
       "      <th>8349</th>\n",
       "      <td>2020-10-22 12:03:41</td>\n",
       "      <td>1319248055162621958</td>\n",
       "      <td>RT @cso191: #RT @MasmadridS: RT @MasMadrid__: ...</td>\n",
       "      <td>🏳️‍🌈🇪🇸 (🛴DEJA EL COCHE EN CASA🚲)</td>\n",
       "      <td>RT RT RT Visitamos el Centro de Operaciones de...</td>\n",
       "    </tr>\n",
       "    <tr>\n",
       "      <th>8350</th>\n",
       "      <td>2020-10-22 12:06:06</td>\n",
       "      <td>1319248662959181824</td>\n",
       "      <td>@bcarabante @ElydValle @ondamadrid @BiciMAD ¿A...</td>\n",
       "      <td>Stielike</td>\n",
       "      <td>Ampliaci n de Bicimad o de su destrucci n</td>\n",
       "    </tr>\n",
       "  </tbody>\n",
       "</table>\n",
       "<p>8351 rows × 5 columns</p>\n",
       "</div>"
      ],
      "text/plain": [
       "                    date                   id  \\\n",
       "0    2020-09-29 06:34:23  1310830261450539009   \n",
       "1    2020-09-29 07:01:33  1310837099189473280   \n",
       "2    2020-09-29 07:43:50  1310847740386201600   \n",
       "3    2020-09-29 07:53:20  1310850131344920576   \n",
       "4    2020-09-29 08:05:56  1310853301810888704   \n",
       "...                  ...                  ...   \n",
       "8346 2020-10-22 11:59:00  1319246876642840577   \n",
       "8347 2020-10-22 11:59:48  1319247077705175040   \n",
       "8348 2020-10-22 12:00:15  1319247190204780544   \n",
       "8349 2020-10-22 12:03:41  1319248055162621958   \n",
       "8350 2020-10-22 12:06:06  1319248662959181824   \n",
       "\n",
       "                                                   text  \\\n",
       "0     RT @carnecrudaradio: Quiero felicitar al alcal...   \n",
       "1     Señores de @BiciMAD @MADRID las bicis están mu...   \n",
       "2     @JMDLatina Espero de este distrito no solo que...   \n",
       "3     RT @_AguilarM: @PlataformaEMT @BiciMAD @bcarab...   \n",
       "4     La misma vergüenza de TODOS los días. Una esta...   \n",
       "...                                                 ...   \n",
       "8346  RT @dvlnosmz: Mientras Madrid sigue colapsada,...   \n",
       "8347  RT @Rita_Maestre: En el Centro de Operaciones ...   \n",
       "8348  RT @PlataformaEMT: Estación 98 de @BiciMAD 1 d...   \n",
       "8349  RT @cso191: #RT @MasmadridS: RT @MasMadrid__: ...   \n",
       "8350  @bcarabante @ElydValle @ondamadrid @BiciMAD ¿A...   \n",
       "\n",
       "                             user_name  \\\n",
       "0                            alex vega   \n",
       "1                          Neuroneater   \n",
       "2                          Andrés Pina   \n",
       "3                       ElMaNDaLoRiaNo   \n",
       "4                           Diego Azul   \n",
       "...                                ...   \n",
       "8346  🏳️‍🌈🇪🇸 (🛴DEJA EL COCHE EN CASA🚲)   \n",
       "8347  🏳️‍🌈🇪🇸 (🛴DEJA EL COCHE EN CASA🚲)   \n",
       "8348                          Stielike   \n",
       "8349  🏳️‍🌈🇪🇸 (🛴DEJA EL COCHE EN CASA🚲)   \n",
       "8350                          Stielike   \n",
       "\n",
       "                                           tweets_clean  \n",
       "0     RT Quiero felicitar al alcalde por su exitosa ...  \n",
       "1     Se ores de las bicis est n muy descuidadas lo ...  \n",
       "2     Espero de este distrito no solo que proteja el...  \n",
       "3     RT AguilarM O la fecha de la ltima OPE para Av...  \n",
       "4     La misma verg enza de TODOS los d as Una estac...  \n",
       "...                                                 ...  \n",
       "8346  RT Mientras Madrid sigue colapsada sin rastrea...  \n",
       "8347  RT Maestre En el Centro de Operaciones de EMT ...  \n",
       "8348  RT Estaci n 98 de 1 d a despu s Qu nos encontr...  \n",
       "8349  RT RT RT Visitamos el Centro de Operaciones de...  \n",
       "8350          Ampliaci n de Bicimad o de su destrucci n  \n",
       "\n",
       "[8351 rows x 5 columns]"
      ]
     },
     "execution_count": 75,
     "metadata": {},
     "output_type": "execute_result"
    }
   ],
   "source": [
    "# Print the updated dataframe \n",
    "data"
   ]
  },
  {
   "cell_type": "code",
   "execution_count": 76,
   "metadata": {},
   "outputs": [
    {
     "name": "stderr",
     "output_type": "stream",
     "text": [
      "/Applications/anaconda3/envs/ironhack/lib/python3.7/site-packages/tensorflow/python/framework/dtypes.py:516: FutureWarning: Passing (type, 1) or '1type' as a synonym of type is deprecated; in a future version of numpy, it will be understood as (type, (1,)) / '(1,)type'.\n",
      "  _np_qint8 = np.dtype([(\"qint8\", np.int8, 1)])\n",
      "/Applications/anaconda3/envs/ironhack/lib/python3.7/site-packages/tensorflow/python/framework/dtypes.py:517: FutureWarning: Passing (type, 1) or '1type' as a synonym of type is deprecated; in a future version of numpy, it will be understood as (type, (1,)) / '(1,)type'.\n",
      "  _np_quint8 = np.dtype([(\"quint8\", np.uint8, 1)])\n",
      "/Applications/anaconda3/envs/ironhack/lib/python3.7/site-packages/tensorflow/python/framework/dtypes.py:518: FutureWarning: Passing (type, 1) or '1type' as a synonym of type is deprecated; in a future version of numpy, it will be understood as (type, (1,)) / '(1,)type'.\n",
      "  _np_qint16 = np.dtype([(\"qint16\", np.int16, 1)])\n",
      "/Applications/anaconda3/envs/ironhack/lib/python3.7/site-packages/tensorflow/python/framework/dtypes.py:519: FutureWarning: Passing (type, 1) or '1type' as a synonym of type is deprecated; in a future version of numpy, it will be understood as (type, (1,)) / '(1,)type'.\n",
      "  _np_quint16 = np.dtype([(\"quint16\", np.uint16, 1)])\n",
      "/Applications/anaconda3/envs/ironhack/lib/python3.7/site-packages/tensorflow/python/framework/dtypes.py:520: FutureWarning: Passing (type, 1) or '1type' as a synonym of type is deprecated; in a future version of numpy, it will be understood as (type, (1,)) / '(1,)type'.\n",
      "  _np_qint32 = np.dtype([(\"qint32\", np.int32, 1)])\n",
      "/Applications/anaconda3/envs/ironhack/lib/python3.7/site-packages/tensorflow/python/framework/dtypes.py:525: FutureWarning: Passing (type, 1) or '1type' as a synonym of type is deprecated; in a future version of numpy, it will be understood as (type, (1,)) / '(1,)type'.\n",
      "  np_resource = np.dtype([(\"resource\", np.ubyte, 1)])\n",
      "/Applications/anaconda3/envs/ironhack/lib/python3.7/site-packages/tensorboard/compat/tensorflow_stub/dtypes.py:541: FutureWarning: Passing (type, 1) or '1type' as a synonym of type is deprecated; in a future version of numpy, it will be understood as (type, (1,)) / '(1,)type'.\n",
      "  _np_qint8 = np.dtype([(\"qint8\", np.int8, 1)])\n",
      "/Applications/anaconda3/envs/ironhack/lib/python3.7/site-packages/tensorboard/compat/tensorflow_stub/dtypes.py:542: FutureWarning: Passing (type, 1) or '1type' as a synonym of type is deprecated; in a future version of numpy, it will be understood as (type, (1,)) / '(1,)type'.\n",
      "  _np_quint8 = np.dtype([(\"quint8\", np.uint8, 1)])\n",
      "/Applications/anaconda3/envs/ironhack/lib/python3.7/site-packages/tensorboard/compat/tensorflow_stub/dtypes.py:543: FutureWarning: Passing (type, 1) or '1type' as a synonym of type is deprecated; in a future version of numpy, it will be understood as (type, (1,)) / '(1,)type'.\n",
      "  _np_qint16 = np.dtype([(\"qint16\", np.int16, 1)])\n",
      "/Applications/anaconda3/envs/ironhack/lib/python3.7/site-packages/tensorboard/compat/tensorflow_stub/dtypes.py:544: FutureWarning: Passing (type, 1) or '1type' as a synonym of type is deprecated; in a future version of numpy, it will be understood as (type, (1,)) / '(1,)type'.\n",
      "  _np_quint16 = np.dtype([(\"quint16\", np.uint16, 1)])\n",
      "/Applications/anaconda3/envs/ironhack/lib/python3.7/site-packages/tensorboard/compat/tensorflow_stub/dtypes.py:545: FutureWarning: Passing (type, 1) or '1type' as a synonym of type is deprecated; in a future version of numpy, it will be understood as (type, (1,)) / '(1,)type'.\n",
      "  _np_qint32 = np.dtype([(\"qint32\", np.int32, 1)])\n",
      "/Applications/anaconda3/envs/ironhack/lib/python3.7/site-packages/tensorboard/compat/tensorflow_stub/dtypes.py:550: FutureWarning: Passing (type, 1) or '1type' as a synonym of type is deprecated; in a future version of numpy, it will be understood as (type, (1,)) / '(1,)type'.\n",
      "  np_resource = np.dtype([(\"resource\", np.ubyte, 1)])\n"
     ]
    }
   ],
   "source": [
    "from transformers import pipeline"
   ]
  },
  {
   "cell_type": "code",
   "execution_count": 77,
   "metadata": {},
   "outputs": [],
   "source": [
    "classifier = pipeline('sentiment-analysis')"
   ]
  },
  {
   "cell_type": "code",
   "execution_count": 78,
   "metadata": {},
   "outputs": [
    {
     "name": "stderr",
     "output_type": "stream",
     "text": [
      "Some weights of BertForMaskedLM were not initialized from the model checkpoint at dccuchile/bert-base-spanish-wwm-cased and are newly initialized: ['cls.predictions.decoder.bias']\n",
      "You should probably TRAIN this model on a down-stream task to be able to use it for predictions and inference.\n"
     ]
    }
   ],
   "source": [
    "from transformers import AutoTokenizer, AutoModelForMaskedLM\n",
    "tokenizer = AutoTokenizer.from_pretrained(\"dccuchile/bert-base-spanish-wwm-cased\")\n",
    "model = AutoModelForMaskedLM.from_pretrained(\"dccuchile/bert-base-spanish-wwm-cased\")"
   ]
  },
  {
   "cell_type": "code",
   "execution_count": 79,
   "metadata": {},
   "outputs": [],
   "source": [
    "def transform (x):\n",
    "    return classifier(x)\n",
    "# Apply transform function to all tweets \n",
    "data['sentiment']=data['tweets_clean'].apply(transform)"
   ]
  },
  {
   "cell_type": "code",
   "execution_count": null,
   "metadata": {},
   "outputs": [],
   "source": [
    "def tokenizer (x): \n",
    "    return tokenizer.tokenize(x)\n",
    "tokens = data['tweets_clean'].apply(tokenizer)"
   ]
  },
  {
   "cell_type": "code",
   "execution_count": 80,
   "metadata": {},
   "outputs": [],
   "source": [
    "data[\"score\"] = [data[\"sentiment\"][i][0]['score'] for i in range(data.shape[0])]"
   ]
  },
  {
   "cell_type": "code",
   "execution_count": 81,
   "metadata": {},
   "outputs": [],
   "source": [
    "data[\"label\"] = [data[\"sentiment\"][i][0]['label'] for i in range(data.shape[0])]"
   ]
  },
  {
   "cell_type": "code",
   "execution_count": 82,
   "metadata": {},
   "outputs": [
    {
     "data": {
      "text/html": [
       "<div>\n",
       "<style scoped>\n",
       "    .dataframe tbody tr th:only-of-type {\n",
       "        vertical-align: middle;\n",
       "    }\n",
       "\n",
       "    .dataframe tbody tr th {\n",
       "        vertical-align: top;\n",
       "    }\n",
       "\n",
       "    .dataframe thead th {\n",
       "        text-align: right;\n",
       "    }\n",
       "</style>\n",
       "<table border=\"1\" class=\"dataframe\">\n",
       "  <thead>\n",
       "    <tr style=\"text-align: right;\">\n",
       "      <th></th>\n",
       "      <th>date</th>\n",
       "      <th>id</th>\n",
       "      <th>text</th>\n",
       "      <th>user_name</th>\n",
       "      <th>tweets_clean</th>\n",
       "      <th>sentiment</th>\n",
       "      <th>score</th>\n",
       "      <th>label</th>\n",
       "    </tr>\n",
       "  </thead>\n",
       "  <tbody>\n",
       "    <tr>\n",
       "      <th>0</th>\n",
       "      <td>2020-09-29 06:34:23</td>\n",
       "      <td>1310830261450539009</td>\n",
       "      <td>RT @carnecrudaradio: Quiero felicitar al alcal...</td>\n",
       "      <td>alex vega</td>\n",
       "      <td>RT Quiero felicitar al alcalde por su exitosa ...</td>\n",
       "      <td>[{'label': 'NEGATIVE', 'score': 0.985985696315...</td>\n",
       "      <td>0.985986</td>\n",
       "      <td>NEGATIVE</td>\n",
       "    </tr>\n",
       "    <tr>\n",
       "      <th>1</th>\n",
       "      <td>2020-09-29 07:01:33</td>\n",
       "      <td>1310837099189473280</td>\n",
       "      <td>Señores de @BiciMAD @MADRID las bicis están mu...</td>\n",
       "      <td>Neuroneater</td>\n",
       "      <td>Se ores de las bicis est n muy descuidadas lo ...</td>\n",
       "      <td>[{'label': 'NEGATIVE', 'score': 0.981788218021...</td>\n",
       "      <td>0.981788</td>\n",
       "      <td>NEGATIVE</td>\n",
       "    </tr>\n",
       "    <tr>\n",
       "      <th>2</th>\n",
       "      <td>2020-09-29 07:43:50</td>\n",
       "      <td>1310847740386201600</td>\n",
       "      <td>@JMDLatina Espero de este distrito no solo que...</td>\n",
       "      <td>Andrés Pina</td>\n",
       "      <td>Espero de este distrito no solo que proteja el...</td>\n",
       "      <td>[{'label': 'NEGATIVE', 'score': 0.980981051921...</td>\n",
       "      <td>0.980981</td>\n",
       "      <td>NEGATIVE</td>\n",
       "    </tr>\n",
       "    <tr>\n",
       "      <th>3</th>\n",
       "      <td>2020-09-29 07:53:20</td>\n",
       "      <td>1310850131344920576</td>\n",
       "      <td>RT @_AguilarM: @PlataformaEMT @BiciMAD @bcarab...</td>\n",
       "      <td>ElMaNDaLoRiaNo</td>\n",
       "      <td>RT AguilarM O la fecha de la ltima OPE para Av...</td>\n",
       "      <td>[{'label': 'NEGATIVE', 'score': 0.983189225196...</td>\n",
       "      <td>0.983189</td>\n",
       "      <td>NEGATIVE</td>\n",
       "    </tr>\n",
       "    <tr>\n",
       "      <th>4</th>\n",
       "      <td>2020-09-29 08:05:56</td>\n",
       "      <td>1310853301810888704</td>\n",
       "      <td>La misma vergüenza de TODOS los días. Una esta...</td>\n",
       "      <td>Diego Azul</td>\n",
       "      <td>La misma verg enza de TODOS los d as Una estac...</td>\n",
       "      <td>[{'label': 'NEGATIVE', 'score': 0.994368195533...</td>\n",
       "      <td>0.994368</td>\n",
       "      <td>NEGATIVE</td>\n",
       "    </tr>\n",
       "  </tbody>\n",
       "</table>\n",
       "</div>"
      ],
      "text/plain": [
       "                 date                   id  \\\n",
       "0 2020-09-29 06:34:23  1310830261450539009   \n",
       "1 2020-09-29 07:01:33  1310837099189473280   \n",
       "2 2020-09-29 07:43:50  1310847740386201600   \n",
       "3 2020-09-29 07:53:20  1310850131344920576   \n",
       "4 2020-09-29 08:05:56  1310853301810888704   \n",
       "\n",
       "                                                text       user_name  \\\n",
       "0  RT @carnecrudaradio: Quiero felicitar al alcal...       alex vega   \n",
       "1  Señores de @BiciMAD @MADRID las bicis están mu...     Neuroneater   \n",
       "2  @JMDLatina Espero de este distrito no solo que...     Andrés Pina   \n",
       "3  RT @_AguilarM: @PlataformaEMT @BiciMAD @bcarab...  ElMaNDaLoRiaNo   \n",
       "4  La misma vergüenza de TODOS los días. Una esta...      Diego Azul   \n",
       "\n",
       "                                        tweets_clean  \\\n",
       "0  RT Quiero felicitar al alcalde por su exitosa ...   \n",
       "1  Se ores de las bicis est n muy descuidadas lo ...   \n",
       "2  Espero de este distrito no solo que proteja el...   \n",
       "3  RT AguilarM O la fecha de la ltima OPE para Av...   \n",
       "4  La misma verg enza de TODOS los d as Una estac...   \n",
       "\n",
       "                                           sentiment     score     label  \n",
       "0  [{'label': 'NEGATIVE', 'score': 0.985985696315...  0.985986  NEGATIVE  \n",
       "1  [{'label': 'NEGATIVE', 'score': 0.981788218021...  0.981788  NEGATIVE  \n",
       "2  [{'label': 'NEGATIVE', 'score': 0.980981051921...  0.980981  NEGATIVE  \n",
       "3  [{'label': 'NEGATIVE', 'score': 0.983189225196...  0.983189  NEGATIVE  \n",
       "4  [{'label': 'NEGATIVE', 'score': 0.994368195533...  0.994368  NEGATIVE  "
      ]
     },
     "execution_count": 82,
     "metadata": {},
     "output_type": "execute_result"
    }
   ],
   "source": [
    "data.head(5)"
   ]
  },
  {
   "cell_type": "code",
   "execution_count": 83,
   "metadata": {},
   "outputs": [
    {
     "data": {
      "text/plain": [
       "619"
      ]
     },
     "execution_count": 83,
     "metadata": {},
     "output_type": "execute_result"
    }
   ],
   "source": [
    "sum(data[\"label\"] == \"POSITIVE\")"
   ]
  },
  {
   "cell_type": "code",
   "execution_count": 84,
   "metadata": {},
   "outputs": [
    {
     "data": {
      "text/plain": [
       "7732"
      ]
     },
     "execution_count": 84,
     "metadata": {},
     "output_type": "execute_result"
    }
   ],
   "source": [
    "sum(data[\"label\"] == \"NEGATIVE\")"
   ]
  },
  {
   "cell_type": "code",
   "execution_count": 85,
   "metadata": {},
   "outputs": [
    {
     "data": {
      "text/plain": [
       "0.9246914345352196"
      ]
     },
     "execution_count": 85,
     "metadata": {},
     "output_type": "execute_result"
    }
   ],
   "source": [
    "data['score'].mean()"
   ]
  },
  {
   "cell_type": "code",
   "execution_count": 86,
   "metadata": {},
   "outputs": [],
   "source": [
    "score = data['score']"
   ]
  },
  {
   "cell_type": "code",
   "execution_count": 87,
   "metadata": {},
   "outputs": [
    {
     "data": {
      "text/plain": [
       "0.7399847657692067"
      ]
     },
     "execution_count": 87,
     "metadata": {},
     "output_type": "execute_result"
    }
   ],
   "source": [
    "# series (watch the index)\n",
    "positive = (data[\"label\"] == \"POSITIVE\")\n",
    "\n",
    "score[positive].mean()"
   ]
  },
  {
   "cell_type": "code",
   "execution_count": 88,
   "metadata": {},
   "outputs": [
    {
     "data": {
      "text/plain": [
       "0.9394784790212727"
      ]
     },
     "execution_count": 88,
     "metadata": {},
     "output_type": "execute_result"
    }
   ],
   "source": [
    "# series (watch the index)\n",
    "negative = (data[\"label\"] == \"NEGATIVE\")\n",
    "\n",
    "score[negative].mean()"
   ]
  },
  {
   "cell_type": "code",
   "execution_count": 106,
   "metadata": {},
   "outputs": [
    {
     "data": {
      "text/plain": [
       "'NEGATIVE'"
      ]
     },
     "execution_count": 106,
     "metadata": {},
     "output_type": "execute_result"
    }
   ],
   "source": [
    "data['label'].all()   # because one element is zero"
   ]
  },
  {
   "cell_type": "code",
   "execution_count": 107,
   "metadata": {},
   "outputs": [
    {
     "data": {
      "text/plain": [
       "'NEGATIVE'"
      ]
     },
     "execution_count": 107,
     "metadata": {},
     "output_type": "execute_result"
    }
   ],
   "source": [
    "data['label'].any()   # because one (or more) elements are non-zero"
   ]
  },
  {
   "cell_type": "code",
   "execution_count": 108,
   "metadata": {},
   "outputs": [
    {
     "data": {
      "text/plain": [
       "0       False\n",
       "1       False\n",
       "2       False\n",
       "3       False\n",
       "4       False\n",
       "        ...  \n",
       "8346    False\n",
       "8347     True\n",
       "8348    False\n",
       "8349    False\n",
       "8350    False\n",
       "Name: label, Length: 8351, dtype: bool"
      ]
     },
     "execution_count": 108,
     "metadata": {},
     "output_type": "execute_result"
    }
   ],
   "source": [
    "data.label == 'POSITIVE'"
   ]
  },
  {
   "cell_type": "code",
   "execution_count": 137,
   "metadata": {},
   "outputs": [],
   "source": [
    "data['label_coded'] = data['label'].apply(lambda x: 1 if x == 'POSITIVE' else -1)"
   ]
  },
  {
   "cell_type": "code",
   "execution_count": 138,
   "metadata": {},
   "outputs": [
    {
     "data": {
      "text/html": [
       "<div>\n",
       "<style scoped>\n",
       "    .dataframe tbody tr th:only-of-type {\n",
       "        vertical-align: middle;\n",
       "    }\n",
       "\n",
       "    .dataframe tbody tr th {\n",
       "        vertical-align: top;\n",
       "    }\n",
       "\n",
       "    .dataframe thead th {\n",
       "        text-align: right;\n",
       "    }\n",
       "</style>\n",
       "<table border=\"1\" class=\"dataframe\">\n",
       "  <thead>\n",
       "    <tr style=\"text-align: right;\">\n",
       "      <th></th>\n",
       "      <th>date</th>\n",
       "      <th>id</th>\n",
       "      <th>text</th>\n",
       "      <th>user_name</th>\n",
       "      <th>tweets_clean</th>\n",
       "      <th>sentiment</th>\n",
       "      <th>score</th>\n",
       "      <th>label</th>\n",
       "      <th>label_coded</th>\n",
       "      <th>score_coded</th>\n",
       "    </tr>\n",
       "  </thead>\n",
       "  <tbody>\n",
       "    <tr>\n",
       "      <th>0</th>\n",
       "      <td>2020-09-29 06:34:23</td>\n",
       "      <td>1310830261450539009</td>\n",
       "      <td>RT @carnecrudaradio: Quiero felicitar al alcal...</td>\n",
       "      <td>alex vega</td>\n",
       "      <td>RT Quiero felicitar al alcalde por su exitosa ...</td>\n",
       "      <td>[{'label': 'NEGATIVE', 'score': 0.985985696315...</td>\n",
       "      <td>0.985986</td>\n",
       "      <td>NEGATIVE</td>\n",
       "      <td>-1</td>\n",
       "      <td>0.985986</td>\n",
       "    </tr>\n",
       "    <tr>\n",
       "      <th>1</th>\n",
       "      <td>2020-09-29 07:01:33</td>\n",
       "      <td>1310837099189473280</td>\n",
       "      <td>Señores de @BiciMAD @MADRID las bicis están mu...</td>\n",
       "      <td>Neuroneater</td>\n",
       "      <td>Se ores de las bicis est n muy descuidadas lo ...</td>\n",
       "      <td>[{'label': 'NEGATIVE', 'score': 0.981788218021...</td>\n",
       "      <td>0.981788</td>\n",
       "      <td>NEGATIVE</td>\n",
       "      <td>-1</td>\n",
       "      <td>0.981788</td>\n",
       "    </tr>\n",
       "    <tr>\n",
       "      <th>2</th>\n",
       "      <td>2020-09-29 07:43:50</td>\n",
       "      <td>1310847740386201600</td>\n",
       "      <td>@JMDLatina Espero de este distrito no solo que...</td>\n",
       "      <td>Andrés Pina</td>\n",
       "      <td>Espero de este distrito no solo que proteja el...</td>\n",
       "      <td>[{'label': 'NEGATIVE', 'score': 0.980981051921...</td>\n",
       "      <td>0.980981</td>\n",
       "      <td>NEGATIVE</td>\n",
       "      <td>-1</td>\n",
       "      <td>0.980981</td>\n",
       "    </tr>\n",
       "    <tr>\n",
       "      <th>3</th>\n",
       "      <td>2020-09-29 07:53:20</td>\n",
       "      <td>1310850131344920576</td>\n",
       "      <td>RT @_AguilarM: @PlataformaEMT @BiciMAD @bcarab...</td>\n",
       "      <td>ElMaNDaLoRiaNo</td>\n",
       "      <td>RT AguilarM O la fecha de la ltima OPE para Av...</td>\n",
       "      <td>[{'label': 'NEGATIVE', 'score': 0.983189225196...</td>\n",
       "      <td>0.983189</td>\n",
       "      <td>NEGATIVE</td>\n",
       "      <td>-1</td>\n",
       "      <td>0.983189</td>\n",
       "    </tr>\n",
       "    <tr>\n",
       "      <th>4</th>\n",
       "      <td>2020-09-29 08:05:56</td>\n",
       "      <td>1310853301810888704</td>\n",
       "      <td>La misma vergüenza de TODOS los días. Una esta...</td>\n",
       "      <td>Diego Azul</td>\n",
       "      <td>La misma verg enza de TODOS los d as Una estac...</td>\n",
       "      <td>[{'label': 'NEGATIVE', 'score': 0.994368195533...</td>\n",
       "      <td>0.994368</td>\n",
       "      <td>NEGATIVE</td>\n",
       "      <td>-1</td>\n",
       "      <td>0.994368</td>\n",
       "    </tr>\n",
       "    <tr>\n",
       "      <th>...</th>\n",
       "      <td>...</td>\n",
       "      <td>...</td>\n",
       "      <td>...</td>\n",
       "      <td>...</td>\n",
       "      <td>...</td>\n",
       "      <td>...</td>\n",
       "      <td>...</td>\n",
       "      <td>...</td>\n",
       "      <td>...</td>\n",
       "      <td>...</td>\n",
       "    </tr>\n",
       "    <tr>\n",
       "      <th>8346</th>\n",
       "      <td>2020-10-22 11:59:00</td>\n",
       "      <td>1319246876642840577</td>\n",
       "      <td>RT @dvlnosmz: Mientras Madrid sigue colapsada,...</td>\n",
       "      <td>🏳️‍🌈🇪🇸 (🛴DEJA EL COCHE EN CASA🚲)</td>\n",
       "      <td>RT Mientras Madrid sigue colapsada sin rastrea...</td>\n",
       "      <td>[{'label': 'NEGATIVE', 'score': 0.814892470836...</td>\n",
       "      <td>0.814892</td>\n",
       "      <td>NEGATIVE</td>\n",
       "      <td>-1</td>\n",
       "      <td>0.814892</td>\n",
       "    </tr>\n",
       "    <tr>\n",
       "      <th>8347</th>\n",
       "      <td>2020-10-22 11:59:48</td>\n",
       "      <td>1319247077705175040</td>\n",
       "      <td>RT @Rita_Maestre: En el Centro de Operaciones ...</td>\n",
       "      <td>🏳️‍🌈🇪🇸 (🛴DEJA EL COCHE EN CASA🚲)</td>\n",
       "      <td>RT Maestre En el Centro de Operaciones de EMT ...</td>\n",
       "      <td>[{'label': 'POSITIVE', 'score': 0.661616325378...</td>\n",
       "      <td>0.661616</td>\n",
       "      <td>POSITIVE</td>\n",
       "      <td>1</td>\n",
       "      <td>0.661616</td>\n",
       "    </tr>\n",
       "    <tr>\n",
       "      <th>8348</th>\n",
       "      <td>2020-10-22 12:00:15</td>\n",
       "      <td>1319247190204780544</td>\n",
       "      <td>RT @PlataformaEMT: Estación 98 de @BiciMAD 1 d...</td>\n",
       "      <td>Stielike</td>\n",
       "      <td>RT Estaci n 98 de 1 d a despu s Qu nos encontr...</td>\n",
       "      <td>[{'label': 'NEGATIVE', 'score': 0.967031657695...</td>\n",
       "      <td>0.967032</td>\n",
       "      <td>NEGATIVE</td>\n",
       "      <td>-1</td>\n",
       "      <td>0.967032</td>\n",
       "    </tr>\n",
       "    <tr>\n",
       "      <th>8349</th>\n",
       "      <td>2020-10-22 12:03:41</td>\n",
       "      <td>1319248055162621958</td>\n",
       "      <td>RT @cso191: #RT @MasmadridS: RT @MasMadrid__: ...</td>\n",
       "      <td>🏳️‍🌈🇪🇸 (🛴DEJA EL COCHE EN CASA🚲)</td>\n",
       "      <td>RT RT RT Visitamos el Centro de Operaciones de...</td>\n",
       "      <td>[{'label': 'NEGATIVE', 'score': 0.553843438625...</td>\n",
       "      <td>0.553843</td>\n",
       "      <td>NEGATIVE</td>\n",
       "      <td>-1</td>\n",
       "      <td>0.553843</td>\n",
       "    </tr>\n",
       "    <tr>\n",
       "      <th>8350</th>\n",
       "      <td>2020-10-22 12:06:06</td>\n",
       "      <td>1319248662959181824</td>\n",
       "      <td>@bcarabante @ElydValle @ondamadrid @BiciMAD ¿A...</td>\n",
       "      <td>Stielike</td>\n",
       "      <td>Ampliaci n de Bicimad o de su destrucci n</td>\n",
       "      <td>[{'label': 'NEGATIVE', 'score': 0.977929353713...</td>\n",
       "      <td>0.977929</td>\n",
       "      <td>NEGATIVE</td>\n",
       "      <td>-1</td>\n",
       "      <td>0.977929</td>\n",
       "    </tr>\n",
       "  </tbody>\n",
       "</table>\n",
       "<p>8351 rows × 10 columns</p>\n",
       "</div>"
      ],
      "text/plain": [
       "                    date                   id  \\\n",
       "0    2020-09-29 06:34:23  1310830261450539009   \n",
       "1    2020-09-29 07:01:33  1310837099189473280   \n",
       "2    2020-09-29 07:43:50  1310847740386201600   \n",
       "3    2020-09-29 07:53:20  1310850131344920576   \n",
       "4    2020-09-29 08:05:56  1310853301810888704   \n",
       "...                  ...                  ...   \n",
       "8346 2020-10-22 11:59:00  1319246876642840577   \n",
       "8347 2020-10-22 11:59:48  1319247077705175040   \n",
       "8348 2020-10-22 12:00:15  1319247190204780544   \n",
       "8349 2020-10-22 12:03:41  1319248055162621958   \n",
       "8350 2020-10-22 12:06:06  1319248662959181824   \n",
       "\n",
       "                                                   text  \\\n",
       "0     RT @carnecrudaradio: Quiero felicitar al alcal...   \n",
       "1     Señores de @BiciMAD @MADRID las bicis están mu...   \n",
       "2     @JMDLatina Espero de este distrito no solo que...   \n",
       "3     RT @_AguilarM: @PlataformaEMT @BiciMAD @bcarab...   \n",
       "4     La misma vergüenza de TODOS los días. Una esta...   \n",
       "...                                                 ...   \n",
       "8346  RT @dvlnosmz: Mientras Madrid sigue colapsada,...   \n",
       "8347  RT @Rita_Maestre: En el Centro de Operaciones ...   \n",
       "8348  RT @PlataformaEMT: Estación 98 de @BiciMAD 1 d...   \n",
       "8349  RT @cso191: #RT @MasmadridS: RT @MasMadrid__: ...   \n",
       "8350  @bcarabante @ElydValle @ondamadrid @BiciMAD ¿A...   \n",
       "\n",
       "                             user_name  \\\n",
       "0                            alex vega   \n",
       "1                          Neuroneater   \n",
       "2                          Andrés Pina   \n",
       "3                       ElMaNDaLoRiaNo   \n",
       "4                           Diego Azul   \n",
       "...                                ...   \n",
       "8346  🏳️‍🌈🇪🇸 (🛴DEJA EL COCHE EN CASA🚲)   \n",
       "8347  🏳️‍🌈🇪🇸 (🛴DEJA EL COCHE EN CASA🚲)   \n",
       "8348                          Stielike   \n",
       "8349  🏳️‍🌈🇪🇸 (🛴DEJA EL COCHE EN CASA🚲)   \n",
       "8350                          Stielike   \n",
       "\n",
       "                                           tweets_clean  \\\n",
       "0     RT Quiero felicitar al alcalde por su exitosa ...   \n",
       "1     Se ores de las bicis est n muy descuidadas lo ...   \n",
       "2     Espero de este distrito no solo que proteja el...   \n",
       "3     RT AguilarM O la fecha de la ltima OPE para Av...   \n",
       "4     La misma verg enza de TODOS los d as Una estac...   \n",
       "...                                                 ...   \n",
       "8346  RT Mientras Madrid sigue colapsada sin rastrea...   \n",
       "8347  RT Maestre En el Centro de Operaciones de EMT ...   \n",
       "8348  RT Estaci n 98 de 1 d a despu s Qu nos encontr...   \n",
       "8349  RT RT RT Visitamos el Centro de Operaciones de...   \n",
       "8350          Ampliaci n de Bicimad o de su destrucci n   \n",
       "\n",
       "                                              sentiment     score     label  \\\n",
       "0     [{'label': 'NEGATIVE', 'score': 0.985985696315...  0.985986  NEGATIVE   \n",
       "1     [{'label': 'NEGATIVE', 'score': 0.981788218021...  0.981788  NEGATIVE   \n",
       "2     [{'label': 'NEGATIVE', 'score': 0.980981051921...  0.980981  NEGATIVE   \n",
       "3     [{'label': 'NEGATIVE', 'score': 0.983189225196...  0.983189  NEGATIVE   \n",
       "4     [{'label': 'NEGATIVE', 'score': 0.994368195533...  0.994368  NEGATIVE   \n",
       "...                                                 ...       ...       ...   \n",
       "8346  [{'label': 'NEGATIVE', 'score': 0.814892470836...  0.814892  NEGATIVE   \n",
       "8347  [{'label': 'POSITIVE', 'score': 0.661616325378...  0.661616  POSITIVE   \n",
       "8348  [{'label': 'NEGATIVE', 'score': 0.967031657695...  0.967032  NEGATIVE   \n",
       "8349  [{'label': 'NEGATIVE', 'score': 0.553843438625...  0.553843  NEGATIVE   \n",
       "8350  [{'label': 'NEGATIVE', 'score': 0.977929353713...  0.977929  NEGATIVE   \n",
       "\n",
       "      label_coded  score_coded  \n",
       "0              -1     0.985986  \n",
       "1              -1     0.981788  \n",
       "2              -1     0.980981  \n",
       "3              -1     0.983189  \n",
       "4              -1     0.994368  \n",
       "...           ...          ...  \n",
       "8346           -1     0.814892  \n",
       "8347            1     0.661616  \n",
       "8348           -1     0.967032  \n",
       "8349           -1     0.553843  \n",
       "8350           -1     0.977929  \n",
       "\n",
       "[8351 rows x 10 columns]"
      ]
     },
     "execution_count": 138,
     "metadata": {},
     "output_type": "execute_result"
    }
   ],
   "source": [
    "data"
   ]
  },
  {
   "cell_type": "code",
   "execution_count": 139,
   "metadata": {},
   "outputs": [],
   "source": [
    "data['score_coded'] = data['label_coded'] * data['score']"
   ]
  },
  {
   "cell_type": "code",
   "execution_count": 140,
   "metadata": {},
   "outputs": [
    {
     "data": {
      "text/html": [
       "<div>\n",
       "<style scoped>\n",
       "    .dataframe tbody tr th:only-of-type {\n",
       "        vertical-align: middle;\n",
       "    }\n",
       "\n",
       "    .dataframe tbody tr th {\n",
       "        vertical-align: top;\n",
       "    }\n",
       "\n",
       "    .dataframe thead th {\n",
       "        text-align: right;\n",
       "    }\n",
       "</style>\n",
       "<table border=\"1\" class=\"dataframe\">\n",
       "  <thead>\n",
       "    <tr style=\"text-align: right;\">\n",
       "      <th></th>\n",
       "      <th>date</th>\n",
       "      <th>id</th>\n",
       "      <th>text</th>\n",
       "      <th>user_name</th>\n",
       "      <th>tweets_clean</th>\n",
       "      <th>sentiment</th>\n",
       "      <th>score</th>\n",
       "      <th>label</th>\n",
       "      <th>label_coded</th>\n",
       "      <th>score_coded</th>\n",
       "    </tr>\n",
       "  </thead>\n",
       "  <tbody>\n",
       "    <tr>\n",
       "      <th>0</th>\n",
       "      <td>2020-09-29 06:34:23</td>\n",
       "      <td>1310830261450539009</td>\n",
       "      <td>RT @carnecrudaradio: Quiero felicitar al alcal...</td>\n",
       "      <td>alex vega</td>\n",
       "      <td>RT Quiero felicitar al alcalde por su exitosa ...</td>\n",
       "      <td>[{'label': 'NEGATIVE', 'score': 0.985985696315...</td>\n",
       "      <td>0.985986</td>\n",
       "      <td>NEGATIVE</td>\n",
       "      <td>-1</td>\n",
       "      <td>-0.985986</td>\n",
       "    </tr>\n",
       "    <tr>\n",
       "      <th>1</th>\n",
       "      <td>2020-09-29 07:01:33</td>\n",
       "      <td>1310837099189473280</td>\n",
       "      <td>Señores de @BiciMAD @MADRID las bicis están mu...</td>\n",
       "      <td>Neuroneater</td>\n",
       "      <td>Se ores de las bicis est n muy descuidadas lo ...</td>\n",
       "      <td>[{'label': 'NEGATIVE', 'score': 0.981788218021...</td>\n",
       "      <td>0.981788</td>\n",
       "      <td>NEGATIVE</td>\n",
       "      <td>-1</td>\n",
       "      <td>-0.981788</td>\n",
       "    </tr>\n",
       "    <tr>\n",
       "      <th>2</th>\n",
       "      <td>2020-09-29 07:43:50</td>\n",
       "      <td>1310847740386201600</td>\n",
       "      <td>@JMDLatina Espero de este distrito no solo que...</td>\n",
       "      <td>Andrés Pina</td>\n",
       "      <td>Espero de este distrito no solo que proteja el...</td>\n",
       "      <td>[{'label': 'NEGATIVE', 'score': 0.980981051921...</td>\n",
       "      <td>0.980981</td>\n",
       "      <td>NEGATIVE</td>\n",
       "      <td>-1</td>\n",
       "      <td>-0.980981</td>\n",
       "    </tr>\n",
       "    <tr>\n",
       "      <th>3</th>\n",
       "      <td>2020-09-29 07:53:20</td>\n",
       "      <td>1310850131344920576</td>\n",
       "      <td>RT @_AguilarM: @PlataformaEMT @BiciMAD @bcarab...</td>\n",
       "      <td>ElMaNDaLoRiaNo</td>\n",
       "      <td>RT AguilarM O la fecha de la ltima OPE para Av...</td>\n",
       "      <td>[{'label': 'NEGATIVE', 'score': 0.983189225196...</td>\n",
       "      <td>0.983189</td>\n",
       "      <td>NEGATIVE</td>\n",
       "      <td>-1</td>\n",
       "      <td>-0.983189</td>\n",
       "    </tr>\n",
       "    <tr>\n",
       "      <th>4</th>\n",
       "      <td>2020-09-29 08:05:56</td>\n",
       "      <td>1310853301810888704</td>\n",
       "      <td>La misma vergüenza de TODOS los días. Una esta...</td>\n",
       "      <td>Diego Azul</td>\n",
       "      <td>La misma verg enza de TODOS los d as Una estac...</td>\n",
       "      <td>[{'label': 'NEGATIVE', 'score': 0.994368195533...</td>\n",
       "      <td>0.994368</td>\n",
       "      <td>NEGATIVE</td>\n",
       "      <td>-1</td>\n",
       "      <td>-0.994368</td>\n",
       "    </tr>\n",
       "    <tr>\n",
       "      <th>...</th>\n",
       "      <td>...</td>\n",
       "      <td>...</td>\n",
       "      <td>...</td>\n",
       "      <td>...</td>\n",
       "      <td>...</td>\n",
       "      <td>...</td>\n",
       "      <td>...</td>\n",
       "      <td>...</td>\n",
       "      <td>...</td>\n",
       "      <td>...</td>\n",
       "    </tr>\n",
       "    <tr>\n",
       "      <th>8346</th>\n",
       "      <td>2020-10-22 11:59:00</td>\n",
       "      <td>1319246876642840577</td>\n",
       "      <td>RT @dvlnosmz: Mientras Madrid sigue colapsada,...</td>\n",
       "      <td>🏳️‍🌈🇪🇸 (🛴DEJA EL COCHE EN CASA🚲)</td>\n",
       "      <td>RT Mientras Madrid sigue colapsada sin rastrea...</td>\n",
       "      <td>[{'label': 'NEGATIVE', 'score': 0.814892470836...</td>\n",
       "      <td>0.814892</td>\n",
       "      <td>NEGATIVE</td>\n",
       "      <td>-1</td>\n",
       "      <td>-0.814892</td>\n",
       "    </tr>\n",
       "    <tr>\n",
       "      <th>8347</th>\n",
       "      <td>2020-10-22 11:59:48</td>\n",
       "      <td>1319247077705175040</td>\n",
       "      <td>RT @Rita_Maestre: En el Centro de Operaciones ...</td>\n",
       "      <td>🏳️‍🌈🇪🇸 (🛴DEJA EL COCHE EN CASA🚲)</td>\n",
       "      <td>RT Maestre En el Centro de Operaciones de EMT ...</td>\n",
       "      <td>[{'label': 'POSITIVE', 'score': 0.661616325378...</td>\n",
       "      <td>0.661616</td>\n",
       "      <td>POSITIVE</td>\n",
       "      <td>1</td>\n",
       "      <td>0.661616</td>\n",
       "    </tr>\n",
       "    <tr>\n",
       "      <th>8348</th>\n",
       "      <td>2020-10-22 12:00:15</td>\n",
       "      <td>1319247190204780544</td>\n",
       "      <td>RT @PlataformaEMT: Estación 98 de @BiciMAD 1 d...</td>\n",
       "      <td>Stielike</td>\n",
       "      <td>RT Estaci n 98 de 1 d a despu s Qu nos encontr...</td>\n",
       "      <td>[{'label': 'NEGATIVE', 'score': 0.967031657695...</td>\n",
       "      <td>0.967032</td>\n",
       "      <td>NEGATIVE</td>\n",
       "      <td>-1</td>\n",
       "      <td>-0.967032</td>\n",
       "    </tr>\n",
       "    <tr>\n",
       "      <th>8349</th>\n",
       "      <td>2020-10-22 12:03:41</td>\n",
       "      <td>1319248055162621958</td>\n",
       "      <td>RT @cso191: #RT @MasmadridS: RT @MasMadrid__: ...</td>\n",
       "      <td>🏳️‍🌈🇪🇸 (🛴DEJA EL COCHE EN CASA🚲)</td>\n",
       "      <td>RT RT RT Visitamos el Centro de Operaciones de...</td>\n",
       "      <td>[{'label': 'NEGATIVE', 'score': 0.553843438625...</td>\n",
       "      <td>0.553843</td>\n",
       "      <td>NEGATIVE</td>\n",
       "      <td>-1</td>\n",
       "      <td>-0.553843</td>\n",
       "    </tr>\n",
       "    <tr>\n",
       "      <th>8350</th>\n",
       "      <td>2020-10-22 12:06:06</td>\n",
       "      <td>1319248662959181824</td>\n",
       "      <td>@bcarabante @ElydValle @ondamadrid @BiciMAD ¿A...</td>\n",
       "      <td>Stielike</td>\n",
       "      <td>Ampliaci n de Bicimad o de su destrucci n</td>\n",
       "      <td>[{'label': 'NEGATIVE', 'score': 0.977929353713...</td>\n",
       "      <td>0.977929</td>\n",
       "      <td>NEGATIVE</td>\n",
       "      <td>-1</td>\n",
       "      <td>-0.977929</td>\n",
       "    </tr>\n",
       "  </tbody>\n",
       "</table>\n",
       "<p>8351 rows × 10 columns</p>\n",
       "</div>"
      ],
      "text/plain": [
       "                    date                   id  \\\n",
       "0    2020-09-29 06:34:23  1310830261450539009   \n",
       "1    2020-09-29 07:01:33  1310837099189473280   \n",
       "2    2020-09-29 07:43:50  1310847740386201600   \n",
       "3    2020-09-29 07:53:20  1310850131344920576   \n",
       "4    2020-09-29 08:05:56  1310853301810888704   \n",
       "...                  ...                  ...   \n",
       "8346 2020-10-22 11:59:00  1319246876642840577   \n",
       "8347 2020-10-22 11:59:48  1319247077705175040   \n",
       "8348 2020-10-22 12:00:15  1319247190204780544   \n",
       "8349 2020-10-22 12:03:41  1319248055162621958   \n",
       "8350 2020-10-22 12:06:06  1319248662959181824   \n",
       "\n",
       "                                                   text  \\\n",
       "0     RT @carnecrudaradio: Quiero felicitar al alcal...   \n",
       "1     Señores de @BiciMAD @MADRID las bicis están mu...   \n",
       "2     @JMDLatina Espero de este distrito no solo que...   \n",
       "3     RT @_AguilarM: @PlataformaEMT @BiciMAD @bcarab...   \n",
       "4     La misma vergüenza de TODOS los días. Una esta...   \n",
       "...                                                 ...   \n",
       "8346  RT @dvlnosmz: Mientras Madrid sigue colapsada,...   \n",
       "8347  RT @Rita_Maestre: En el Centro de Operaciones ...   \n",
       "8348  RT @PlataformaEMT: Estación 98 de @BiciMAD 1 d...   \n",
       "8349  RT @cso191: #RT @MasmadridS: RT @MasMadrid__: ...   \n",
       "8350  @bcarabante @ElydValle @ondamadrid @BiciMAD ¿A...   \n",
       "\n",
       "                             user_name  \\\n",
       "0                            alex vega   \n",
       "1                          Neuroneater   \n",
       "2                          Andrés Pina   \n",
       "3                       ElMaNDaLoRiaNo   \n",
       "4                           Diego Azul   \n",
       "...                                ...   \n",
       "8346  🏳️‍🌈🇪🇸 (🛴DEJA EL COCHE EN CASA🚲)   \n",
       "8347  🏳️‍🌈🇪🇸 (🛴DEJA EL COCHE EN CASA🚲)   \n",
       "8348                          Stielike   \n",
       "8349  🏳️‍🌈🇪🇸 (🛴DEJA EL COCHE EN CASA🚲)   \n",
       "8350                          Stielike   \n",
       "\n",
       "                                           tweets_clean  \\\n",
       "0     RT Quiero felicitar al alcalde por su exitosa ...   \n",
       "1     Se ores de las bicis est n muy descuidadas lo ...   \n",
       "2     Espero de este distrito no solo que proteja el...   \n",
       "3     RT AguilarM O la fecha de la ltima OPE para Av...   \n",
       "4     La misma verg enza de TODOS los d as Una estac...   \n",
       "...                                                 ...   \n",
       "8346  RT Mientras Madrid sigue colapsada sin rastrea...   \n",
       "8347  RT Maestre En el Centro de Operaciones de EMT ...   \n",
       "8348  RT Estaci n 98 de 1 d a despu s Qu nos encontr...   \n",
       "8349  RT RT RT Visitamos el Centro de Operaciones de...   \n",
       "8350          Ampliaci n de Bicimad o de su destrucci n   \n",
       "\n",
       "                                              sentiment     score     label  \\\n",
       "0     [{'label': 'NEGATIVE', 'score': 0.985985696315...  0.985986  NEGATIVE   \n",
       "1     [{'label': 'NEGATIVE', 'score': 0.981788218021...  0.981788  NEGATIVE   \n",
       "2     [{'label': 'NEGATIVE', 'score': 0.980981051921...  0.980981  NEGATIVE   \n",
       "3     [{'label': 'NEGATIVE', 'score': 0.983189225196...  0.983189  NEGATIVE   \n",
       "4     [{'label': 'NEGATIVE', 'score': 0.994368195533...  0.994368  NEGATIVE   \n",
       "...                                                 ...       ...       ...   \n",
       "8346  [{'label': 'NEGATIVE', 'score': 0.814892470836...  0.814892  NEGATIVE   \n",
       "8347  [{'label': 'POSITIVE', 'score': 0.661616325378...  0.661616  POSITIVE   \n",
       "8348  [{'label': 'NEGATIVE', 'score': 0.967031657695...  0.967032  NEGATIVE   \n",
       "8349  [{'label': 'NEGATIVE', 'score': 0.553843438625...  0.553843  NEGATIVE   \n",
       "8350  [{'label': 'NEGATIVE', 'score': 0.977929353713...  0.977929  NEGATIVE   \n",
       "\n",
       "      label_coded  score_coded  \n",
       "0              -1    -0.985986  \n",
       "1              -1    -0.981788  \n",
       "2              -1    -0.980981  \n",
       "3              -1    -0.983189  \n",
       "4              -1    -0.994368  \n",
       "...           ...          ...  \n",
       "8346           -1    -0.814892  \n",
       "8347            1     0.661616  \n",
       "8348           -1    -0.967032  \n",
       "8349           -1    -0.553843  \n",
       "8350           -1    -0.977929  \n",
       "\n",
       "[8351 rows x 10 columns]"
      ]
     },
     "execution_count": 140,
     "metadata": {},
     "output_type": "execute_result"
    }
   ],
   "source": [
    "data"
   ]
  },
  {
   "cell_type": "code",
   "execution_count": null,
   "metadata": {},
   "outputs": [],
   "source": [
    "data"
   ]
  },
  {
   "cell_type": "code",
   "execution_count": null,
   "metadata": {},
   "outputs": [],
   "source": []
  },
  {
   "cell_type": "code",
   "execution_count": null,
   "metadata": {},
   "outputs": [],
   "source": []
  },
  {
   "cell_type": "code",
   "execution_count": 89,
   "metadata": {},
   "outputs": [],
   "source": [
    "data.to_csv('../data/results/data_sentiment.csv', index=False)"
   ]
  },
  {
   "cell_type": "markdown",
   "metadata": {},
   "source": [
    "#### 3.3 Hypothesis testing\n",
    "<hr>"
   ]
  },
  {
   "cell_type": "markdown",
   "metadata": {},
   "source": [
    "##### 3.3.1 Separate tweets from today and before"
   ]
  },
  {
   "cell_type": "code",
   "execution_count": 90,
   "metadata": {},
   "outputs": [],
   "source": [
    "# getting today's Timestamp\n",
    "today = pd.Timestamp.today().floor('D')\n",
    "# .normalize() does the same thing"
   ]
  },
  {
   "cell_type": "code",
   "execution_count": 91,
   "metadata": {},
   "outputs": [
    {
     "data": {
      "text/plain": [
       "Timestamp('2020-10-22 00:00:00')"
      ]
     },
     "execution_count": 91,
     "metadata": {},
     "output_type": "execute_result"
    }
   ],
   "source": [
    "today"
   ]
  },
  {
   "cell_type": "code",
   "execution_count": 92,
   "metadata": {},
   "outputs": [],
   "source": [
    "data_today = data[(data['date'] > today )]"
   ]
  },
  {
   "cell_type": "code",
   "execution_count": 93,
   "metadata": {},
   "outputs": [],
   "source": [
    "data_past = data[(data['date'] < today )]"
   ]
  },
  {
   "cell_type": "code",
   "execution_count": 94,
   "metadata": {},
   "outputs": [
    {
     "data": {
      "text/plain": [
       "8064"
      ]
     },
     "execution_count": 94,
     "metadata": {},
     "output_type": "execute_result"
    }
   ],
   "source": [
    "data_past.shape[0]"
   ]
  },
  {
   "cell_type": "code",
   "execution_count": 95,
   "metadata": {},
   "outputs": [
    {
     "data": {
      "text/plain": [
       "287"
      ]
     },
     "execution_count": 95,
     "metadata": {},
     "output_type": "execute_result"
    }
   ],
   "source": [
    "data_today.shape[0]"
   ]
  },
  {
   "cell_type": "code",
   "execution_count": null,
   "metadata": {},
   "outputs": [],
   "source": []
  },
  {
   "cell_type": "markdown",
   "metadata": {},
   "source": [
    "##### 3.3.2 Code 'negative' and 'postive' with 0 and 1"
   ]
  },
  {
   "cell_type": "code",
   "execution_count": null,
   "metadata": {},
   "outputs": [],
   "source": []
  }
 ],
 "metadata": {
  "kernelspec": {
   "display_name": "Python [conda env:ironhack]",
   "language": "python",
   "name": "conda-env-ironhack-py"
  },
  "language_info": {
   "codemirror_mode": {
    "name": "ipython",
    "version": 3
   },
   "file_extension": ".py",
   "mimetype": "text/x-python",
   "name": "python",
   "nbconvert_exporter": "python",
   "pygments_lexer": "ipython3",
   "version": "3.7.3"
  }
 },
 "nbformat": 4,
 "nbformat_minor": 4
}
