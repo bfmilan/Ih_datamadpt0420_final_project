{
 "cells": [
  {
   "cell_type": "markdown",
   "metadata": {},
   "source": [
    "# Data Analysis"
   ]
  },
  {
   "cell_type": "markdown",
   "metadata": {},
   "source": [
    "This notebook includes all actions to describe the data (i.e. key statistics, etc).<br>\n",
    "**Data**: CSV saved in '../data/raw/rawdata.csv. This file contains all updated tweets (old and new) as per 'acquisition module'"
   ]
  },
  {
   "cell_type": "markdown",
   "metadata": {},
   "source": [
    "**Key actions** \n",
    "<br> <hr>\n",
    "- Identify and remove duplicate records\n",
    "- Identify and remove Tweets done by user = BiciMAD \n",
    "- Examine data for potential issues\n",
    "- Identify and fill in missing values\n",
    "- *Remove low variance columns (potentially not needed)*\n",
    "- Identify potential outliers *(potentially not needed)*\n",
    "- Correct incorrect data types *(potentially only text variable)*\n",
    "- Remove special characters and clean categorical variables *(potentially only text variable)*\n",
    "<br>"
   ]
  },
  {
   "cell_type": "markdown",
   "metadata": {},
   "source": [
    "## 1. Read & clean data"
   ]
  },
  {
   "cell_type": "markdown",
   "metadata": {},
   "source": [
    "#### 1.1 Read data\n",
    "<hr>"
   ]
  },
  {
   "cell_type": "code",
   "execution_count": 1,
   "metadata": {},
   "outputs": [],
   "source": [
    "# all modules\n",
    "import pandas as pd\n",
    "# if packaches need upload \n",
    "# pip install --upgrade pip"
   ]
  },
  {
   "cell_type": "code",
   "execution_count": 2,
   "metadata": {},
   "outputs": [],
   "source": [
    "# load dataset\n",
    "data = pd.read_csv('../data/raw/rawdata.csv')"
   ]
  },
  {
   "cell_type": "code",
   "execution_count": 3,
   "metadata": {},
   "outputs": [],
   "source": [
    "# select required columns\n",
    "data = data.drop(columns =['Unnamed: 0'])"
   ]
  },
  {
   "cell_type": "code",
   "execution_count": 4,
   "metadata": {},
   "outputs": [
    {
     "data": {
      "text/plain": [
       "(8109, 4)"
      ]
     },
     "execution_count": 4,
     "metadata": {},
     "output_type": "execute_result"
    }
   ],
   "source": [
    "data.shape"
   ]
  },
  {
   "cell_type": "code",
   "execution_count": 5,
   "metadata": {},
   "outputs": [
    {
     "data": {
      "text/plain": [
       "date         object\n",
       "id            int64\n",
       "text         object\n",
       "user_name    object\n",
       "dtype: object"
      ]
     },
     "execution_count": 5,
     "metadata": {},
     "output_type": "execute_result"
    }
   ],
   "source": [
    "data.dtypes"
   ]
  },
  {
   "cell_type": "code",
   "execution_count": 6,
   "metadata": {},
   "outputs": [
    {
     "data": {
      "text/html": [
       "<div>\n",
       "<style scoped>\n",
       "    .dataframe tbody tr th:only-of-type {\n",
       "        vertical-align: middle;\n",
       "    }\n",
       "\n",
       "    .dataframe tbody tr th {\n",
       "        vertical-align: top;\n",
       "    }\n",
       "\n",
       "    .dataframe thead th {\n",
       "        text-align: right;\n",
       "    }\n",
       "</style>\n",
       "<table border=\"1\" class=\"dataframe\">\n",
       "  <thead>\n",
       "    <tr style=\"text-align: right;\">\n",
       "      <th></th>\n",
       "      <th>date</th>\n",
       "      <th>id</th>\n",
       "      <th>text</th>\n",
       "      <th>user_name</th>\n",
       "    </tr>\n",
       "  </thead>\n",
       "  <tbody>\n",
       "    <tr>\n",
       "      <th>0</th>\n",
       "      <td>2020-10-10 11:07:26</td>\n",
       "      <td>1314885243531399169</td>\n",
       "      <td>@PlataformaEMT @FRAVM @BiciMAD @AlmeidaPP_ @bc...</td>\n",
       "      <td>VICENTE RODRIGUEZ MU</td>\n",
       "    </tr>\n",
       "    <tr>\n",
       "      <th>1</th>\n",
       "      <td>2020-10-10 10:38:11</td>\n",
       "      <td>1314877884067188736</td>\n",
       "      <td>@PlataformaEMT @MADRID @AlmeidaPP_ @bcarabante...</td>\n",
       "      <td>Stielike</td>\n",
       "    </tr>\n",
       "    <tr>\n",
       "      <th>2</th>\n",
       "      <td>2020-10-10 10:35:49</td>\n",
       "      <td>1314877290489184261</td>\n",
       "      <td>@mcascallares Ha podido tratarse de un fallo p...</td>\n",
       "      <td>BiciMAD</td>\n",
       "    </tr>\n",
       "    <tr>\n",
       "      <th>3</th>\n",
       "      <td>2020-10-10 10:35:14</td>\n",
       "      <td>1314877141658542083</td>\n",
       "      <td>@AnxoOroisPhoto Te pedimos disculpas, ha podid...</td>\n",
       "      <td>BiciMAD</td>\n",
       "    </tr>\n",
       "    <tr>\n",
       "      <th>4</th>\n",
       "      <td>2020-10-10 10:13:18</td>\n",
       "      <td>1314871622487212033</td>\n",
       "      <td>Hola @BiciMAD la app no funciona, llevo 1 hora...</td>\n",
       "      <td>AnxoOroisPhotography</td>\n",
       "    </tr>\n",
       "  </tbody>\n",
       "</table>\n",
       "</div>"
      ],
      "text/plain": [
       "                  date                   id  \\\n",
       "0  2020-10-10 11:07:26  1314885243531399169   \n",
       "1  2020-10-10 10:38:11  1314877884067188736   \n",
       "2  2020-10-10 10:35:49  1314877290489184261   \n",
       "3  2020-10-10 10:35:14  1314877141658542083   \n",
       "4  2020-10-10 10:13:18  1314871622487212033   \n",
       "\n",
       "                                                text             user_name  \n",
       "0  @PlataformaEMT @FRAVM @BiciMAD @AlmeidaPP_ @bc...  VICENTE RODRIGUEZ MU  \n",
       "1  @PlataformaEMT @MADRID @AlmeidaPP_ @bcarabante...              Stielike  \n",
       "2  @mcascallares Ha podido tratarse de un fallo p...               BiciMAD  \n",
       "3  @AnxoOroisPhoto Te pedimos disculpas, ha podid...               BiciMAD  \n",
       "4  Hola @BiciMAD la app no funciona, llevo 1 hora...  AnxoOroisPhotography  "
      ]
     },
     "execution_count": 6,
     "metadata": {},
     "output_type": "execute_result"
    }
   ],
   "source": [
    "data.head(5)"
   ]
  },
  {
   "cell_type": "markdown",
   "metadata": {},
   "source": [
    "#### 1.2 Clean data\n",
    "<hr>"
   ]
  },
  {
   "cell_type": "code",
   "execution_count": 7,
   "metadata": {},
   "outputs": [],
   "source": [
    "# change date type from 'object' to 'date'\n",
    "data['date'] = pd.to_datetime(data['date'])"
   ]
  },
  {
   "cell_type": "code",
   "execution_count": 8,
   "metadata": {},
   "outputs": [
    {
     "data": {
      "text/plain": [
       "date         datetime64[ns]\n",
       "id                    int64\n",
       "text                 object\n",
       "user_name            object\n",
       "dtype: object"
      ]
     },
     "execution_count": 8,
     "metadata": {},
     "output_type": "execute_result"
    }
   ],
   "source": [
    "data.dtypes"
   ]
  },
  {
   "cell_type": "code",
   "execution_count": 9,
   "metadata": {},
   "outputs": [
    {
     "data": {
      "text/plain": [
       "date         0\n",
       "id           0\n",
       "text         0\n",
       "user_name    0\n",
       "dtype: int64"
      ]
     },
     "execution_count": 9,
     "metadata": {},
     "output_type": "execute_result"
    }
   ],
   "source": [
    "data.isnull().sum()"
   ]
  },
  {
   "cell_type": "code",
   "execution_count": 10,
   "metadata": {},
   "outputs": [
    {
     "data": {
      "text/plain": [
       "0"
      ]
     },
     "execution_count": 10,
     "metadata": {},
     "output_type": "execute_result"
    }
   ],
   "source": [
    "# count duplicates 'id' to be sure\n",
    "len(data['id'])-len(data['id'].drop_duplicates())"
   ]
  },
  {
   "cell_type": "code",
   "execution_count": 11,
   "metadata": {},
   "outputs": [
    {
     "data": {
      "text/plain": [
       "date         0\n",
       "id           0\n",
       "text         0\n",
       "user_name    0\n",
       "dtype: int64"
      ]
     },
     "execution_count": 11,
     "metadata": {},
     "output_type": "execute_result"
    }
   ],
   "source": [
    "data.isnull().sum()"
   ]
  },
  {
   "cell_type": "code",
   "execution_count": 12,
   "metadata": {},
   "outputs": [
    {
     "data": {
      "text/plain": [
       "count    8.109000e+03\n",
       "mean     1.315903e+18\n",
       "std      2.516499e+15\n",
       "min      1.310830e+18\n",
       "25%      1.313579e+18\n",
       "50%      1.316399e+18\n",
       "75%      1.318196e+18\n",
       "max      1.318995e+18\n",
       "Name: id, dtype: float64"
      ]
     },
     "execution_count": 12,
     "metadata": {},
     "output_type": "execute_result"
    }
   ],
   "source": [
    "data['id'].describe()"
   ]
  },
  {
   "cell_type": "code",
   "execution_count": 13,
   "metadata": {},
   "outputs": [],
   "source": [
    "# drop duplicates\n",
    "data.drop_duplicates(subset=['id'],keep='last', inplace= True)"
   ]
  },
  {
   "cell_type": "code",
   "execution_count": 14,
   "metadata": {},
   "outputs": [
    {
     "data": {
      "text/plain": [
       "(8109, 4)"
      ]
     },
     "execution_count": 14,
     "metadata": {},
     "output_type": "execute_result"
    }
   ],
   "source": [
    "data.shape"
   ]
  },
  {
   "cell_type": "markdown",
   "metadata": {},
   "source": [
    "#### 1.3 Take out BiciMad Tweets\n",
    "<hr>"
   ]
  },
  {
   "cell_type": "code",
   "execution_count": 15,
   "metadata": {},
   "outputs": [],
   "source": [
    "# data analysis => sorting\n",
    "data = data.sort_values('user_name', ascending=False)"
   ]
  },
  {
   "cell_type": "code",
   "execution_count": 16,
   "metadata": {},
   "outputs": [
    {
     "data": {
      "text/plain": [
       "BiciMAD                 171\n",
       "ErBoteRojo              134\n",
       "Jesús García Diaz       120\n",
       "Plataforma Sindical     109\n",
       "Julio                    96\n",
       "                       ... \n",
       "Llámame como quieras      1\n",
       "hola                      1\n",
       "jmgm                      1\n",
       "Chebastos                 1\n",
       "incondicional             1\n",
       "Name: user_name, Length: 3392, dtype: int64"
      ]
     },
     "execution_count": 16,
     "metadata": {},
     "output_type": "execute_result"
    }
   ],
   "source": [
    "data['user_name'].value_counts()"
   ]
  },
  {
   "cell_type": "code",
   "execution_count": 17,
   "metadata": {},
   "outputs": [],
   "source": [
    "data = data[data.user_name != 'BiciMAD']"
   ]
  },
  {
   "cell_type": "code",
   "execution_count": 18,
   "metadata": {},
   "outputs": [
    {
     "data": {
      "text/plain": [
       "Index(['date', 'id', 'text', 'user_name'], dtype='object')"
      ]
     },
     "execution_count": 18,
     "metadata": {},
     "output_type": "execute_result"
    }
   ],
   "source": [
    "data.columns"
   ]
  },
  {
   "cell_type": "markdown",
   "metadata": {},
   "source": [
    "## 2. Explore data"
   ]
  },
  {
   "cell_type": "markdown",
   "metadata": {},
   "source": [
    "#### 2.1 Sort values by 'date' and reset index\n",
    "<hr>"
   ]
  },
  {
   "cell_type": "code",
   "execution_count": 19,
   "metadata": {},
   "outputs": [],
   "source": [
    "data = data.sort_values(by ='date', ascending=True)"
   ]
  },
  {
   "cell_type": "code",
   "execution_count": 20,
   "metadata": {},
   "outputs": [],
   "source": [
    "data = data.reset_index()"
   ]
  },
  {
   "cell_type": "code",
   "execution_count": 21,
   "metadata": {},
   "outputs": [],
   "source": [
    "data = data.drop(columns =['index'])"
   ]
  },
  {
   "cell_type": "code",
   "execution_count": 22,
   "metadata": {},
   "outputs": [
    {
     "data": {
      "text/html": [
       "<div>\n",
       "<style scoped>\n",
       "    .dataframe tbody tr th:only-of-type {\n",
       "        vertical-align: middle;\n",
       "    }\n",
       "\n",
       "    .dataframe tbody tr th {\n",
       "        vertical-align: top;\n",
       "    }\n",
       "\n",
       "    .dataframe thead th {\n",
       "        text-align: right;\n",
       "    }\n",
       "</style>\n",
       "<table border=\"1\" class=\"dataframe\">\n",
       "  <thead>\n",
       "    <tr style=\"text-align: right;\">\n",
       "      <th></th>\n",
       "      <th>date</th>\n",
       "      <th>id</th>\n",
       "      <th>text</th>\n",
       "      <th>user_name</th>\n",
       "    </tr>\n",
       "  </thead>\n",
       "  <tbody>\n",
       "    <tr>\n",
       "      <th>7918</th>\n",
       "      <td>2020-10-21 18:36:49</td>\n",
       "      <td>1318984603177279490</td>\n",
       "      <td>RT @rojobote: @Canito_80 @bcarabante @ParkingK...</td>\n",
       "      <td>Trotamundos</td>\n",
       "    </tr>\n",
       "    <tr>\n",
       "      <th>7919</th>\n",
       "      <td>2020-10-21 18:37:04</td>\n",
       "      <td>1318984665701732353</td>\n",
       "      <td>RT @Esther_Gomez_M: Hoy hemos visitado la coch...</td>\n",
       "      <td>Angel Callejo Muñoz</td>\n",
       "    </tr>\n",
       "    <tr>\n",
       "      <th>7920</th>\n",
       "      <td>2020-10-21 18:37:20</td>\n",
       "      <td>1318984731913015296</td>\n",
       "      <td>RT @MasCarabanchel: ☹️ Abandonadas! Así están ...</td>\n",
       "      <td>Nora</td>\n",
       "    </tr>\n",
       "    <tr>\n",
       "      <th>7921</th>\n",
       "      <td>2020-10-21 18:38:03</td>\n",
       "      <td>1318984912544858112</td>\n",
       "      <td>RT @MasCarabanchel: ☹️ Abandonadas! Así están ...</td>\n",
       "      <td>Señor de la cebolla✌🏼🇪🇸✌🏼</td>\n",
       "    </tr>\n",
       "    <tr>\n",
       "      <th>7922</th>\n",
       "      <td>2020-10-21 18:38:17</td>\n",
       "      <td>1318984971416182784</td>\n",
       "      <td>RT @MasCarabanchel: ☹️ Abandonadas! Así están ...</td>\n",
       "      <td>@DESIERTA64 ✌🏻✌🏻🇪🇦</td>\n",
       "    </tr>\n",
       "    <tr>\n",
       "      <th>7923</th>\n",
       "      <td>2020-10-21 18:39:26</td>\n",
       "      <td>1318985263306113030</td>\n",
       "      <td>RT @CeciliaGessa: Que verguenzaaaa @BiciMAD !!...</td>\n",
       "      <td>Bruno</td>\n",
       "    </tr>\n",
       "    <tr>\n",
       "      <th>7924</th>\n",
       "      <td>2020-10-21 18:41:05</td>\n",
       "      <td>1318985675358818304</td>\n",
       "      <td>RT @MasCarabanchel: ☹️ Abandonadas! Así están ...</td>\n",
       "      <td>Pablo Sastre Olmos</td>\n",
       "    </tr>\n",
       "    <tr>\n",
       "      <th>7925</th>\n",
       "      <td>2020-10-21 18:44:50</td>\n",
       "      <td>1318986621560233984</td>\n",
       "      <td>RT @ElSaltoDiario: La Plataforma Sindical, sin...</td>\n",
       "      <td>Jesús García Diaz</td>\n",
       "    </tr>\n",
       "    <tr>\n",
       "      <th>7926</th>\n",
       "      <td>2020-10-21 18:47:34</td>\n",
       "      <td>1318987308113289216</td>\n",
       "      <td>RT @MasCarabanchel: ☹️ Abandonadas! Así están ...</td>\n",
       "      <td>José Luis Nieto Bueno</td>\n",
       "    </tr>\n",
       "    <tr>\n",
       "      <th>7927</th>\n",
       "      <td>2020-10-21 18:53:26</td>\n",
       "      <td>1318988784067878912</td>\n",
       "      <td>RT @MasCarabanchel: ☹️ Abandonadas! Así están ...</td>\n",
       "      <td>Más Madrid Vicálvaro</td>\n",
       "    </tr>\n",
       "    <tr>\n",
       "      <th>7928</th>\n",
       "      <td>2020-10-21 18:54:44</td>\n",
       "      <td>1318989110590296064</td>\n",
       "      <td>RT @Canito_80: @bcarabante @ParkingKlaus Vaya ...</td>\n",
       "      <td>Vania</td>\n",
       "    </tr>\n",
       "    <tr>\n",
       "      <th>7929</th>\n",
       "      <td>2020-10-21 18:57:20</td>\n",
       "      <td>1318989767988699139</td>\n",
       "      <td>RT @Rita_Maestre: En el Centro de Operaciones ...</td>\n",
       "      <td>tiagor</td>\n",
       "    </tr>\n",
       "    <tr>\n",
       "      <th>7930</th>\n",
       "      <td>2020-10-21 19:02:54</td>\n",
       "      <td>1318991168198369280</td>\n",
       "      <td>RT @Rita_Maestre: En el Centro de Operaciones ...</td>\n",
       "      <td>Alberto Argudo Diaz</td>\n",
       "    </tr>\n",
       "    <tr>\n",
       "      <th>7931</th>\n",
       "      <td>2020-10-21 19:05:12</td>\n",
       "      <td>1318991745229737989</td>\n",
       "      <td>RT @Rita_Maestre: En el Centro de Operaciones ...</td>\n",
       "      <td>Von Bernardo</td>\n",
       "    </tr>\n",
       "    <tr>\n",
       "      <th>7932</th>\n",
       "      <td>2020-10-21 19:09:05</td>\n",
       "      <td>1318992722842320899</td>\n",
       "      <td>RT @ElSaltoDiario: La puesta en marcha de Bici...</td>\n",
       "      <td>armenor@gmail.com</td>\n",
       "    </tr>\n",
       "    <tr>\n",
       "      <th>7933</th>\n",
       "      <td>2020-10-21 19:12:54</td>\n",
       "      <td>1318993683304337409</td>\n",
       "      <td>RT @MasCarabanchel: ☹️ Abandonadas! Así están ...</td>\n",
       "      <td>lluna vermella</td>\n",
       "    </tr>\n",
       "    <tr>\n",
       "      <th>7934</th>\n",
       "      <td>2020-10-21 19:14:06</td>\n",
       "      <td>1318993986976178176</td>\n",
       "      <td>RT @CeciliaGessa: Que verguenzaaaa @BiciMAD !!...</td>\n",
       "      <td>Diego Azul</td>\n",
       "    </tr>\n",
       "    <tr>\n",
       "      <th>7935</th>\n",
       "      <td>2020-10-21 19:14:45</td>\n",
       "      <td>1318994147085291520</td>\n",
       "      <td>RT @MasCarabanchel: ☹️ Abandonadas! Así están ...</td>\n",
       "      <td>Arturo Prades</td>\n",
       "    </tr>\n",
       "    <tr>\n",
       "      <th>7936</th>\n",
       "      <td>2020-10-21 19:16:26</td>\n",
       "      <td>1318994571485974529</td>\n",
       "      <td>RT @Rita_Maestre: En el Centro de Operaciones ...</td>\n",
       "      <td>Alejandro Sanchez</td>\n",
       "    </tr>\n",
       "    <tr>\n",
       "      <th>7937</th>\n",
       "      <td>2020-10-21 19:19:05</td>\n",
       "      <td>1318995237730209798</td>\n",
       "      <td>RT @Rita_Maestre: En el Centro de Operaciones ...</td>\n",
       "      <td>juan</td>\n",
       "    </tr>\n",
       "  </tbody>\n",
       "</table>\n",
       "</div>"
      ],
      "text/plain": [
       "                    date                   id  \\\n",
       "7918 2020-10-21 18:36:49  1318984603177279490   \n",
       "7919 2020-10-21 18:37:04  1318984665701732353   \n",
       "7920 2020-10-21 18:37:20  1318984731913015296   \n",
       "7921 2020-10-21 18:38:03  1318984912544858112   \n",
       "7922 2020-10-21 18:38:17  1318984971416182784   \n",
       "7923 2020-10-21 18:39:26  1318985263306113030   \n",
       "7924 2020-10-21 18:41:05  1318985675358818304   \n",
       "7925 2020-10-21 18:44:50  1318986621560233984   \n",
       "7926 2020-10-21 18:47:34  1318987308113289216   \n",
       "7927 2020-10-21 18:53:26  1318988784067878912   \n",
       "7928 2020-10-21 18:54:44  1318989110590296064   \n",
       "7929 2020-10-21 18:57:20  1318989767988699139   \n",
       "7930 2020-10-21 19:02:54  1318991168198369280   \n",
       "7931 2020-10-21 19:05:12  1318991745229737989   \n",
       "7932 2020-10-21 19:09:05  1318992722842320899   \n",
       "7933 2020-10-21 19:12:54  1318993683304337409   \n",
       "7934 2020-10-21 19:14:06  1318993986976178176   \n",
       "7935 2020-10-21 19:14:45  1318994147085291520   \n",
       "7936 2020-10-21 19:16:26  1318994571485974529   \n",
       "7937 2020-10-21 19:19:05  1318995237730209798   \n",
       "\n",
       "                                                   text  \\\n",
       "7918  RT @rojobote: @Canito_80 @bcarabante @ParkingK...   \n",
       "7919  RT @Esther_Gomez_M: Hoy hemos visitado la coch...   \n",
       "7920  RT @MasCarabanchel: ☹️ Abandonadas! Así están ...   \n",
       "7921  RT @MasCarabanchel: ☹️ Abandonadas! Así están ...   \n",
       "7922  RT @MasCarabanchel: ☹️ Abandonadas! Así están ...   \n",
       "7923  RT @CeciliaGessa: Que verguenzaaaa @BiciMAD !!...   \n",
       "7924  RT @MasCarabanchel: ☹️ Abandonadas! Así están ...   \n",
       "7925  RT @ElSaltoDiario: La Plataforma Sindical, sin...   \n",
       "7926  RT @MasCarabanchel: ☹️ Abandonadas! Así están ...   \n",
       "7927  RT @MasCarabanchel: ☹️ Abandonadas! Así están ...   \n",
       "7928  RT @Canito_80: @bcarabante @ParkingKlaus Vaya ...   \n",
       "7929  RT @Rita_Maestre: En el Centro de Operaciones ...   \n",
       "7930  RT @Rita_Maestre: En el Centro de Operaciones ...   \n",
       "7931  RT @Rita_Maestre: En el Centro de Operaciones ...   \n",
       "7932  RT @ElSaltoDiario: La puesta en marcha de Bici...   \n",
       "7933  RT @MasCarabanchel: ☹️ Abandonadas! Así están ...   \n",
       "7934  RT @CeciliaGessa: Que verguenzaaaa @BiciMAD !!...   \n",
       "7935  RT @MasCarabanchel: ☹️ Abandonadas! Así están ...   \n",
       "7936  RT @Rita_Maestre: En el Centro de Operaciones ...   \n",
       "7937  RT @Rita_Maestre: En el Centro de Operaciones ...   \n",
       "\n",
       "                      user_name  \n",
       "7918                Trotamundos  \n",
       "7919        Angel Callejo Muñoz  \n",
       "7920                       Nora  \n",
       "7921  Señor de la cebolla✌🏼🇪🇸✌🏼  \n",
       "7922         @DESIERTA64 ✌🏻✌🏻🇪🇦  \n",
       "7923                      Bruno  \n",
       "7924         Pablo Sastre Olmos  \n",
       "7925          Jesús García Diaz  \n",
       "7926      José Luis Nieto Bueno  \n",
       "7927       Más Madrid Vicálvaro  \n",
       "7928                      Vania  \n",
       "7929                     tiagor  \n",
       "7930        Alberto Argudo Diaz  \n",
       "7931               Von Bernardo  \n",
       "7932          armenor@gmail.com  \n",
       "7933             lluna vermella  \n",
       "7934                 Diego Azul  \n",
       "7935              Arturo Prades  \n",
       "7936          Alejandro Sanchez  \n",
       "7937                       juan  "
      ]
     },
     "execution_count": 22,
     "metadata": {},
     "output_type": "execute_result"
    }
   ],
   "source": [
    "data.tail(20)"
   ]
  },
  {
   "cell_type": "markdown",
   "metadata": {},
   "source": [
    "#### 2.2 Check most recent tweets from users\n",
    "<hr>"
   ]
  },
  {
   "cell_type": "code",
   "execution_count": 23,
   "metadata": {},
   "outputs": [],
   "source": [
    "# data.loc[data['user_name'] == 'Blanca Fernandez']"
   ]
  },
  {
   "cell_type": "code",
   "execution_count": 24,
   "metadata": {},
   "outputs": [],
   "source": [
    "# Sacar subsets\n",
    "# data_subset = data[data['user_name'].isin(['Blanca Fenrandez', 'BICIMAD EN LUCHA'])]"
   ]
  },
  {
   "cell_type": "code",
   "execution_count": 25,
   "metadata": {},
   "outputs": [],
   "source": [
    "# data_subset"
   ]
  },
  {
   "cell_type": "code",
   "execution_count": 23,
   "metadata": {},
   "outputs": [
    {
     "data": {
      "text/plain": [
       "Timestamp('2020-09-29 06:34:23')"
      ]
     },
     "execution_count": 23,
     "metadata": {},
     "output_type": "execute_result"
    }
   ],
   "source": [
    "# First tweet available date\n",
    "data['date'].min()"
   ]
  },
  {
   "cell_type": "code",
   "execution_count": 24,
   "metadata": {},
   "outputs": [
    {
     "data": {
      "text/plain": [
       "Timestamp('2020-10-21 19:19:05')"
      ]
     },
     "execution_count": 24,
     "metadata": {},
     "output_type": "execute_result"
    }
   ],
   "source": [
    "# Most recent tweet date\n",
    "data['date'].max()"
   ]
  },
  {
   "cell_type": "code",
   "execution_count": 25,
   "metadata": {},
   "outputs": [],
   "source": [
    "# saving data\n",
    "# data.to_csv('../data/processed/data.csv', index=False)"
   ]
  },
  {
   "cell_type": "markdown",
   "metadata": {},
   "source": [
    "## 3. Sentiment analysis"
   ]
  },
  {
   "cell_type": "markdown",
   "metadata": {},
   "source": [
    "#### 3.1 Prepare text\n",
    "<hr>"
   ]
  },
  {
   "cell_type": "code",
   "execution_count": 29,
   "metadata": {},
   "outputs": [],
   "source": [
    "import re"
   ]
  },
  {
   "cell_type": "markdown",
   "metadata": {},
   "source": [
    "##### Ver que hacer con las 'ñ'\n",
    "<hr>"
   ]
  },
  {
   "cell_type": "markdown",
   "metadata": {},
   "source": [
    "'''\n",
    "from unicodedata import normalize\n",
    "s = \"Pingüino: Málãgà ês uñ̺ã cíudãd fantástica y èn Logroño me pica el... moñǫ̝̘̦̞̟̩̐̏̋͌́ͬ̚͡õ̪͓͍̦̓ơ̤̺̬̯͂̌͐͐͟o͎͈̳̠̼̫͂̊\"\n",
    "# -> NFD y eliminar diacríticos\n",
    "s = re.sub(\n",
    "        r\"([^n\\u0300-\\u036f]|n(?!\\u0303(?![\\u0300-\\u036f])))[\\u0300-\\u036f]+\", r\"\\1\", \n",
    "        normalize( \"NFD\", s), 0, re.I\n",
    "    )\n",
    "# -> NFC\n",
    "s = normalize( 'NFC', s)\n",
    "print( s )\n",
    "'''"
   ]
  },
  {
   "cell_type": "markdown",
   "metadata": {},
   "source": [
    "def clean_tweet(tweet):\n",
    "    data['tweets_clean'] = re.sub(\n",
    "        r\"([^n\\u0300-\\u036f]|n(?!\\u0303(?![\\u0300-\\u036f])))[\\u0300-\\u036f]+\", r\"\\1\", \n",
    "        normalize( \"NFD\", data['tweets_clean']), 0, re.I\n",
    "    )\n",
    "    data['tweets_clean'] = normalize('NFC', data['tweets_clean'].text)\n",
    "    data['tweets_clean'] = ' '.join(re.sub(\"(@[A-Za-z0-9]+)|([^0-9A-Za-z \\t])|(\\w+:\\/\\/\\S+)\", \" \", tweet).split())\n",
    "    #return \" \".join(re.sub(\"([^0-9A-Za-z \\t])|(\\w+:\\/\\/\\S+)\", \"\", tweet).split())"
   ]
  },
  {
   "cell_type": "code",
   "execution_count": 30,
   "metadata": {},
   "outputs": [],
   "source": [
    "def clean_tweet(tweet):\n",
    "    return ' '.join(re.sub(\"(@[A-Za-z0-9]+)|([^0-9A-Za-z \\t])|(\\w+:\\/\\/\\S+)\", \" \", tweet).split())\n",
    "    #return \" \".join(re.sub(\"([^0-9A-Za-z \\t])|(\\w+:\\/\\/\\S+)\", \"\", tweet).split())"
   ]
  },
  {
   "cell_type": "code",
   "execution_count": 31,
   "metadata": {},
   "outputs": [],
   "source": [
    "# Updated the tweets_clean \n",
    "data['tweets_clean'] = data['text'].apply(clean_tweet) "
   ]
  },
  {
   "cell_type": "code",
   "execution_count": 32,
   "metadata": {},
   "outputs": [
    {
     "data": {
      "text/html": [
       "<div>\n",
       "<style scoped>\n",
       "    .dataframe tbody tr th:only-of-type {\n",
       "        vertical-align: middle;\n",
       "    }\n",
       "\n",
       "    .dataframe tbody tr th {\n",
       "        vertical-align: top;\n",
       "    }\n",
       "\n",
       "    .dataframe thead th {\n",
       "        text-align: right;\n",
       "    }\n",
       "</style>\n",
       "<table border=\"1\" class=\"dataframe\">\n",
       "  <thead>\n",
       "    <tr style=\"text-align: right;\">\n",
       "      <th></th>\n",
       "      <th>date</th>\n",
       "      <th>id</th>\n",
       "      <th>text</th>\n",
       "      <th>user_name</th>\n",
       "      <th>tweets_clean</th>\n",
       "    </tr>\n",
       "  </thead>\n",
       "  <tbody>\n",
       "    <tr>\n",
       "      <th>0</th>\n",
       "      <td>2020-09-29 06:34:23</td>\n",
       "      <td>1310830261450539009</td>\n",
       "      <td>RT @carnecrudaradio: Quiero felicitar al alcal...</td>\n",
       "      <td>alex vega</td>\n",
       "      <td>RT Quiero felicitar al alcalde por su exitosa ...</td>\n",
       "    </tr>\n",
       "    <tr>\n",
       "      <th>1</th>\n",
       "      <td>2020-09-29 07:01:33</td>\n",
       "      <td>1310837099189473280</td>\n",
       "      <td>Señores de @BiciMAD @MADRID las bicis están mu...</td>\n",
       "      <td>Neuroneater</td>\n",
       "      <td>Se ores de las bicis est n muy descuidadas lo ...</td>\n",
       "    </tr>\n",
       "    <tr>\n",
       "      <th>2</th>\n",
       "      <td>2020-09-29 07:43:50</td>\n",
       "      <td>1310847740386201600</td>\n",
       "      <td>@JMDLatina Espero de este distrito no solo que...</td>\n",
       "      <td>Andrés Pina</td>\n",
       "      <td>Espero de este distrito no solo que proteja el...</td>\n",
       "    </tr>\n",
       "    <tr>\n",
       "      <th>3</th>\n",
       "      <td>2020-09-29 07:53:20</td>\n",
       "      <td>1310850131344920576</td>\n",
       "      <td>RT @_AguilarM: @PlataformaEMT @BiciMAD @bcarab...</td>\n",
       "      <td>ElMaNDaLoRiaNo</td>\n",
       "      <td>RT AguilarM O la fecha de la ltima OPE para Av...</td>\n",
       "    </tr>\n",
       "    <tr>\n",
       "      <th>4</th>\n",
       "      <td>2020-09-29 08:05:56</td>\n",
       "      <td>1310853301810888704</td>\n",
       "      <td>La misma vergüenza de TODOS los días. Una esta...</td>\n",
       "      <td>Diego Azul</td>\n",
       "      <td>La misma verg enza de TODOS los d as Una estac...</td>\n",
       "    </tr>\n",
       "    <tr>\n",
       "      <th>...</th>\n",
       "      <td>...</td>\n",
       "      <td>...</td>\n",
       "      <td>...</td>\n",
       "      <td>...</td>\n",
       "      <td>...</td>\n",
       "    </tr>\n",
       "    <tr>\n",
       "      <th>6944</th>\n",
       "      <td>2020-10-19 22:24:16</td>\n",
       "      <td>1318317065267253249</td>\n",
       "      <td>RT @MADRID: .@BiciMAD 🚲 llega en octubre a Lat...</td>\n",
       "      <td>Gbj</td>\n",
       "      <td>RT llega en octubre a Latina y Fuencarral El P...</td>\n",
       "    </tr>\n",
       "    <tr>\n",
       "      <th>6945</th>\n",
       "      <td>2020-10-19 22:25:32</td>\n",
       "      <td>1318317385502367746</td>\n",
       "      <td>RT @Rita_Maestre: La foto que resume lo que ha...</td>\n",
       "      <td>JaviSeCa</td>\n",
       "      <td>RT Maestre La foto que resume lo que ha hecho ...</td>\n",
       "    </tr>\n",
       "    <tr>\n",
       "      <th>6946</th>\n",
       "      <td>2020-10-19 22:26:53</td>\n",
       "      <td>1318317727140974598</td>\n",
       "      <td>RT @Rita_Maestre: La foto que resume lo que ha...</td>\n",
       "      <td>J. L.</td>\n",
       "      <td>RT Maestre La foto que resume lo que ha hecho ...</td>\n",
       "    </tr>\n",
       "    <tr>\n",
       "      <th>6947</th>\n",
       "      <td>2020-10-19 22:27:59</td>\n",
       "      <td>1318318002102849536</td>\n",
       "      <td>RT @Rita_Maestre: La foto que resume lo que ha...</td>\n",
       "      <td>Corto Maltés</td>\n",
       "      <td>RT Maestre La foto que resume lo que ha hecho ...</td>\n",
       "    </tr>\n",
       "    <tr>\n",
       "      <th>6948</th>\n",
       "      <td>2020-10-19 22:29:28</td>\n",
       "      <td>1318318375442022404</td>\n",
       "      <td>RT @MasMadrid__: ❗️Más de 600 bicicletas de @B...</td>\n",
       "      <td>Germán GarcíadaRosa</td>\n",
       "      <td>RT M s de 600 bicicletas de averiadas y apilad...</td>\n",
       "    </tr>\n",
       "  </tbody>\n",
       "</table>\n",
       "<p>6949 rows × 5 columns</p>\n",
       "</div>"
      ],
      "text/plain": [
       "                    date                   id  \\\n",
       "0    2020-09-29 06:34:23  1310830261450539009   \n",
       "1    2020-09-29 07:01:33  1310837099189473280   \n",
       "2    2020-09-29 07:43:50  1310847740386201600   \n",
       "3    2020-09-29 07:53:20  1310850131344920576   \n",
       "4    2020-09-29 08:05:56  1310853301810888704   \n",
       "...                  ...                  ...   \n",
       "6944 2020-10-19 22:24:16  1318317065267253249   \n",
       "6945 2020-10-19 22:25:32  1318317385502367746   \n",
       "6946 2020-10-19 22:26:53  1318317727140974598   \n",
       "6947 2020-10-19 22:27:59  1318318002102849536   \n",
       "6948 2020-10-19 22:29:28  1318318375442022404   \n",
       "\n",
       "                                                   text            user_name  \\\n",
       "0     RT @carnecrudaradio: Quiero felicitar al alcal...            alex vega   \n",
       "1     Señores de @BiciMAD @MADRID las bicis están mu...          Neuroneater   \n",
       "2     @JMDLatina Espero de este distrito no solo que...          Andrés Pina   \n",
       "3     RT @_AguilarM: @PlataformaEMT @BiciMAD @bcarab...       ElMaNDaLoRiaNo   \n",
       "4     La misma vergüenza de TODOS los días. Una esta...           Diego Azul   \n",
       "...                                                 ...                  ...   \n",
       "6944  RT @MADRID: .@BiciMAD 🚲 llega en octubre a Lat...                  Gbj   \n",
       "6945  RT @Rita_Maestre: La foto que resume lo que ha...             JaviSeCa   \n",
       "6946  RT @Rita_Maestre: La foto que resume lo que ha...                J. L.   \n",
       "6947  RT @Rita_Maestre: La foto que resume lo que ha...         Corto Maltés   \n",
       "6948  RT @MasMadrid__: ❗️Más de 600 bicicletas de @B...  Germán GarcíadaRosa   \n",
       "\n",
       "                                           tweets_clean  \n",
       "0     RT Quiero felicitar al alcalde por su exitosa ...  \n",
       "1     Se ores de las bicis est n muy descuidadas lo ...  \n",
       "2     Espero de este distrito no solo que proteja el...  \n",
       "3     RT AguilarM O la fecha de la ltima OPE para Av...  \n",
       "4     La misma verg enza de TODOS los d as Una estac...  \n",
       "...                                                 ...  \n",
       "6944  RT llega en octubre a Latina y Fuencarral El P...  \n",
       "6945  RT Maestre La foto que resume lo que ha hecho ...  \n",
       "6946  RT Maestre La foto que resume lo que ha hecho ...  \n",
       "6947  RT Maestre La foto que resume lo que ha hecho ...  \n",
       "6948  RT M s de 600 bicicletas de averiadas y apilad...  \n",
       "\n",
       "[6949 rows x 5 columns]"
      ]
     },
     "execution_count": 32,
     "metadata": {},
     "output_type": "execute_result"
    }
   ],
   "source": [
    "# Print the updated dataframe \n",
    "data"
   ]
  },
  {
   "cell_type": "code",
   "execution_count": 33,
   "metadata": {},
   "outputs": [
    {
     "name": "stderr",
     "output_type": "stream",
     "text": [
      "/Applications/anaconda3/envs/ironhack/lib/python3.7/site-packages/tensorflow/python/framework/dtypes.py:516: FutureWarning: Passing (type, 1) or '1type' as a synonym of type is deprecated; in a future version of numpy, it will be understood as (type, (1,)) / '(1,)type'.\n",
      "  _np_qint8 = np.dtype([(\"qint8\", np.int8, 1)])\n",
      "/Applications/anaconda3/envs/ironhack/lib/python3.7/site-packages/tensorflow/python/framework/dtypes.py:517: FutureWarning: Passing (type, 1) or '1type' as a synonym of type is deprecated; in a future version of numpy, it will be understood as (type, (1,)) / '(1,)type'.\n",
      "  _np_quint8 = np.dtype([(\"quint8\", np.uint8, 1)])\n",
      "/Applications/anaconda3/envs/ironhack/lib/python3.7/site-packages/tensorflow/python/framework/dtypes.py:518: FutureWarning: Passing (type, 1) or '1type' as a synonym of type is deprecated; in a future version of numpy, it will be understood as (type, (1,)) / '(1,)type'.\n",
      "  _np_qint16 = np.dtype([(\"qint16\", np.int16, 1)])\n",
      "/Applications/anaconda3/envs/ironhack/lib/python3.7/site-packages/tensorflow/python/framework/dtypes.py:519: FutureWarning: Passing (type, 1) or '1type' as a synonym of type is deprecated; in a future version of numpy, it will be understood as (type, (1,)) / '(1,)type'.\n",
      "  _np_quint16 = np.dtype([(\"quint16\", np.uint16, 1)])\n",
      "/Applications/anaconda3/envs/ironhack/lib/python3.7/site-packages/tensorflow/python/framework/dtypes.py:520: FutureWarning: Passing (type, 1) or '1type' as a synonym of type is deprecated; in a future version of numpy, it will be understood as (type, (1,)) / '(1,)type'.\n",
      "  _np_qint32 = np.dtype([(\"qint32\", np.int32, 1)])\n",
      "/Applications/anaconda3/envs/ironhack/lib/python3.7/site-packages/tensorflow/python/framework/dtypes.py:525: FutureWarning: Passing (type, 1) or '1type' as a synonym of type is deprecated; in a future version of numpy, it will be understood as (type, (1,)) / '(1,)type'.\n",
      "  np_resource = np.dtype([(\"resource\", np.ubyte, 1)])\n",
      "/Applications/anaconda3/envs/ironhack/lib/python3.7/site-packages/tensorboard/compat/tensorflow_stub/dtypes.py:541: FutureWarning: Passing (type, 1) or '1type' as a synonym of type is deprecated; in a future version of numpy, it will be understood as (type, (1,)) / '(1,)type'.\n",
      "  _np_qint8 = np.dtype([(\"qint8\", np.int8, 1)])\n",
      "/Applications/anaconda3/envs/ironhack/lib/python3.7/site-packages/tensorboard/compat/tensorflow_stub/dtypes.py:542: FutureWarning: Passing (type, 1) or '1type' as a synonym of type is deprecated; in a future version of numpy, it will be understood as (type, (1,)) / '(1,)type'.\n",
      "  _np_quint8 = np.dtype([(\"quint8\", np.uint8, 1)])\n",
      "/Applications/anaconda3/envs/ironhack/lib/python3.7/site-packages/tensorboard/compat/tensorflow_stub/dtypes.py:543: FutureWarning: Passing (type, 1) or '1type' as a synonym of type is deprecated; in a future version of numpy, it will be understood as (type, (1,)) / '(1,)type'.\n",
      "  _np_qint16 = np.dtype([(\"qint16\", np.int16, 1)])\n",
      "/Applications/anaconda3/envs/ironhack/lib/python3.7/site-packages/tensorboard/compat/tensorflow_stub/dtypes.py:544: FutureWarning: Passing (type, 1) or '1type' as a synonym of type is deprecated; in a future version of numpy, it will be understood as (type, (1,)) / '(1,)type'.\n",
      "  _np_quint16 = np.dtype([(\"quint16\", np.uint16, 1)])\n",
      "/Applications/anaconda3/envs/ironhack/lib/python3.7/site-packages/tensorboard/compat/tensorflow_stub/dtypes.py:545: FutureWarning: Passing (type, 1) or '1type' as a synonym of type is deprecated; in a future version of numpy, it will be understood as (type, (1,)) / '(1,)type'.\n",
      "  _np_qint32 = np.dtype([(\"qint32\", np.int32, 1)])\n",
      "/Applications/anaconda3/envs/ironhack/lib/python3.7/site-packages/tensorboard/compat/tensorflow_stub/dtypes.py:550: FutureWarning: Passing (type, 1) or '1type' as a synonym of type is deprecated; in a future version of numpy, it will be understood as (type, (1,)) / '(1,)type'.\n",
      "  np_resource = np.dtype([(\"resource\", np.ubyte, 1)])\n"
     ]
    }
   ],
   "source": [
    "from transformers import pipeline"
   ]
  },
  {
   "cell_type": "code",
   "execution_count": 34,
   "metadata": {},
   "outputs": [],
   "source": [
    "classifier = pipeline('sentiment-analysis')"
   ]
  },
  {
   "cell_type": "code",
   "execution_count": 35,
   "metadata": {},
   "outputs": [
    {
     "name": "stderr",
     "output_type": "stream",
     "text": [
      "Some weights of BertForMaskedLM were not initialized from the model checkpoint at dccuchile/bert-base-spanish-wwm-cased and are newly initialized: ['cls.predictions.decoder.bias']\n",
      "You should probably TRAIN this model on a down-stream task to be able to use it for predictions and inference.\n"
     ]
    }
   ],
   "source": [
    "from transformers import AutoTokenizer, AutoModelForMaskedLM\n",
    "tokenizer = AutoTokenizer.from_pretrained(\"dccuchile/bert-base-spanish-wwm-cased\")\n",
    "model = AutoModelForMaskedLM.from_pretrained(\"dccuchile/bert-base-spanish-wwm-cased\")"
   ]
  },
  {
   "cell_type": "code",
   "execution_count": 36,
   "metadata": {},
   "outputs": [],
   "source": [
    "def transform (x):\n",
    "    return classifier(x)\n",
    "# Apply transform function to all tweets \n",
    "data['sentiment']=data['tweets_clean'].apply(transform)"
   ]
  },
  {
   "cell_type": "code",
   "execution_count": 37,
   "metadata": {},
   "outputs": [],
   "source": [
    "data[\"score\"] = [data[\"sentiment\"][i][0]['score'] for i in range(data.shape[0])]"
   ]
  },
  {
   "cell_type": "code",
   "execution_count": 38,
   "metadata": {},
   "outputs": [],
   "source": [
    "data[\"label\"] = [data[\"sentiment\"][i][0]['label'] for i in range(data.shape[0])]"
   ]
  },
  {
   "cell_type": "code",
   "execution_count": 39,
   "metadata": {},
   "outputs": [
    {
     "data": {
      "text/html": [
       "<div>\n",
       "<style scoped>\n",
       "    .dataframe tbody tr th:only-of-type {\n",
       "        vertical-align: middle;\n",
       "    }\n",
       "\n",
       "    .dataframe tbody tr th {\n",
       "        vertical-align: top;\n",
       "    }\n",
       "\n",
       "    .dataframe thead th {\n",
       "        text-align: right;\n",
       "    }\n",
       "</style>\n",
       "<table border=\"1\" class=\"dataframe\">\n",
       "  <thead>\n",
       "    <tr style=\"text-align: right;\">\n",
       "      <th></th>\n",
       "      <th>date</th>\n",
       "      <th>id</th>\n",
       "      <th>text</th>\n",
       "      <th>user_name</th>\n",
       "      <th>tweets_clean</th>\n",
       "      <th>sentiment</th>\n",
       "      <th>score</th>\n",
       "      <th>label</th>\n",
       "    </tr>\n",
       "  </thead>\n",
       "  <tbody>\n",
       "    <tr>\n",
       "      <th>0</th>\n",
       "      <td>2020-09-29 06:34:23</td>\n",
       "      <td>1310830261450539009</td>\n",
       "      <td>RT @carnecrudaradio: Quiero felicitar al alcal...</td>\n",
       "      <td>alex vega</td>\n",
       "      <td>RT Quiero felicitar al alcalde por su exitosa ...</td>\n",
       "      <td>[{'label': 'NEGATIVE', 'score': 0.985985696315...</td>\n",
       "      <td>0.985986</td>\n",
       "      <td>NEGATIVE</td>\n",
       "    </tr>\n",
       "    <tr>\n",
       "      <th>1</th>\n",
       "      <td>2020-09-29 07:01:33</td>\n",
       "      <td>1310837099189473280</td>\n",
       "      <td>Señores de @BiciMAD @MADRID las bicis están mu...</td>\n",
       "      <td>Neuroneater</td>\n",
       "      <td>Se ores de las bicis est n muy descuidadas lo ...</td>\n",
       "      <td>[{'label': 'NEGATIVE', 'score': 0.981788218021...</td>\n",
       "      <td>0.981788</td>\n",
       "      <td>NEGATIVE</td>\n",
       "    </tr>\n",
       "    <tr>\n",
       "      <th>2</th>\n",
       "      <td>2020-09-29 07:43:50</td>\n",
       "      <td>1310847740386201600</td>\n",
       "      <td>@JMDLatina Espero de este distrito no solo que...</td>\n",
       "      <td>Andrés Pina</td>\n",
       "      <td>Espero de este distrito no solo que proteja el...</td>\n",
       "      <td>[{'label': 'NEGATIVE', 'score': 0.980981051921...</td>\n",
       "      <td>0.980981</td>\n",
       "      <td>NEGATIVE</td>\n",
       "    </tr>\n",
       "    <tr>\n",
       "      <th>3</th>\n",
       "      <td>2020-09-29 07:53:20</td>\n",
       "      <td>1310850131344920576</td>\n",
       "      <td>RT @_AguilarM: @PlataformaEMT @BiciMAD @bcarab...</td>\n",
       "      <td>ElMaNDaLoRiaNo</td>\n",
       "      <td>RT AguilarM O la fecha de la ltima OPE para Av...</td>\n",
       "      <td>[{'label': 'NEGATIVE', 'score': 0.983189225196...</td>\n",
       "      <td>0.983189</td>\n",
       "      <td>NEGATIVE</td>\n",
       "    </tr>\n",
       "    <tr>\n",
       "      <th>4</th>\n",
       "      <td>2020-09-29 08:05:56</td>\n",
       "      <td>1310853301810888704</td>\n",
       "      <td>La misma vergüenza de TODOS los días. Una esta...</td>\n",
       "      <td>Diego Azul</td>\n",
       "      <td>La misma verg enza de TODOS los d as Una estac...</td>\n",
       "      <td>[{'label': 'NEGATIVE', 'score': 0.994368195533...</td>\n",
       "      <td>0.994368</td>\n",
       "      <td>NEGATIVE</td>\n",
       "    </tr>\n",
       "  </tbody>\n",
       "</table>\n",
       "</div>"
      ],
      "text/plain": [
       "                 date                   id  \\\n",
       "0 2020-09-29 06:34:23  1310830261450539009   \n",
       "1 2020-09-29 07:01:33  1310837099189473280   \n",
       "2 2020-09-29 07:43:50  1310847740386201600   \n",
       "3 2020-09-29 07:53:20  1310850131344920576   \n",
       "4 2020-09-29 08:05:56  1310853301810888704   \n",
       "\n",
       "                                                text       user_name  \\\n",
       "0  RT @carnecrudaradio: Quiero felicitar al alcal...       alex vega   \n",
       "1  Señores de @BiciMAD @MADRID las bicis están mu...     Neuroneater   \n",
       "2  @JMDLatina Espero de este distrito no solo que...     Andrés Pina   \n",
       "3  RT @_AguilarM: @PlataformaEMT @BiciMAD @bcarab...  ElMaNDaLoRiaNo   \n",
       "4  La misma vergüenza de TODOS los días. Una esta...      Diego Azul   \n",
       "\n",
       "                                        tweets_clean  \\\n",
       "0  RT Quiero felicitar al alcalde por su exitosa ...   \n",
       "1  Se ores de las bicis est n muy descuidadas lo ...   \n",
       "2  Espero de este distrito no solo que proteja el...   \n",
       "3  RT AguilarM O la fecha de la ltima OPE para Av...   \n",
       "4  La misma verg enza de TODOS los d as Una estac...   \n",
       "\n",
       "                                           sentiment     score     label  \n",
       "0  [{'label': 'NEGATIVE', 'score': 0.985985696315...  0.985986  NEGATIVE  \n",
       "1  [{'label': 'NEGATIVE', 'score': 0.981788218021...  0.981788  NEGATIVE  \n",
       "2  [{'label': 'NEGATIVE', 'score': 0.980981051921...  0.980981  NEGATIVE  \n",
       "3  [{'label': 'NEGATIVE', 'score': 0.983189225196...  0.983189  NEGATIVE  \n",
       "4  [{'label': 'NEGATIVE', 'score': 0.994368195533...  0.994368  NEGATIVE  "
      ]
     },
     "execution_count": 39,
     "metadata": {},
     "output_type": "execute_result"
    }
   ],
   "source": [
    "data.head(5)"
   ]
  },
  {
   "cell_type": "code",
   "execution_count": 40,
   "metadata": {},
   "outputs": [
    {
     "data": {
      "text/plain": [
       "341"
      ]
     },
     "execution_count": 40,
     "metadata": {},
     "output_type": "execute_result"
    }
   ],
   "source": [
    "sum(data[\"label\"] == \"POSITIVE\")"
   ]
  },
  {
   "cell_type": "code",
   "execution_count": 42,
   "metadata": {},
   "outputs": [
    {
     "data": {
      "text/plain": [
       "6608"
      ]
     },
     "execution_count": 42,
     "metadata": {},
     "output_type": "execute_result"
    }
   ],
   "source": [
    "sum(data[\"label\"] == \"NEGATIVE\")"
   ]
  },
  {
   "cell_type": "code",
   "execution_count": 46,
   "metadata": {},
   "outputs": [
    {
     "data": {
      "text/plain": [
       "0.9329787673821877"
      ]
     },
     "execution_count": 46,
     "metadata": {},
     "output_type": "execute_result"
    }
   ],
   "source": [
    "data['score'].mean()"
   ]
  },
  {
   "cell_type": "code",
   "execution_count": 48,
   "metadata": {},
   "outputs": [],
   "source": [
    "score = data['score']"
   ]
  },
  {
   "cell_type": "code",
   "execution_count": 51,
   "metadata": {},
   "outputs": [
    {
     "data": {
      "text/plain": [
       "0.7833219177562121"
      ]
     },
     "execution_count": 51,
     "metadata": {},
     "output_type": "execute_result"
    }
   ],
   "source": [
    "# series (watch the index)\n",
    "positive = (data[\"label\"] == \"POSITIVE\")\n",
    "\n",
    "score[positive].mean()"
   ]
  },
  {
   "cell_type": "code",
   "execution_count": 52,
   "metadata": {},
   "outputs": [
    {
     "data": {
      "text/plain": [
       "0.9407016768438187"
      ]
     },
     "execution_count": 52,
     "metadata": {},
     "output_type": "execute_result"
    }
   ],
   "source": [
    "# series (watch the index)\n",
    "negative = (data[\"label\"] == \"NEGATIVE\")\n",
    "\n",
    "score[negative].mean()"
   ]
  },
  {
   "cell_type": "code",
   "execution_count": 41,
   "metadata": {},
   "outputs": [],
   "source": [
    "data.to_csv('../data/results/data_sentiment.csv', index=False)"
   ]
  },
  {
   "cell_type": "markdown",
   "metadata": {},
   "source": [
    "#### 3.13 Predictions\n",
    "<hr>"
   ]
  },
  {
   "cell_type": "markdown",
   "metadata": {},
   "source": [
    "\"\"\"import torch.nn.functional as F\n",
    "pt_predictions = F.softmax(pt_outputs[0], dim=-1)\"\""
   ]
  }
 ],
 "metadata": {
  "kernelspec": {
   "display_name": "Python [conda env:ironhack]",
   "language": "python",
   "name": "conda-env-ironhack-py"
  },
  "language_info": {
   "codemirror_mode": {
    "name": "ipython",
    "version": 3
   },
   "file_extension": ".py",
   "mimetype": "text/x-python",
   "name": "python",
   "nbconvert_exporter": "python",
   "pygments_lexer": "ipython3",
   "version": "3.7.3"
  }
 },
 "nbformat": 4,
 "nbformat_minor": 4
}
