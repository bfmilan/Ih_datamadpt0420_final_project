{
 "cells": [
  {
   "cell_type": "code",
   "execution_count": 1,
   "metadata": {},
   "outputs": [
    {
     "ename": "ModuleNotFoundError",
     "evalue": "No module named 'paramiko'",
     "output_type": "error",
     "traceback": [
      "\u001b[0;31m---------------------------------------------------------------------------\u001b[0m",
      "\u001b[0;31mModuleNotFoundError\u001b[0m                       Traceback (most recent call last)",
      "\u001b[0;32m<ipython-input-1-a239826c1b98>\u001b[0m in \u001b[0;36m<module>\u001b[0;34m\u001b[0m\n\u001b[1;32m      4\u001b[0m \u001b[0;34m\u001b[0m\u001b[0m\n\u001b[1;32m      5\u001b[0m \u001b[0;32mfrom\u001b[0m \u001b[0mairflow\u001b[0m \u001b[0;32mimport\u001b[0m \u001b[0mDAG\u001b[0m\u001b[0;34m\u001b[0m\u001b[0;34m\u001b[0m\u001b[0m\n\u001b[0;32m----> 6\u001b[0;31m \u001b[0;32mfrom\u001b[0m \u001b[0mairflow\u001b[0m\u001b[0;34m.\u001b[0m\u001b[0mcontrib\u001b[0m\u001b[0;34m.\u001b[0m\u001b[0moperators\u001b[0m\u001b[0;34m.\u001b[0m\u001b[0mssh_operator\u001b[0m \u001b[0;32mimport\u001b[0m \u001b[0mSSHOperator\u001b[0m\u001b[0;34m\u001b[0m\u001b[0;34m\u001b[0m\u001b[0m\n\u001b[0m\u001b[1;32m      7\u001b[0m \u001b[0;32mfrom\u001b[0m \u001b[0mairflow\u001b[0m\u001b[0;34m.\u001b[0m\u001b[0moperators\u001b[0m\u001b[0;34m.\u001b[0m\u001b[0mpython_operator\u001b[0m \u001b[0;32mimport\u001b[0m \u001b[0mPythonOperator\u001b[0m\u001b[0;34m\u001b[0m\u001b[0;34m\u001b[0m\u001b[0m\n\u001b[1;32m      8\u001b[0m \u001b[0;34m\u001b[0m\u001b[0m\n",
      "\u001b[0;32m/Applications/anaconda3/envs/ironhack/lib/python3.7/site-packages/airflow/contrib/operators/ssh_operator.py\u001b[0m in \u001b[0;36m<module>\u001b[0;34m\u001b[0m\n\u001b[1;32m     22\u001b[0m \u001b[0;34m\u001b[0m\u001b[0m\n\u001b[1;32m     23\u001b[0m \u001b[0;32mfrom\u001b[0m \u001b[0mairflow\u001b[0m\u001b[0;34m.\u001b[0m\u001b[0mconfiguration\u001b[0m \u001b[0;32mimport\u001b[0m \u001b[0mconf\u001b[0m\u001b[0;34m\u001b[0m\u001b[0;34m\u001b[0m\u001b[0m\n\u001b[0;32m---> 24\u001b[0;31m \u001b[0;32mfrom\u001b[0m \u001b[0mairflow\u001b[0m\u001b[0;34m.\u001b[0m\u001b[0mcontrib\u001b[0m\u001b[0;34m.\u001b[0m\u001b[0mhooks\u001b[0m\u001b[0;34m.\u001b[0m\u001b[0mssh_hook\u001b[0m \u001b[0;32mimport\u001b[0m \u001b[0mSSHHook\u001b[0m\u001b[0;34m\u001b[0m\u001b[0;34m\u001b[0m\u001b[0m\n\u001b[0m\u001b[1;32m     25\u001b[0m \u001b[0;32mfrom\u001b[0m \u001b[0mairflow\u001b[0m\u001b[0;34m.\u001b[0m\u001b[0mexceptions\u001b[0m \u001b[0;32mimport\u001b[0m \u001b[0mAirflowException\u001b[0m\u001b[0;34m\u001b[0m\u001b[0;34m\u001b[0m\u001b[0m\n\u001b[1;32m     26\u001b[0m \u001b[0;32mfrom\u001b[0m \u001b[0mairflow\u001b[0m\u001b[0;34m.\u001b[0m\u001b[0mmodels\u001b[0m \u001b[0;32mimport\u001b[0m \u001b[0mBaseOperator\u001b[0m\u001b[0;34m\u001b[0m\u001b[0;34m\u001b[0m\u001b[0m\n",
      "\u001b[0;32m/Applications/anaconda3/envs/ironhack/lib/python3.7/site-packages/airflow/contrib/hooks/ssh_hook.py\u001b[0m in \u001b[0;36m<module>\u001b[0;34m\u001b[0m\n\u001b[1;32m     23\u001b[0m \u001b[0;32mfrom\u001b[0m \u001b[0mio\u001b[0m \u001b[0;32mimport\u001b[0m \u001b[0mStringIO\u001b[0m\u001b[0;34m\u001b[0m\u001b[0;34m\u001b[0m\u001b[0m\n\u001b[1;32m     24\u001b[0m \u001b[0;34m\u001b[0m\u001b[0m\n\u001b[0;32m---> 25\u001b[0;31m \u001b[0;32mimport\u001b[0m \u001b[0mparamiko\u001b[0m\u001b[0;34m\u001b[0m\u001b[0;34m\u001b[0m\u001b[0m\n\u001b[0m\u001b[1;32m     26\u001b[0m \u001b[0;32mfrom\u001b[0m \u001b[0mparamiko\u001b[0m\u001b[0;34m.\u001b[0m\u001b[0mconfig\u001b[0m \u001b[0;32mimport\u001b[0m \u001b[0mSSH_PORT\u001b[0m\u001b[0;34m\u001b[0m\u001b[0;34m\u001b[0m\u001b[0m\n\u001b[1;32m     27\u001b[0m \u001b[0;32mfrom\u001b[0m \u001b[0msshtunnel\u001b[0m \u001b[0;32mimport\u001b[0m \u001b[0mSSHTunnelForwarder\u001b[0m\u001b[0;34m\u001b[0m\u001b[0;34m\u001b[0m\u001b[0m\n",
      "\u001b[0;31mModuleNotFoundError\u001b[0m: No module named 'paramiko'"
     ]
    }
   ],
   "source": [
    "from datetime import datetime, timedelta\n",
    "import tempfile\n",
    "import os\n",
    "\n",
    "from airflow import DAG\n",
    "from airflow.contrib.operators.ssh_operator import SSHOperator\n",
    "from airflow.operators.python_operator import PythonOperator\n",
    "\n",
    "from airflow.hooks.postgres_hook import PostgresHook\n",
    "from airflow.contrib.hooks.gcs_hook import GoogleCloudStorageHook\n",
    "\n",
    "\n",
    "default_args = {\n",
    "    'owner': 'airflow',\n",
    "    'depends_on_past': False,\n",
    "    'start_date': datetime(2020, 1, 28, 9, 30),\n",
    "    'log_response': True,\n",
    "    'xcom_push': True,\n",
    "    'provide_context': True,\n",
    "    'execution_timeout': timedelta(minutes=5),\n",
    "    'sla': timedelta(minutes=15),\n",
    "    'email': ['my-email@domain.com'],\n",
    "    'email_on_failure': True,\n",
    "    'bucket': 'my-gcs-bucket',\n",
    "    'object': 'inventory_enriched.csv',\n",
    "    'database': 'lego',\n",
    "    'schema': 'lego_schema',\n",
    "    'postgres_conn_id': 'psql_lego',\n",
    "    'gcp_conn_id': 'my_google_cloud_storage'}\n",
    "\n",
    "ssh_command = '{{ next_ds }}'\n",
    "\n",
    "with DAG('lego_dag',\n",
    "         schedule_interval=\"15 10 10 * *\",\n",
    "         catchup=False,\n",
    "         max_active_runs=1,\n",
    "         default_args=default_args) as dag:\n",
    "    def gcs_to_psql_import(**kwargs):\n",
    "        fd, tmp_filename = tempfile.mkstemp(text=True)\n",
    "\n",
    "        # download file locally\n",
    "        gcs_hook = GoogleCloudStorageHook(google_cloud_storage_conn_id=kwargs['gcp_conn_id'])\n",
    "        gcs_hook.download(bucket=kwargs['bucket'], object=kwargs['object'], filename=tmp_filename)\n",
    "        del gcs_hook\n",
    "\n",
    "        # load the file into postgres\n",
    "        pg_hook = PostgresHook(postgres_conn_id=kwargs['postgres_conn_id'], schema=kwargs['database'])\n",
    "        pg_hook.bulk_load('{schema}.{table}'.format(schema=kwargs['schema'], table=kwargs['table']), tmp_filename)\n",
    "\n",
    "        # output errors\n",
    "        for output in pg_hook.conn.notices:\n",
    "            print(output)\n",
    "\n",
    "        # remove temp file\n",
    "        os.close(fd)\n",
    "        os.unlink(tmp_filename)\n",
    "\n",
    "    get_files = SSHOperator(task_id='lego_get_files',\n",
    "                            ssh_conn_id='ssh_jupyter_lego_getfiles',\n",
    "                            command=ssh_command,\n",
    "                            do_xcom_push=True)\n",
    "\n",
    "    import_file = PythonOperator(task_id='lego_import_file',\n",
    "                                 python_callable=gcs_to_psql_import,\n",
    "                                 op_kwargs=default_args,\n",
    "                                 provide_context=True)\n",
    "\n",
    "    get_files >> import_file"
   ]
  },
  {
   "cell_type": "code",
   "execution_count": null,
   "metadata": {},
   "outputs": [],
   "source": []
  }
 ],
 "metadata": {
  "kernelspec": {
   "display_name": "Python [conda env:ironhack]",
   "language": "python",
   "name": "conda-env-ironhack-py"
  },
  "language_info": {
   "codemirror_mode": {
    "name": "ipython",
    "version": 3
   },
   "file_extension": ".py",
   "mimetype": "text/x-python",
   "name": "python",
   "nbconvert_exporter": "python",
   "pygments_lexer": "ipython3",
   "version": "3.7.3"
  }
 },
 "nbformat": 4,
 "nbformat_minor": 4
}
