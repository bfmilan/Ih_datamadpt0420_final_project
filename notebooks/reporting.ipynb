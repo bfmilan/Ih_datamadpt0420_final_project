{
 "cells": [
  {
   "cell_type": "markdown",
   "metadata": {},
   "source": [
    "### Get image and tweet it"
   ]
  },
  {
   "cell_type": "code",
   "execution_count": 9,
   "metadata": {},
   "outputs": [],
   "source": [
    "import requests\n",
    "import os"
   ]
  },
  {
   "cell_type": "code",
   "execution_count": 10,
   "metadata": {},
   "outputs": [
    {
     "data": {
      "text/plain": [
       "<tweepy.api.API at 0x130815048>"
      ]
     },
     "execution_count": 10,
     "metadata": {},
     "output_type": "execute_result"
    }
   ],
   "source": []
  },
  {
   "cell_type": "code",
   "execution_count": 24,
   "metadata": {},
   "outputs": [
    {
     "data": {
      "text/plain": [
       "'@BiciMAD status'"
      ]
     },
     "execution_count": 24,
     "metadata": {},
     "output_type": "execute_result"
    }
   ],
   "source": [
    "message = f'@BiciMAD status today'\n",
    "message"
   ]
  },
  {
   "cell_type": "markdown",
   "metadata": {},
   "source": [
    "#### Two images together"
   ]
  },
  {
   "cell_type": "code",
   "execution_count": 30,
   "metadata": {},
   "outputs": [],
   "source": [
    "images = ('/Users/Blanca/ironhack/gitrepo/ih_datamadpt0420_final_project/data/results/tweet_sentiment1.png', '/Users/Blanca/ironhack/gitrepo/ih_datamadpt0420_final_project/data/results/tweet_sentiment2.png')\n",
    "media_ids = [api.media_upload(i).media_id_string for i in images]\n",
    "tweet = api.update_status(status=message, media_ids=media_ids)"
   ]
  },
  {
   "cell_type": "markdown",
   "metadata": {},
   "source": [
    "#### One images together"
   ]
  },
  {
   "cell_type": "code",
   "execution_count": 25,
   "metadata": {},
   "outputs": [
    {
     "data": {
      "text/plain": [
       "Status(_api=<tweepy.api.API object at 0x130815048>, _json={'created_at': 'Sat Oct 24 11:29:15 +0000 2020', 'id': 1319964164555681792, 'id_str': '1319964164555681792', 'text': '@BiciMAD status https://t.co/1A2fFQAwUv', 'truncated': False, 'entities': {'hashtags': [], 'symbols': [], 'user_mentions': [{'screen_name': 'BiciMAD', 'name': 'BiciMAD', 'id': 2340495680, 'id_str': '2340495680', 'indices': [0, 8]}], 'urls': [], 'media': [{'id': 1319964163431596032, 'id_str': '1319964163431596032', 'indices': [16, 39], 'media_url': 'http://pbs.twimg.com/media/ElF0acWWAAAQ148.png', 'media_url_https': 'https://pbs.twimg.com/media/ElF0acWWAAAQ148.png', 'url': 'https://t.co/1A2fFQAwUv', 'display_url': 'pic.twitter.com/1A2fFQAwUv', 'expanded_url': 'https://twitter.com/bfmilan/status/1319964164555681792/photo/1', 'type': 'photo', 'sizes': {'large': {'w': 700, 'h': 500, 'resize': 'fit'}, 'medium': {'w': 700, 'h': 500, 'resize': 'fit'}, 'small': {'w': 680, 'h': 486, 'resize': 'fit'}, 'thumb': {'w': 150, 'h': 150, 'resize': 'crop'}}}]}, 'extended_entities': {'media': [{'id': 1319964163431596032, 'id_str': '1319964163431596032', 'indices': [16, 39], 'media_url': 'http://pbs.twimg.com/media/ElF0acWWAAAQ148.png', 'media_url_https': 'https://pbs.twimg.com/media/ElF0acWWAAAQ148.png', 'url': 'https://t.co/1A2fFQAwUv', 'display_url': 'pic.twitter.com/1A2fFQAwUv', 'expanded_url': 'https://twitter.com/bfmilan/status/1319964164555681792/photo/1', 'type': 'photo', 'sizes': {'large': {'w': 700, 'h': 500, 'resize': 'fit'}, 'medium': {'w': 700, 'h': 500, 'resize': 'fit'}, 'small': {'w': 680, 'h': 486, 'resize': 'fit'}, 'thumb': {'w': 150, 'h': 150, 'resize': 'crop'}}}]}, 'source': '<a href=\"https://twitter.com/bfmilan\" rel=\"nofollow\">bfmilan</a>', 'in_reply_to_status_id': None, 'in_reply_to_status_id_str': None, 'in_reply_to_user_id': 2340495680, 'in_reply_to_user_id_str': '2340495680', 'in_reply_to_screen_name': 'BiciMAD', 'user': {'id': 1270360148, 'id_str': '1270360148', 'name': 'Blanca Fernandez', 'screen_name': 'bfmilan', 'location': 'Madrid, Spain', 'description': 'una vecina más deseando ver un Madrid que se mueve acorde a los nuevos paradigmas de la movilidad urbana: inclusiva y sostenible.', 'url': None, 'entities': {'description': {'urls': []}}, 'protected': False, 'followers_count': 63, 'friends_count': 171, 'listed_count': 0, 'created_at': 'Fri Mar 15 18:11:34 +0000 2013', 'favourites_count': 2234, 'utc_offset': None, 'time_zone': None, 'geo_enabled': False, 'verified': False, 'statuses_count': 464, 'lang': None, 'contributors_enabled': False, 'is_translator': False, 'is_translation_enabled': False, 'profile_background_color': 'C0DEED', 'profile_background_image_url': 'http://abs.twimg.com/images/themes/theme1/bg.png', 'profile_background_image_url_https': 'https://abs.twimg.com/images/themes/theme1/bg.png', 'profile_background_tile': False, 'profile_image_url': 'http://pbs.twimg.com/profile_images/378800000655063814/59e6cacf1a3be89f08e93c0dad7fa612_normal.jpeg', 'profile_image_url_https': 'https://pbs.twimg.com/profile_images/378800000655063814/59e6cacf1a3be89f08e93c0dad7fa612_normal.jpeg', 'profile_banner_url': 'https://pbs.twimg.com/profile_banners/1270360148/1594855801', 'profile_link_color': '1DA1F2', 'profile_sidebar_border_color': 'C0DEED', 'profile_sidebar_fill_color': 'DDEEF6', 'profile_text_color': '333333', 'profile_use_background_image': True, 'has_extended_profile': False, 'default_profile': True, 'default_profile_image': False, 'following': False, 'follow_request_sent': False, 'notifications': False, 'translator_type': 'none'}, 'geo': None, 'coordinates': None, 'place': None, 'contributors': None, 'is_quote_status': False, 'retweet_count': 0, 'favorite_count': 0, 'favorited': False, 'retweeted': False, 'possibly_sensitive': False, 'lang': 'en'}, created_at=datetime.datetime(2020, 10, 24, 11, 29, 15), id=1319964164555681792, id_str='1319964164555681792', text='@BiciMAD status https://t.co/1A2fFQAwUv', truncated=False, entities={'hashtags': [], 'symbols': [], 'user_mentions': [{'screen_name': 'BiciMAD', 'name': 'BiciMAD', 'id': 2340495680, 'id_str': '2340495680', 'indices': [0, 8]}], 'urls': [], 'media': [{'id': 1319964163431596032, 'id_str': '1319964163431596032', 'indices': [16, 39], 'media_url': 'http://pbs.twimg.com/media/ElF0acWWAAAQ148.png', 'media_url_https': 'https://pbs.twimg.com/media/ElF0acWWAAAQ148.png', 'url': 'https://t.co/1A2fFQAwUv', 'display_url': 'pic.twitter.com/1A2fFQAwUv', 'expanded_url': 'https://twitter.com/bfmilan/status/1319964164555681792/photo/1', 'type': 'photo', 'sizes': {'large': {'w': 700, 'h': 500, 'resize': 'fit'}, 'medium': {'w': 700, 'h': 500, 'resize': 'fit'}, 'small': {'w': 680, 'h': 486, 'resize': 'fit'}, 'thumb': {'w': 150, 'h': 150, 'resize': 'crop'}}}]}, extended_entities={'media': [{'id': 1319964163431596032, 'id_str': '1319964163431596032', 'indices': [16, 39], 'media_url': 'http://pbs.twimg.com/media/ElF0acWWAAAQ148.png', 'media_url_https': 'https://pbs.twimg.com/media/ElF0acWWAAAQ148.png', 'url': 'https://t.co/1A2fFQAwUv', 'display_url': 'pic.twitter.com/1A2fFQAwUv', 'expanded_url': 'https://twitter.com/bfmilan/status/1319964164555681792/photo/1', 'type': 'photo', 'sizes': {'large': {'w': 700, 'h': 500, 'resize': 'fit'}, 'medium': {'w': 700, 'h': 500, 'resize': 'fit'}, 'small': {'w': 680, 'h': 486, 'resize': 'fit'}, 'thumb': {'w': 150, 'h': 150, 'resize': 'crop'}}}]}, source='bfmilan', source_url='https://twitter.com/bfmilan', in_reply_to_status_id=None, in_reply_to_status_id_str=None, in_reply_to_user_id=2340495680, in_reply_to_user_id_str='2340495680', in_reply_to_screen_name='BiciMAD', author=User(_api=<tweepy.api.API object at 0x130815048>, _json={'id': 1270360148, 'id_str': '1270360148', 'name': 'Blanca Fernandez', 'screen_name': 'bfmilan', 'location': 'Madrid, Spain', 'description': 'una vecina más deseando ver un Madrid que se mueve acorde a los nuevos paradigmas de la movilidad urbana: inclusiva y sostenible.', 'url': None, 'entities': {'description': {'urls': []}}, 'protected': False, 'followers_count': 63, 'friends_count': 171, 'listed_count': 0, 'created_at': 'Fri Mar 15 18:11:34 +0000 2013', 'favourites_count': 2234, 'utc_offset': None, 'time_zone': None, 'geo_enabled': False, 'verified': False, 'statuses_count': 464, 'lang': None, 'contributors_enabled': False, 'is_translator': False, 'is_translation_enabled': False, 'profile_background_color': 'C0DEED', 'profile_background_image_url': 'http://abs.twimg.com/images/themes/theme1/bg.png', 'profile_background_image_url_https': 'https://abs.twimg.com/images/themes/theme1/bg.png', 'profile_background_tile': False, 'profile_image_url': 'http://pbs.twimg.com/profile_images/378800000655063814/59e6cacf1a3be89f08e93c0dad7fa612_normal.jpeg', 'profile_image_url_https': 'https://pbs.twimg.com/profile_images/378800000655063814/59e6cacf1a3be89f08e93c0dad7fa612_normal.jpeg', 'profile_banner_url': 'https://pbs.twimg.com/profile_banners/1270360148/1594855801', 'profile_link_color': '1DA1F2', 'profile_sidebar_border_color': 'C0DEED', 'profile_sidebar_fill_color': 'DDEEF6', 'profile_text_color': '333333', 'profile_use_background_image': True, 'has_extended_profile': False, 'default_profile': True, 'default_profile_image': False, 'following': False, 'follow_request_sent': False, 'notifications': False, 'translator_type': 'none'}, id=1270360148, id_str='1270360148', name='Blanca Fernandez', screen_name='bfmilan', location='Madrid, Spain', description='una vecina más deseando ver un Madrid que se mueve acorde a los nuevos paradigmas de la movilidad urbana: inclusiva y sostenible.', url=None, entities={'description': {'urls': []}}, protected=False, followers_count=63, friends_count=171, listed_count=0, created_at=datetime.datetime(2013, 3, 15, 18, 11, 34), favourites_count=2234, utc_offset=None, time_zone=None, geo_enabled=False, verified=False, statuses_count=464, lang=None, contributors_enabled=False, is_translator=False, is_translation_enabled=False, profile_background_color='C0DEED', profile_background_image_url='http://abs.twimg.com/images/themes/theme1/bg.png', profile_background_image_url_https='https://abs.twimg.com/images/themes/theme1/bg.png', profile_background_tile=False, profile_image_url='http://pbs.twimg.com/profile_images/378800000655063814/59e6cacf1a3be89f08e93c0dad7fa612_normal.jpeg', profile_image_url_https='https://pbs.twimg.com/profile_images/378800000655063814/59e6cacf1a3be89f08e93c0dad7fa612_normal.jpeg', profile_banner_url='https://pbs.twimg.com/profile_banners/1270360148/1594855801', profile_link_color='1DA1F2', profile_sidebar_border_color='C0DEED', profile_sidebar_fill_color='DDEEF6', profile_text_color='333333', profile_use_background_image=True, has_extended_profile=False, default_profile=True, default_profile_image=False, following=False, follow_request_sent=False, notifications=False, translator_type='none'), user=User(_api=<tweepy.api.API object at 0x130815048>, _json={'id': 1270360148, 'id_str': '1270360148', 'name': 'Blanca Fernandez', 'screen_name': 'bfmilan', 'location': 'Madrid, Spain', 'description': 'una vecina más deseando ver un Madrid que se mueve acorde a los nuevos paradigmas de la movilidad urbana: inclusiva y sostenible.', 'url': None, 'entities': {'description': {'urls': []}}, 'protected': False, 'followers_count': 63, 'friends_count': 171, 'listed_count': 0, 'created_at': 'Fri Mar 15 18:11:34 +0000 2013', 'favourites_count': 2234, 'utc_offset': None, 'time_zone': None, 'geo_enabled': False, 'verified': False, 'statuses_count': 464, 'lang': None, 'contributors_enabled': False, 'is_translator': False, 'is_translation_enabled': False, 'profile_background_color': 'C0DEED', 'profile_background_image_url': 'http://abs.twimg.com/images/themes/theme1/bg.png', 'profile_background_image_url_https': 'https://abs.twimg.com/images/themes/theme1/bg.png', 'profile_background_tile': False, 'profile_image_url': 'http://pbs.twimg.com/profile_images/378800000655063814/59e6cacf1a3be89f08e93c0dad7fa612_normal.jpeg', 'profile_image_url_https': 'https://pbs.twimg.com/profile_images/378800000655063814/59e6cacf1a3be89f08e93c0dad7fa612_normal.jpeg', 'profile_banner_url': 'https://pbs.twimg.com/profile_banners/1270360148/1594855801', 'profile_link_color': '1DA1F2', 'profile_sidebar_border_color': 'C0DEED', 'profile_sidebar_fill_color': 'DDEEF6', 'profile_text_color': '333333', 'profile_use_background_image': True, 'has_extended_profile': False, 'default_profile': True, 'default_profile_image': False, 'following': False, 'follow_request_sent': False, 'notifications': False, 'translator_type': 'none'}, id=1270360148, id_str='1270360148', name='Blanca Fernandez', screen_name='bfmilan', location='Madrid, Spain', description='una vecina más deseando ver un Madrid que se mueve acorde a los nuevos paradigmas de la movilidad urbana: inclusiva y sostenible.', url=None, entities={'description': {'urls': []}}, protected=False, followers_count=63, friends_count=171, listed_count=0, created_at=datetime.datetime(2013, 3, 15, 18, 11, 34), favourites_count=2234, utc_offset=None, time_zone=None, geo_enabled=False, verified=False, statuses_count=464, lang=None, contributors_enabled=False, is_translator=False, is_translation_enabled=False, profile_background_color='C0DEED', profile_background_image_url='http://abs.twimg.com/images/themes/theme1/bg.png', profile_background_image_url_https='https://abs.twimg.com/images/themes/theme1/bg.png', profile_background_tile=False, profile_image_url='http://pbs.twimg.com/profile_images/378800000655063814/59e6cacf1a3be89f08e93c0dad7fa612_normal.jpeg', profile_image_url_https='https://pbs.twimg.com/profile_images/378800000655063814/59e6cacf1a3be89f08e93c0dad7fa612_normal.jpeg', profile_banner_url='https://pbs.twimg.com/profile_banners/1270360148/1594855801', profile_link_color='1DA1F2', profile_sidebar_border_color='C0DEED', profile_sidebar_fill_color='DDEEF6', profile_text_color='333333', profile_use_background_image=True, has_extended_profile=False, default_profile=True, default_profile_image=False, following=False, follow_request_sent=False, notifications=False, translator_type='none'), geo=None, coordinates=None, place=None, contributors=None, is_quote_status=False, retweet_count=0, favorite_count=0, favorited=False, retweeted=False, possibly_sensitive=False, lang='en')"
      ]
     },
     "execution_count": 25,
     "metadata": {},
     "output_type": "execute_result"
    }
   ],
   "source": [
    "api.update_with_media(status=message, filename = '/Users/Blanca/ironhack/gitrepo/ih_datamadpt0420_final_project/data/results/tweet_sentiment.png')"
   ]
  },
  {
   "cell_type": "code",
   "execution_count": null,
   "metadata": {},
   "outputs": [],
   "source": [
    "images = ('image1.png', 'image2.png')\n",
    "media_ids = [api.media_upload(i).media_id_string for i in images]\n",
    "api.update_status(status=msg, media_ids=media_ids)"
   ]
  },
  {
   "cell_type": "code",
   "execution_count": null,
   "metadata": {},
   "outputs": [],
   "source": []
  }
 ],
 "metadata": {
  "kernelspec": {
   "display_name": "Python [conda env:ironhack]",
   "language": "python",
   "name": "conda-env-ironhack-py"
  },
  "language_info": {
   "codemirror_mode": {
    "name": "ipython",
    "version": 3
   },
   "file_extension": ".py",
   "mimetype": "text/x-python",
   "name": "python",
   "nbconvert_exporter": "python",
   "pygments_lexer": "ipython3",
   "version": "3.7.3"
  }
 },
 "nbformat": 4,
 "nbformat_minor": 4
}
