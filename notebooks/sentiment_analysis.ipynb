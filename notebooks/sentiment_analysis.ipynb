{
 "cells": [
  {
   "cell_type": "markdown",
   "metadata": {},
   "source": [
    "# Tweeter Sentiment Analysis"
   ]
  },
  {
   "cell_type": "markdown",
   "metadata": {},
   "source": [
    "This notebook includes all actions to do sentiment analysis using Transformers .<br>\n",
    "**Data**: CSV saved in '../data/processed/data.csv. This file contains all updated tweets (old and new) as per 'analysis module'"
   ]
  },
  {
   "cell_type": "markdown",
   "metadata": {},
   "source": [
    "**Key actions** \n",
    "<br> <hr>\n",
    "- Identify and remove duplicate records\n",
    "- Identify and remove Tweets done by user = BiciMAD \n",
    "- Examine data for potential issues\n",
    "- Identify and fill in missing values\n",
    "- *Remove low variance columns (potentially not needed)*\n",
    "- Identify potential outliers *(potentially not needed)*\n",
    "- Correct incorrect data types *(potentially only text variable)*\n",
    "- Remove special characters and clean categorical variables *(potentially only text variable)*\n",
    "<br>"
   ]
  },
  {
   "cell_type": "markdown",
   "metadata": {},
   "source": [
    "## 1. Read & clean data"
   ]
  },
  {
   "cell_type": "markdown",
   "metadata": {},
   "source": [
    "#### 1.1 Read data\n",
    "<hr>"
   ]
  },
  {
   "cell_type": "code",
   "execution_count": 180,
   "metadata": {},
   "outputs": [],
   "source": [
    "# all modules\n",
    "import pandas as pd\n",
    "# if packaches need upload \n",
    "# pip install --upgrade pip"
   ]
  },
  {
   "cell_type": "code",
   "execution_count": 196,
   "metadata": {},
   "outputs": [],
   "source": [
    "# load dataset\n",
    "data = pd.read_csv('../data/processed/data.csv')"
   ]
  },
  {
   "cell_type": "code",
   "execution_count": 198,
   "metadata": {},
   "outputs": [
    {
     "data": {
      "text/plain": [
       "(4494, 4)"
      ]
     },
     "execution_count": 198,
     "metadata": {},
     "output_type": "execute_result"
    }
   ],
   "source": [
    "data.shape"
   ]
  },
  {
   "cell_type": "code",
   "execution_count": 184,
   "metadata": {},
   "outputs": [
    {
     "data": {
      "text/plain": [
       "date         object\n",
       "id            int64\n",
       "text         object\n",
       "user_name    object\n",
       "dtype: object"
      ]
     },
     "execution_count": 184,
     "metadata": {},
     "output_type": "execute_result"
    }
   ],
   "source": [
    "data.dtypes"
   ]
  },
  {
   "cell_type": "code",
   "execution_count": 185,
   "metadata": {},
   "outputs": [
    {
     "data": {
      "text/html": [
       "<div>\n",
       "<style scoped>\n",
       "    .dataframe tbody tr th:only-of-type {\n",
       "        vertical-align: middle;\n",
       "    }\n",
       "\n",
       "    .dataframe tbody tr th {\n",
       "        vertical-align: top;\n",
       "    }\n",
       "\n",
       "    .dataframe thead th {\n",
       "        text-align: right;\n",
       "    }\n",
       "</style>\n",
       "<table border=\"1\" class=\"dataframe\">\n",
       "  <thead>\n",
       "    <tr style=\"text-align: right;\">\n",
       "      <th></th>\n",
       "      <th>date</th>\n",
       "      <th>id</th>\n",
       "      <th>text</th>\n",
       "      <th>user_name</th>\n",
       "    </tr>\n",
       "  </thead>\n",
       "  <tbody>\n",
       "    <tr>\n",
       "      <th>0</th>\n",
       "      <td>2020-10-10 11:07:26</td>\n",
       "      <td>1314885243531399169</td>\n",
       "      <td>@PlataformaEMT @FRAVM @BiciMAD @AlmeidaPP_ @bc...</td>\n",
       "      <td>VICENTE RODRIGUEZ MU</td>\n",
       "    </tr>\n",
       "    <tr>\n",
       "      <th>1</th>\n",
       "      <td>2020-10-10 10:38:11</td>\n",
       "      <td>1314877884067188736</td>\n",
       "      <td>@PlataformaEMT @MADRID @AlmeidaPP_ @bcarabante...</td>\n",
       "      <td>Stielike</td>\n",
       "    </tr>\n",
       "    <tr>\n",
       "      <th>2</th>\n",
       "      <td>2020-10-10 10:35:49</td>\n",
       "      <td>1314877290489184261</td>\n",
       "      <td>@mcascallares Ha podido tratarse de un fallo p...</td>\n",
       "      <td>BiciMAD</td>\n",
       "    </tr>\n",
       "    <tr>\n",
       "      <th>3</th>\n",
       "      <td>2020-10-10 10:35:14</td>\n",
       "      <td>1314877141658542083</td>\n",
       "      <td>@AnxoOroisPhoto Te pedimos disculpas, ha podid...</td>\n",
       "      <td>BiciMAD</td>\n",
       "    </tr>\n",
       "    <tr>\n",
       "      <th>4</th>\n",
       "      <td>2020-10-10 10:13:18</td>\n",
       "      <td>1314871622487212033</td>\n",
       "      <td>Hola @BiciMAD la app no funciona, llevo 1 hora...</td>\n",
       "      <td>AnxoOroisPhotography</td>\n",
       "    </tr>\n",
       "  </tbody>\n",
       "</table>\n",
       "</div>"
      ],
      "text/plain": [
       "                  date                   id  \\\n",
       "0  2020-10-10 11:07:26  1314885243531399169   \n",
       "1  2020-10-10 10:38:11  1314877884067188736   \n",
       "2  2020-10-10 10:35:49  1314877290489184261   \n",
       "3  2020-10-10 10:35:14  1314877141658542083   \n",
       "4  2020-10-10 10:13:18  1314871622487212033   \n",
       "\n",
       "                                                text             user_name  \n",
       "0  @PlataformaEMT @FRAVM @BiciMAD @AlmeidaPP_ @bc...  VICENTE RODRIGUEZ MU  \n",
       "1  @PlataformaEMT @MADRID @AlmeidaPP_ @bcarabante...              Stielike  \n",
       "2  @mcascallares Ha podido tratarse de un fallo p...               BiciMAD  \n",
       "3  @AnxoOroisPhoto Te pedimos disculpas, ha podid...               BiciMAD  \n",
       "4  Hola @BiciMAD la app no funciona, llevo 1 hora...  AnxoOroisPhotography  "
      ]
     },
     "execution_count": 185,
     "metadata": {},
     "output_type": "execute_result"
    }
   ],
   "source": [
    "data.head(5)"
   ]
  },
  {
   "cell_type": "markdown",
   "metadata": {},
   "source": [
    "#### 1.2 Clean data\n",
    "<hr>"
   ]
  },
  {
   "cell_type": "code",
   "execution_count": 186,
   "metadata": {},
   "outputs": [],
   "source": [
    "# change date type from 'object' to 'date'\n",
    "data['date'] = pd.to_datetime(data['date'])"
   ]
  },
  {
   "cell_type": "code",
   "execution_count": 187,
   "metadata": {},
   "outputs": [
    {
     "data": {
      "text/plain": [
       "date         datetime64[ns]\n",
       "id                    int64\n",
       "text                 object\n",
       "user_name            object\n",
       "dtype: object"
      ]
     },
     "execution_count": 187,
     "metadata": {},
     "output_type": "execute_result"
    }
   ],
   "source": [
    "data.dtypes"
   ]
  },
  {
   "cell_type": "code",
   "execution_count": 188,
   "metadata": {},
   "outputs": [
    {
     "data": {
      "text/plain": [
       "date         0\n",
       "id           0\n",
       "text         0\n",
       "user_name    0\n",
       "dtype: int64"
      ]
     },
     "execution_count": 188,
     "metadata": {},
     "output_type": "execute_result"
    }
   ],
   "source": [
    "data.isnull().sum()"
   ]
  },
  {
   "cell_type": "code",
   "execution_count": 189,
   "metadata": {},
   "outputs": [
    {
     "data": {
      "text/plain": [
       "0"
      ]
     },
     "execution_count": 189,
     "metadata": {},
     "output_type": "execute_result"
    }
   ],
   "source": [
    "# count duplicates 'id' to be sure\n",
    "len(data['id'])-len(data['id'].drop_duplicates())"
   ]
  },
  {
   "cell_type": "code",
   "execution_count": 190,
   "metadata": {},
   "outputs": [
    {
     "data": {
      "text/plain": [
       "date         0\n",
       "id           0\n",
       "text         0\n",
       "user_name    0\n",
       "dtype: int64"
      ]
     },
     "execution_count": 190,
     "metadata": {},
     "output_type": "execute_result"
    }
   ],
   "source": [
    "data.isnull().sum()"
   ]
  },
  {
   "cell_type": "code",
   "execution_count": 191,
   "metadata": {},
   "outputs": [
    {
     "data": {
      "text/plain": [
       "count    4.643000e+03\n",
       "mean     1.314161e+18\n",
       "std      1.951459e+15\n",
       "min      1.310830e+18\n",
       "25%      1.312023e+18\n",
       "50%      1.314581e+18\n",
       "75%      1.315936e+18\n",
       "max      1.317360e+18\n",
       "Name: id, dtype: float64"
      ]
     },
     "execution_count": 191,
     "metadata": {},
     "output_type": "execute_result"
    }
   ],
   "source": [
    "data['id'].describe()"
   ]
  },
  {
   "cell_type": "code",
   "execution_count": 192,
   "metadata": {},
   "outputs": [],
   "source": [
    "# drop duplicates\n",
    "data.drop_duplicates(subset=['id'],keep='last', inplace= True)"
   ]
  },
  {
   "cell_type": "code",
   "execution_count": 193,
   "metadata": {},
   "outputs": [
    {
     "data": {
      "text/plain": [
       "(4643, 4)"
      ]
     },
     "execution_count": 193,
     "metadata": {},
     "output_type": "execute_result"
    }
   ],
   "source": [
    "data.shape"
   ]
  },
  {
   "cell_type": "markdown",
   "metadata": {},
   "source": [
    "#### 1.3 Take out BiciMad Tweets\n",
    "<hr>"
   ]
  },
  {
   "cell_type": "code",
   "execution_count": 194,
   "metadata": {},
   "outputs": [],
   "source": [
    "# data analysis => sorting\n",
    "data = data.sort_values('user_name', ascending=False)"
   ]
  },
  {
   "cell_type": "code",
   "execution_count": 195,
   "metadata": {},
   "outputs": [
    {
     "data": {
      "text/plain": [
       "BiciMAD                149\n",
       "ErBoteRojo              91\n",
       "deteibols               87\n",
       "Jesús García Diaz       77\n",
       "Plataforma Sindical     76\n",
       "                      ... \n",
       "#NiOlvidoNiPerdon        1\n",
       "Unai Zarraolandia        1\n",
       "pili bu                  1\n",
       "Carabanchel              1\n",
       "CarlAmado                1\n",
       "Name: user_name, Length: 1761, dtype: int64"
      ]
     },
     "execution_count": 195,
     "metadata": {},
     "output_type": "execute_result"
    }
   ],
   "source": [
    "data['user_name'].value_counts()"
   ]
  },
  {
   "cell_type": "code",
   "execution_count": 137,
   "metadata": {},
   "outputs": [],
   "source": [
    "data = data[data.user_name != 'BiciMAD']"
   ]
  },
  {
   "cell_type": "code",
   "execution_count": 138,
   "metadata": {},
   "outputs": [
    {
     "data": {
      "text/plain": [
       "Index(['date', 'id', 'text', 'user_name'], dtype='object')"
      ]
     },
     "execution_count": 138,
     "metadata": {},
     "output_type": "execute_result"
    }
   ],
   "source": [
    "data.columns"
   ]
  },
  {
   "cell_type": "markdown",
   "metadata": {},
   "source": [
    "## 2. Explore data"
   ]
  },
  {
   "cell_type": "markdown",
   "metadata": {},
   "source": [
    "#### 2.1 Sort values by 'date' and reset index\n",
    "<hr>"
   ]
  },
  {
   "cell_type": "code",
   "execution_count": 139,
   "metadata": {},
   "outputs": [],
   "source": [
    "data = data.sort_values(by ='date', ascending=True)"
   ]
  },
  {
   "cell_type": "code",
   "execution_count": 140,
   "metadata": {},
   "outputs": [],
   "source": [
    "data = data.reset_index()"
   ]
  },
  {
   "cell_type": "code",
   "execution_count": 141,
   "metadata": {},
   "outputs": [],
   "source": [
    "data = data.drop(columns =['index'])"
   ]
  },
  {
   "cell_type": "code",
   "execution_count": 142,
   "metadata": {},
   "outputs": [
    {
     "data": {
      "text/html": [
       "<div>\n",
       "<style scoped>\n",
       "    .dataframe tbody tr th:only-of-type {\n",
       "        vertical-align: middle;\n",
       "    }\n",
       "\n",
       "    .dataframe tbody tr th {\n",
       "        vertical-align: top;\n",
       "    }\n",
       "\n",
       "    .dataframe thead th {\n",
       "        text-align: right;\n",
       "    }\n",
       "</style>\n",
       "<table border=\"1\" class=\"dataframe\">\n",
       "  <thead>\n",
       "    <tr style=\"text-align: right;\">\n",
       "      <th></th>\n",
       "      <th>date</th>\n",
       "      <th>id</th>\n",
       "      <th>text</th>\n",
       "      <th>user_name</th>\n",
       "    </tr>\n",
       "  </thead>\n",
       "  <tbody>\n",
       "    <tr>\n",
       "      <th>4474</th>\n",
       "      <td>2020-10-17 06:03:09</td>\n",
       "      <td>1317345386223276032</td>\n",
       "      <td>RT @PlataformaEMT: Llego @bcarabante y paraliz...</td>\n",
       "      <td>Angel Salinas</td>\n",
       "    </tr>\n",
       "    <tr>\n",
       "      <th>4475</th>\n",
       "      <td>2020-10-17 06:04:20</td>\n",
       "      <td>1317345683767164928</td>\n",
       "      <td>RT @imberbe67: Aquí un ejemplo de cómo se la p...</td>\n",
       "      <td>Juan talavera</td>\n",
       "    </tr>\n",
       "    <tr>\n",
       "      <th>4476</th>\n",
       "      <td>2020-10-17 06:13:41</td>\n",
       "      <td>1317348035182080003</td>\n",
       "      <td>RT @Batperro82: Hoy, gracias a mi odisea por l...</td>\n",
       "      <td>Miguel Ángel Medina</td>\n",
       "    </tr>\n",
       "    <tr>\n",
       "      <th>4477</th>\n",
       "      <td>2020-10-17 06:13:56</td>\n",
       "      <td>1317348099883438080</td>\n",
       "      <td>RT @PlataformaEMT: @bcarabante @EMTmadrid Hay ...</td>\n",
       "      <td>ErBoteRojo</td>\n",
       "    </tr>\n",
       "    <tr>\n",
       "      <th>4478</th>\n",
       "      <td>2020-10-17 06:14:02</td>\n",
       "      <td>1317348124239810560</td>\n",
       "      <td>RT @PlataformaEMT: @bcarabante @EMTmadrid @Bic...</td>\n",
       "      <td>ErBoteRojo</td>\n",
       "    </tr>\n",
       "    <tr>\n",
       "      <th>4479</th>\n",
       "      <td>2020-10-17 06:14:18</td>\n",
       "      <td>1317348189394128896</td>\n",
       "      <td>RT @JessGarcaDiaz3: @bcarabante @EMTmadrid Lo ...</td>\n",
       "      <td>ErBoteRojo</td>\n",
       "    </tr>\n",
       "    <tr>\n",
       "      <th>4480</th>\n",
       "      <td>2020-10-17 06:14:43</td>\n",
       "      <td>1317348295929483265</td>\n",
       "      <td>RT @Bacoher: @bcarabante @EMTmadrid Será sinve...</td>\n",
       "      <td>ErBoteRojo</td>\n",
       "    </tr>\n",
       "    <tr>\n",
       "      <th>4481</th>\n",
       "      <td>2020-10-17 06:16:22</td>\n",
       "      <td>1317348711303942144</td>\n",
       "      <td>RT @Batperro82: Hoy, gracias a mi odisea por l...</td>\n",
       "      <td>movilidadleganes</td>\n",
       "    </tr>\n",
       "    <tr>\n",
       "      <th>4482</th>\n",
       "      <td>2020-10-17 06:29:38</td>\n",
       "      <td>1317352049676341253</td>\n",
       "      <td>RT @PlataformaEMT: @bcarabante @EMTmadrid Hay ...</td>\n",
       "      <td>Mayi77</td>\n",
       "    </tr>\n",
       "    <tr>\n",
       "      <th>4483</th>\n",
       "      <td>2020-10-17 06:35:38</td>\n",
       "      <td>1317353559046934533</td>\n",
       "      <td>@bcarabante @EMTmadrid Han incorporado conduct...</td>\n",
       "      <td>Mayi77</td>\n",
       "    </tr>\n",
       "    <tr>\n",
       "      <th>4484</th>\n",
       "      <td>2020-10-17 06:37:46</td>\n",
       "      <td>1317354095741702145</td>\n",
       "      <td>RT @Mayi771: @bcarabante @EMTmadrid Han incorp...</td>\n",
       "      <td>BICIMAD EN LUCHA</td>\n",
       "    </tr>\n",
       "    <tr>\n",
       "      <th>4485</th>\n",
       "      <td>2020-10-17 06:43:21</td>\n",
       "      <td>1317355501865324545</td>\n",
       "      <td>@Mayi771 @bcarabante @EMTmadrid @BiciMAD Por c...</td>\n",
       "      <td>BICIMAD EN LUCHA</td>\n",
       "    </tr>\n",
       "    <tr>\n",
       "      <th>4486</th>\n",
       "      <td>2020-10-17 06:48:04</td>\n",
       "      <td>1317356690094915584</td>\n",
       "      <td>RT @PlataformaEMT: @bcarabante @EMTmadrid Hay ...</td>\n",
       "      <td>Javi</td>\n",
       "    </tr>\n",
       "    <tr>\n",
       "      <th>4487</th>\n",
       "      <td>2020-10-17 06:48:12</td>\n",
       "      <td>1317356723682803712</td>\n",
       "      <td>RT @PlataformaEMT: @bcarabante @EMTmadrid @Bic...</td>\n",
       "      <td>Javi</td>\n",
       "    </tr>\n",
       "    <tr>\n",
       "      <th>4488</th>\n",
       "      <td>2020-10-17 06:48:32</td>\n",
       "      <td>1317356806470074368</td>\n",
       "      <td>RT @Bacoher: @bcarabante @EMTmadrid Será sinve...</td>\n",
       "      <td>Javi</td>\n",
       "    </tr>\n",
       "    <tr>\n",
       "      <th>4489</th>\n",
       "      <td>2020-10-17 06:49:45</td>\n",
       "      <td>1317357111261728768</td>\n",
       "      <td>RT @Batperro82: Hoy, gracias a mi odisea por l...</td>\n",
       "      <td>AP-Madrid Nosevende</td>\n",
       "    </tr>\n",
       "    <tr>\n",
       "      <th>4490</th>\n",
       "      <td>2020-10-17 06:53:35</td>\n",
       "      <td>1317358078686265345</td>\n",
       "      <td>La pésima gestión de Bicimad nos obligan a vol...</td>\n",
       "      <td>BICIMAD EN LUCHA</td>\n",
       "    </tr>\n",
       "    <tr>\n",
       "      <th>4491</th>\n",
       "      <td>2020-10-17 07:01:21</td>\n",
       "      <td>1317360030895738880</td>\n",
       "      <td>RT @Bacoher: @bcarabante @EMTmadrid Será sinve...</td>\n",
       "      <td>Julio</td>\n",
       "    </tr>\n",
       "    <tr>\n",
       "      <th>4492</th>\n",
       "      <td>2020-10-17 07:01:52</td>\n",
       "      <td>1317360160378159104</td>\n",
       "      <td>RT @PlataformaEMT: @bcarabante @EMTmadrid @Bic...</td>\n",
       "      <td>Julio</td>\n",
       "    </tr>\n",
       "    <tr>\n",
       "      <th>4493</th>\n",
       "      <td>2020-10-17 07:02:08</td>\n",
       "      <td>1317360226857852928</td>\n",
       "      <td>RT @PlataformaEMT: @bcarabante @EMTmadrid Hay ...</td>\n",
       "      <td>Julio</td>\n",
       "    </tr>\n",
       "  </tbody>\n",
       "</table>\n",
       "</div>"
      ],
      "text/plain": [
       "                    date                   id  \\\n",
       "4474 2020-10-17 06:03:09  1317345386223276032   \n",
       "4475 2020-10-17 06:04:20  1317345683767164928   \n",
       "4476 2020-10-17 06:13:41  1317348035182080003   \n",
       "4477 2020-10-17 06:13:56  1317348099883438080   \n",
       "4478 2020-10-17 06:14:02  1317348124239810560   \n",
       "4479 2020-10-17 06:14:18  1317348189394128896   \n",
       "4480 2020-10-17 06:14:43  1317348295929483265   \n",
       "4481 2020-10-17 06:16:22  1317348711303942144   \n",
       "4482 2020-10-17 06:29:38  1317352049676341253   \n",
       "4483 2020-10-17 06:35:38  1317353559046934533   \n",
       "4484 2020-10-17 06:37:46  1317354095741702145   \n",
       "4485 2020-10-17 06:43:21  1317355501865324545   \n",
       "4486 2020-10-17 06:48:04  1317356690094915584   \n",
       "4487 2020-10-17 06:48:12  1317356723682803712   \n",
       "4488 2020-10-17 06:48:32  1317356806470074368   \n",
       "4489 2020-10-17 06:49:45  1317357111261728768   \n",
       "4490 2020-10-17 06:53:35  1317358078686265345   \n",
       "4491 2020-10-17 07:01:21  1317360030895738880   \n",
       "4492 2020-10-17 07:01:52  1317360160378159104   \n",
       "4493 2020-10-17 07:02:08  1317360226857852928   \n",
       "\n",
       "                                                   text            user_name  \n",
       "4474  RT @PlataformaEMT: Llego @bcarabante y paraliz...        Angel Salinas  \n",
       "4475  RT @imberbe67: Aquí un ejemplo de cómo se la p...        Juan talavera  \n",
       "4476  RT @Batperro82: Hoy, gracias a mi odisea por l...  Miguel Ángel Medina  \n",
       "4477  RT @PlataformaEMT: @bcarabante @EMTmadrid Hay ...           ErBoteRojo  \n",
       "4478  RT @PlataformaEMT: @bcarabante @EMTmadrid @Bic...           ErBoteRojo  \n",
       "4479  RT @JessGarcaDiaz3: @bcarabante @EMTmadrid Lo ...           ErBoteRojo  \n",
       "4480  RT @Bacoher: @bcarabante @EMTmadrid Será sinve...           ErBoteRojo  \n",
       "4481  RT @Batperro82: Hoy, gracias a mi odisea por l...     movilidadleganes  \n",
       "4482  RT @PlataformaEMT: @bcarabante @EMTmadrid Hay ...               Mayi77  \n",
       "4483  @bcarabante @EMTmadrid Han incorporado conduct...               Mayi77  \n",
       "4484  RT @Mayi771: @bcarabante @EMTmadrid Han incorp...     BICIMAD EN LUCHA  \n",
       "4485  @Mayi771 @bcarabante @EMTmadrid @BiciMAD Por c...     BICIMAD EN LUCHA  \n",
       "4486  RT @PlataformaEMT: @bcarabante @EMTmadrid Hay ...                 Javi  \n",
       "4487  RT @PlataformaEMT: @bcarabante @EMTmadrid @Bic...                 Javi  \n",
       "4488  RT @Bacoher: @bcarabante @EMTmadrid Será sinve...                 Javi  \n",
       "4489  RT @Batperro82: Hoy, gracias a mi odisea por l...  AP-Madrid Nosevende  \n",
       "4490  La pésima gestión de Bicimad nos obligan a vol...     BICIMAD EN LUCHA  \n",
       "4491  RT @Bacoher: @bcarabante @EMTmadrid Será sinve...                Julio  \n",
       "4492  RT @PlataformaEMT: @bcarabante @EMTmadrid @Bic...                Julio  \n",
       "4493  RT @PlataformaEMT: @bcarabante @EMTmadrid Hay ...                Julio  "
      ]
     },
     "execution_count": 142,
     "metadata": {},
     "output_type": "execute_result"
    }
   ],
   "source": [
    "data.tail(20)"
   ]
  },
  {
   "cell_type": "markdown",
   "metadata": {},
   "source": [
    "#### 2.2 Check most recent tweets from users\n",
    "<hr>"
   ]
  },
  {
   "cell_type": "code",
   "execution_count": 157,
   "metadata": {},
   "outputs": [
    {
     "data": {
      "text/html": [
       "<div>\n",
       "<style scoped>\n",
       "    .dataframe tbody tr th:only-of-type {\n",
       "        vertical-align: middle;\n",
       "    }\n",
       "\n",
       "    .dataframe tbody tr th {\n",
       "        vertical-align: top;\n",
       "    }\n",
       "\n",
       "    .dataframe thead th {\n",
       "        text-align: right;\n",
       "    }\n",
       "</style>\n",
       "<table border=\"1\" class=\"dataframe\">\n",
       "  <thead>\n",
       "    <tr style=\"text-align: right;\">\n",
       "      <th></th>\n",
       "      <th>date</th>\n",
       "      <th>id</th>\n",
       "      <th>text</th>\n",
       "      <th>user_name</th>\n",
       "      <th>tweets_clean</th>\n",
       "    </tr>\n",
       "  </thead>\n",
       "  <tbody>\n",
       "    <tr>\n",
       "      <th>141</th>\n",
       "      <td>2020-09-30 16:27:39</td>\n",
       "      <td>1311341950835007493</td>\n",
       "      <td>un mes más... y @BiciMAD no parece que vaya po...</td>\n",
       "      <td>Blanca Fernandez</td>\n",
       "      <td>un mes m s y no parece que vaya por buen camino</td>\n",
       "    </tr>\n",
       "    <tr>\n",
       "      <th>1392</th>\n",
       "      <td>2020-10-02 19:39:15</td>\n",
       "      <td>1312114944427479040</td>\n",
       "      <td>de mal en peor cads@vez que me meto a bóchese ...</td>\n",
       "      <td>Blanca Fernandez</td>\n",
       "      <td>de mal en peor cads que me meto a b chese como...</td>\n",
       "    </tr>\n",
       "    <tr>\n",
       "      <th>2379</th>\n",
       "      <td>2020-10-10 12:18:52</td>\n",
       "      <td>1314903221127786496</td>\n",
       "      <td>que pena de verdad @BiciMAD https://t.co/ZJocU...</td>\n",
       "      <td>Blanca Fernandez</td>\n",
       "      <td>que pena de verdad</td>\n",
       "    </tr>\n",
       "    <tr>\n",
       "      <th>2720</th>\n",
       "      <td>2020-10-11 18:15:02</td>\n",
       "      <td>1315355242876280834</td>\n",
       "      <td>dejar o no dejar de seguir a @BiciMAD para no ...</td>\n",
       "      <td>Blanca Fernandez</td>\n",
       "      <td>dejar o no dejar de seguir a para no leer por ...</td>\n",
       "    </tr>\n",
       "    <tr>\n",
       "      <th>3181</th>\n",
       "      <td>2020-10-12 20:04:29</td>\n",
       "      <td>1315745172119060481</td>\n",
       "      <td>pues no, no dejaré de seguir a @BiciMAD  porqu...</td>\n",
       "      <td>Blanca Fernandez</td>\n",
       "      <td>pues no no dejar de seguir a porque sus trabaj...</td>\n",
       "    </tr>\n",
       "  </tbody>\n",
       "</table>\n",
       "</div>"
      ],
      "text/plain": [
       "                    date                   id  \\\n",
       "141  2020-09-30 16:27:39  1311341950835007493   \n",
       "1392 2020-10-02 19:39:15  1312114944427479040   \n",
       "2379 2020-10-10 12:18:52  1314903221127786496   \n",
       "2720 2020-10-11 18:15:02  1315355242876280834   \n",
       "3181 2020-10-12 20:04:29  1315745172119060481   \n",
       "\n",
       "                                                   text         user_name  \\\n",
       "141   un mes más... y @BiciMAD no parece que vaya po...  Blanca Fernandez   \n",
       "1392  de mal en peor cads@vez que me meto a bóchese ...  Blanca Fernandez   \n",
       "2379  que pena de verdad @BiciMAD https://t.co/ZJocU...  Blanca Fernandez   \n",
       "2720  dejar o no dejar de seguir a @BiciMAD para no ...  Blanca Fernandez   \n",
       "3181  pues no, no dejaré de seguir a @BiciMAD  porqu...  Blanca Fernandez   \n",
       "\n",
       "                                           tweets_clean  \n",
       "141     un mes m s y no parece que vaya por buen camino  \n",
       "1392  de mal en peor cads que me meto a b chese como...  \n",
       "2379                                 que pena de verdad  \n",
       "2720  dejar o no dejar de seguir a para no leer por ...  \n",
       "3181  pues no no dejar de seguir a porque sus trabaj...  "
      ]
     },
     "execution_count": 157,
     "metadata": {},
     "output_type": "execute_result"
    }
   ],
   "source": [
    "data.loc[data['user_name'] == 'Blanca Fernandez']"
   ]
  },
  {
   "cell_type": "code",
   "execution_count": 158,
   "metadata": {},
   "outputs": [],
   "source": [
    "# Sacar subsets\n",
    "# data_subset = data[data['user_name'].isin(['Blanca Fenrandez', 'BICIMAD EN LUCHA'])]"
   ]
  },
  {
   "cell_type": "code",
   "execution_count": 159,
   "metadata": {},
   "outputs": [],
   "source": [
    "# data_subset"
   ]
  },
  {
   "cell_type": "code",
   "execution_count": 160,
   "metadata": {},
   "outputs": [
    {
     "data": {
      "text/plain": [
       "Timestamp('2020-09-29 06:34:23')"
      ]
     },
     "execution_count": 160,
     "metadata": {},
     "output_type": "execute_result"
    }
   ],
   "source": [
    "# First tweet available date\n",
    "data['date'].min()"
   ]
  },
  {
   "cell_type": "code",
   "execution_count": 161,
   "metadata": {},
   "outputs": [
    {
     "data": {
      "text/plain": [
       "Timestamp('2020-10-17 07:02:08')"
      ]
     },
     "execution_count": 161,
     "metadata": {},
     "output_type": "execute_result"
    }
   ],
   "source": [
    "# Most recent tweet date\n",
    "data['date'].max()"
   ]
  },
  {
   "cell_type": "code",
   "execution_count": 82,
   "metadata": {},
   "outputs": [],
   "source": [
    "# saving data\n",
    "# data.to_csv('../data/processed/data.csv', index=False)"
   ]
  },
  {
   "cell_type": "code",
   "execution_count": null,
   "metadata": {},
   "outputs": [],
   "source": []
  },
  {
   "cell_type": "code",
   "execution_count": 172,
   "metadata": {},
   "outputs": [
    {
     "data": {
      "text/html": [
       "<div>\n",
       "<style scoped>\n",
       "    .dataframe tbody tr th:only-of-type {\n",
       "        vertical-align: middle;\n",
       "    }\n",
       "\n",
       "    .dataframe tbody tr th {\n",
       "        vertical-align: top;\n",
       "    }\n",
       "\n",
       "    .dataframe thead th {\n",
       "        text-align: right;\n",
       "    }\n",
       "</style>\n",
       "<table border=\"1\" class=\"dataframe\">\n",
       "  <thead>\n",
       "    <tr style=\"text-align: right;\">\n",
       "      <th></th>\n",
       "      <th>date</th>\n",
       "      <th>id</th>\n",
       "      <th>text</th>\n",
       "      <th>user_name</th>\n",
       "      <th>tweets_clean</th>\n",
       "    </tr>\n",
       "  </thead>\n",
       "  <tbody>\n",
       "    <tr>\n",
       "      <th>0</th>\n",
       "      <td>2020-09-29 06:34:23</td>\n",
       "      <td>1310830261450539009</td>\n",
       "      <td>RT @carnecrudaradio: Quiero felicitar al alcal...</td>\n",
       "      <td>alex vega</td>\n",
       "      <td>RT Quiero felicitar al alcalde por su exitosa ...</td>\n",
       "    </tr>\n",
       "    <tr>\n",
       "      <th>1</th>\n",
       "      <td>2020-09-29 07:01:33</td>\n",
       "      <td>1310837099189473280</td>\n",
       "      <td>Señores de @BiciMAD @MADRID las bicis están mu...</td>\n",
       "      <td>Neuroneater</td>\n",
       "      <td>Se ores de las bicis estan muy descuidadas lo ...</td>\n",
       "    </tr>\n",
       "    <tr>\n",
       "      <th>2</th>\n",
       "      <td>2020-09-29 07:43:50</td>\n",
       "      <td>1310847740386201600</td>\n",
       "      <td>@JMDLatina Espero de este distrito no solo que...</td>\n",
       "      <td>Andrés Pina</td>\n",
       "      <td>Espero de este distrito no solo que proteja el...</td>\n",
       "    </tr>\n",
       "    <tr>\n",
       "      <th>3</th>\n",
       "      <td>2020-09-29 07:53:20</td>\n",
       "      <td>1310850131344920576</td>\n",
       "      <td>RT @_AguilarM: @PlataformaEMT @BiciMAD @bcarab...</td>\n",
       "      <td>ElMaNDaLoRiaNo</td>\n",
       "      <td>RT AguilarM O la fecha de la ultima OPE para A...</td>\n",
       "    </tr>\n",
       "    <tr>\n",
       "      <th>4</th>\n",
       "      <td>2020-09-29 08:05:56</td>\n",
       "      <td>1310853301810888704</td>\n",
       "      <td>La misma vergüenza de TODOS los días. Una esta...</td>\n",
       "      <td>Diego Azul</td>\n",
       "      <td>La misma verguenza de TODOS los dias Una estac...</td>\n",
       "    </tr>\n",
       "    <tr>\n",
       "      <th>...</th>\n",
       "      <td>...</td>\n",
       "      <td>...</td>\n",
       "      <td>...</td>\n",
       "      <td>...</td>\n",
       "      <td>...</td>\n",
       "    </tr>\n",
       "    <tr>\n",
       "      <th>4489</th>\n",
       "      <td>2020-10-17 06:49:45</td>\n",
       "      <td>1317357111261728768</td>\n",
       "      <td>RT @Batperro82: Hoy, gracias a mi odisea por l...</td>\n",
       "      <td>AP-Madrid Nosevende</td>\n",
       "      <td>RT Hoy gracias a mi odisea por las estaciones ...</td>\n",
       "    </tr>\n",
       "    <tr>\n",
       "      <th>4490</th>\n",
       "      <td>2020-10-17 06:53:35</td>\n",
       "      <td>1317358078686265345</td>\n",
       "      <td>La pésima gestión de Bicimad nos obligan a vol...</td>\n",
       "      <td>BICIMAD EN LUCHA</td>\n",
       "      <td>La pesima gestion de Bicimad nos obligan a vol...</td>\n",
       "    </tr>\n",
       "    <tr>\n",
       "      <th>4491</th>\n",
       "      <td>2020-10-17 07:01:21</td>\n",
       "      <td>1317360030895738880</td>\n",
       "      <td>RT @Bacoher: @bcarabante @EMTmadrid Será sinve...</td>\n",
       "      <td>Julio</td>\n",
       "      <td>RT Sera sinverguenza tiene usted la como un so...</td>\n",
       "    </tr>\n",
       "    <tr>\n",
       "      <th>4492</th>\n",
       "      <td>2020-10-17 07:01:52</td>\n",
       "      <td>1317360160378159104</td>\n",
       "      <td>RT @PlataformaEMT: @bcarabante @EMTmadrid @Bic...</td>\n",
       "      <td>Julio</td>\n",
       "      <td>RT Si no lo hace se encontrara muy pronto con ...</td>\n",
       "    </tr>\n",
       "    <tr>\n",
       "      <th>4493</th>\n",
       "      <td>2020-10-17 07:02:08</td>\n",
       "      <td>1317360226857852928</td>\n",
       "      <td>RT @PlataformaEMT: @bcarabante @EMTmadrid Hay ...</td>\n",
       "      <td>Julio</td>\n",
       "      <td>RT Hay que seguir incorporando personal La pla...</td>\n",
       "    </tr>\n",
       "  </tbody>\n",
       "</table>\n",
       "<p>4494 rows × 5 columns</p>\n",
       "</div>"
      ],
      "text/plain": [
       "                    date                   id  \\\n",
       "0    2020-09-29 06:34:23  1310830261450539009   \n",
       "1    2020-09-29 07:01:33  1310837099189473280   \n",
       "2    2020-09-29 07:43:50  1310847740386201600   \n",
       "3    2020-09-29 07:53:20  1310850131344920576   \n",
       "4    2020-09-29 08:05:56  1310853301810888704   \n",
       "...                  ...                  ...   \n",
       "4489 2020-10-17 06:49:45  1317357111261728768   \n",
       "4490 2020-10-17 06:53:35  1317358078686265345   \n",
       "4491 2020-10-17 07:01:21  1317360030895738880   \n",
       "4492 2020-10-17 07:01:52  1317360160378159104   \n",
       "4493 2020-10-17 07:02:08  1317360226857852928   \n",
       "\n",
       "                                                   text            user_name  \\\n",
       "0     RT @carnecrudaradio: Quiero felicitar al alcal...            alex vega   \n",
       "1     Señores de @BiciMAD @MADRID las bicis están mu...          Neuroneater   \n",
       "2     @JMDLatina Espero de este distrito no solo que...          Andrés Pina   \n",
       "3     RT @_AguilarM: @PlataformaEMT @BiciMAD @bcarab...       ElMaNDaLoRiaNo   \n",
       "4     La misma vergüenza de TODOS los días. Una esta...           Diego Azul   \n",
       "...                                                 ...                  ...   \n",
       "4489  RT @Batperro82: Hoy, gracias a mi odisea por l...  AP-Madrid Nosevende   \n",
       "4490  La pésima gestión de Bicimad nos obligan a vol...     BICIMAD EN LUCHA   \n",
       "4491  RT @Bacoher: @bcarabante @EMTmadrid Será sinve...                Julio   \n",
       "4492  RT @PlataformaEMT: @bcarabante @EMTmadrid @Bic...                Julio   \n",
       "4493  RT @PlataformaEMT: @bcarabante @EMTmadrid Hay ...                Julio   \n",
       "\n",
       "                                           tweets_clean  \n",
       "0     RT Quiero felicitar al alcalde por su exitosa ...  \n",
       "1     Se ores de las bicis estan muy descuidadas lo ...  \n",
       "2     Espero de este distrito no solo que proteja el...  \n",
       "3     RT AguilarM O la fecha de la ultima OPE para A...  \n",
       "4     La misma verguenza de TODOS los dias Una estac...  \n",
       "...                                                 ...  \n",
       "4489  RT Hoy gracias a mi odisea por las estaciones ...  \n",
       "4490  La pesima gestion de Bicimad nos obligan a vol...  \n",
       "4491  RT Sera sinverguenza tiene usted la como un so...  \n",
       "4492  RT Si no lo hace se encontrara muy pronto con ...  \n",
       "4493  RT Hay que seguir incorporando personal La pla...  \n",
       "\n",
       "[4494 rows x 5 columns]"
      ]
     },
     "execution_count": 172,
     "metadata": {},
     "output_type": "execute_result"
    }
   ],
   "source": [
    "data"
   ]
  },
  {
   "cell_type": "markdown",
   "metadata": {},
   "source": [
    "## 3. Sentiment analysis"
   ]
  },
  {
   "cell_type": "markdown",
   "metadata": {},
   "source": [
    "#### 3.1 Prepare text\n",
    "<hr>"
   ]
  },
  {
   "cell_type": "code",
   "execution_count": null,
   "metadata": {},
   "outputs": [],
   "source": [
    "import re\n",
    "from unicodedata import normalize"
   ]
  },
  {
   "cell_type": "code",
   "execution_count": null,
   "metadata": {},
   "outputs": [],
   "source": [
    "[re.sub(r'[\\n\\r]*','', str(x)) for x in df['team']]"
   ]
  },
  {
   "cell_type": "code",
   "execution_count": null,
   "metadata": {},
   "outputs": [],
   "source": []
  },
  {
   "cell_type": "code",
   "execution_count": null,
   "metadata": {},
   "outputs": [],
   "source": []
  },
  {
   "cell_type": "code",
   "execution_count": null,
   "metadata": {},
   "outputs": [],
   "source": []
  },
  {
   "cell_type": "code",
   "execution_count": 173,
   "metadata": {},
   "outputs": [
    {
     "ename": "SyntaxError",
     "evalue": "invalid syntax (<ipython-input-173-adfeb1bbf51e>, line 1)",
     "output_type": "error",
     "traceback": [
      "\u001b[0;36m  File \u001b[0;32m\"<ipython-input-173-adfeb1bbf51e>\"\u001b[0;36m, line \u001b[0;32m1\u001b[0m\n\u001b[0;31m    data['tweets_clean'] = data['text']re.sub(\u001b[0m\n\u001b[0m                                        ^\u001b[0m\n\u001b[0;31mSyntaxError\u001b[0m\u001b[0;31m:\u001b[0m invalid syntax\n"
     ]
    }
   ],
   "source": [
    "data['tweets_clean'] = data['text']re.sub(\n",
    "        r\"([^n\\u0300-\\u036f]|n(?!\\u0303(?![\\u0300-\\u036f])))[\\u0300-\\u036f]+\", r\"\\1\", \n",
    "        normalize( \"NFD\", s), 0, re.I\n",
    "    )\n",
    "data['tweets_clean']  = normalize( 'NFC', data['tweets_clean'])"
   ]
  },
  {
   "cell_type": "code",
   "execution_count": 167,
   "metadata": {},
   "outputs": [
    {
     "name": "stdout",
     "output_type": "stream",
     "text": [
      "Pinguino: Malaga es una ciudad fantastica y en Logroño me pica el... moñoooo\n"
     ]
    }
   ],
   "source": [
    "s = \"Pingüino: Málãgà ês uñ̺ã cíudãd fantástica y èn Logroño me pica el... moñǫ̝̘̦̞̟̩̐̏̋͌́ͬ̚͡õ̪͓͍̦̓ơ̤̺̬̯͂̌͐͐͟o͎͈̳̠̼̫͂̊\"\n",
    "\n",
    "\n",
    "# -> NFD y eliminar diacríticos\n",
    "s = re.sub(\n",
    "        r\"([^n\\u0300-\\u036f]|n(?!\\u0303(?![\\u0300-\\u036f])))[\\u0300-\\u036f]+\", r\"\\1\", \n",
    "        normalize( \"NFD\", s), 0, re.I\n",
    "    )\n",
    "\n",
    "# -> NFC\n",
    "s = normalize( 'NFC', s)\n",
    "\n",
    "print( s )"
   ]
  },
  {
   "cell_type": "code",
   "execution_count": 176,
   "metadata": {},
   "outputs": [],
   "source": [
    "def clean_tweet(tweet):\n",
    "    data['tweets_clean'] = re.sub(\n",
    "        r\"([^n\\u0300-\\u036f]|n(?!\\u0303(?![\\u0300-\\u036f])))[\\u0300-\\u036f]+\", r\"\\1\", \n",
    "        normalize( \"NFD\", data['tweets_clean']), 0, re.I\n",
    "    )\n",
    "    data['tweets_clean'] = normalize('NFC', data['tweets_clean'].text)\n",
    "    data['tweets_clean'] = ' '.join(re.sub(\"(@[A-Za-z0-9]+)|([^0-9A-Za-z \\t])|(\\w+:\\/\\/\\S+)\", \" \", tweet).split())\n",
    "    #return \" \".join(re.sub(\"([^0-9A-Za-z \\t])|(\\w+:\\/\\/\\S+)\", \"\", tweet).split())"
   ]
  },
  {
   "cell_type": "code",
   "execution_count": 177,
   "metadata": {},
   "outputs": [
    {
     "ename": "TypeError",
     "evalue": "normalize() argument 2 must be str, not Series",
     "output_type": "error",
     "traceback": [
      "\u001b[0;31m---------------------------------------------------------------------------\u001b[0m",
      "\u001b[0;31mTypeError\u001b[0m                                 Traceback (most recent call last)",
      "\u001b[0;32m<ipython-input-177-6c506ca5114a>\u001b[0m in \u001b[0;36m<module>\u001b[0;34m\u001b[0m\n\u001b[0;32m----> 1\u001b[0;31m \u001b[0mdata\u001b[0m\u001b[0;34m[\u001b[0m\u001b[0;34m'tweets_clean'\u001b[0m\u001b[0;34m]\u001b[0m \u001b[0;34m=\u001b[0m \u001b[0mdata\u001b[0m\u001b[0;34m[\u001b[0m\u001b[0;34m'text'\u001b[0m\u001b[0;34m]\u001b[0m\u001b[0;34m.\u001b[0m\u001b[0mapply\u001b[0m\u001b[0;34m(\u001b[0m\u001b[0mclean_tweet\u001b[0m\u001b[0;34m)\u001b[0m\u001b[0;34m\u001b[0m\u001b[0;34m\u001b[0m\u001b[0m\n\u001b[0m",
      "\u001b[0;32m/Applications/anaconda3/envs/ironhack/lib/python3.7/site-packages/pandas/core/series.py\u001b[0m in \u001b[0;36mapply\u001b[0;34m(self, func, convert_dtype, args, **kwds)\u001b[0m\n\u001b[1;32m   4198\u001b[0m             \u001b[0;32melse\u001b[0m\u001b[0;34m:\u001b[0m\u001b[0;34m\u001b[0m\u001b[0;34m\u001b[0m\u001b[0m\n\u001b[1;32m   4199\u001b[0m                 \u001b[0mvalues\u001b[0m \u001b[0;34m=\u001b[0m \u001b[0mself\u001b[0m\u001b[0;34m.\u001b[0m\u001b[0mastype\u001b[0m\u001b[0;34m(\u001b[0m\u001b[0mobject\u001b[0m\u001b[0;34m)\u001b[0m\u001b[0;34m.\u001b[0m\u001b[0m_values\u001b[0m\u001b[0;34m\u001b[0m\u001b[0;34m\u001b[0m\u001b[0m\n\u001b[0;32m-> 4200\u001b[0;31m                 \u001b[0mmapped\u001b[0m \u001b[0;34m=\u001b[0m \u001b[0mlib\u001b[0m\u001b[0;34m.\u001b[0m\u001b[0mmap_infer\u001b[0m\u001b[0;34m(\u001b[0m\u001b[0mvalues\u001b[0m\u001b[0;34m,\u001b[0m \u001b[0mf\u001b[0m\u001b[0;34m,\u001b[0m \u001b[0mconvert\u001b[0m\u001b[0;34m=\u001b[0m\u001b[0mconvert_dtype\u001b[0m\u001b[0;34m)\u001b[0m\u001b[0;34m\u001b[0m\u001b[0;34m\u001b[0m\u001b[0m\n\u001b[0m\u001b[1;32m   4201\u001b[0m \u001b[0;34m\u001b[0m\u001b[0m\n\u001b[1;32m   4202\u001b[0m         \u001b[0;32mif\u001b[0m \u001b[0mlen\u001b[0m\u001b[0;34m(\u001b[0m\u001b[0mmapped\u001b[0m\u001b[0;34m)\u001b[0m \u001b[0;32mand\u001b[0m \u001b[0misinstance\u001b[0m\u001b[0;34m(\u001b[0m\u001b[0mmapped\u001b[0m\u001b[0;34m[\u001b[0m\u001b[0;36m0\u001b[0m\u001b[0;34m]\u001b[0m\u001b[0;34m,\u001b[0m \u001b[0mSeries\u001b[0m\u001b[0;34m)\u001b[0m\u001b[0;34m:\u001b[0m\u001b[0;34m\u001b[0m\u001b[0;34m\u001b[0m\u001b[0m\n",
      "\u001b[0;32mpandas/_libs/lib.pyx\u001b[0m in \u001b[0;36mpandas._libs.lib.map_infer\u001b[0;34m()\u001b[0m\n",
      "\u001b[0;32m<ipython-input-176-3a580b5cf122>\u001b[0m in \u001b[0;36mclean_tweet\u001b[0;34m(tweet)\u001b[0m\n\u001b[1;32m      2\u001b[0m     data['tweets_clean'] = re.sub(\n\u001b[1;32m      3\u001b[0m         \u001b[0;34mr\"([^n\\u0300-\\u036f]|n(?!\\u0303(?![\\u0300-\\u036f])))[\\u0300-\\u036f]+\"\u001b[0m\u001b[0;34m,\u001b[0m \u001b[0;34mr\"\\1\"\u001b[0m\u001b[0;34m,\u001b[0m\u001b[0;34m\u001b[0m\u001b[0;34m\u001b[0m\u001b[0m\n\u001b[0;32m----> 4\u001b[0;31m         \u001b[0mnormalize\u001b[0m\u001b[0;34m(\u001b[0m \u001b[0;34m\"NFD\"\u001b[0m\u001b[0;34m,\u001b[0m \u001b[0mdata\u001b[0m\u001b[0;34m[\u001b[0m\u001b[0;34m'tweets_clean'\u001b[0m\u001b[0;34m]\u001b[0m\u001b[0;34m)\u001b[0m\u001b[0;34m,\u001b[0m \u001b[0;36m0\u001b[0m\u001b[0;34m,\u001b[0m \u001b[0mre\u001b[0m\u001b[0;34m.\u001b[0m\u001b[0mI\u001b[0m\u001b[0;34m\u001b[0m\u001b[0;34m\u001b[0m\u001b[0m\n\u001b[0m\u001b[1;32m      5\u001b[0m     )\n\u001b[1;32m      6\u001b[0m     \u001b[0mdata\u001b[0m\u001b[0;34m[\u001b[0m\u001b[0;34m'tweets_clean'\u001b[0m\u001b[0;34m]\u001b[0m \u001b[0;34m=\u001b[0m \u001b[0mnormalize\u001b[0m\u001b[0;34m(\u001b[0m \u001b[0;34m'NFC'\u001b[0m\u001b[0;34m,\u001b[0m \u001b[0mdata\u001b[0m\u001b[0;34m[\u001b[0m\u001b[0;34m'tweets_clean'\u001b[0m\u001b[0;34m]\u001b[0m\u001b[0;34m.\u001b[0m\u001b[0mtext\u001b[0m\u001b[0;34m)\u001b[0m\u001b[0;34m\u001b[0m\u001b[0;34m\u001b[0m\u001b[0m\n",
      "\u001b[0;31mTypeError\u001b[0m: normalize() argument 2 must be str, not Series"
     ]
    }
   ],
   "source": [
    "data['tweets_clean'] = data['text'].apply(clean_tweet) "
   ]
  },
  {
   "cell_type": "code",
   "execution_count": 170,
   "metadata": {},
   "outputs": [],
   "source": [
    "def clean_tweet(tweet):\n",
    "    return ' '.join(re.sub(\"(@[A-Za-z0-9]+)|([^0-9A-Za-z \\t])|(\\w+:\\/\\/\\S+)\", \" \", tweet).split())\n",
    "    #return \" \".join(re.sub(\"([^0-9A-Za-z \\t])|(\\w+:\\/\\/\\S+)\", \"\", tweet).split())"
   ]
  },
  {
   "cell_type": "code",
   "execution_count": 171,
   "metadata": {},
   "outputs": [
    {
     "data": {
      "text/html": [
       "<div>\n",
       "<style scoped>\n",
       "    .dataframe tbody tr th:only-of-type {\n",
       "        vertical-align: middle;\n",
       "    }\n",
       "\n",
       "    .dataframe tbody tr th {\n",
       "        vertical-align: top;\n",
       "    }\n",
       "\n",
       "    .dataframe thead th {\n",
       "        text-align: right;\n",
       "    }\n",
       "</style>\n",
       "<table border=\"1\" class=\"dataframe\">\n",
       "  <thead>\n",
       "    <tr style=\"text-align: right;\">\n",
       "      <th></th>\n",
       "      <th>date</th>\n",
       "      <th>id</th>\n",
       "      <th>text</th>\n",
       "      <th>user_name</th>\n",
       "      <th>tweets_clean</th>\n",
       "    </tr>\n",
       "  </thead>\n",
       "  <tbody>\n",
       "    <tr>\n",
       "      <th>0</th>\n",
       "      <td>2020-09-29 06:34:23</td>\n",
       "      <td>1310830261450539009</td>\n",
       "      <td>RT @carnecrudaradio: Quiero felicitar al alcal...</td>\n",
       "      <td>alex vega</td>\n",
       "      <td>RT Quiero felicitar al alcalde por su exitosa ...</td>\n",
       "    </tr>\n",
       "    <tr>\n",
       "      <th>1</th>\n",
       "      <td>2020-09-29 07:01:33</td>\n",
       "      <td>1310837099189473280</td>\n",
       "      <td>Señores de @BiciMAD @MADRID las bicis están mu...</td>\n",
       "      <td>Neuroneater</td>\n",
       "      <td>Se ores de las bicis estan muy descuidadas lo ...</td>\n",
       "    </tr>\n",
       "    <tr>\n",
       "      <th>2</th>\n",
       "      <td>2020-09-29 07:43:50</td>\n",
       "      <td>1310847740386201600</td>\n",
       "      <td>@JMDLatina Espero de este distrito no solo que...</td>\n",
       "      <td>Andrés Pina</td>\n",
       "      <td>Espero de este distrito no solo que proteja el...</td>\n",
       "    </tr>\n",
       "    <tr>\n",
       "      <th>3</th>\n",
       "      <td>2020-09-29 07:53:20</td>\n",
       "      <td>1310850131344920576</td>\n",
       "      <td>RT @_AguilarM: @PlataformaEMT @BiciMAD @bcarab...</td>\n",
       "      <td>ElMaNDaLoRiaNo</td>\n",
       "      <td>RT AguilarM O la fecha de la ultima OPE para A...</td>\n",
       "    </tr>\n",
       "    <tr>\n",
       "      <th>4</th>\n",
       "      <td>2020-09-29 08:05:56</td>\n",
       "      <td>1310853301810888704</td>\n",
       "      <td>La misma vergüenza de TODOS los días. Una esta...</td>\n",
       "      <td>Diego Azul</td>\n",
       "      <td>La misma verguenza de TODOS los dias Una estac...</td>\n",
       "    </tr>\n",
       "    <tr>\n",
       "      <th>...</th>\n",
       "      <td>...</td>\n",
       "      <td>...</td>\n",
       "      <td>...</td>\n",
       "      <td>...</td>\n",
       "      <td>...</td>\n",
       "    </tr>\n",
       "    <tr>\n",
       "      <th>4489</th>\n",
       "      <td>2020-10-17 06:49:45</td>\n",
       "      <td>1317357111261728768</td>\n",
       "      <td>RT @Batperro82: Hoy, gracias a mi odisea por l...</td>\n",
       "      <td>AP-Madrid Nosevende</td>\n",
       "      <td>RT Hoy gracias a mi odisea por las estaciones ...</td>\n",
       "    </tr>\n",
       "    <tr>\n",
       "      <th>4490</th>\n",
       "      <td>2020-10-17 06:53:35</td>\n",
       "      <td>1317358078686265345</td>\n",
       "      <td>La pésima gestión de Bicimad nos obligan a vol...</td>\n",
       "      <td>BICIMAD EN LUCHA</td>\n",
       "      <td>La pesima gestion de Bicimad nos obligan a vol...</td>\n",
       "    </tr>\n",
       "    <tr>\n",
       "      <th>4491</th>\n",
       "      <td>2020-10-17 07:01:21</td>\n",
       "      <td>1317360030895738880</td>\n",
       "      <td>RT @Bacoher: @bcarabante @EMTmadrid Será sinve...</td>\n",
       "      <td>Julio</td>\n",
       "      <td>RT Sera sinverguenza tiene usted la como un so...</td>\n",
       "    </tr>\n",
       "    <tr>\n",
       "      <th>4492</th>\n",
       "      <td>2020-10-17 07:01:52</td>\n",
       "      <td>1317360160378159104</td>\n",
       "      <td>RT @PlataformaEMT: @bcarabante @EMTmadrid @Bic...</td>\n",
       "      <td>Julio</td>\n",
       "      <td>RT Si no lo hace se encontrara muy pronto con ...</td>\n",
       "    </tr>\n",
       "    <tr>\n",
       "      <th>4493</th>\n",
       "      <td>2020-10-17 07:02:08</td>\n",
       "      <td>1317360226857852928</td>\n",
       "      <td>RT @PlataformaEMT: @bcarabante @EMTmadrid Hay ...</td>\n",
       "      <td>Julio</td>\n",
       "      <td>RT Hay que seguir incorporando personal La pla...</td>\n",
       "    </tr>\n",
       "  </tbody>\n",
       "</table>\n",
       "<p>4494 rows × 5 columns</p>\n",
       "</div>"
      ],
      "text/plain": [
       "                    date                   id  \\\n",
       "0    2020-09-29 06:34:23  1310830261450539009   \n",
       "1    2020-09-29 07:01:33  1310837099189473280   \n",
       "2    2020-09-29 07:43:50  1310847740386201600   \n",
       "3    2020-09-29 07:53:20  1310850131344920576   \n",
       "4    2020-09-29 08:05:56  1310853301810888704   \n",
       "...                  ...                  ...   \n",
       "4489 2020-10-17 06:49:45  1317357111261728768   \n",
       "4490 2020-10-17 06:53:35  1317358078686265345   \n",
       "4491 2020-10-17 07:01:21  1317360030895738880   \n",
       "4492 2020-10-17 07:01:52  1317360160378159104   \n",
       "4493 2020-10-17 07:02:08  1317360226857852928   \n",
       "\n",
       "                                                   text            user_name  \\\n",
       "0     RT @carnecrudaradio: Quiero felicitar al alcal...            alex vega   \n",
       "1     Señores de @BiciMAD @MADRID las bicis están mu...          Neuroneater   \n",
       "2     @JMDLatina Espero de este distrito no solo que...          Andrés Pina   \n",
       "3     RT @_AguilarM: @PlataformaEMT @BiciMAD @bcarab...       ElMaNDaLoRiaNo   \n",
       "4     La misma vergüenza de TODOS los días. Una esta...           Diego Azul   \n",
       "...                                                 ...                  ...   \n",
       "4489  RT @Batperro82: Hoy, gracias a mi odisea por l...  AP-Madrid Nosevende   \n",
       "4490  La pésima gestión de Bicimad nos obligan a vol...     BICIMAD EN LUCHA   \n",
       "4491  RT @Bacoher: @bcarabante @EMTmadrid Será sinve...                Julio   \n",
       "4492  RT @PlataformaEMT: @bcarabante @EMTmadrid @Bic...                Julio   \n",
       "4493  RT @PlataformaEMT: @bcarabante @EMTmadrid Hay ...                Julio   \n",
       "\n",
       "                                           tweets_clean  \n",
       "0     RT Quiero felicitar al alcalde por su exitosa ...  \n",
       "1     Se ores de las bicis estan muy descuidadas lo ...  \n",
       "2     Espero de este distrito no solo que proteja el...  \n",
       "3     RT AguilarM O la fecha de la ultima OPE para A...  \n",
       "4     La misma verguenza de TODOS los dias Una estac...  \n",
       "...                                                 ...  \n",
       "4489  RT Hoy gracias a mi odisea por las estaciones ...  \n",
       "4490  La pesima gestion de Bicimad nos obligan a vol...  \n",
       "4491  RT Sera sinverguenza tiene usted la como un so...  \n",
       "4492  RT Si no lo hace se encontrara muy pronto con ...  \n",
       "4493  RT Hay que seguir incorporando personal La pla...  \n",
       "\n",
       "[4494 rows x 5 columns]"
      ]
     },
     "metadata": {},
     "output_type": "display_data"
    }
   ],
   "source": [
    "# Updated the city columns \n",
    "data['tweets_clean'] = data['text'].apply(clean_tweet) \n",
    "  \n",
    "# Print the updated dataframe \n",
    "display(data)"
   ]
  },
  {
   "cell_type": "code",
   "execution_count": 166,
   "metadata": {},
   "outputs": [
    {
     "data": {
      "text/plain": [
       "'Se ores de las bicis est n muy descuidadas lo saben A menor uso de bicis m s de metro y bus y'"
      ]
     },
     "execution_count": 166,
     "metadata": {},
     "output_type": "execute_result"
    }
   ],
   "source": [
    "data['tweets_clean'][1]"
   ]
  },
  {
   "cell_type": "code",
   "execution_count": null,
   "metadata": {},
   "outputs": [],
   "source": []
  },
  {
   "cell_type": "code",
   "execution_count": null,
   "metadata": {},
   "outputs": [],
   "source": []
  },
  {
   "cell_type": "code",
   "execution_count": 1,
   "metadata": {},
   "outputs": [
    {
     "name": "stderr",
     "output_type": "stream",
     "text": [
      "/Applications/anaconda3/envs/ironhack/lib/python3.7/site-packages/tensorflow/python/framework/dtypes.py:516: FutureWarning: Passing (type, 1) or '1type' as a synonym of type is deprecated; in a future version of numpy, it will be understood as (type, (1,)) / '(1,)type'.\n",
      "  _np_qint8 = np.dtype([(\"qint8\", np.int8, 1)])\n",
      "/Applications/anaconda3/envs/ironhack/lib/python3.7/site-packages/tensorflow/python/framework/dtypes.py:517: FutureWarning: Passing (type, 1) or '1type' as a synonym of type is deprecated; in a future version of numpy, it will be understood as (type, (1,)) / '(1,)type'.\n",
      "  _np_quint8 = np.dtype([(\"quint8\", np.uint8, 1)])\n",
      "/Applications/anaconda3/envs/ironhack/lib/python3.7/site-packages/tensorflow/python/framework/dtypes.py:518: FutureWarning: Passing (type, 1) or '1type' as a synonym of type is deprecated; in a future version of numpy, it will be understood as (type, (1,)) / '(1,)type'.\n",
      "  _np_qint16 = np.dtype([(\"qint16\", np.int16, 1)])\n",
      "/Applications/anaconda3/envs/ironhack/lib/python3.7/site-packages/tensorflow/python/framework/dtypes.py:519: FutureWarning: Passing (type, 1) or '1type' as a synonym of type is deprecated; in a future version of numpy, it will be understood as (type, (1,)) / '(1,)type'.\n",
      "  _np_quint16 = np.dtype([(\"quint16\", np.uint16, 1)])\n",
      "/Applications/anaconda3/envs/ironhack/lib/python3.7/site-packages/tensorflow/python/framework/dtypes.py:520: FutureWarning: Passing (type, 1) or '1type' as a synonym of type is deprecated; in a future version of numpy, it will be understood as (type, (1,)) / '(1,)type'.\n",
      "  _np_qint32 = np.dtype([(\"qint32\", np.int32, 1)])\n",
      "/Applications/anaconda3/envs/ironhack/lib/python3.7/site-packages/tensorflow/python/framework/dtypes.py:525: FutureWarning: Passing (type, 1) or '1type' as a synonym of type is deprecated; in a future version of numpy, it will be understood as (type, (1,)) / '(1,)type'.\n",
      "  np_resource = np.dtype([(\"resource\", np.ubyte, 1)])\n",
      "/Applications/anaconda3/envs/ironhack/lib/python3.7/site-packages/tensorboard/compat/tensorflow_stub/dtypes.py:541: FutureWarning: Passing (type, 1) or '1type' as a synonym of type is deprecated; in a future version of numpy, it will be understood as (type, (1,)) / '(1,)type'.\n",
      "  _np_qint8 = np.dtype([(\"qint8\", np.int8, 1)])\n",
      "/Applications/anaconda3/envs/ironhack/lib/python3.7/site-packages/tensorboard/compat/tensorflow_stub/dtypes.py:542: FutureWarning: Passing (type, 1) or '1type' as a synonym of type is deprecated; in a future version of numpy, it will be understood as (type, (1,)) / '(1,)type'.\n",
      "  _np_quint8 = np.dtype([(\"quint8\", np.uint8, 1)])\n",
      "/Applications/anaconda3/envs/ironhack/lib/python3.7/site-packages/tensorboard/compat/tensorflow_stub/dtypes.py:543: FutureWarning: Passing (type, 1) or '1type' as a synonym of type is deprecated; in a future version of numpy, it will be understood as (type, (1,)) / '(1,)type'.\n",
      "  _np_qint16 = np.dtype([(\"qint16\", np.int16, 1)])\n",
      "/Applications/anaconda3/envs/ironhack/lib/python3.7/site-packages/tensorboard/compat/tensorflow_stub/dtypes.py:544: FutureWarning: Passing (type, 1) or '1type' as a synonym of type is deprecated; in a future version of numpy, it will be understood as (type, (1,)) / '(1,)type'.\n",
      "  _np_quint16 = np.dtype([(\"quint16\", np.uint16, 1)])\n",
      "/Applications/anaconda3/envs/ironhack/lib/python3.7/site-packages/tensorboard/compat/tensorflow_stub/dtypes.py:545: FutureWarning: Passing (type, 1) or '1type' as a synonym of type is deprecated; in a future version of numpy, it will be understood as (type, (1,)) / '(1,)type'.\n",
      "  _np_qint32 = np.dtype([(\"qint32\", np.int32, 1)])\n",
      "/Applications/anaconda3/envs/ironhack/lib/python3.7/site-packages/tensorboard/compat/tensorflow_stub/dtypes.py:550: FutureWarning: Passing (type, 1) or '1type' as a synonym of type is deprecated; in a future version of numpy, it will be understood as (type, (1,)) / '(1,)type'.\n",
      "  np_resource = np.dtype([(\"resource\", np.ubyte, 1)])\n"
     ]
    }
   ],
   "source": [
    "from transformers import pipeline"
   ]
  },
  {
   "cell_type": "code",
   "execution_count": null,
   "metadata": {},
   "outputs": [],
   "source": [
    "classifier = pipeline('sentiment-analysis')"
   ]
  },
  {
   "cell_type": "code",
   "execution_count": null,
   "metadata": {},
   "outputs": [],
   "source": [
    "classifier('We are very happy to show you the 🤗 Transformers library.')"
   ]
  },
  {
   "cell_type": "code",
   "execution_count": null,
   "metadata": {},
   "outputs": [],
   "source": [
    "results = classifier([\"We are very happy to show you the 🤗 Transformers library.\", \"We hope you don't hate it.\"])\n",
    "for result in results:\n",
    "    print(f\"label: {result['label']}, with score: {round(result['score'], 4)}\")"
   ]
  },
  {
   "cell_type": "code",
   "execution_count": null,
   "metadata": {},
   "outputs": [],
   "source": [
    "from transformers import AutoTokenizer, AutoModelForSequenceClassification"
   ]
  },
  {
   "cell_type": "code",
   "execution_count": 8,
   "metadata": {},
   "outputs": [
    {
     "data": {
      "application/vnd.jupyter.widget-view+json": {
       "model_id": "8d35a365ab454cc79f3e49fba9e7f5cb",
       "version_major": 2,
       "version_minor": 0
      },
      "text/plain": [
       "HBox(children=(FloatProgress(value=0.0, description='Downloading', max=953.0, style=ProgressStyle(description_…"
      ]
     },
     "metadata": {},
     "output_type": "display_data"
    },
    {
     "name": "stdout",
     "output_type": "stream",
     "text": [
      "\n"
     ]
    },
    {
     "data": {
      "application/vnd.jupyter.widget-view+json": {
       "model_id": "f64b810f63374c659af0902e4cdacf8d",
       "version_major": 2,
       "version_minor": 0
      },
      "text/plain": [
       "HBox(children=(FloatProgress(value=0.0, description='Downloading', max=669491321.0, style=ProgressStyle(descri…"
      ]
     },
     "metadata": {},
     "output_type": "display_data"
    },
    {
     "name": "stdout",
     "output_type": "stream",
     "text": [
      "\n"
     ]
    },
    {
     "data": {
      "application/vnd.jupyter.widget-view+json": {
       "model_id": "9ee34beded9449dfa29fcade509e22a2",
       "version_major": 2,
       "version_minor": 0
      },
      "text/plain": [
       "HBox(children=(FloatProgress(value=0.0, description='Downloading', max=871891.0, style=ProgressStyle(descripti…"
      ]
     },
     "metadata": {},
     "output_type": "display_data"
    },
    {
     "name": "stdout",
     "output_type": "stream",
     "text": [
      "\n"
     ]
    },
    {
     "data": {
      "application/vnd.jupyter.widget-view+json": {
       "model_id": "f12c8d9f98a845e381b0cc6ffbaa8f40",
       "version_major": 2,
       "version_minor": 0
      },
      "text/plain": [
       "HBox(children=(FloatProgress(value=0.0, description='Downloading', max=112.0, style=ProgressStyle(description_…"
      ]
     },
     "metadata": {},
     "output_type": "display_data"
    },
    {
     "name": "stdout",
     "output_type": "stream",
     "text": [
      "\n"
     ]
    },
    {
     "data": {
      "application/vnd.jupyter.widget-view+json": {
       "model_id": "5fac96be0b5a47b78ebc2afca726c97c",
       "version_major": 2,
       "version_minor": 0
      },
      "text/plain": [
       "HBox(children=(FloatProgress(value=0.0, description='Downloading', max=39.0, style=ProgressStyle(description_w…"
      ]
     },
     "metadata": {},
     "output_type": "display_data"
    },
    {
     "name": "stdout",
     "output_type": "stream",
     "text": [
      "\n"
     ]
    }
   ],
   "source": [
    "model_name = \"nlptown/bert-base-multilingual-uncased-sentiment\"\n",
    "model = AutoModelForSequenceClassification.from_pretrained(model_name)\n",
    "tokenizer = AutoTokenizer.from_pretrained(model_name)\n",
    "classifier = pipeline('sentiment-analysis', model=model, tokenizer=tokenizer)"
   ]
  },
  {
   "cell_type": "code",
   "execution_count": 10,
   "metadata": {},
   "outputs": [],
   "source": [
    "tokenizer = AutoTokenizer.from_pretrained(model_name)"
   ]
  },
  {
   "cell_type": "code",
   "execution_count": 11,
   "metadata": {},
   "outputs": [],
   "source": [
    "inputs = tokenizer(\"We are very happy to show you the 🤗 Transformers library.\")"
   ]
  },
  {
   "cell_type": "code",
   "execution_count": 12,
   "metadata": {},
   "outputs": [
    {
     "name": "stdout",
     "output_type": "stream",
     "text": [
      "{'input_ids': [101, 11312, 10320, 12495, 19308, 10114, 11391, 10855, 10103, 100, 58263, 13299, 119, 102], 'token_type_ids': [0, 0, 0, 0, 0, 0, 0, 0, 0, 0, 0, 0, 0, 0], 'attention_mask': [1, 1, 1, 1, 1, 1, 1, 1, 1, 1, 1, 1, 1, 1]}\n"
     ]
    }
   ],
   "source": [
    "print(inputs)"
   ]
  },
  {
   "cell_type": "code",
   "execution_count": 13,
   "metadata": {},
   "outputs": [],
   "source": [
    "pt_batch = tokenizer(\n",
    "    [\"We are very happy to show you the 🤗 Transformers library.\", \"We hope you don't hate it.\"],\n",
    "    padding=True,\n",
    "    truncation=True,\n",
    "    return_tensors=\"pt\")"
   ]
  },
  {
   "cell_type": "code",
   "execution_count": 14,
   "metadata": {},
   "outputs": [
    {
     "name": "stdout",
     "output_type": "stream",
     "text": [
      "input_ids: [[101, 11312, 10320, 12495, 19308, 10114, 11391, 10855, 10103, 100, 58263, 13299, 119, 102], [101, 11312, 18763, 10855, 11530, 112, 162, 39487, 10197, 119, 102, 0, 0, 0]]\n",
      "token_type_ids: [[0, 0, 0, 0, 0, 0, 0, 0, 0, 0, 0, 0, 0, 0], [0, 0, 0, 0, 0, 0, 0, 0, 0, 0, 0, 0, 0, 0]]\n",
      "attention_mask: [[1, 1, 1, 1, 1, 1, 1, 1, 1, 1, 1, 1, 1, 1], [1, 1, 1, 1, 1, 1, 1, 1, 1, 1, 1, 0, 0, 0]]\n"
     ]
    }
   ],
   "source": [
    "for key, value in pt_batch.items():\n",
    "    print(f\"{key}: {value.numpy().tolist()}\")"
   ]
  },
  {
   "cell_type": "code",
   "execution_count": 15,
   "metadata": {},
   "outputs": [
    {
     "ename": "NameError",
     "evalue": "name 'pt_model' is not defined",
     "output_type": "error",
     "traceback": [
      "\u001b[0;31m---------------------------------------------------------------------------\u001b[0m",
      "\u001b[0;31mNameError\u001b[0m                                 Traceback (most recent call last)",
      "\u001b[0;32m<ipython-input-15-390eacd0276a>\u001b[0m in \u001b[0;36m<module>\u001b[0;34m\u001b[0m\n\u001b[0;32m----> 1\u001b[0;31m \u001b[0mpt_outputs\u001b[0m \u001b[0;34m=\u001b[0m \u001b[0mpt_model\u001b[0m\u001b[0;34m(\u001b[0m\u001b[0;34m**\u001b[0m\u001b[0mpt_batch\u001b[0m\u001b[0;34m)\u001b[0m\u001b[0;34m\u001b[0m\u001b[0;34m\u001b[0m\u001b[0m\n\u001b[0m",
      "\u001b[0;31mNameError\u001b[0m: name 'pt_model' is not defined"
     ]
    }
   ],
   "source": [
    "pt_outputs = pt_model(**pt_batch)"
   ]
  },
  {
   "cell_type": "code",
   "execution_count": null,
   "metadata": {},
   "outputs": [],
   "source": [
    "print(pt_outputs)"
   ]
  },
  {
   "cell_type": "markdown",
   "metadata": {},
   "source": [
    "#### 3.13 Predictions\n",
    "<hr>"
   ]
  },
  {
   "cell_type": "code",
   "execution_count": null,
   "metadata": {},
   "outputs": [],
   "source": [
    "import torch.nn.functional as F\n",
    "pt_predictions = F.softmax(pt_outputs[0], dim=-1)"
   ]
  }
 ],
 "metadata": {
  "kernelspec": {
   "display_name": "Python [conda env:ironhack]",
   "language": "python",
   "name": "conda-env-ironhack-py"
  },
  "language_info": {
   "codemirror_mode": {
    "name": "ipython",
    "version": 3
   },
   "file_extension": ".py",
   "mimetype": "text/x-python",
   "name": "python",
   "nbconvert_exporter": "python",
   "pygments_lexer": "ipython3",
   "version": "3.7.3"
  }
 },
 "nbformat": 4,
 "nbformat_minor": 4
}
