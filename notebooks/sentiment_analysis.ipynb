{
 "cells": [
  {
   "cell_type": "markdown",
   "metadata": {},
   "source": [
    "# Sentiment Analysis"
   ]
  },
  {
   "cell_type": "markdown",
   "metadata": {},
   "source": [
    "This notebook includes all actions to describe the data (i.e. key statistics, etc).<br>\n",
    "**Data**: CSV saved in '../data/raw/rawdata.csv. This file contains all updated tweets (old and new) as per 'acquisition module'"
   ]
  },
  {
   "cell_type": "markdown",
   "metadata": {},
   "source": [
    "**Key actions** \n",
    "<br> <hr>\n",
    "- Identify and remove duplicate records\n",
    "- Identify and remove Tweets done by user = BiciMAD \n",
    "- Examine data for potential issues\n",
    "- Identify and fill in missing values\n",
    "- *Remove low variance columns (potentially not needed)*\n",
    "- Identify potential outliers *(potentially not needed)*\n",
    "- Correct incorrect data types *(potentially only text variable)*\n",
    "- Remove special characters and clean categorical variables *(potentially only text variable)*\n",
    "<br>"
   ]
  },
  {
   "cell_type": "markdown",
   "metadata": {},
   "source": [
    "## 1. Read & clean data"
   ]
  },
  {
   "cell_type": "markdown",
   "metadata": {},
   "source": [
    "#### 1.1 Read data\n",
    "<hr>"
   ]
  },
  {
   "cell_type": "code",
   "execution_count": 1,
   "metadata": {},
   "outputs": [],
   "source": [
    "# all modules\n",
    "import pandas as pd\n",
    "# if packaches need upload \n",
    "# pip install --upgrade pip"
   ]
  },
  {
   "cell_type": "code",
   "execution_count": 2,
   "metadata": {},
   "outputs": [],
   "source": [
    "# load dataset\n",
    "data = pd.read_csv('../data/raw/rawdata.csv')"
   ]
  },
  {
   "cell_type": "code",
   "execution_count": 3,
   "metadata": {},
   "outputs": [],
   "source": [
    "# change date type from 'object' to 'date'\n",
    "data['date'] = pd.to_datetime(data['date'])"
   ]
  },
  {
   "cell_type": "code",
   "execution_count": 4,
   "metadata": {},
   "outputs": [],
   "source": [
    "# getting today's Timestamp\n",
    "today = pd.Timestamp.today().floor('D')\n",
    "# .normalize() does the same thing"
   ]
  },
  {
   "cell_type": "code",
   "execution_count": 5,
   "metadata": {},
   "outputs": [
    {
     "data": {
      "text/plain": [
       "Timestamp('2020-10-24 00:00:00')"
      ]
     },
     "execution_count": 5,
     "metadata": {},
     "output_type": "execute_result"
    }
   ],
   "source": [
    "today"
   ]
  },
  {
   "cell_type": "code",
   "execution_count": 6,
   "metadata": {},
   "outputs": [],
   "source": [
    "data = data[(data['date'] > today )]"
   ]
  },
  {
   "cell_type": "code",
   "execution_count": 7,
   "metadata": {},
   "outputs": [
    {
     "data": {
      "text/plain": [
       "53"
      ]
     },
     "execution_count": 7,
     "metadata": {},
     "output_type": "execute_result"
    }
   ],
   "source": [
    "data.shape[0]"
   ]
  },
  {
   "cell_type": "code",
   "execution_count": 8,
   "metadata": {},
   "outputs": [],
   "source": [
    "# select required columns\n",
    "data = data.drop(columns =['Unnamed: 0'])"
   ]
  },
  {
   "cell_type": "code",
   "execution_count": 9,
   "metadata": {},
   "outputs": [
    {
     "data": {
      "text/plain": [
       "(53, 6)"
      ]
     },
     "execution_count": 9,
     "metadata": {},
     "output_type": "execute_result"
    }
   ],
   "source": [
    "data.shape"
   ]
  },
  {
   "cell_type": "markdown",
   "metadata": {},
   "source": [
    "#### 1.2 Clean data\n",
    "<hr>"
   ]
  },
  {
   "cell_type": "markdown",
   "metadata": {},
   "source": [
    "#### 1.3 Take out BiciMad Tweets\n",
    "<hr>"
   ]
  },
  {
   "cell_type": "code",
   "execution_count": 11,
   "metadata": {},
   "outputs": [],
   "source": [
    "# data analysis => sorting\n",
    "data = data.sort_values('user_name', ascending=False)"
   ]
  },
  {
   "cell_type": "code",
   "execution_count": 12,
   "metadata": {},
   "outputs": [
    {
     "data": {
      "text/plain": [
       "Javi                          9\n",
       "BICIMAD EN LUCHA              3\n",
       "Sito                          3\n",
       "japarra                       3\n",
       "Plataforma Sindical           3\n",
       "Carlos                        3\n",
       "CarlosIS                      2\n",
       "villalba1200                  2\n",
       "Saúl TM                       1\n",
       "itu                           1\n",
       "talanquera                    1\n",
       "Indiario                      1\n",
       "Pedro                         1\n",
       "Taxi Barcelona #NoOnProp22    1\n",
       "BiciMAD                       1\n",
       "Robert                        1\n",
       "Maribel Nuñez                 1\n",
       "Miguel Ángel Gómez            1\n",
       "j_medina                      1\n",
       "deteibols                     1\n",
       "Laborioso Gandul🇪🇸🏁🇪🇸         1\n",
       "Pablo Carrascón 🔻             1\n",
       "David González T.             1\n",
       "Trotamundos                   1\n",
       "oelon                         1\n",
       "paola #RegulacionJustaYa      1\n",
       "#MADBikeStatus 🛎🚲⏱            1\n",
       "yosisoy                       1\n",
       "Gacetín Madrid                1\n",
       "🚌🚲🚶🏽‍♀️ Marta Serrano 💚       1\n",
       "Ricardo Jose Serrano          1\n",
       "jesusrica                     1\n",
       "Chon Pedrajas🖤🇪🇦              1\n",
       "Name: user_name, dtype: int64"
      ]
     },
     "execution_count": 12,
     "metadata": {},
     "output_type": "execute_result"
    }
   ],
   "source": [
    "data['user_name'].value_counts()"
   ]
  },
  {
   "cell_type": "code",
   "execution_count": 13,
   "metadata": {},
   "outputs": [],
   "source": [
    "data = data[data.user_name != 'BiciMAD']"
   ]
  },
  {
   "cell_type": "code",
   "execution_count": 14,
   "metadata": {},
   "outputs": [
    {
     "data": {
      "text/plain": [
       "Index(['date', 'id', 'text', 'user_name', 'user_id', 'user_screen_name'], dtype='object')"
      ]
     },
     "execution_count": 14,
     "metadata": {},
     "output_type": "execute_result"
    }
   ],
   "source": [
    "data.columns"
   ]
  },
  {
   "cell_type": "markdown",
   "metadata": {},
   "source": [
    "## 2. Explore data"
   ]
  },
  {
   "cell_type": "markdown",
   "metadata": {},
   "source": [
    "#### 2.1 Sort values by 'date' and reset index\n",
    "<hr>"
   ]
  },
  {
   "cell_type": "code",
   "execution_count": 15,
   "metadata": {},
   "outputs": [],
   "source": [
    "data = data.reset_index()"
   ]
  },
  {
   "cell_type": "code",
   "execution_count": 16,
   "metadata": {},
   "outputs": [],
   "source": [
    "data = data.drop(columns =['index'])"
   ]
  },
  {
   "cell_type": "markdown",
   "metadata": {},
   "source": [
    "#### 2.2 Check most recent tweets from users\n",
    "<hr>"
   ]
  },
  {
   "cell_type": "code",
   "execution_count": 17,
   "metadata": {},
   "outputs": [
    {
     "data": {
      "text/plain": [
       "Timestamp('2020-10-24 01:47:04')"
      ]
     },
     "execution_count": 17,
     "metadata": {},
     "output_type": "execute_result"
    }
   ],
   "source": [
    "# First tweet available date\n",
    "data['date'].min()"
   ]
  },
  {
   "cell_type": "code",
   "execution_count": 18,
   "metadata": {},
   "outputs": [
    {
     "data": {
      "text/plain": [
       "Timestamp('2020-10-24 08:39:16')"
      ]
     },
     "execution_count": 18,
     "metadata": {},
     "output_type": "execute_result"
    }
   ],
   "source": [
    "# Most recent tweet date\n",
    "data['date'].max()"
   ]
  },
  {
   "cell_type": "markdown",
   "metadata": {},
   "source": [
    "## 3. Sentiment analysis"
   ]
  },
  {
   "cell_type": "markdown",
   "metadata": {},
   "source": [
    "#### 3.1 Prepare text\n",
    "<hr>"
   ]
  },
  {
   "cell_type": "code",
   "execution_count": 19,
   "metadata": {},
   "outputs": [],
   "source": [
    "import re"
   ]
  },
  {
   "cell_type": "markdown",
   "metadata": {},
   "source": [
    "##### Ver que hacer con las 'ñ'\n",
    "<hr>"
   ]
  },
  {
   "cell_type": "code",
   "execution_count": 20,
   "metadata": {},
   "outputs": [],
   "source": [
    "def clean_tweet(tweet):\n",
    "    return ' '.join(re.sub(\"(@[A-Za-z0-9]+)|([^0-9A-Za-z \\t])|(\\w+:\\/\\/\\S+)\", \" \", tweet).split())\n",
    "    #return \" \".join(re.sub(\"([^0-9A-Za-z \\t])|(\\w+:\\/\\/\\S+)\", \"\", tweet).split())"
   ]
  },
  {
   "cell_type": "code",
   "execution_count": 21,
   "metadata": {},
   "outputs": [],
   "source": [
    "text = 'Señores de @BiciMAD @MADRID las bicis están muy descuidadas'"
   ]
  },
  {
   "cell_type": "code",
   "execution_count": 22,
   "metadata": {},
   "outputs": [
    {
     "data": {
      "text/plain": [
       "'Señores de     las bicis están muy descuidadas'"
      ]
     },
     "execution_count": 22,
     "metadata": {},
     "output_type": "execute_result"
    }
   ],
   "source": [
    "re.sub(\"(@[A-Za-zñÑüÜáéíóú0-9]+)|([^0-9A-ZñÑüÜáéíóúa-z \\t])|(\\w+:\\/\\/\\S+)\", \" \", text)"
   ]
  },
  {
   "cell_type": "code",
   "execution_count": null,
   "metadata": {},
   "outputs": [],
   "source": []
  },
  {
   "cell_type": "code",
   "execution_count": 23,
   "metadata": {},
   "outputs": [],
   "source": [
    "# Updated the tweets_clean \n",
    "data['tweets_clean'] = data['text'].apply(clean_tweet) "
   ]
  },
  {
   "cell_type": "code",
   "execution_count": 24,
   "metadata": {},
   "outputs": [],
   "source": [
    "# Print the updated dataframe \n",
    "# data"
   ]
  },
  {
   "cell_type": "code",
   "execution_count": 25,
   "metadata": {},
   "outputs": [
    {
     "name": "stderr",
     "output_type": "stream",
     "text": [
      "/Applications/anaconda3/envs/ironhack/lib/python3.7/site-packages/tensorflow/python/framework/dtypes.py:516: FutureWarning: Passing (type, 1) or '1type' as a synonym of type is deprecated; in a future version of numpy, it will be understood as (type, (1,)) / '(1,)type'.\n",
      "  _np_qint8 = np.dtype([(\"qint8\", np.int8, 1)])\n",
      "/Applications/anaconda3/envs/ironhack/lib/python3.7/site-packages/tensorflow/python/framework/dtypes.py:517: FutureWarning: Passing (type, 1) or '1type' as a synonym of type is deprecated; in a future version of numpy, it will be understood as (type, (1,)) / '(1,)type'.\n",
      "  _np_quint8 = np.dtype([(\"quint8\", np.uint8, 1)])\n",
      "/Applications/anaconda3/envs/ironhack/lib/python3.7/site-packages/tensorflow/python/framework/dtypes.py:518: FutureWarning: Passing (type, 1) or '1type' as a synonym of type is deprecated; in a future version of numpy, it will be understood as (type, (1,)) / '(1,)type'.\n",
      "  _np_qint16 = np.dtype([(\"qint16\", np.int16, 1)])\n",
      "/Applications/anaconda3/envs/ironhack/lib/python3.7/site-packages/tensorflow/python/framework/dtypes.py:519: FutureWarning: Passing (type, 1) or '1type' as a synonym of type is deprecated; in a future version of numpy, it will be understood as (type, (1,)) / '(1,)type'.\n",
      "  _np_quint16 = np.dtype([(\"quint16\", np.uint16, 1)])\n",
      "/Applications/anaconda3/envs/ironhack/lib/python3.7/site-packages/tensorflow/python/framework/dtypes.py:520: FutureWarning: Passing (type, 1) or '1type' as a synonym of type is deprecated; in a future version of numpy, it will be understood as (type, (1,)) / '(1,)type'.\n",
      "  _np_qint32 = np.dtype([(\"qint32\", np.int32, 1)])\n",
      "/Applications/anaconda3/envs/ironhack/lib/python3.7/site-packages/tensorflow/python/framework/dtypes.py:525: FutureWarning: Passing (type, 1) or '1type' as a synonym of type is deprecated; in a future version of numpy, it will be understood as (type, (1,)) / '(1,)type'.\n",
      "  np_resource = np.dtype([(\"resource\", np.ubyte, 1)])\n",
      "/Applications/anaconda3/envs/ironhack/lib/python3.7/site-packages/tensorboard/compat/tensorflow_stub/dtypes.py:541: FutureWarning: Passing (type, 1) or '1type' as a synonym of type is deprecated; in a future version of numpy, it will be understood as (type, (1,)) / '(1,)type'.\n",
      "  _np_qint8 = np.dtype([(\"qint8\", np.int8, 1)])\n",
      "/Applications/anaconda3/envs/ironhack/lib/python3.7/site-packages/tensorboard/compat/tensorflow_stub/dtypes.py:542: FutureWarning: Passing (type, 1) or '1type' as a synonym of type is deprecated; in a future version of numpy, it will be understood as (type, (1,)) / '(1,)type'.\n",
      "  _np_quint8 = np.dtype([(\"quint8\", np.uint8, 1)])\n",
      "/Applications/anaconda3/envs/ironhack/lib/python3.7/site-packages/tensorboard/compat/tensorflow_stub/dtypes.py:543: FutureWarning: Passing (type, 1) or '1type' as a synonym of type is deprecated; in a future version of numpy, it will be understood as (type, (1,)) / '(1,)type'.\n",
      "  _np_qint16 = np.dtype([(\"qint16\", np.int16, 1)])\n",
      "/Applications/anaconda3/envs/ironhack/lib/python3.7/site-packages/tensorboard/compat/tensorflow_stub/dtypes.py:544: FutureWarning: Passing (type, 1) or '1type' as a synonym of type is deprecated; in a future version of numpy, it will be understood as (type, (1,)) / '(1,)type'.\n",
      "  _np_quint16 = np.dtype([(\"quint16\", np.uint16, 1)])\n",
      "/Applications/anaconda3/envs/ironhack/lib/python3.7/site-packages/tensorboard/compat/tensorflow_stub/dtypes.py:545: FutureWarning: Passing (type, 1) or '1type' as a synonym of type is deprecated; in a future version of numpy, it will be understood as (type, (1,)) / '(1,)type'.\n",
      "  _np_qint32 = np.dtype([(\"qint32\", np.int32, 1)])\n",
      "/Applications/anaconda3/envs/ironhack/lib/python3.7/site-packages/tensorboard/compat/tensorflow_stub/dtypes.py:550: FutureWarning: Passing (type, 1) or '1type' as a synonym of type is deprecated; in a future version of numpy, it will be understood as (type, (1,)) / '(1,)type'.\n",
      "  np_resource = np.dtype([(\"resource\", np.ubyte, 1)])\n"
     ]
    }
   ],
   "source": [
    "from transformers import pipeline"
   ]
  },
  {
   "cell_type": "code",
   "execution_count": 26,
   "metadata": {},
   "outputs": [],
   "source": [
    "classifier = pipeline('sentiment-analysis')"
   ]
  },
  {
   "cell_type": "code",
   "execution_count": 27,
   "metadata": {},
   "outputs": [
    {
     "name": "stderr",
     "output_type": "stream",
     "text": [
      "Some weights of BertForMaskedLM were not initialized from the model checkpoint at dccuchile/bert-base-spanish-wwm-cased and are newly initialized: ['cls.predictions.decoder.bias']\n",
      "You should probably TRAIN this model on a down-stream task to be able to use it for predictions and inference.\n"
     ]
    }
   ],
   "source": [
    "from transformers import AutoTokenizer, AutoModelForMaskedLM\n",
    "tokenizer = AutoTokenizer.from_pretrained(\"dccuchile/bert-base-spanish-wwm-cased\")\n",
    "model = AutoModelForMaskedLM.from_pretrained(\"dccuchile/bert-base-spanish-wwm-cased\")"
   ]
  },
  {
   "cell_type": "code",
   "execution_count": 28,
   "metadata": {},
   "outputs": [],
   "source": [
    "def transform (x):\n",
    "    return classifier(x)\n",
    "# Apply transform function to all tweets \n",
    "data['sentiment']=data['tweets_clean'].apply(transform)"
   ]
  },
  {
   "cell_type": "code",
   "execution_count": 29,
   "metadata": {},
   "outputs": [],
   "source": [
    "data[\"score\"] = [data[\"sentiment\"][i][0]['score'] for i in range(data.shape[0])]"
   ]
  },
  {
   "cell_type": "code",
   "execution_count": 30,
   "metadata": {},
   "outputs": [],
   "source": [
    "data[\"label\"] = [data[\"sentiment\"][i][0]['label'] for i in range(data.shape[0])]"
   ]
  },
  {
   "cell_type": "code",
   "execution_count": 31,
   "metadata": {},
   "outputs": [
    {
     "data": {
      "text/plain": [
       "0"
      ]
     },
     "execution_count": 31,
     "metadata": {},
     "output_type": "execute_result"
    }
   ],
   "source": [
    "sum(data[\"label\"] == \"POSITIVE\")"
   ]
  },
  {
   "cell_type": "code",
   "execution_count": 32,
   "metadata": {},
   "outputs": [
    {
     "data": {
      "text/plain": [
       "52"
      ]
     },
     "execution_count": 32,
     "metadata": {},
     "output_type": "execute_result"
    }
   ],
   "source": [
    "sum(data[\"label\"] == \"NEGATIVE\")"
   ]
  },
  {
   "cell_type": "code",
   "execution_count": 33,
   "metadata": {},
   "outputs": [
    {
     "data": {
      "text/plain": [
       "0.958027469424101"
      ]
     },
     "execution_count": 33,
     "metadata": {},
     "output_type": "execute_result"
    }
   ],
   "source": [
    "data['score'].mean()"
   ]
  },
  {
   "cell_type": "code",
   "execution_count": 34,
   "metadata": {},
   "outputs": [],
   "source": [
    "score = data['score']"
   ]
  },
  {
   "cell_type": "code",
   "execution_count": 35,
   "metadata": {},
   "outputs": [
    {
     "data": {
      "text/plain": [
       "nan"
      ]
     },
     "execution_count": 35,
     "metadata": {},
     "output_type": "execute_result"
    }
   ],
   "source": [
    "# series (watch the index)\n",
    "positive = (data[\"label\"] == \"POSITIVE\")\n",
    "score[positive].mean()"
   ]
  },
  {
   "cell_type": "code",
   "execution_count": 36,
   "metadata": {},
   "outputs": [
    {
     "data": {
      "text/plain": [
       "0.958027469424101"
      ]
     },
     "execution_count": 36,
     "metadata": {},
     "output_type": "execute_result"
    }
   ],
   "source": [
    "# series (watch the index)\n",
    "negative = (data[\"label\"] == \"NEGATIVE\")\n",
    "score[negative].mean()"
   ]
  },
  {
   "cell_type": "code",
   "execution_count": 37,
   "metadata": {},
   "outputs": [],
   "source": [
    "# data.label == 'POSITIVE'"
   ]
  },
  {
   "cell_type": "markdown",
   "metadata": {},
   "source": [
    "##### 3.3.2 Code 'negative' and 'postive' with 0 and 1"
   ]
  },
  {
   "cell_type": "code",
   "execution_count": 38,
   "metadata": {},
   "outputs": [],
   "source": [
    "data['label_coded'] = data['label'].apply(lambda x: 1 if x == 'POSITIVE' else -1)"
   ]
  },
  {
   "cell_type": "code",
   "execution_count": 39,
   "metadata": {},
   "outputs": [],
   "source": [
    "# data"
   ]
  },
  {
   "cell_type": "code",
   "execution_count": 40,
   "metadata": {},
   "outputs": [],
   "source": [
    "data['score_coded'] = data['label_coded'] * data['score']"
   ]
  },
  {
   "cell_type": "code",
   "execution_count": 41,
   "metadata": {},
   "outputs": [],
   "source": [
    "# data"
   ]
  },
  {
   "cell_type": "code",
   "execution_count": 42,
   "metadata": {},
   "outputs": [],
   "source": [
    "# Drop duplicates before sav\n",
    "# Read alrady existing data \n",
    "df_old = pd.read_csv('../data/results/data_sentiment.csv')\n",
    "df_old = df_old.astype(str)"
   ]
  },
  {
   "cell_type": "code",
   "execution_count": 43,
   "metadata": {},
   "outputs": [],
   "source": [
    "df_str = data.astype(str)"
   ]
  },
  {
   "cell_type": "code",
   "execution_count": 44,
   "metadata": {},
   "outputs": [],
   "source": [
    "df = pd.merge(df_old, df_str, how ='outer')"
   ]
  },
  {
   "cell_type": "code",
   "execution_count": 45,
   "metadata": {},
   "outputs": [],
   "source": [
    "df = df[df.date != 'date']"
   ]
  },
  {
   "cell_type": "code",
   "execution_count": 46,
   "metadata": {},
   "outputs": [],
   "source": [
    "df.drop_duplicates(subset=['id'],keep='last', inplace= True)"
   ]
  },
  {
   "cell_type": "code",
   "execution_count": 47,
   "metadata": {},
   "outputs": [
    {
     "data": {
      "text/html": [
       "<div>\n",
       "<style scoped>\n",
       "    .dataframe tbody tr th:only-of-type {\n",
       "        vertical-align: middle;\n",
       "    }\n",
       "\n",
       "    .dataframe tbody tr th {\n",
       "        vertical-align: top;\n",
       "    }\n",
       "\n",
       "    .dataframe thead th {\n",
       "        text-align: right;\n",
       "    }\n",
       "</style>\n",
       "<table border=\"1\" class=\"dataframe\">\n",
       "  <thead>\n",
       "    <tr style=\"text-align: right;\">\n",
       "      <th></th>\n",
       "      <th>index</th>\n",
       "      <th>Unnamed: 0</th>\n",
       "      <th>Unnamed: 0.1</th>\n",
       "      <th>Unnamed: 0.1.1</th>\n",
       "      <th>date</th>\n",
       "      <th>id</th>\n",
       "      <th>text</th>\n",
       "      <th>user_name</th>\n",
       "      <th>tweets_clean</th>\n",
       "      <th>sentiment</th>\n",
       "      <th>score</th>\n",
       "      <th>label</th>\n",
       "      <th>label_coded</th>\n",
       "      <th>score_coded</th>\n",
       "      <th>user_id</th>\n",
       "      <th>user_screen_name</th>\n",
       "    </tr>\n",
       "  </thead>\n",
       "  <tbody>\n",
       "    <tr>\n",
       "      <th>0</th>\n",
       "      <td>0</td>\n",
       "      <td>0</td>\n",
       "      <td>0.0</td>\n",
       "      <td>0.0</td>\n",
       "      <td>2020-09-29 06:34:23</td>\n",
       "      <td>1310830261450539009</td>\n",
       "      <td>RT @carnecrudaradio: Quiero felicitar al alcal...</td>\n",
       "      <td>alex vega</td>\n",
       "      <td>RT Quiero felicitar al alcalde por su exitosa ...</td>\n",
       "      <td>[{'label': 'NEGATIVE', 'score': 0.985985696315...</td>\n",
       "      <td>0.9859856963157654</td>\n",
       "      <td>NEGATIVE</td>\n",
       "      <td>-1</td>\n",
       "      <td>-0.9859856963157654</td>\n",
       "      <td>nan</td>\n",
       "      <td>nan</td>\n",
       "    </tr>\n",
       "    <tr>\n",
       "      <th>1</th>\n",
       "      <td>1</td>\n",
       "      <td>1</td>\n",
       "      <td>1.0</td>\n",
       "      <td>1.0</td>\n",
       "      <td>2020-09-29 07:01:33</td>\n",
       "      <td>1310837099189473280</td>\n",
       "      <td>Señores de @BiciMAD @MADRID las bicis están mu...</td>\n",
       "      <td>Neuroneater</td>\n",
       "      <td>Se ores de las bicis est n muy descuidadas lo ...</td>\n",
       "      <td>[{'label': 'NEGATIVE', 'score': 0.981788218021...</td>\n",
       "      <td>0.9817882180213928</td>\n",
       "      <td>NEGATIVE</td>\n",
       "      <td>-1</td>\n",
       "      <td>-0.9817882180213928</td>\n",
       "      <td>nan</td>\n",
       "      <td>nan</td>\n",
       "    </tr>\n",
       "    <tr>\n",
       "      <th>2</th>\n",
       "      <td>2</td>\n",
       "      <td>2</td>\n",
       "      <td>2.0</td>\n",
       "      <td>2.0</td>\n",
       "      <td>2020-09-29 07:43:50</td>\n",
       "      <td>1310847740386201600</td>\n",
       "      <td>@JMDLatina Espero de este distrito no solo que...</td>\n",
       "      <td>Andrés Pina</td>\n",
       "      <td>Espero de este distrito no solo que proteja el...</td>\n",
       "      <td>[{'label': 'NEGATIVE', 'score': 0.980981051921...</td>\n",
       "      <td>0.9809810519218444</td>\n",
       "      <td>NEGATIVE</td>\n",
       "      <td>-1</td>\n",
       "      <td>-0.9809810519218444</td>\n",
       "      <td>nan</td>\n",
       "      <td>nan</td>\n",
       "    </tr>\n",
       "    <tr>\n",
       "      <th>3</th>\n",
       "      <td>3</td>\n",
       "      <td>3</td>\n",
       "      <td>3.0</td>\n",
       "      <td>3.0</td>\n",
       "      <td>2020-09-29 07:53:20</td>\n",
       "      <td>1310850131344920576</td>\n",
       "      <td>RT @_AguilarM: @PlataformaEMT @BiciMAD @bcarab...</td>\n",
       "      <td>ElMaNDaLoRiaNo</td>\n",
       "      <td>RT AguilarM O la fecha de la ltima OPE para Av...</td>\n",
       "      <td>[{'label': 'NEGATIVE', 'score': 0.983189225196...</td>\n",
       "      <td>0.9831892251968384</td>\n",
       "      <td>NEGATIVE</td>\n",
       "      <td>-1</td>\n",
       "      <td>-0.9831892251968384</td>\n",
       "      <td>nan</td>\n",
       "      <td>nan</td>\n",
       "    </tr>\n",
       "    <tr>\n",
       "      <th>4</th>\n",
       "      <td>4</td>\n",
       "      <td>4</td>\n",
       "      <td>4.0</td>\n",
       "      <td>4.0</td>\n",
       "      <td>2020-09-29 08:05:56</td>\n",
       "      <td>1310853301810888704</td>\n",
       "      <td>La misma vergüenza de TODOS los días. Una esta...</td>\n",
       "      <td>Diego Azul</td>\n",
       "      <td>La misma verg enza de TODOS los d as Una estac...</td>\n",
       "      <td>[{'label': 'NEGATIVE', 'score': 0.994368195533...</td>\n",
       "      <td>0.9943681955337524</td>\n",
       "      <td>NEGATIVE</td>\n",
       "      <td>-1</td>\n",
       "      <td>-0.9943681955337524</td>\n",
       "      <td>nan</td>\n",
       "      <td>nan</td>\n",
       "    </tr>\n",
       "    <tr>\n",
       "      <th>...</th>\n",
       "      <td>...</td>\n",
       "      <td>...</td>\n",
       "      <td>...</td>\n",
       "      <td>...</td>\n",
       "      <td>...</td>\n",
       "      <td>...</td>\n",
       "      <td>...</td>\n",
       "      <td>...</td>\n",
       "      <td>...</td>\n",
       "      <td>...</td>\n",
       "      <td>...</td>\n",
       "      <td>...</td>\n",
       "      <td>...</td>\n",
       "      <td>...</td>\n",
       "      <td>...</td>\n",
       "      <td>...</td>\n",
       "    </tr>\n",
       "    <tr>\n",
       "      <th>9022</th>\n",
       "      <td>9022</td>\n",
       "      <td>NaN</td>\n",
       "      <td>NaN</td>\n",
       "      <td>NaN</td>\n",
       "      <td>2020-10-24 08:25:02</td>\n",
       "      <td>1319917806775898113</td>\n",
       "      <td>RT @PlataformaEMT: Hemos salido a la calle a p...</td>\n",
       "      <td>Carlos</td>\n",
       "      <td>RT Hemos salido a la calle a preguntar y aqu e...</td>\n",
       "      <td>[{'label': 'NEGATIVE', 'score': 0.958437263965...</td>\n",
       "      <td>0.9584372639656067</td>\n",
       "      <td>NEGATIVE</td>\n",
       "      <td>-1</td>\n",
       "      <td>-0.9584372639656067</td>\n",
       "      <td>1.2021517960320532e+18</td>\n",
       "      <td>Carlos45343133</td>\n",
       "    </tr>\n",
       "    <tr>\n",
       "      <th>9023</th>\n",
       "      <td>9023</td>\n",
       "      <td>NaN</td>\n",
       "      <td>NaN</td>\n",
       "      <td>NaN</td>\n",
       "      <td>2020-10-24 06:57:41</td>\n",
       "      <td>1319895822499303424</td>\n",
       "      <td>RT @PlataformaEMT: Hemos salido a la calle a p...</td>\n",
       "      <td>BICIMAD EN LUCHA</td>\n",
       "      <td>RT Hemos salido a la calle a preguntar y aqu e...</td>\n",
       "      <td>[{'label': 'NEGATIVE', 'score': 0.958437263965...</td>\n",
       "      <td>0.9584372639656067</td>\n",
       "      <td>NEGATIVE</td>\n",
       "      <td>-1</td>\n",
       "      <td>-0.9584372639656067</td>\n",
       "      <td>1.199827990361858e+18</td>\n",
       "      <td>BicimadL</td>\n",
       "    </tr>\n",
       "    <tr>\n",
       "      <th>9024</th>\n",
       "      <td>9024</td>\n",
       "      <td>NaN</td>\n",
       "      <td>NaN</td>\n",
       "      <td>NaN</td>\n",
       "      <td>2020-10-24 06:57:47</td>\n",
       "      <td>1319895847413436416</td>\n",
       "      <td>RT @PlataformaEMT: Hemos salido a la calle a p...</td>\n",
       "      <td>BICIMAD EN LUCHA</td>\n",
       "      <td>RT Hemos salido a la calle a preguntar y aqu e...</td>\n",
       "      <td>[{'label': 'NEGATIVE', 'score': 0.958437263965...</td>\n",
       "      <td>0.9584372639656067</td>\n",
       "      <td>NEGATIVE</td>\n",
       "      <td>-1</td>\n",
       "      <td>-0.9584372639656067</td>\n",
       "      <td>1.199827990361858e+18</td>\n",
       "      <td>BicimadL</td>\n",
       "    </tr>\n",
       "    <tr>\n",
       "      <th>9025</th>\n",
       "      <td>9025</td>\n",
       "      <td>NaN</td>\n",
       "      <td>NaN</td>\n",
       "      <td>NaN</td>\n",
       "      <td>2020-10-24 07:32:13</td>\n",
       "      <td>1319904513063571456</td>\n",
       "      <td>RT @diego_rebollo: Esta es la realidad de @Bic...</td>\n",
       "      <td>BICIMAD EN LUCHA</td>\n",
       "      <td>RT rebollo Esta es la realidad de Estaciones a...</td>\n",
       "      <td>[{'label': 'NEGATIVE', 'score': 0.983878135681...</td>\n",
       "      <td>0.9838781356811523</td>\n",
       "      <td>NEGATIVE</td>\n",
       "      <td>-1</td>\n",
       "      <td>-0.9838781356811523</td>\n",
       "      <td>1.199827990361858e+18</td>\n",
       "      <td>BicimadL</td>\n",
       "    </tr>\n",
       "    <tr>\n",
       "      <th>9026</th>\n",
       "      <td>9026</td>\n",
       "      <td>NaN</td>\n",
       "      <td>NaN</td>\n",
       "      <td>NaN</td>\n",
       "      <td>2020-10-24 01:47:04</td>\n",
       "      <td>1319817653930856449</td>\n",
       "      <td>La estación 9 (Plaza de San Miguel) no está di...</td>\n",
       "      <td>#MADBikeStatus 🛎🚲⏱</td>\n",
       "      <td>La estaci n 9 Plaza de San Miguel no est dispo...</td>\n",
       "      <td>[{'label': 'NEGATIVE', 'score': 0.993562817573...</td>\n",
       "      <td>0.9935628175735474</td>\n",
       "      <td>NEGATIVE</td>\n",
       "      <td>-1</td>\n",
       "      <td>-0.9935628175735474</td>\n",
       "      <td>7.890740276084695e+17</td>\n",
       "      <td>madbikestatus</td>\n",
       "    </tr>\n",
       "  </tbody>\n",
       "</table>\n",
       "<p>9027 rows × 16 columns</p>\n",
       "</div>"
      ],
      "text/plain": [
       "      index Unnamed: 0 Unnamed: 0.1 Unnamed: 0.1.1                 date  \\\n",
       "0         0          0          0.0            0.0  2020-09-29 06:34:23   \n",
       "1         1          1          1.0            1.0  2020-09-29 07:01:33   \n",
       "2         2          2          2.0            2.0  2020-09-29 07:43:50   \n",
       "3         3          3          3.0            3.0  2020-09-29 07:53:20   \n",
       "4         4          4          4.0            4.0  2020-09-29 08:05:56   \n",
       "...     ...        ...          ...            ...                  ...   \n",
       "9022   9022        NaN          NaN            NaN  2020-10-24 08:25:02   \n",
       "9023   9023        NaN          NaN            NaN  2020-10-24 06:57:41   \n",
       "9024   9024        NaN          NaN            NaN  2020-10-24 06:57:47   \n",
       "9025   9025        NaN          NaN            NaN  2020-10-24 07:32:13   \n",
       "9026   9026        NaN          NaN            NaN  2020-10-24 01:47:04   \n",
       "\n",
       "                       id                                               text  \\\n",
       "0     1310830261450539009  RT @carnecrudaradio: Quiero felicitar al alcal...   \n",
       "1     1310837099189473280  Señores de @BiciMAD @MADRID las bicis están mu...   \n",
       "2     1310847740386201600  @JMDLatina Espero de este distrito no solo que...   \n",
       "3     1310850131344920576  RT @_AguilarM: @PlataformaEMT @BiciMAD @bcarab...   \n",
       "4     1310853301810888704  La misma vergüenza de TODOS los días. Una esta...   \n",
       "...                   ...                                                ...   \n",
       "9022  1319917806775898113  RT @PlataformaEMT: Hemos salido a la calle a p...   \n",
       "9023  1319895822499303424  RT @PlataformaEMT: Hemos salido a la calle a p...   \n",
       "9024  1319895847413436416  RT @PlataformaEMT: Hemos salido a la calle a p...   \n",
       "9025  1319904513063571456  RT @diego_rebollo: Esta es la realidad de @Bic...   \n",
       "9026  1319817653930856449  La estación 9 (Plaza de San Miguel) no está di...   \n",
       "\n",
       "               user_name                                       tweets_clean  \\\n",
       "0              alex vega  RT Quiero felicitar al alcalde por su exitosa ...   \n",
       "1            Neuroneater  Se ores de las bicis est n muy descuidadas lo ...   \n",
       "2            Andrés Pina  Espero de este distrito no solo que proteja el...   \n",
       "3         ElMaNDaLoRiaNo  RT AguilarM O la fecha de la ltima OPE para Av...   \n",
       "4             Diego Azul  La misma verg enza de TODOS los d as Una estac...   \n",
       "...                  ...                                                ...   \n",
       "9022              Carlos  RT Hemos salido a la calle a preguntar y aqu e...   \n",
       "9023    BICIMAD EN LUCHA  RT Hemos salido a la calle a preguntar y aqu e...   \n",
       "9024    BICIMAD EN LUCHA  RT Hemos salido a la calle a preguntar y aqu e...   \n",
       "9025    BICIMAD EN LUCHA  RT rebollo Esta es la realidad de Estaciones a...   \n",
       "9026  #MADBikeStatus 🛎🚲⏱  La estaci n 9 Plaza de San Miguel no est dispo...   \n",
       "\n",
       "                                              sentiment               score  \\\n",
       "0     [{'label': 'NEGATIVE', 'score': 0.985985696315...  0.9859856963157654   \n",
       "1     [{'label': 'NEGATIVE', 'score': 0.981788218021...  0.9817882180213928   \n",
       "2     [{'label': 'NEGATIVE', 'score': 0.980981051921...  0.9809810519218444   \n",
       "3     [{'label': 'NEGATIVE', 'score': 0.983189225196...  0.9831892251968384   \n",
       "4     [{'label': 'NEGATIVE', 'score': 0.994368195533...  0.9943681955337524   \n",
       "...                                                 ...                 ...   \n",
       "9022  [{'label': 'NEGATIVE', 'score': 0.958437263965...  0.9584372639656067   \n",
       "9023  [{'label': 'NEGATIVE', 'score': 0.958437263965...  0.9584372639656067   \n",
       "9024  [{'label': 'NEGATIVE', 'score': 0.958437263965...  0.9584372639656067   \n",
       "9025  [{'label': 'NEGATIVE', 'score': 0.983878135681...  0.9838781356811523   \n",
       "9026  [{'label': 'NEGATIVE', 'score': 0.993562817573...  0.9935628175735474   \n",
       "\n",
       "         label label_coded          score_coded                 user_id  \\\n",
       "0     NEGATIVE          -1  -0.9859856963157654                     nan   \n",
       "1     NEGATIVE          -1  -0.9817882180213928                     nan   \n",
       "2     NEGATIVE          -1  -0.9809810519218444                     nan   \n",
       "3     NEGATIVE          -1  -0.9831892251968384                     nan   \n",
       "4     NEGATIVE          -1  -0.9943681955337524                     nan   \n",
       "...        ...         ...                  ...                     ...   \n",
       "9022  NEGATIVE          -1  -0.9584372639656067  1.2021517960320532e+18   \n",
       "9023  NEGATIVE          -1  -0.9584372639656067   1.199827990361858e+18   \n",
       "9024  NEGATIVE          -1  -0.9584372639656067   1.199827990361858e+18   \n",
       "9025  NEGATIVE          -1  -0.9838781356811523   1.199827990361858e+18   \n",
       "9026  NEGATIVE          -1  -0.9935628175735474   7.890740276084695e+17   \n",
       "\n",
       "     user_screen_name  \n",
       "0                 nan  \n",
       "1                 nan  \n",
       "2                 nan  \n",
       "3                 nan  \n",
       "4                 nan  \n",
       "...               ...  \n",
       "9022   Carlos45343133  \n",
       "9023         BicimadL  \n",
       "9024         BicimadL  \n",
       "9025         BicimadL  \n",
       "9026    madbikestatus  \n",
       "\n",
       "[9027 rows x 16 columns]"
      ]
     },
     "execution_count": 47,
     "metadata": {},
     "output_type": "execute_result"
    }
   ],
   "source": [
    "df.reset_index()"
   ]
  },
  {
   "cell_type": "code",
   "execution_count": 48,
   "metadata": {},
   "outputs": [
    {
     "data": {
      "text/html": [
       "<div>\n",
       "<style scoped>\n",
       "    .dataframe tbody tr th:only-of-type {\n",
       "        vertical-align: middle;\n",
       "    }\n",
       "\n",
       "    .dataframe tbody tr th {\n",
       "        vertical-align: top;\n",
       "    }\n",
       "\n",
       "    .dataframe thead th {\n",
       "        text-align: right;\n",
       "    }\n",
       "</style>\n",
       "<table border=\"1\" class=\"dataframe\">\n",
       "  <thead>\n",
       "    <tr style=\"text-align: right;\">\n",
       "      <th></th>\n",
       "      <th>Unnamed: 0</th>\n",
       "      <th>Unnamed: 0.1</th>\n",
       "      <th>Unnamed: 0.1.1</th>\n",
       "      <th>date</th>\n",
       "      <th>id</th>\n",
       "      <th>text</th>\n",
       "      <th>user_name</th>\n",
       "      <th>tweets_clean</th>\n",
       "      <th>sentiment</th>\n",
       "      <th>score</th>\n",
       "      <th>label</th>\n",
       "      <th>label_coded</th>\n",
       "      <th>score_coded</th>\n",
       "      <th>user_id</th>\n",
       "      <th>user_screen_name</th>\n",
       "    </tr>\n",
       "  </thead>\n",
       "  <tbody>\n",
       "    <tr>\n",
       "      <th>8984</th>\n",
       "      <td>NaN</td>\n",
       "      <td>NaN</td>\n",
       "      <td>NaN</td>\n",
       "      <td>2020-10-24 08:39:16</td>\n",
       "      <td>1319921388438900741</td>\n",
       "      <td>RT @PlataformaEMT: Hemos salido a la calle a p...</td>\n",
       "      <td>japarra</td>\n",
       "      <td>RT Hemos salido a la calle a preguntar y aqu e...</td>\n",
       "      <td>[{'label': 'NEGATIVE', 'score': 0.958437263965...</td>\n",
       "      <td>0.9584372639656067</td>\n",
       "      <td>NEGATIVE</td>\n",
       "      <td>-1</td>\n",
       "      <td>-0.9584372639656067</td>\n",
       "      <td>1272437244.0</td>\n",
       "      <td>japarra1633</td>\n",
       "    </tr>\n",
       "    <tr>\n",
       "      <th>8983</th>\n",
       "      <td>NaN</td>\n",
       "      <td>NaN</td>\n",
       "      <td>NaN</td>\n",
       "      <td>2020-10-24 08:39:10</td>\n",
       "      <td>1319921363931549696</td>\n",
       "      <td>RT @PlataformaEMT: Hemos salido a la calle a p...</td>\n",
       "      <td>japarra</td>\n",
       "      <td>RT Hemos salido a la calle a preguntar y aqu e...</td>\n",
       "      <td>[{'label': 'NEGATIVE', 'score': 0.958437263965...</td>\n",
       "      <td>0.9584372639656067</td>\n",
       "      <td>NEGATIVE</td>\n",
       "      <td>-1</td>\n",
       "      <td>-0.9584372639656067</td>\n",
       "      <td>1272437244.0</td>\n",
       "      <td>japarra1633</td>\n",
       "    </tr>\n",
       "    <tr>\n",
       "      <th>8985</th>\n",
       "      <td>NaN</td>\n",
       "      <td>NaN</td>\n",
       "      <td>NaN</td>\n",
       "      <td>2020-10-24 08:39:01</td>\n",
       "      <td>1319921325683736576</td>\n",
       "      <td>RT @PlataformaEMT: Hemos salido a la calle a p...</td>\n",
       "      <td>japarra</td>\n",
       "      <td>RT Hemos salido a la calle a preguntar y aqu e...</td>\n",
       "      <td>[{'label': 'NEGATIVE', 'score': 0.958437263965...</td>\n",
       "      <td>0.9584372639656067</td>\n",
       "      <td>NEGATIVE</td>\n",
       "      <td>-1</td>\n",
       "      <td>-0.9584372639656067</td>\n",
       "      <td>1272437244.0</td>\n",
       "      <td>japarra1633</td>\n",
       "    </tr>\n",
       "    <tr>\n",
       "      <th>9022</th>\n",
       "      <td>NaN</td>\n",
       "      <td>NaN</td>\n",
       "      <td>NaN</td>\n",
       "      <td>2020-10-24 08:25:02</td>\n",
       "      <td>1319917806775898113</td>\n",
       "      <td>RT @PlataformaEMT: Hemos salido a la calle a p...</td>\n",
       "      <td>Carlos</td>\n",
       "      <td>RT Hemos salido a la calle a preguntar y aqu e...</td>\n",
       "      <td>[{'label': 'NEGATIVE', 'score': 0.958437263965...</td>\n",
       "      <td>0.9584372639656067</td>\n",
       "      <td>NEGATIVE</td>\n",
       "      <td>-1</td>\n",
       "      <td>-0.9584372639656067</td>\n",
       "      <td>1.2021517960320532e+18</td>\n",
       "      <td>Carlos45343133</td>\n",
       "    </tr>\n",
       "    <tr>\n",
       "      <th>9021</th>\n",
       "      <td>NaN</td>\n",
       "      <td>NaN</td>\n",
       "      <td>NaN</td>\n",
       "      <td>2020-10-24 08:24:56</td>\n",
       "      <td>1319917780985151488</td>\n",
       "      <td>RT @PlataformaEMT: Hemos salido a la calle a p...</td>\n",
       "      <td>Carlos</td>\n",
       "      <td>RT Hemos salido a la calle a preguntar y aqu e...</td>\n",
       "      <td>[{'label': 'NEGATIVE', 'score': 0.958437263965...</td>\n",
       "      <td>0.9584372639656067</td>\n",
       "      <td>NEGATIVE</td>\n",
       "      <td>-1</td>\n",
       "      <td>-0.9584372639656067</td>\n",
       "      <td>1.2021517960320532e+18</td>\n",
       "      <td>Carlos45343133</td>\n",
       "    </tr>\n",
       "    <tr>\n",
       "      <th>9020</th>\n",
       "      <td>NaN</td>\n",
       "      <td>NaN</td>\n",
       "      <td>NaN</td>\n",
       "      <td>2020-10-24 08:24:51</td>\n",
       "      <td>1319917761410273281</td>\n",
       "      <td>RT @PlataformaEMT: Hemos salido a la calle a p...</td>\n",
       "      <td>Carlos</td>\n",
       "      <td>RT Hemos salido a la calle a preguntar y aqu e...</td>\n",
       "      <td>[{'label': 'NEGATIVE', 'score': 0.958437263965...</td>\n",
       "      <td>0.9584372639656067</td>\n",
       "      <td>NEGATIVE</td>\n",
       "      <td>-1</td>\n",
       "      <td>-0.9584372639656067</td>\n",
       "      <td>1.2021517960320532e+18</td>\n",
       "      <td>Carlos45343133</td>\n",
       "    </tr>\n",
       "    <tr>\n",
       "      <th>8981</th>\n",
       "      <td>NaN</td>\n",
       "      <td>NaN</td>\n",
       "      <td>NaN</td>\n",
       "      <td>2020-10-24 08:16:42</td>\n",
       "      <td>1319915710634741761</td>\n",
       "      <td>RT @PlataformaEMT: Hemos salido a la calle a p...</td>\n",
       "      <td>oelon</td>\n",
       "      <td>RT Hemos salido a la calle a preguntar y aqu e...</td>\n",
       "      <td>[{'label': 'NEGATIVE', 'score': 0.958437263965...</td>\n",
       "      <td>0.9584372639656067</td>\n",
       "      <td>NEGATIVE</td>\n",
       "      <td>-1</td>\n",
       "      <td>-0.9584372639656067</td>\n",
       "      <td>1395477475.0</td>\n",
       "      <td>oelon65</td>\n",
       "    </tr>\n",
       "    <tr>\n",
       "      <th>9014</th>\n",
       "      <td>NaN</td>\n",
       "      <td>NaN</td>\n",
       "      <td>NaN</td>\n",
       "      <td>2020-10-24 08:01:50</td>\n",
       "      <td>1319911968950673409</td>\n",
       "      <td>@MADRID @BiciMAD @JMDLatina Deseando que llegu...</td>\n",
       "      <td>Indiario</td>\n",
       "      <td>Deseando que lleguen por metro La Peseta</td>\n",
       "      <td>[{'label': 'NEGATIVE', 'score': 0.967384099960...</td>\n",
       "      <td>0.9673840999603271</td>\n",
       "      <td>NEGATIVE</td>\n",
       "      <td>-1</td>\n",
       "      <td>-0.9673840999603271</td>\n",
       "      <td>4504395567.0</td>\n",
       "      <td>indiario</td>\n",
       "    </tr>\n",
       "    <tr>\n",
       "      <th>8990</th>\n",
       "      <td>NaN</td>\n",
       "      <td>NaN</td>\n",
       "      <td>NaN</td>\n",
       "      <td>2020-10-24 07:45:59</td>\n",
       "      <td>1319907978984755201</td>\n",
       "      <td>RT @PlataformaEMT: Hemos salido a la calle a p...</td>\n",
       "      <td>Taxi Barcelona #NoOnProp22</td>\n",
       "      <td>RT Hemos salido a la calle a preguntar y aqu e...</td>\n",
       "      <td>[{'label': 'NEGATIVE', 'score': 0.958437263965...</td>\n",
       "      <td>0.9584372639656067</td>\n",
       "      <td>NEGATIVE</td>\n",
       "      <td>-1</td>\n",
       "      <td>-0.9584372639656067</td>\n",
       "      <td>375032643.0</td>\n",
       "      <td>dammkring</td>\n",
       "    </tr>\n",
       "    <tr>\n",
       "      <th>8996</th>\n",
       "      <td>NaN</td>\n",
       "      <td>NaN</td>\n",
       "      <td>NaN</td>\n",
       "      <td>2020-10-24 07:42:31</td>\n",
       "      <td>1319907106917679105</td>\n",
       "      <td>RT @BiciMAD: Hoy se ha puesto en marcha la nue...</td>\n",
       "      <td>Ricardo Jose Serrano</td>\n",
       "      <td>RT Hoy se ha puesto en marcha la nueva estaci ...</td>\n",
       "      <td>[{'label': 'NEGATIVE', 'score': 0.963619709014...</td>\n",
       "      <td>0.9636197090148926</td>\n",
       "      <td>NEGATIVE</td>\n",
       "      <td>-1</td>\n",
       "      <td>-0.9636197090148926</td>\n",
       "      <td>274948847.0</td>\n",
       "      <td>ricardomas45</td>\n",
       "    </tr>\n",
       "  </tbody>\n",
       "</table>\n",
       "</div>"
      ],
      "text/plain": [
       "     Unnamed: 0 Unnamed: 0.1 Unnamed: 0.1.1                 date  \\\n",
       "8984        NaN          NaN            NaN  2020-10-24 08:39:16   \n",
       "8983        NaN          NaN            NaN  2020-10-24 08:39:10   \n",
       "8985        NaN          NaN            NaN  2020-10-24 08:39:01   \n",
       "9022        NaN          NaN            NaN  2020-10-24 08:25:02   \n",
       "9021        NaN          NaN            NaN  2020-10-24 08:24:56   \n",
       "9020        NaN          NaN            NaN  2020-10-24 08:24:51   \n",
       "8981        NaN          NaN            NaN  2020-10-24 08:16:42   \n",
       "9014        NaN          NaN            NaN  2020-10-24 08:01:50   \n",
       "8990        NaN          NaN            NaN  2020-10-24 07:45:59   \n",
       "8996        NaN          NaN            NaN  2020-10-24 07:42:31   \n",
       "\n",
       "                       id                                               text  \\\n",
       "8984  1319921388438900741  RT @PlataformaEMT: Hemos salido a la calle a p...   \n",
       "8983  1319921363931549696  RT @PlataformaEMT: Hemos salido a la calle a p...   \n",
       "8985  1319921325683736576  RT @PlataformaEMT: Hemos salido a la calle a p...   \n",
       "9022  1319917806775898113  RT @PlataformaEMT: Hemos salido a la calle a p...   \n",
       "9021  1319917780985151488  RT @PlataformaEMT: Hemos salido a la calle a p...   \n",
       "9020  1319917761410273281  RT @PlataformaEMT: Hemos salido a la calle a p...   \n",
       "8981  1319915710634741761  RT @PlataformaEMT: Hemos salido a la calle a p...   \n",
       "9014  1319911968950673409  @MADRID @BiciMAD @JMDLatina Deseando que llegu...   \n",
       "8990  1319907978984755201  RT @PlataformaEMT: Hemos salido a la calle a p...   \n",
       "8996  1319907106917679105  RT @BiciMAD: Hoy se ha puesto en marcha la nue...   \n",
       "\n",
       "                       user_name  \\\n",
       "8984                     japarra   \n",
       "8983                     japarra   \n",
       "8985                     japarra   \n",
       "9022                      Carlos   \n",
       "9021                      Carlos   \n",
       "9020                      Carlos   \n",
       "8981                       oelon   \n",
       "9014                    Indiario   \n",
       "8990  Taxi Barcelona #NoOnProp22   \n",
       "8996        Ricardo Jose Serrano   \n",
       "\n",
       "                                           tweets_clean  \\\n",
       "8984  RT Hemos salido a la calle a preguntar y aqu e...   \n",
       "8983  RT Hemos salido a la calle a preguntar y aqu e...   \n",
       "8985  RT Hemos salido a la calle a preguntar y aqu e...   \n",
       "9022  RT Hemos salido a la calle a preguntar y aqu e...   \n",
       "9021  RT Hemos salido a la calle a preguntar y aqu e...   \n",
       "9020  RT Hemos salido a la calle a preguntar y aqu e...   \n",
       "8981  RT Hemos salido a la calle a preguntar y aqu e...   \n",
       "9014           Deseando que lleguen por metro La Peseta   \n",
       "8990  RT Hemos salido a la calle a preguntar y aqu e...   \n",
       "8996  RT Hoy se ha puesto en marcha la nueva estaci ...   \n",
       "\n",
       "                                              sentiment               score  \\\n",
       "8984  [{'label': 'NEGATIVE', 'score': 0.958437263965...  0.9584372639656067   \n",
       "8983  [{'label': 'NEGATIVE', 'score': 0.958437263965...  0.9584372639656067   \n",
       "8985  [{'label': 'NEGATIVE', 'score': 0.958437263965...  0.9584372639656067   \n",
       "9022  [{'label': 'NEGATIVE', 'score': 0.958437263965...  0.9584372639656067   \n",
       "9021  [{'label': 'NEGATIVE', 'score': 0.958437263965...  0.9584372639656067   \n",
       "9020  [{'label': 'NEGATIVE', 'score': 0.958437263965...  0.9584372639656067   \n",
       "8981  [{'label': 'NEGATIVE', 'score': 0.958437263965...  0.9584372639656067   \n",
       "9014  [{'label': 'NEGATIVE', 'score': 0.967384099960...  0.9673840999603271   \n",
       "8990  [{'label': 'NEGATIVE', 'score': 0.958437263965...  0.9584372639656067   \n",
       "8996  [{'label': 'NEGATIVE', 'score': 0.963619709014...  0.9636197090148926   \n",
       "\n",
       "         label label_coded          score_coded                 user_id  \\\n",
       "8984  NEGATIVE          -1  -0.9584372639656067            1272437244.0   \n",
       "8983  NEGATIVE          -1  -0.9584372639656067            1272437244.0   \n",
       "8985  NEGATIVE          -1  -0.9584372639656067            1272437244.0   \n",
       "9022  NEGATIVE          -1  -0.9584372639656067  1.2021517960320532e+18   \n",
       "9021  NEGATIVE          -1  -0.9584372639656067  1.2021517960320532e+18   \n",
       "9020  NEGATIVE          -1  -0.9584372639656067  1.2021517960320532e+18   \n",
       "8981  NEGATIVE          -1  -0.9584372639656067            1395477475.0   \n",
       "9014  NEGATIVE          -1  -0.9673840999603271            4504395567.0   \n",
       "8990  NEGATIVE          -1  -0.9584372639656067             375032643.0   \n",
       "8996  NEGATIVE          -1  -0.9636197090148926             274948847.0   \n",
       "\n",
       "     user_screen_name  \n",
       "8984      japarra1633  \n",
       "8983      japarra1633  \n",
       "8985      japarra1633  \n",
       "9022   Carlos45343133  \n",
       "9021   Carlos45343133  \n",
       "9020   Carlos45343133  \n",
       "8981          oelon65  \n",
       "9014         indiario  \n",
       "8990        dammkring  \n",
       "8996     ricardomas45  "
      ]
     },
     "execution_count": 48,
     "metadata": {},
     "output_type": "execute_result"
    }
   ],
   "source": [
    "# check new Tweets are in df\n",
    "df.sort_values('date', ascending = False).head(10)"
   ]
  },
  {
   "cell_type": "markdown",
   "metadata": {},
   "source": [
    "### 2.3 Save to csv"
   ]
  },
  {
   "cell_type": "markdown",
   "metadata": {},
   "source": [
    "- **Check Dataframe shape** \n",
    "<br>\n",
    "        Check df shape\n",
    "<br>\n",
    "        Check new tweets (i.e. difference between old and updated df)\n",
    "- **Save to existing 'rawdata.csv'** \n",
    "<br> \n",
    "        Save only aditional tweets (i.e. df updated) \n",
    "<br>"
   ]
  },
  {
   "cell_type": "code",
   "execution_count": 49,
   "metadata": {},
   "outputs": [
    {
     "data": {
      "text/plain": [
       "(9027, 15)"
      ]
     },
     "execution_count": 49,
     "metadata": {},
     "output_type": "execute_result"
    }
   ],
   "source": [
    "# Updated df shape (rows cols)\n",
    "df.shape"
   ]
  },
  {
   "cell_type": "code",
   "execution_count": 50,
   "metadata": {},
   "outputs": [
    {
     "data": {
      "text/plain": [
       "52"
      ]
     },
     "execution_count": 50,
     "metadata": {},
     "output_type": "execute_result"
    }
   ],
   "source": [
    "# New tweets \n",
    "df.shape[0] - df_old.shape[0]"
   ]
  },
  {
   "cell_type": "code",
   "execution_count": 51,
   "metadata": {},
   "outputs": [],
   "source": [
    "# save to csv - add a dataframe to an existing csv file\n",
    "df.to_csv('../data/results/data_sentiment.csv', header=True)"
   ]
  }
 ],
 "metadata": {
  "kernelspec": {
   "display_name": "Python [conda env:ironhack]",
   "language": "python",
   "name": "conda-env-ironhack-py"
  },
  "language_info": {
   "codemirror_mode": {
    "name": "ipython",
    "version": 3
   },
   "file_extension": ".py",
   "mimetype": "text/x-python",
   "name": "python",
   "nbconvert_exporter": "python",
   "pygments_lexer": "ipython3",
   "version": "3.7.3"
  }
 },
 "nbformat": 4,
 "nbformat_minor": 4
}
