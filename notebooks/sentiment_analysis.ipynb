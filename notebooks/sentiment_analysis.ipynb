{
 "cells": [
  {
   "cell_type": "markdown",
   "metadata": {},
   "source": [
    "# Sentiment Analysis"
   ]
  },
  {
   "cell_type": "markdown",
   "metadata": {},
   "source": [
    "This notebook includes all actions to describe the data (i.e. key statistics, etc).<br>\n",
    "**Data**: CSV saved in '../data/raw/rawdata.csv. This file contains all updated tweets (old and new) as per 'acquisition module'"
   ]
  },
  {
   "cell_type": "markdown",
   "metadata": {},
   "source": [
    "**Key actions** \n",
    "<br> <hr>\n",
    "- Identify and remove duplicate records\n",
    "- Identify and remove Tweets done by user = BiciMAD \n",
    "- Examine data for potential issues\n",
    "- Identify and fill in missing values\n",
    "- *Remove low variance columns (potentially not needed)*\n",
    "- Identify potential outliers *(potentially not needed)*\n",
    "- Correct incorrect data types *(potentially only text variable)*\n",
    "- Remove special characters and clean categorical variables *(potentially only text variable)*\n",
    "<br>"
   ]
  },
  {
   "cell_type": "markdown",
   "metadata": {},
   "source": [
    "## 1. Read & clean data"
   ]
  },
  {
   "cell_type": "markdown",
   "metadata": {},
   "source": [
    "#### 1.1 Read data\n",
    "<hr>"
   ]
  },
  {
   "cell_type": "code",
   "execution_count": 1,
   "metadata": {},
   "outputs": [],
   "source": [
    "# all modules\n",
    "import pandas as pd\n",
    "# if packaches need upload \n",
    "# pip install --upgrade pip"
   ]
  },
  {
   "cell_type": "code",
   "execution_count": 2,
   "metadata": {},
   "outputs": [],
   "source": [
    "# load dataset\n",
    "data = pd.read_csv('../data/raw/rawdata.csv')"
   ]
  },
  {
   "cell_type": "code",
   "execution_count": 3,
   "metadata": {},
   "outputs": [],
   "source": [
    "# change date type from 'object' to 'date'\n",
    "data['date'] = pd.to_datetime(data['date'])"
   ]
  },
  {
   "cell_type": "code",
   "execution_count": 4,
   "metadata": {},
   "outputs": [],
   "source": [
    "# getting today's Timestamp\n",
    "today = pd.Timestamp.today().floor('D')\n",
    "# .normalize() does the same thing"
   ]
  },
  {
   "cell_type": "code",
   "execution_count": 5,
   "metadata": {},
   "outputs": [
    {
     "data": {
      "text/plain": [
       "Timestamp('2020-10-26 00:00:00')"
      ]
     },
     "execution_count": 5,
     "metadata": {},
     "output_type": "execute_result"
    }
   ],
   "source": [
    "today"
   ]
  },
  {
   "cell_type": "code",
   "execution_count": 6,
   "metadata": {},
   "outputs": [],
   "source": [
    "data = data[(data['date'] > today )]"
   ]
  },
  {
   "cell_type": "code",
   "execution_count": 7,
   "metadata": {},
   "outputs": [
    {
     "data": {
      "text/plain": [
       "287"
      ]
     },
     "execution_count": 7,
     "metadata": {},
     "output_type": "execute_result"
    }
   ],
   "source": [
    "data.shape[0]"
   ]
  },
  {
   "cell_type": "code",
   "execution_count": 8,
   "metadata": {},
   "outputs": [],
   "source": [
    "# select required columns\n",
    "data = data.drop(columns =['Unnamed: 0'])"
   ]
  },
  {
   "cell_type": "code",
   "execution_count": 9,
   "metadata": {},
   "outputs": [
    {
     "data": {
      "text/plain": [
       "(287, 6)"
      ]
     },
     "execution_count": 9,
     "metadata": {},
     "output_type": "execute_result"
    }
   ],
   "source": [
    "data.shape"
   ]
  },
  {
   "cell_type": "markdown",
   "metadata": {},
   "source": [
    "#### 1.2 Clean data\n",
    "<hr>"
   ]
  },
  {
   "cell_type": "markdown",
   "metadata": {},
   "source": [
    "#### 1.3 Take out BiciMad Tweets\n",
    "<hr>"
   ]
  },
  {
   "cell_type": "code",
   "execution_count": 10,
   "metadata": {},
   "outputs": [],
   "source": [
    "# data analysis => sorting\n",
    "data = data.sort_values('user_name', ascending=False)"
   ]
  },
  {
   "cell_type": "code",
   "execution_count": 11,
   "metadata": {},
   "outputs": [
    {
     "data": {
      "text/plain": [
       "BICIMAD EN LUCHA                              17\n",
       "BiciMAD                                       14\n",
       "villalba1200                                   9\n",
       "Israel M                                       9\n",
       "j_medina                                       9\n",
       "                                              ..\n",
       "La Casa de Campo de Madrid                     1\n",
       "José Luis Nieto Bueno                          1\n",
       "Kike                                           1\n",
       "Kamchatka #Mequedoencasa #SaldremosenComun     1\n",
       "Más Madrid Hortaleza                           1\n",
       "Name: user_name, Length: 159, dtype: int64"
      ]
     },
     "execution_count": 11,
     "metadata": {},
     "output_type": "execute_result"
    }
   ],
   "source": [
    "data['user_name'].value_counts()"
   ]
  },
  {
   "cell_type": "code",
   "execution_count": 12,
   "metadata": {},
   "outputs": [],
   "source": [
    "data = data[data.user_name != 'BiciMAD']"
   ]
  },
  {
   "cell_type": "code",
   "execution_count": 13,
   "metadata": {},
   "outputs": [
    {
     "data": {
      "text/plain": [
       "Index(['date', 'id', 'text', 'user_name', 'user_id', 'user_screen_name'], dtype='object')"
      ]
     },
     "execution_count": 13,
     "metadata": {},
     "output_type": "execute_result"
    }
   ],
   "source": [
    "data.columns"
   ]
  },
  {
   "cell_type": "markdown",
   "metadata": {},
   "source": [
    "## 2. Explore data"
   ]
  },
  {
   "cell_type": "markdown",
   "metadata": {},
   "source": [
    "#### 2.1 Sort values by 'date' and reset index\n",
    "<hr>"
   ]
  },
  {
   "cell_type": "code",
   "execution_count": 14,
   "metadata": {},
   "outputs": [],
   "source": [
    "data = data.reset_index()"
   ]
  },
  {
   "cell_type": "code",
   "execution_count": 15,
   "metadata": {},
   "outputs": [],
   "source": [
    "data = data.drop(columns =['index'])"
   ]
  },
  {
   "cell_type": "markdown",
   "metadata": {},
   "source": [
    "#### 2.2 Check most recent tweets from users\n",
    "<hr>"
   ]
  },
  {
   "cell_type": "code",
   "execution_count": 16,
   "metadata": {},
   "outputs": [
    {
     "data": {
      "text/plain": [
       "Timestamp('2020-10-26 03:02:23')"
      ]
     },
     "execution_count": 16,
     "metadata": {},
     "output_type": "execute_result"
    }
   ],
   "source": [
    "# First tweet available date\n",
    "data['date'].min()"
   ]
  },
  {
   "cell_type": "code",
   "execution_count": 17,
   "metadata": {},
   "outputs": [
    {
     "data": {
      "text/plain": [
       "Timestamp('2020-10-26 18:34:00')"
      ]
     },
     "execution_count": 17,
     "metadata": {},
     "output_type": "execute_result"
    }
   ],
   "source": [
    "# Most recent tweet date\n",
    "data['date'].max()"
   ]
  },
  {
   "cell_type": "markdown",
   "metadata": {},
   "source": [
    "## 3. Sentiment analysis"
   ]
  },
  {
   "cell_type": "markdown",
   "metadata": {},
   "source": [
    "#### 3.1 Prepare text\n",
    "<hr>"
   ]
  },
  {
   "cell_type": "code",
   "execution_count": 18,
   "metadata": {},
   "outputs": [],
   "source": [
    "import re"
   ]
  },
  {
   "cell_type": "markdown",
   "metadata": {},
   "source": [
    "##### Ver que hacer con las 'ñ'\n",
    "<hr>"
   ]
  },
  {
   "cell_type": "code",
   "execution_count": 19,
   "metadata": {},
   "outputs": [],
   "source": [
    "def clean_tweet(tweet):\n",
    "    return ' '.join(re.sub(\"(@[A-Za-z0-9]+)|([^0-9A-Za-z \\t])|(\\w+:\\/\\/\\S+)\", \" \", tweet).split())\n",
    "    #return \" \".join(re.sub(\"([^0-9A-Za-z \\t])|(\\w+:\\/\\/\\S+)\", \"\", tweet).split())"
   ]
  },
  {
   "cell_type": "code",
   "execution_count": 20,
   "metadata": {},
   "outputs": [],
   "source": [
    "text = 'Señores de @BiciMAD @MADRID las bicis están muy descuidadas'"
   ]
  },
  {
   "cell_type": "code",
   "execution_count": 21,
   "metadata": {},
   "outputs": [
    {
     "data": {
      "text/plain": [
       "'Señores de     las bicis están muy descuidadas'"
      ]
     },
     "execution_count": 21,
     "metadata": {},
     "output_type": "execute_result"
    }
   ],
   "source": [
    "re.sub(\"(@[A-Za-zñÑüÜáéíóú0-9]+)|([^0-9A-ZñÑüÜáéíóúa-z \\t])|(\\w+:\\/\\/\\S+)\", \" \", text)"
   ]
  },
  {
   "cell_type": "code",
   "execution_count": null,
   "metadata": {},
   "outputs": [],
   "source": []
  },
  {
   "cell_type": "code",
   "execution_count": 22,
   "metadata": {},
   "outputs": [],
   "source": [
    "# Updated the tweets_clean \n",
    "data['tweets_clean'] = data['text'].apply(clean_tweet) "
   ]
  },
  {
   "cell_type": "code",
   "execution_count": 23,
   "metadata": {},
   "outputs": [],
   "source": [
    "# Print the updated dataframe \n",
    "# data"
   ]
  },
  {
   "cell_type": "code",
   "execution_count": 24,
   "metadata": {},
   "outputs": [
    {
     "name": "stderr",
     "output_type": "stream",
     "text": [
      "/Applications/anaconda3/envs/ironhack/lib/python3.7/site-packages/tensorflow/python/framework/dtypes.py:516: FutureWarning: Passing (type, 1) or '1type' as a synonym of type is deprecated; in a future version of numpy, it will be understood as (type, (1,)) / '(1,)type'.\n",
      "  _np_qint8 = np.dtype([(\"qint8\", np.int8, 1)])\n",
      "/Applications/anaconda3/envs/ironhack/lib/python3.7/site-packages/tensorflow/python/framework/dtypes.py:517: FutureWarning: Passing (type, 1) or '1type' as a synonym of type is deprecated; in a future version of numpy, it will be understood as (type, (1,)) / '(1,)type'.\n",
      "  _np_quint8 = np.dtype([(\"quint8\", np.uint8, 1)])\n",
      "/Applications/anaconda3/envs/ironhack/lib/python3.7/site-packages/tensorflow/python/framework/dtypes.py:518: FutureWarning: Passing (type, 1) or '1type' as a synonym of type is deprecated; in a future version of numpy, it will be understood as (type, (1,)) / '(1,)type'.\n",
      "  _np_qint16 = np.dtype([(\"qint16\", np.int16, 1)])\n",
      "/Applications/anaconda3/envs/ironhack/lib/python3.7/site-packages/tensorflow/python/framework/dtypes.py:519: FutureWarning: Passing (type, 1) or '1type' as a synonym of type is deprecated; in a future version of numpy, it will be understood as (type, (1,)) / '(1,)type'.\n",
      "  _np_quint16 = np.dtype([(\"quint16\", np.uint16, 1)])\n",
      "/Applications/anaconda3/envs/ironhack/lib/python3.7/site-packages/tensorflow/python/framework/dtypes.py:520: FutureWarning: Passing (type, 1) or '1type' as a synonym of type is deprecated; in a future version of numpy, it will be understood as (type, (1,)) / '(1,)type'.\n",
      "  _np_qint32 = np.dtype([(\"qint32\", np.int32, 1)])\n",
      "/Applications/anaconda3/envs/ironhack/lib/python3.7/site-packages/tensorflow/python/framework/dtypes.py:525: FutureWarning: Passing (type, 1) or '1type' as a synonym of type is deprecated; in a future version of numpy, it will be understood as (type, (1,)) / '(1,)type'.\n",
      "  np_resource = np.dtype([(\"resource\", np.ubyte, 1)])\n",
      "/Applications/anaconda3/envs/ironhack/lib/python3.7/site-packages/tensorboard/compat/tensorflow_stub/dtypes.py:541: FutureWarning: Passing (type, 1) or '1type' as a synonym of type is deprecated; in a future version of numpy, it will be understood as (type, (1,)) / '(1,)type'.\n",
      "  _np_qint8 = np.dtype([(\"qint8\", np.int8, 1)])\n",
      "/Applications/anaconda3/envs/ironhack/lib/python3.7/site-packages/tensorboard/compat/tensorflow_stub/dtypes.py:542: FutureWarning: Passing (type, 1) or '1type' as a synonym of type is deprecated; in a future version of numpy, it will be understood as (type, (1,)) / '(1,)type'.\n",
      "  _np_quint8 = np.dtype([(\"quint8\", np.uint8, 1)])\n",
      "/Applications/anaconda3/envs/ironhack/lib/python3.7/site-packages/tensorboard/compat/tensorflow_stub/dtypes.py:543: FutureWarning: Passing (type, 1) or '1type' as a synonym of type is deprecated; in a future version of numpy, it will be understood as (type, (1,)) / '(1,)type'.\n",
      "  _np_qint16 = np.dtype([(\"qint16\", np.int16, 1)])\n",
      "/Applications/anaconda3/envs/ironhack/lib/python3.7/site-packages/tensorboard/compat/tensorflow_stub/dtypes.py:544: FutureWarning: Passing (type, 1) or '1type' as a synonym of type is deprecated; in a future version of numpy, it will be understood as (type, (1,)) / '(1,)type'.\n",
      "  _np_quint16 = np.dtype([(\"quint16\", np.uint16, 1)])\n",
      "/Applications/anaconda3/envs/ironhack/lib/python3.7/site-packages/tensorboard/compat/tensorflow_stub/dtypes.py:545: FutureWarning: Passing (type, 1) or '1type' as a synonym of type is deprecated; in a future version of numpy, it will be understood as (type, (1,)) / '(1,)type'.\n",
      "  _np_qint32 = np.dtype([(\"qint32\", np.int32, 1)])\n",
      "/Applications/anaconda3/envs/ironhack/lib/python3.7/site-packages/tensorboard/compat/tensorflow_stub/dtypes.py:550: FutureWarning: Passing (type, 1) or '1type' as a synonym of type is deprecated; in a future version of numpy, it will be understood as (type, (1,)) / '(1,)type'.\n",
      "  np_resource = np.dtype([(\"resource\", np.ubyte, 1)])\n"
     ]
    }
   ],
   "source": [
    "from transformers import pipeline"
   ]
  },
  {
   "cell_type": "code",
   "execution_count": 25,
   "metadata": {},
   "outputs": [],
   "source": [
    "classifier = pipeline('sentiment-analysis')"
   ]
  },
  {
   "cell_type": "code",
   "execution_count": 26,
   "metadata": {},
   "outputs": [
    {
     "name": "stderr",
     "output_type": "stream",
     "text": [
      "Some weights of BertForMaskedLM were not initialized from the model checkpoint at dccuchile/bert-base-spanish-wwm-cased and are newly initialized: ['cls.predictions.decoder.bias']\n",
      "You should probably TRAIN this model on a down-stream task to be able to use it for predictions and inference.\n"
     ]
    }
   ],
   "source": [
    "from transformers import AutoTokenizer, AutoModelForMaskedLM\n",
    "tokenizer = AutoTokenizer.from_pretrained(\"dccuchile/bert-base-spanish-wwm-cased\")\n",
    "model = AutoModelForMaskedLM.from_pretrained(\"dccuchile/bert-base-spanish-wwm-cased\")"
   ]
  },
  {
   "cell_type": "code",
   "execution_count": 27,
   "metadata": {},
   "outputs": [],
   "source": [
    "def transform (x):\n",
    "    return classifier(x)\n",
    "# Apply transform function to all tweets \n",
    "data['sentiment']=data['tweets_clean'].apply(transform)"
   ]
  },
  {
   "cell_type": "code",
   "execution_count": 28,
   "metadata": {},
   "outputs": [],
   "source": [
    "data[\"score\"] = [data[\"sentiment\"][i][0]['score'] for i in range(data.shape[0])]"
   ]
  },
  {
   "cell_type": "code",
   "execution_count": 29,
   "metadata": {},
   "outputs": [],
   "source": [
    "data[\"label\"] = [data[\"sentiment\"][i][0]['label'] for i in range(data.shape[0])]"
   ]
  },
  {
   "cell_type": "code",
   "execution_count": 30,
   "metadata": {},
   "outputs": [
    {
     "data": {
      "text/plain": [
       "3"
      ]
     },
     "execution_count": 30,
     "metadata": {},
     "output_type": "execute_result"
    }
   ],
   "source": [
    "sum(data[\"label\"] == \"POSITIVE\")"
   ]
  },
  {
   "cell_type": "code",
   "execution_count": 31,
   "metadata": {},
   "outputs": [
    {
     "data": {
      "text/plain": [
       "270"
      ]
     },
     "execution_count": 31,
     "metadata": {},
     "output_type": "execute_result"
    }
   ],
   "source": [
    "sum(data[\"label\"] == \"NEGATIVE\")"
   ]
  },
  {
   "cell_type": "code",
   "execution_count": 32,
   "metadata": {},
   "outputs": [
    {
     "data": {
      "text/plain": [
       "0.9554958655720666"
      ]
     },
     "execution_count": 32,
     "metadata": {},
     "output_type": "execute_result"
    }
   ],
   "source": [
    "data['score'].mean()"
   ]
  },
  {
   "cell_type": "code",
   "execution_count": 33,
   "metadata": {},
   "outputs": [],
   "source": [
    "score = data['score']"
   ]
  },
  {
   "cell_type": "code",
   "execution_count": 34,
   "metadata": {},
   "outputs": [
    {
     "data": {
      "text/plain": [
       "0.8439774910608927"
      ]
     },
     "execution_count": 34,
     "metadata": {},
     "output_type": "execute_result"
    }
   ],
   "source": [
    "# series (watch the index)\n",
    "positive = (data[\"label\"] == \"POSITIVE\")\n",
    "score[positive].mean()"
   ]
  },
  {
   "cell_type": "code",
   "execution_count": 35,
   "metadata": {},
   "outputs": [
    {
     "data": {
      "text/plain": [
       "0.9567349586221907"
      ]
     },
     "execution_count": 35,
     "metadata": {},
     "output_type": "execute_result"
    }
   ],
   "source": [
    "# series (watch the index)\n",
    "negative = (data[\"label\"] == \"NEGATIVE\")\n",
    "score[negative].mean()"
   ]
  },
  {
   "cell_type": "code",
   "execution_count": 36,
   "metadata": {},
   "outputs": [],
   "source": [
    "# data.label == 'POSITIVE'"
   ]
  },
  {
   "cell_type": "markdown",
   "metadata": {},
   "source": [
    "##### 3.3.2 Code 'negative' and 'postive' with 0 and 1"
   ]
  },
  {
   "cell_type": "code",
   "execution_count": 37,
   "metadata": {},
   "outputs": [],
   "source": [
    "data['label_coded'] = data['label'].apply(lambda x: 1 if x == 'POSITIVE' else -1)"
   ]
  },
  {
   "cell_type": "code",
   "execution_count": 38,
   "metadata": {},
   "outputs": [],
   "source": [
    "# data"
   ]
  },
  {
   "cell_type": "code",
   "execution_count": 39,
   "metadata": {},
   "outputs": [],
   "source": [
    "data['score_coded'] = data['label_coded'] * data['score']"
   ]
  },
  {
   "cell_type": "code",
   "execution_count": 40,
   "metadata": {},
   "outputs": [],
   "source": [
    "# data"
   ]
  },
  {
   "cell_type": "code",
   "execution_count": 41,
   "metadata": {},
   "outputs": [],
   "source": [
    "# Drop duplicates before sav\n",
    "# Read alrady existing data \n",
    "df_old = pd.read_csv('../data/results/data_sentiment.csv')\n",
    "df_old = df_old.astype(str)"
   ]
  },
  {
   "cell_type": "code",
   "execution_count": 42,
   "metadata": {},
   "outputs": [],
   "source": [
    "df_str = data.astype(str)"
   ]
  },
  {
   "cell_type": "code",
   "execution_count": 43,
   "metadata": {},
   "outputs": [],
   "source": [
    "df = pd.merge(df_old, df_str, how ='outer')"
   ]
  },
  {
   "cell_type": "code",
   "execution_count": 44,
   "metadata": {},
   "outputs": [],
   "source": [
    "df = df[df.date != 'date']"
   ]
  },
  {
   "cell_type": "code",
   "execution_count": 45,
   "metadata": {},
   "outputs": [],
   "source": [
    "df.drop_duplicates(subset=['id'],keep='last', inplace= True)"
   ]
  },
  {
   "cell_type": "code",
   "execution_count": 46,
   "metadata": {},
   "outputs": [
    {
     "data": {
      "text/html": [
       "<div>\n",
       "<style scoped>\n",
       "    .dataframe tbody tr th:only-of-type {\n",
       "        vertical-align: middle;\n",
       "    }\n",
       "\n",
       "    .dataframe tbody tr th {\n",
       "        vertical-align: top;\n",
       "    }\n",
       "\n",
       "    .dataframe thead th {\n",
       "        text-align: right;\n",
       "    }\n",
       "</style>\n",
       "<table border=\"1\" class=\"dataframe\">\n",
       "  <thead>\n",
       "    <tr style=\"text-align: right;\">\n",
       "      <th></th>\n",
       "      <th>index</th>\n",
       "      <th>Unnamed: 0</th>\n",
       "      <th>Unnamed: 0.1</th>\n",
       "      <th>Unnamed: 0.1.1</th>\n",
       "      <th>Unnamed: 0.1.1.1</th>\n",
       "      <th>Unnamed: 0.1.1.1.1</th>\n",
       "      <th>Unnamed: 0.1.1.1.1.1</th>\n",
       "      <th>Unnamed: 0.1.1.1.1.1.1</th>\n",
       "      <th>Unnamed: 0.1.1.1.1.1.1.1</th>\n",
       "      <th>date</th>\n",
       "      <th>...</th>\n",
       "      <th>text</th>\n",
       "      <th>user_name</th>\n",
       "      <th>tweets_clean</th>\n",
       "      <th>sentiment</th>\n",
       "      <th>score</th>\n",
       "      <th>label</th>\n",
       "      <th>label_coded</th>\n",
       "      <th>score_coded</th>\n",
       "      <th>user_id</th>\n",
       "      <th>user_screen_name</th>\n",
       "    </tr>\n",
       "  </thead>\n",
       "  <tbody>\n",
       "    <tr>\n",
       "      <th>0</th>\n",
       "      <td>0</td>\n",
       "      <td>0</td>\n",
       "      <td>0.0</td>\n",
       "      <td>0.0</td>\n",
       "      <td>0.0</td>\n",
       "      <td>0.0</td>\n",
       "      <td>0.0</td>\n",
       "      <td>0.0</td>\n",
       "      <td>0.0</td>\n",
       "      <td>2020-09-29 06:34:23</td>\n",
       "      <td>...</td>\n",
       "      <td>RT @carnecrudaradio: Quiero felicitar al alcal...</td>\n",
       "      <td>alex vega</td>\n",
       "      <td>RT Quiero felicitar al alcalde por su exitosa ...</td>\n",
       "      <td>[{'label': 'NEGATIVE', 'score': 0.985985696315...</td>\n",
       "      <td>0.9859856963157654</td>\n",
       "      <td>NEGATIVE</td>\n",
       "      <td>-1</td>\n",
       "      <td>-0.9859856963157654</td>\n",
       "      <td>nan</td>\n",
       "      <td>nan</td>\n",
       "    </tr>\n",
       "    <tr>\n",
       "      <th>1</th>\n",
       "      <td>1</td>\n",
       "      <td>1</td>\n",
       "      <td>1.0</td>\n",
       "      <td>1.0</td>\n",
       "      <td>1.0</td>\n",
       "      <td>1.0</td>\n",
       "      <td>1.0</td>\n",
       "      <td>1.0</td>\n",
       "      <td>1.0</td>\n",
       "      <td>2020-09-29 07:01:33</td>\n",
       "      <td>...</td>\n",
       "      <td>Señores de @BiciMAD @MADRID las bicis están mu...</td>\n",
       "      <td>Neuroneater</td>\n",
       "      <td>Se ores de las bicis est n muy descuidadas lo ...</td>\n",
       "      <td>[{'label': 'NEGATIVE', 'score': 0.981788218021...</td>\n",
       "      <td>0.9817882180213928</td>\n",
       "      <td>NEGATIVE</td>\n",
       "      <td>-1</td>\n",
       "      <td>-0.9817882180213928</td>\n",
       "      <td>nan</td>\n",
       "      <td>nan</td>\n",
       "    </tr>\n",
       "    <tr>\n",
       "      <th>2</th>\n",
       "      <td>2</td>\n",
       "      <td>2</td>\n",
       "      <td>2.0</td>\n",
       "      <td>2.0</td>\n",
       "      <td>2.0</td>\n",
       "      <td>2.0</td>\n",
       "      <td>2.0</td>\n",
       "      <td>2.0</td>\n",
       "      <td>2.0</td>\n",
       "      <td>2020-09-29 07:43:50</td>\n",
       "      <td>...</td>\n",
       "      <td>@JMDLatina Espero de este distrito no solo que...</td>\n",
       "      <td>Andrés Pina</td>\n",
       "      <td>Espero de este distrito no solo que proteja el...</td>\n",
       "      <td>[{'label': 'NEGATIVE', 'score': 0.980981051921...</td>\n",
       "      <td>0.9809810519218444</td>\n",
       "      <td>NEGATIVE</td>\n",
       "      <td>-1</td>\n",
       "      <td>-0.9809810519218444</td>\n",
       "      <td>nan</td>\n",
       "      <td>nan</td>\n",
       "    </tr>\n",
       "    <tr>\n",
       "      <th>3</th>\n",
       "      <td>3</td>\n",
       "      <td>3</td>\n",
       "      <td>3.0</td>\n",
       "      <td>3.0</td>\n",
       "      <td>3.0</td>\n",
       "      <td>3.0</td>\n",
       "      <td>3.0</td>\n",
       "      <td>3.0</td>\n",
       "      <td>3.0</td>\n",
       "      <td>2020-09-29 07:53:20</td>\n",
       "      <td>...</td>\n",
       "      <td>RT @_AguilarM: @PlataformaEMT @BiciMAD @bcarab...</td>\n",
       "      <td>ElMaNDaLoRiaNo</td>\n",
       "      <td>RT AguilarM O la fecha de la ltima OPE para Av...</td>\n",
       "      <td>[{'label': 'NEGATIVE', 'score': 0.983189225196...</td>\n",
       "      <td>0.9831892251968384</td>\n",
       "      <td>NEGATIVE</td>\n",
       "      <td>-1</td>\n",
       "      <td>-0.9831892251968384</td>\n",
       "      <td>nan</td>\n",
       "      <td>nan</td>\n",
       "    </tr>\n",
       "    <tr>\n",
       "      <th>4</th>\n",
       "      <td>4</td>\n",
       "      <td>4</td>\n",
       "      <td>4.0</td>\n",
       "      <td>4.0</td>\n",
       "      <td>4.0</td>\n",
       "      <td>4.0</td>\n",
       "      <td>4.0</td>\n",
       "      <td>4.0</td>\n",
       "      <td>4.0</td>\n",
       "      <td>2020-09-29 08:05:56</td>\n",
       "      <td>...</td>\n",
       "      <td>La misma vergüenza de TODOS los días. Una esta...</td>\n",
       "      <td>Diego Azul</td>\n",
       "      <td>La misma verg enza de TODOS los d as Una estac...</td>\n",
       "      <td>[{'label': 'NEGATIVE', 'score': 0.994368195533...</td>\n",
       "      <td>0.9943681955337524</td>\n",
       "      <td>NEGATIVE</td>\n",
       "      <td>-1</td>\n",
       "      <td>-0.9943681955337524</td>\n",
       "      <td>nan</td>\n",
       "      <td>nan</td>\n",
       "    </tr>\n",
       "    <tr>\n",
       "      <th>...</th>\n",
       "      <td>...</td>\n",
       "      <td>...</td>\n",
       "      <td>...</td>\n",
       "      <td>...</td>\n",
       "      <td>...</td>\n",
       "      <td>...</td>\n",
       "      <td>...</td>\n",
       "      <td>...</td>\n",
       "      <td>...</td>\n",
       "      <td>...</td>\n",
       "      <td>...</td>\n",
       "      <td>...</td>\n",
       "      <td>...</td>\n",
       "      <td>...</td>\n",
       "      <td>...</td>\n",
       "      <td>...</td>\n",
       "      <td>...</td>\n",
       "      <td>...</td>\n",
       "      <td>...</td>\n",
       "      <td>...</td>\n",
       "      <td>...</td>\n",
       "    </tr>\n",
       "    <tr>\n",
       "      <th>9430</th>\n",
       "      <td>9664</td>\n",
       "      <td>NaN</td>\n",
       "      <td>NaN</td>\n",
       "      <td>NaN</td>\n",
       "      <td>NaN</td>\n",
       "      <td>NaN</td>\n",
       "      <td>NaN</td>\n",
       "      <td>NaN</td>\n",
       "      <td>NaN</td>\n",
       "      <td>2020-10-26 12:51:41</td>\n",
       "      <td>...</td>\n",
       "      <td>RT @PlataformaEMT: #27O MAÑANA ES EL DÍA #27O\\...</td>\n",
       "      <td>Afectados @biciMAD</td>\n",
       "      <td>RT 27O MA ANA ES EL D A 27O TOD SOMOS BICIMAD ...</td>\n",
       "      <td>[{'label': 'NEGATIVE', 'score': 0.988935887813...</td>\n",
       "      <td>0.9889358878135681</td>\n",
       "      <td>NEGATIVE</td>\n",
       "      <td>-1</td>\n",
       "      <td>-0.9889358878135681</td>\n",
       "      <td>1.2962069425290363e+18</td>\n",
       "      <td>Afectadosbicim1</td>\n",
       "    </tr>\n",
       "    <tr>\n",
       "      <th>9431</th>\n",
       "      <td>9665</td>\n",
       "      <td>NaN</td>\n",
       "      <td>NaN</td>\n",
       "      <td>NaN</td>\n",
       "      <td>NaN</td>\n",
       "      <td>NaN</td>\n",
       "      <td>NaN</td>\n",
       "      <td>NaN</td>\n",
       "      <td>NaN</td>\n",
       "      <td>2020-10-26 07:59:26</td>\n",
       "      <td>...</td>\n",
       "      <td>Deterioro de BiciMAD: 700 bicicletas pendiente...</td>\n",
       "      <td>Actualidad IT</td>\n",
       "      <td>Deterioro de BiciMAD 700 bicicletas pendientes...</td>\n",
       "      <td>[{'label': 'NEGATIVE', 'score': 0.989495456218...</td>\n",
       "      <td>0.9894954562187195</td>\n",
       "      <td>NEGATIVE</td>\n",
       "      <td>-1</td>\n",
       "      <td>-0.9894954562187195</td>\n",
       "      <td>2729380093.0</td>\n",
       "      <td>ActualidadIT</td>\n",
       "    </tr>\n",
       "    <tr>\n",
       "      <th>9432</th>\n",
       "      <td>9666</td>\n",
       "      <td>NaN</td>\n",
       "      <td>NaN</td>\n",
       "      <td>NaN</td>\n",
       "      <td>NaN</td>\n",
       "      <td>NaN</td>\n",
       "      <td>NaN</td>\n",
       "      <td>NaN</td>\n",
       "      <td>NaN</td>\n",
       "      <td>2020-10-26 07:03:27</td>\n",
       "      <td>...</td>\n",
       "      <td>RT @PlataformaEMT: Buenos días plataformer@s.\\...</td>\n",
       "      <td>Abre los ojos</td>\n",
       "      <td>RT Buenos d as plataformer Comenzamos TOD CON ...</td>\n",
       "      <td>[{'label': 'NEGATIVE', 'score': 0.982271611690...</td>\n",
       "      <td>0.9822716116905212</td>\n",
       "      <td>NEGATIVE</td>\n",
       "      <td>-1</td>\n",
       "      <td>-0.9822716116905212</td>\n",
       "      <td>1.0660293724218737e+18</td>\n",
       "      <td>Abrelos05774477</td>\n",
       "    </tr>\n",
       "    <tr>\n",
       "      <th>9433</th>\n",
       "      <td>9667</td>\n",
       "      <td>NaN</td>\n",
       "      <td>NaN</td>\n",
       "      <td>NaN</td>\n",
       "      <td>NaN</td>\n",
       "      <td>NaN</td>\n",
       "      <td>NaN</td>\n",
       "      <td>NaN</td>\n",
       "      <td>NaN</td>\n",
       "      <td>2020-10-26 14:20:09</td>\n",
       "      <td>...</td>\n",
       "      <td>RT @PlataformaEMT: #27O MAÑANA ES EL DÍA #27O\\...</td>\n",
       "      <td>ARKAITZ</td>\n",
       "      <td>RT 27O MA ANA ES EL D A 27O TOD SOMOS BICIMAD ...</td>\n",
       "      <td>[{'label': 'NEGATIVE', 'score': 0.988935887813...</td>\n",
       "      <td>0.9889358878135681</td>\n",
       "      <td>NEGATIVE</td>\n",
       "      <td>-1</td>\n",
       "      <td>-0.9889358878135681</td>\n",
       "      <td>373994352.0</td>\n",
       "      <td>ARKAITX14_4_69</td>\n",
       "    </tr>\n",
       "    <tr>\n",
       "      <th>9434</th>\n",
       "      <td>9668</td>\n",
       "      <td>NaN</td>\n",
       "      <td>NaN</td>\n",
       "      <td>NaN</td>\n",
       "      <td>NaN</td>\n",
       "      <td>NaN</td>\n",
       "      <td>NaN</td>\n",
       "      <td>NaN</td>\n",
       "      <td>NaN</td>\n",
       "      <td>2020-10-26 13:03:49</td>\n",
       "      <td>...</td>\n",
       "      <td>RT @PlataformaEMT: Buenos días plataformer@s.\\...</td>\n",
       "      <td>#PuebloMovilizado 🌾</td>\n",
       "      <td>RT Buenos d as plataformer Comenzamos TOD CON ...</td>\n",
       "      <td>[{'label': 'NEGATIVE', 'score': 0.982271611690...</td>\n",
       "      <td>0.9822716116905212</td>\n",
       "      <td>NEGATIVE</td>\n",
       "      <td>-1</td>\n",
       "      <td>-0.9822716116905212</td>\n",
       "      <td>415634687.0</td>\n",
       "      <td>Pancho1521</td>\n",
       "    </tr>\n",
       "  </tbody>\n",
       "</table>\n",
       "<p>9435 rows × 21 columns</p>\n",
       "</div>"
      ],
      "text/plain": [
       "      index Unnamed: 0 Unnamed: 0.1 Unnamed: 0.1.1 Unnamed: 0.1.1.1  \\\n",
       "0         0          0          0.0            0.0              0.0   \n",
       "1         1          1          1.0            1.0              1.0   \n",
       "2         2          2          2.0            2.0              2.0   \n",
       "3         3          3          3.0            3.0              3.0   \n",
       "4         4          4          4.0            4.0              4.0   \n",
       "...     ...        ...          ...            ...              ...   \n",
       "9430   9664        NaN          NaN            NaN              NaN   \n",
       "9431   9665        NaN          NaN            NaN              NaN   \n",
       "9432   9666        NaN          NaN            NaN              NaN   \n",
       "9433   9667        NaN          NaN            NaN              NaN   \n",
       "9434   9668        NaN          NaN            NaN              NaN   \n",
       "\n",
       "     Unnamed: 0.1.1.1.1 Unnamed: 0.1.1.1.1.1 Unnamed: 0.1.1.1.1.1.1  \\\n",
       "0                   0.0                  0.0                    0.0   \n",
       "1                   1.0                  1.0                    1.0   \n",
       "2                   2.0                  2.0                    2.0   \n",
       "3                   3.0                  3.0                    3.0   \n",
       "4                   4.0                  4.0                    4.0   \n",
       "...                 ...                  ...                    ...   \n",
       "9430                NaN                  NaN                    NaN   \n",
       "9431                NaN                  NaN                    NaN   \n",
       "9432                NaN                  NaN                    NaN   \n",
       "9433                NaN                  NaN                    NaN   \n",
       "9434                NaN                  NaN                    NaN   \n",
       "\n",
       "     Unnamed: 0.1.1.1.1.1.1.1                 date  ...  \\\n",
       "0                         0.0  2020-09-29 06:34:23  ...   \n",
       "1                         1.0  2020-09-29 07:01:33  ...   \n",
       "2                         2.0  2020-09-29 07:43:50  ...   \n",
       "3                         3.0  2020-09-29 07:53:20  ...   \n",
       "4                         4.0  2020-09-29 08:05:56  ...   \n",
       "...                       ...                  ...  ...   \n",
       "9430                      NaN  2020-10-26 12:51:41  ...   \n",
       "9431                      NaN  2020-10-26 07:59:26  ...   \n",
       "9432                      NaN  2020-10-26 07:03:27  ...   \n",
       "9433                      NaN  2020-10-26 14:20:09  ...   \n",
       "9434                      NaN  2020-10-26 13:03:49  ...   \n",
       "\n",
       "                                                   text            user_name  \\\n",
       "0     RT @carnecrudaradio: Quiero felicitar al alcal...            alex vega   \n",
       "1     Señores de @BiciMAD @MADRID las bicis están mu...          Neuroneater   \n",
       "2     @JMDLatina Espero de este distrito no solo que...          Andrés Pina   \n",
       "3     RT @_AguilarM: @PlataformaEMT @BiciMAD @bcarab...       ElMaNDaLoRiaNo   \n",
       "4     La misma vergüenza de TODOS los días. Una esta...           Diego Azul   \n",
       "...                                                 ...                  ...   \n",
       "9430  RT @PlataformaEMT: #27O MAÑANA ES EL DÍA #27O\\...   Afectados @biciMAD   \n",
       "9431  Deterioro de BiciMAD: 700 bicicletas pendiente...        Actualidad IT   \n",
       "9432  RT @PlataformaEMT: Buenos días plataformer@s.\\...        Abre los ojos   \n",
       "9433  RT @PlataformaEMT: #27O MAÑANA ES EL DÍA #27O\\...              ARKAITZ   \n",
       "9434  RT @PlataformaEMT: Buenos días plataformer@s.\\...  #PuebloMovilizado 🌾   \n",
       "\n",
       "                                           tweets_clean  \\\n",
       "0     RT Quiero felicitar al alcalde por su exitosa ...   \n",
       "1     Se ores de las bicis est n muy descuidadas lo ...   \n",
       "2     Espero de este distrito no solo que proteja el...   \n",
       "3     RT AguilarM O la fecha de la ltima OPE para Av...   \n",
       "4     La misma verg enza de TODOS los d as Una estac...   \n",
       "...                                                 ...   \n",
       "9430  RT 27O MA ANA ES EL D A 27O TOD SOMOS BICIMAD ...   \n",
       "9431  Deterioro de BiciMAD 700 bicicletas pendientes...   \n",
       "9432  RT Buenos d as plataformer Comenzamos TOD CON ...   \n",
       "9433  RT 27O MA ANA ES EL D A 27O TOD SOMOS BICIMAD ...   \n",
       "9434  RT Buenos d as plataformer Comenzamos TOD CON ...   \n",
       "\n",
       "                                              sentiment               score  \\\n",
       "0     [{'label': 'NEGATIVE', 'score': 0.985985696315...  0.9859856963157654   \n",
       "1     [{'label': 'NEGATIVE', 'score': 0.981788218021...  0.9817882180213928   \n",
       "2     [{'label': 'NEGATIVE', 'score': 0.980981051921...  0.9809810519218444   \n",
       "3     [{'label': 'NEGATIVE', 'score': 0.983189225196...  0.9831892251968384   \n",
       "4     [{'label': 'NEGATIVE', 'score': 0.994368195533...  0.9943681955337524   \n",
       "...                                                 ...                 ...   \n",
       "9430  [{'label': 'NEGATIVE', 'score': 0.988935887813...  0.9889358878135681   \n",
       "9431  [{'label': 'NEGATIVE', 'score': 0.989495456218...  0.9894954562187195   \n",
       "9432  [{'label': 'NEGATIVE', 'score': 0.982271611690...  0.9822716116905212   \n",
       "9433  [{'label': 'NEGATIVE', 'score': 0.988935887813...  0.9889358878135681   \n",
       "9434  [{'label': 'NEGATIVE', 'score': 0.982271611690...  0.9822716116905212   \n",
       "\n",
       "         label label_coded          score_coded                 user_id  \\\n",
       "0     NEGATIVE          -1  -0.9859856963157654                     nan   \n",
       "1     NEGATIVE          -1  -0.9817882180213928                     nan   \n",
       "2     NEGATIVE          -1  -0.9809810519218444                     nan   \n",
       "3     NEGATIVE          -1  -0.9831892251968384                     nan   \n",
       "4     NEGATIVE          -1  -0.9943681955337524                     nan   \n",
       "...        ...         ...                  ...                     ...   \n",
       "9430  NEGATIVE          -1  -0.9889358878135681  1.2962069425290363e+18   \n",
       "9431  NEGATIVE          -1  -0.9894954562187195            2729380093.0   \n",
       "9432  NEGATIVE          -1  -0.9822716116905212  1.0660293724218737e+18   \n",
       "9433  NEGATIVE          -1  -0.9889358878135681             373994352.0   \n",
       "9434  NEGATIVE          -1  -0.9822716116905212             415634687.0   \n",
       "\n",
       "     user_screen_name  \n",
       "0                 nan  \n",
       "1                 nan  \n",
       "2                 nan  \n",
       "3                 nan  \n",
       "4                 nan  \n",
       "...               ...  \n",
       "9430  Afectadosbicim1  \n",
       "9431     ActualidadIT  \n",
       "9432  Abrelos05774477  \n",
       "9433   ARKAITX14_4_69  \n",
       "9434       Pancho1521  \n",
       "\n",
       "[9435 rows x 21 columns]"
      ]
     },
     "execution_count": 46,
     "metadata": {},
     "output_type": "execute_result"
    }
   ],
   "source": [
    "df.reset_index()"
   ]
  },
  {
   "cell_type": "code",
   "execution_count": 47,
   "metadata": {},
   "outputs": [
    {
     "data": {
      "text/html": [
       "<div>\n",
       "<style scoped>\n",
       "    .dataframe tbody tr th:only-of-type {\n",
       "        vertical-align: middle;\n",
       "    }\n",
       "\n",
       "    .dataframe tbody tr th {\n",
       "        vertical-align: top;\n",
       "    }\n",
       "\n",
       "    .dataframe thead th {\n",
       "        text-align: right;\n",
       "    }\n",
       "</style>\n",
       "<table border=\"1\" class=\"dataframe\">\n",
       "  <thead>\n",
       "    <tr style=\"text-align: right;\">\n",
       "      <th></th>\n",
       "      <th>Unnamed: 0</th>\n",
       "      <th>Unnamed: 0.1</th>\n",
       "      <th>Unnamed: 0.1.1</th>\n",
       "      <th>Unnamed: 0.1.1.1</th>\n",
       "      <th>Unnamed: 0.1.1.1.1</th>\n",
       "      <th>Unnamed: 0.1.1.1.1.1</th>\n",
       "      <th>Unnamed: 0.1.1.1.1.1.1</th>\n",
       "      <th>Unnamed: 0.1.1.1.1.1.1.1</th>\n",
       "      <th>date</th>\n",
       "      <th>id</th>\n",
       "      <th>text</th>\n",
       "      <th>user_name</th>\n",
       "      <th>tweets_clean</th>\n",
       "      <th>sentiment</th>\n",
       "      <th>score</th>\n",
       "      <th>label</th>\n",
       "      <th>label_coded</th>\n",
       "      <th>score_coded</th>\n",
       "      <th>user_id</th>\n",
       "      <th>user_screen_name</th>\n",
       "    </tr>\n",
       "  </thead>\n",
       "  <tbody>\n",
       "    <tr>\n",
       "      <th>9430</th>\n",
       "      <td>NaN</td>\n",
       "      <td>NaN</td>\n",
       "      <td>NaN</td>\n",
       "      <td>NaN</td>\n",
       "      <td>NaN</td>\n",
       "      <td>NaN</td>\n",
       "      <td>NaN</td>\n",
       "      <td>NaN</td>\n",
       "      <td>2020-10-26 18:34:00</td>\n",
       "      <td>1320795831642083331</td>\n",
       "      <td>RT @BicimadL: Buenos días x usuarios de Bicima...</td>\n",
       "      <td>provis</td>\n",
       "      <td>RT Buenos d as x usuarios de BicimaD Ma ana 27...</td>\n",
       "      <td>[{'label': 'NEGATIVE', 'score': 0.969375550746...</td>\n",
       "      <td>0.9693755507469177</td>\n",
       "      <td>NEGATIVE</td>\n",
       "      <td>-1</td>\n",
       "      <td>-0.9693755507469177</td>\n",
       "      <td>827400128.0</td>\n",
       "      <td>provisoscar</td>\n",
       "    </tr>\n",
       "    <tr>\n",
       "      <th>9497</th>\n",
       "      <td>NaN</td>\n",
       "      <td>NaN</td>\n",
       "      <td>NaN</td>\n",
       "      <td>NaN</td>\n",
       "      <td>NaN</td>\n",
       "      <td>NaN</td>\n",
       "      <td>NaN</td>\n",
       "      <td>NaN</td>\n",
       "      <td>2020-10-26 18:31:31</td>\n",
       "      <td>1320795207932235779</td>\n",
       "      <td>RT @Coordinadora25S: Es el mismo guión de siem...</td>\n",
       "      <td>Relegados</td>\n",
       "      <td>RT Es el mismo gui n de siempre el Ayuntamient...</td>\n",
       "      <td>[{'label': 'NEGATIVE', 'score': 0.987592160701...</td>\n",
       "      <td>0.9875921607017517</td>\n",
       "      <td>NEGATIVE</td>\n",
       "      <td>-1</td>\n",
       "      <td>-0.9875921607017517</td>\n",
       "      <td>262643800.0</td>\n",
       "      <td>Relegados</td>\n",
       "    </tr>\n",
       "    <tr>\n",
       "      <th>9611</th>\n",
       "      <td>NaN</td>\n",
       "      <td>NaN</td>\n",
       "      <td>NaN</td>\n",
       "      <td>NaN</td>\n",
       "      <td>NaN</td>\n",
       "      <td>NaN</td>\n",
       "      <td>NaN</td>\n",
       "      <td>NaN</td>\n",
       "      <td>2020-10-26 18:29:14</td>\n",
       "      <td>1320794633937559553</td>\n",
       "      <td>RT @Coordinadora25S: Es el mismo guión de siem...</td>\n",
       "      <td>David ♜☭</td>\n",
       "      <td>RT Es el mismo gui n de siempre el Ayuntamient...</td>\n",
       "      <td>[{'label': 'NEGATIVE', 'score': 0.987592160701...</td>\n",
       "      <td>0.9875921607017517</td>\n",
       "      <td>NEGATIVE</td>\n",
       "      <td>-1</td>\n",
       "      <td>-0.9875921607017517</td>\n",
       "      <td>315179397.0</td>\n",
       "      <td>DavidComunero</td>\n",
       "    </tr>\n",
       "    <tr>\n",
       "      <th>9410</th>\n",
       "      <td>NaN</td>\n",
       "      <td>NaN</td>\n",
       "      <td>NaN</td>\n",
       "      <td>NaN</td>\n",
       "      <td>NaN</td>\n",
       "      <td>NaN</td>\n",
       "      <td>NaN</td>\n",
       "      <td>NaN</td>\n",
       "      <td>2020-10-26 18:29:10</td>\n",
       "      <td>1320794616493428741</td>\n",
       "      <td>Me da pena no poder asistir mañana a la concen...</td>\n",
       "      <td>⚡CARLOS⚡</td>\n",
       "      <td>Me da pena no poder asistir ma ana a la concen...</td>\n",
       "      <td>[{'label': 'NEGATIVE', 'score': 0.983483374118...</td>\n",
       "      <td>0.9834833741188049</td>\n",
       "      <td>NEGATIVE</td>\n",
       "      <td>-1</td>\n",
       "      <td>-0.9834833741188049</td>\n",
       "      <td>497006366.0</td>\n",
       "      <td>CarlosRMA94</td>\n",
       "    </tr>\n",
       "    <tr>\n",
       "      <th>9600</th>\n",
       "      <td>NaN</td>\n",
       "      <td>NaN</td>\n",
       "      <td>NaN</td>\n",
       "      <td>NaN</td>\n",
       "      <td>NaN</td>\n",
       "      <td>NaN</td>\n",
       "      <td>NaN</td>\n",
       "      <td>NaN</td>\n",
       "      <td>2020-10-26 18:29:07</td>\n",
       "      <td>1320794604011225088</td>\n",
       "      <td>@protestona1 y el sabotaje a bicimad para volv...</td>\n",
       "      <td>Filetesaurio</td>\n",
       "      <td>y el sabotaje a bicimad para volver a privatiz...</td>\n",
       "      <td>[{'label': 'NEGATIVE', 'score': 0.915158450603...</td>\n",
       "      <td>0.9151584506034851</td>\n",
       "      <td>NEGATIVE</td>\n",
       "      <td>-1</td>\n",
       "      <td>-0.9151584506034851</td>\n",
       "      <td>2903103118.0</td>\n",
       "      <td>Filetesaurio</td>\n",
       "    </tr>\n",
       "    <tr>\n",
       "      <th>9616</th>\n",
       "      <td>NaN</td>\n",
       "      <td>NaN</td>\n",
       "      <td>NaN</td>\n",
       "      <td>NaN</td>\n",
       "      <td>NaN</td>\n",
       "      <td>NaN</td>\n",
       "      <td>NaN</td>\n",
       "      <td>NaN</td>\n",
       "      <td>2020-10-26 18:29:05</td>\n",
       "      <td>1320794594016186368</td>\n",
       "      <td>Es el mismo guión de siempre, el Ayuntamiento ...</td>\n",
       "      <td>Coordinadora 25S</td>\n",
       "      <td>Es el mismo gui n de siempre el Ayuntamiento d...</td>\n",
       "      <td>[{'label': 'NEGATIVE', 'score': 0.989747285842...</td>\n",
       "      <td>0.9897472858428955</td>\n",
       "      <td>NEGATIVE</td>\n",
       "      <td>-1</td>\n",
       "      <td>-0.9897472858428955</td>\n",
       "      <td>780717692.0</td>\n",
       "      <td>Coordinadora25S</td>\n",
       "    </tr>\n",
       "    <tr>\n",
       "      <th>9657</th>\n",
       "      <td>NaN</td>\n",
       "      <td>NaN</td>\n",
       "      <td>NaN</td>\n",
       "      <td>NaN</td>\n",
       "      <td>NaN</td>\n",
       "      <td>NaN</td>\n",
       "      <td>NaN</td>\n",
       "      <td>NaN</td>\n",
       "      <td>2020-10-26 18:25:56</td>\n",
       "      <td>1320793801896697856</td>\n",
       "      <td>RT @Coordinadora25S: Es el mismo guión de siem...</td>\n",
       "      <td>Angel</td>\n",
       "      <td>RT Es el mismo gui n de siempre el Ayuntamient...</td>\n",
       "      <td>[{'label': 'NEGATIVE', 'score': 0.987592160701...</td>\n",
       "      <td>0.9875921607017517</td>\n",
       "      <td>NEGATIVE</td>\n",
       "      <td>-1</td>\n",
       "      <td>-0.9875921607017517</td>\n",
       "      <td>856127714.0</td>\n",
       "      <td>ablascos</td>\n",
       "    </tr>\n",
       "    <tr>\n",
       "      <th>9632</th>\n",
       "      <td>NaN</td>\n",
       "      <td>NaN</td>\n",
       "      <td>NaN</td>\n",
       "      <td>NaN</td>\n",
       "      <td>NaN</td>\n",
       "      <td>NaN</td>\n",
       "      <td>NaN</td>\n",
       "      <td>NaN</td>\n",
       "      <td>2020-10-26 18:25:51</td>\n",
       "      <td>1320793781998931969</td>\n",
       "      <td>RT @PlataformaEMT: Los usuarios no encuentran ...</td>\n",
       "      <td>Busero 20 🔻</td>\n",
       "      <td>RT Los usuarios no encuentran bicicletas dispo...</td>\n",
       "      <td>[{'label': 'NEGATIVE', 'score': 0.983690381050...</td>\n",
       "      <td>0.9836903810501099</td>\n",
       "      <td>NEGATIVE</td>\n",
       "      <td>-1</td>\n",
       "      <td>-0.9836903810501099</td>\n",
       "      <td>588917468.0</td>\n",
       "      <td>busero20</td>\n",
       "    </tr>\n",
       "    <tr>\n",
       "      <th>9617</th>\n",
       "      <td>NaN</td>\n",
       "      <td>NaN</td>\n",
       "      <td>NaN</td>\n",
       "      <td>NaN</td>\n",
       "      <td>NaN</td>\n",
       "      <td>NaN</td>\n",
       "      <td>NaN</td>\n",
       "      <td>NaN</td>\n",
       "      <td>2020-10-26 18:24:54</td>\n",
       "      <td>1320793543993106433</td>\n",
       "      <td>RT @Coordinadora25S: Es el mismo guión de siem...</td>\n",
       "      <td>Chirrin Dul Ari</td>\n",
       "      <td>RT Es el mismo gui n de siempre el Ayuntamient...</td>\n",
       "      <td>[{'label': 'NEGATIVE', 'score': 0.987592160701...</td>\n",
       "      <td>0.9875921607017517</td>\n",
       "      <td>NEGATIVE</td>\n",
       "      <td>-1</td>\n",
       "      <td>-0.9875921607017517</td>\n",
       "      <td>512927168.0</td>\n",
       "      <td>ChirrinDul</td>\n",
       "    </tr>\n",
       "    <tr>\n",
       "      <th>9437</th>\n",
       "      <td>NaN</td>\n",
       "      <td>NaN</td>\n",
       "      <td>NaN</td>\n",
       "      <td>NaN</td>\n",
       "      <td>NaN</td>\n",
       "      <td>NaN</td>\n",
       "      <td>NaN</td>\n",
       "      <td>NaN</td>\n",
       "      <td>2020-10-26 18:24:36</td>\n",
       "      <td>1320793466218184705</td>\n",
       "      <td>RT @Coordinadora25S: Es el mismo guión de siem...</td>\n",
       "      <td>lluna vermella</td>\n",
       "      <td>RT Es el mismo gui n de siempre el Ayuntamient...</td>\n",
       "      <td>[{'label': 'NEGATIVE', 'score': 0.987592160701...</td>\n",
       "      <td>0.9875921607017517</td>\n",
       "      <td>NEGATIVE</td>\n",
       "      <td>-1</td>\n",
       "      <td>-0.9875921607017517</td>\n",
       "      <td>243377060.0</td>\n",
       "      <td>llunavermella</td>\n",
       "    </tr>\n",
       "  </tbody>\n",
       "</table>\n",
       "</div>"
      ],
      "text/plain": [
       "     Unnamed: 0 Unnamed: 0.1 Unnamed: 0.1.1 Unnamed: 0.1.1.1  \\\n",
       "9430        NaN          NaN            NaN              NaN   \n",
       "9497        NaN          NaN            NaN              NaN   \n",
       "9611        NaN          NaN            NaN              NaN   \n",
       "9410        NaN          NaN            NaN              NaN   \n",
       "9600        NaN          NaN            NaN              NaN   \n",
       "9616        NaN          NaN            NaN              NaN   \n",
       "9657        NaN          NaN            NaN              NaN   \n",
       "9632        NaN          NaN            NaN              NaN   \n",
       "9617        NaN          NaN            NaN              NaN   \n",
       "9437        NaN          NaN            NaN              NaN   \n",
       "\n",
       "     Unnamed: 0.1.1.1.1 Unnamed: 0.1.1.1.1.1 Unnamed: 0.1.1.1.1.1.1  \\\n",
       "9430                NaN                  NaN                    NaN   \n",
       "9497                NaN                  NaN                    NaN   \n",
       "9611                NaN                  NaN                    NaN   \n",
       "9410                NaN                  NaN                    NaN   \n",
       "9600                NaN                  NaN                    NaN   \n",
       "9616                NaN                  NaN                    NaN   \n",
       "9657                NaN                  NaN                    NaN   \n",
       "9632                NaN                  NaN                    NaN   \n",
       "9617                NaN                  NaN                    NaN   \n",
       "9437                NaN                  NaN                    NaN   \n",
       "\n",
       "     Unnamed: 0.1.1.1.1.1.1.1                 date                   id  \\\n",
       "9430                      NaN  2020-10-26 18:34:00  1320795831642083331   \n",
       "9497                      NaN  2020-10-26 18:31:31  1320795207932235779   \n",
       "9611                      NaN  2020-10-26 18:29:14  1320794633937559553   \n",
       "9410                      NaN  2020-10-26 18:29:10  1320794616493428741   \n",
       "9600                      NaN  2020-10-26 18:29:07  1320794604011225088   \n",
       "9616                      NaN  2020-10-26 18:29:05  1320794594016186368   \n",
       "9657                      NaN  2020-10-26 18:25:56  1320793801896697856   \n",
       "9632                      NaN  2020-10-26 18:25:51  1320793781998931969   \n",
       "9617                      NaN  2020-10-26 18:24:54  1320793543993106433   \n",
       "9437                      NaN  2020-10-26 18:24:36  1320793466218184705   \n",
       "\n",
       "                                                   text         user_name  \\\n",
       "9430  RT @BicimadL: Buenos días x usuarios de Bicima...            provis   \n",
       "9497  RT @Coordinadora25S: Es el mismo guión de siem...         Relegados   \n",
       "9611  RT @Coordinadora25S: Es el mismo guión de siem...          David ♜☭   \n",
       "9410  Me da pena no poder asistir mañana a la concen...          ⚡CARLOS⚡   \n",
       "9600  @protestona1 y el sabotaje a bicimad para volv...      Filetesaurio   \n",
       "9616  Es el mismo guión de siempre, el Ayuntamiento ...  Coordinadora 25S   \n",
       "9657  RT @Coordinadora25S: Es el mismo guión de siem...             Angel   \n",
       "9632  RT @PlataformaEMT: Los usuarios no encuentran ...       Busero 20 🔻   \n",
       "9617  RT @Coordinadora25S: Es el mismo guión de siem...   Chirrin Dul Ari   \n",
       "9437  RT @Coordinadora25S: Es el mismo guión de siem...    lluna vermella   \n",
       "\n",
       "                                           tweets_clean  \\\n",
       "9430  RT Buenos d as x usuarios de BicimaD Ma ana 27...   \n",
       "9497  RT Es el mismo gui n de siempre el Ayuntamient...   \n",
       "9611  RT Es el mismo gui n de siempre el Ayuntamient...   \n",
       "9410  Me da pena no poder asistir ma ana a la concen...   \n",
       "9600  y el sabotaje a bicimad para volver a privatiz...   \n",
       "9616  Es el mismo gui n de siempre el Ayuntamiento d...   \n",
       "9657  RT Es el mismo gui n de siempre el Ayuntamient...   \n",
       "9632  RT Los usuarios no encuentran bicicletas dispo...   \n",
       "9617  RT Es el mismo gui n de siempre el Ayuntamient...   \n",
       "9437  RT Es el mismo gui n de siempre el Ayuntamient...   \n",
       "\n",
       "                                              sentiment               score  \\\n",
       "9430  [{'label': 'NEGATIVE', 'score': 0.969375550746...  0.9693755507469177   \n",
       "9497  [{'label': 'NEGATIVE', 'score': 0.987592160701...  0.9875921607017517   \n",
       "9611  [{'label': 'NEGATIVE', 'score': 0.987592160701...  0.9875921607017517   \n",
       "9410  [{'label': 'NEGATIVE', 'score': 0.983483374118...  0.9834833741188049   \n",
       "9600  [{'label': 'NEGATIVE', 'score': 0.915158450603...  0.9151584506034851   \n",
       "9616  [{'label': 'NEGATIVE', 'score': 0.989747285842...  0.9897472858428955   \n",
       "9657  [{'label': 'NEGATIVE', 'score': 0.987592160701...  0.9875921607017517   \n",
       "9632  [{'label': 'NEGATIVE', 'score': 0.983690381050...  0.9836903810501099   \n",
       "9617  [{'label': 'NEGATIVE', 'score': 0.987592160701...  0.9875921607017517   \n",
       "9437  [{'label': 'NEGATIVE', 'score': 0.987592160701...  0.9875921607017517   \n",
       "\n",
       "         label label_coded          score_coded       user_id user_screen_name  \n",
       "9430  NEGATIVE          -1  -0.9693755507469177   827400128.0      provisoscar  \n",
       "9497  NEGATIVE          -1  -0.9875921607017517   262643800.0        Relegados  \n",
       "9611  NEGATIVE          -1  -0.9875921607017517   315179397.0    DavidComunero  \n",
       "9410  NEGATIVE          -1  -0.9834833741188049   497006366.0      CarlosRMA94  \n",
       "9600  NEGATIVE          -1  -0.9151584506034851  2903103118.0     Filetesaurio  \n",
       "9616  NEGATIVE          -1  -0.9897472858428955   780717692.0  Coordinadora25S  \n",
       "9657  NEGATIVE          -1  -0.9875921607017517   856127714.0         ablascos  \n",
       "9632  NEGATIVE          -1  -0.9836903810501099   588917468.0         busero20  \n",
       "9617  NEGATIVE          -1  -0.9875921607017517   512927168.0       ChirrinDul  \n",
       "9437  NEGATIVE          -1  -0.9875921607017517   243377060.0    llunavermella  "
      ]
     },
     "execution_count": 47,
     "metadata": {},
     "output_type": "execute_result"
    }
   ],
   "source": [
    "# check new Tweets are in df\n",
    "df.sort_values('date', ascending = False).head(10)"
   ]
  },
  {
   "cell_type": "markdown",
   "metadata": {},
   "source": [
    "### 2.3 Save to csv"
   ]
  },
  {
   "cell_type": "markdown",
   "metadata": {},
   "source": [
    "- **Check Dataframe shape** \n",
    "<br>\n",
    "        Check df shape\n",
    "<br>\n",
    "        Check new tweets (i.e. difference between old and updated df)\n",
    "- **Save to existing 'rawdata.csv'** \n",
    "<br> \n",
    "        Save only aditional tweets (i.e. df updated) \n",
    "<br>"
   ]
  },
  {
   "cell_type": "code",
   "execution_count": 48,
   "metadata": {},
   "outputs": [
    {
     "data": {
      "text/plain": [
       "(9435, 20)"
      ]
     },
     "execution_count": 48,
     "metadata": {},
     "output_type": "execute_result"
    }
   ],
   "source": [
    "# Updated df shape (rows cols)\n",
    "df.shape"
   ]
  },
  {
   "cell_type": "code",
   "execution_count": 49,
   "metadata": {},
   "outputs": [
    {
     "data": {
      "text/plain": [
       "29"
      ]
     },
     "execution_count": 49,
     "metadata": {},
     "output_type": "execute_result"
    }
   ],
   "source": [
    "# New tweets \n",
    "df.shape[0] - df_old.shape[0]"
   ]
  },
  {
   "cell_type": "code",
   "execution_count": 50,
   "metadata": {},
   "outputs": [],
   "source": [
    "# save to csv - add a dataframe to an existing csv file\n",
    "df.to_csv('../data/results/data_sentiment.csv', header=True)"
   ]
  }
 ],
 "metadata": {
  "kernelspec": {
   "display_name": "Python [conda env:ironhack]",
   "language": "python",
   "name": "conda-env-ironhack-py"
  },
  "language_info": {
   "codemirror_mode": {
    "name": "ipython",
    "version": 3
   },
   "file_extension": ".py",
   "mimetype": "text/x-python",
   "name": "python",
   "nbconvert_exporter": "python",
   "pygments_lexer": "ipython3",
   "version": "3.7.3"
  }
 },
 "nbformat": 4,
 "nbformat_minor": 4
}
